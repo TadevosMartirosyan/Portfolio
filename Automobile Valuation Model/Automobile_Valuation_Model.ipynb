{
 "cells": [
  {
   "cell_type": "code",
   "execution_count": 7,
   "metadata": {
    "id": "TD2aBRt0I3Kl"
   },
   "outputs": [],
   "source": [
    "# Импортируем все необходимые библиотеки\n",
    "import pandas as pd\n",
    "import matplotlib.pyplot as plt\n",
    "import numpy as np\n",
    "from sklearn.linear_model import LinearRegression\n",
    "from sklearn.model_selection import(\n",
    "    train_test_split, RandomizedSearchCV)\n",
    "from sklearn.preprocessing import(\n",
    "    OneHotEncoder, StandardScaler, MinMaxScaler)\n",
    "from sklearn.metrics import mean_squared_error\n",
    "from sklearn.pipeline import Pipeline\n",
    "from sklearn.compose import ColumnTransformer\n",
    "from sklearn.impute import SimpleImputer\n",
    "from sklearn.tree import DecisionTreeRegressor\n",
    "from sklearn.dummy import DummyRegressor\n",
    "from lightgbm import LGBMRegressor\n",
    "from time import time\n",
    "import warnings\n",
    "warnings.filterwarnings('ignore')"
   ]
  },
  {
   "cell_type": "markdown",
   "metadata": {
    "id": "3wVd8sBHI3Km"
   },
   "source": [
    "## 1. Загрузка данных\n",
    "#### 1.1 Загрузка данных и изучение общей информации"
   ]
  },
  {
   "cell_type": "code",
   "execution_count": 8,
   "metadata": {
    "id": "piNvymIYI3Km"
   },
   "outputs": [],
   "source": [
    "try:\n",
    "    autos = pd.read_csv(\"https://code.s3.yandex.net/datasets/autos.csv\")\n",
    "except FileNotFoundError:\n",
    "    autos = pd.read_csv(r\"C:\\Users\\Тадевос\\Tadevos\\USER\\Desktop\\Курсы\\Модуль 3\\Датасеты к проектам\\Численные методы\\autos.csv\")"
   ]
  },
  {
   "cell_type": "code",
   "execution_count": 9,
   "metadata": {
    "colab": {
     "base_uri": "https://localhost:8080/",
     "height": 400
    },
    "id": "uZx0-lxiI3Km",
    "outputId": "abeb4e41-26e2-4208-8f08-9c0273af26fd"
   },
   "outputs": [
    {
     "data": {
      "text/html": [
       "<div>\n",
       "<style scoped>\n",
       "    .dataframe tbody tr th:only-of-type {\n",
       "        vertical-align: middle;\n",
       "    }\n",
       "\n",
       "    .dataframe tbody tr th {\n",
       "        vertical-align: top;\n",
       "    }\n",
       "\n",
       "    .dataframe thead th {\n",
       "        text-align: right;\n",
       "    }\n",
       "</style>\n",
       "<table border=\"1\" class=\"dataframe\">\n",
       "  <thead>\n",
       "    <tr style=\"text-align: right;\">\n",
       "      <th></th>\n",
       "      <th>DateCrawled</th>\n",
       "      <th>Price</th>\n",
       "      <th>VehicleType</th>\n",
       "      <th>RegistrationYear</th>\n",
       "      <th>Gearbox</th>\n",
       "      <th>Power</th>\n",
       "      <th>Model</th>\n",
       "      <th>Kilometer</th>\n",
       "      <th>RegistrationMonth</th>\n",
       "      <th>FuelType</th>\n",
       "      <th>Brand</th>\n",
       "      <th>Repaired</th>\n",
       "      <th>DateCreated</th>\n",
       "      <th>NumberOfPictures</th>\n",
       "      <th>PostalCode</th>\n",
       "      <th>LastSeen</th>\n",
       "    </tr>\n",
       "  </thead>\n",
       "  <tbody>\n",
       "    <tr>\n",
       "      <th>0</th>\n",
       "      <td>2016-03-24 11:52:17</td>\n",
       "      <td>480</td>\n",
       "      <td>NaN</td>\n",
       "      <td>1993</td>\n",
       "      <td>manual</td>\n",
       "      <td>0</td>\n",
       "      <td>golf</td>\n",
       "      <td>150000</td>\n",
       "      <td>0</td>\n",
       "      <td>petrol</td>\n",
       "      <td>volkswagen</td>\n",
       "      <td>NaN</td>\n",
       "      <td>2016-03-24 00:00:00</td>\n",
       "      <td>0</td>\n",
       "      <td>70435</td>\n",
       "      <td>2016-04-07 03:16:57</td>\n",
       "    </tr>\n",
       "    <tr>\n",
       "      <th>1</th>\n",
       "      <td>2016-03-24 10:58:45</td>\n",
       "      <td>18300</td>\n",
       "      <td>coupe</td>\n",
       "      <td>2011</td>\n",
       "      <td>manual</td>\n",
       "      <td>190</td>\n",
       "      <td>NaN</td>\n",
       "      <td>125000</td>\n",
       "      <td>5</td>\n",
       "      <td>gasoline</td>\n",
       "      <td>audi</td>\n",
       "      <td>yes</td>\n",
       "      <td>2016-03-24 00:00:00</td>\n",
       "      <td>0</td>\n",
       "      <td>66954</td>\n",
       "      <td>2016-04-07 01:46:50</td>\n",
       "    </tr>\n",
       "    <tr>\n",
       "      <th>2</th>\n",
       "      <td>2016-03-14 12:52:21</td>\n",
       "      <td>9800</td>\n",
       "      <td>suv</td>\n",
       "      <td>2004</td>\n",
       "      <td>auto</td>\n",
       "      <td>163</td>\n",
       "      <td>grand</td>\n",
       "      <td>125000</td>\n",
       "      <td>8</td>\n",
       "      <td>gasoline</td>\n",
       "      <td>jeep</td>\n",
       "      <td>NaN</td>\n",
       "      <td>2016-03-14 00:00:00</td>\n",
       "      <td>0</td>\n",
       "      <td>90480</td>\n",
       "      <td>2016-04-05 12:47:46</td>\n",
       "    </tr>\n",
       "    <tr>\n",
       "      <th>3</th>\n",
       "      <td>2016-03-17 16:54:04</td>\n",
       "      <td>1500</td>\n",
       "      <td>small</td>\n",
       "      <td>2001</td>\n",
       "      <td>manual</td>\n",
       "      <td>75</td>\n",
       "      <td>golf</td>\n",
       "      <td>150000</td>\n",
       "      <td>6</td>\n",
       "      <td>petrol</td>\n",
       "      <td>volkswagen</td>\n",
       "      <td>no</td>\n",
       "      <td>2016-03-17 00:00:00</td>\n",
       "      <td>0</td>\n",
       "      <td>91074</td>\n",
       "      <td>2016-03-17 17:40:17</td>\n",
       "    </tr>\n",
       "    <tr>\n",
       "      <th>4</th>\n",
       "      <td>2016-03-31 17:25:20</td>\n",
       "      <td>3600</td>\n",
       "      <td>small</td>\n",
       "      <td>2008</td>\n",
       "      <td>manual</td>\n",
       "      <td>69</td>\n",
       "      <td>fabia</td>\n",
       "      <td>90000</td>\n",
       "      <td>7</td>\n",
       "      <td>gasoline</td>\n",
       "      <td>skoda</td>\n",
       "      <td>no</td>\n",
       "      <td>2016-03-31 00:00:00</td>\n",
       "      <td>0</td>\n",
       "      <td>60437</td>\n",
       "      <td>2016-04-06 10:17:21</td>\n",
       "    </tr>\n",
       "  </tbody>\n",
       "</table>\n",
       "</div>"
      ],
      "text/plain": [
       "           DateCrawled  Price VehicleType  RegistrationYear Gearbox  Power  \\\n",
       "0  2016-03-24 11:52:17    480         NaN              1993  manual      0   \n",
       "1  2016-03-24 10:58:45  18300       coupe              2011  manual    190   \n",
       "2  2016-03-14 12:52:21   9800         suv              2004    auto    163   \n",
       "3  2016-03-17 16:54:04   1500       small              2001  manual     75   \n",
       "4  2016-03-31 17:25:20   3600       small              2008  manual     69   \n",
       "\n",
       "   Model  Kilometer  RegistrationMonth  FuelType       Brand Repaired  \\\n",
       "0   golf     150000                  0    petrol  volkswagen      NaN   \n",
       "1    NaN     125000                  5  gasoline        audi      yes   \n",
       "2  grand     125000                  8  gasoline        jeep      NaN   \n",
       "3   golf     150000                  6    petrol  volkswagen       no   \n",
       "4  fabia      90000                  7  gasoline       skoda       no   \n",
       "\n",
       "           DateCreated  NumberOfPictures  PostalCode             LastSeen  \n",
       "0  2016-03-24 00:00:00                 0       70435  2016-04-07 03:16:57  \n",
       "1  2016-03-24 00:00:00                 0       66954  2016-04-07 01:46:50  \n",
       "2  2016-03-14 00:00:00                 0       90480  2016-04-05 12:47:46  \n",
       "3  2016-03-17 00:00:00                 0       91074  2016-03-17 17:40:17  \n",
       "4  2016-03-31 00:00:00                 0       60437  2016-04-06 10:17:21  "
      ]
     },
     "execution_count": 9,
     "metadata": {},
     "output_type": "execute_result"
    }
   ],
   "source": [
    "autos.head()"
   ]
  },
  {
   "cell_type": "code",
   "execution_count": 10,
   "metadata": {
    "colab": {
     "base_uri": "https://localhost:8080/"
    },
    "id": "B9uUsgkHI3Kn",
    "outputId": "6d4dfd11-7583-4c18-caaf-4ef8237e7389"
   },
   "outputs": [
    {
     "name": "stdout",
     "output_type": "stream",
     "text": [
      "<class 'pandas.core.frame.DataFrame'>\n",
      "RangeIndex: 354369 entries, 0 to 354368\n",
      "Data columns (total 16 columns):\n",
      " #   Column             Non-Null Count   Dtype \n",
      "---  ------             --------------   ----- \n",
      " 0   DateCrawled        354369 non-null  object\n",
      " 1   Price              354369 non-null  int64 \n",
      " 2   VehicleType        316879 non-null  object\n",
      " 3   RegistrationYear   354369 non-null  int64 \n",
      " 4   Gearbox            334536 non-null  object\n",
      " 5   Power              354369 non-null  int64 \n",
      " 6   Model              334664 non-null  object\n",
      " 7   Kilometer          354369 non-null  int64 \n",
      " 8   RegistrationMonth  354369 non-null  int64 \n",
      " 9   FuelType           321474 non-null  object\n",
      " 10  Brand              354369 non-null  object\n",
      " 11  Repaired           283215 non-null  object\n",
      " 12  DateCreated        354369 non-null  object\n",
      " 13  NumberOfPictures   354369 non-null  int64 \n",
      " 14  PostalCode         354369 non-null  int64 \n",
      " 15  LastSeen           354369 non-null  object\n",
      "dtypes: int64(7), object(9)\n",
      "memory usage: 43.3+ MB\n"
     ]
    }
   ],
   "source": [
    "autos.info()"
   ]
  },
  {
   "cell_type": "code",
   "execution_count": 11,
   "metadata": {
    "id": "HBk99BaHI3Ko"
   },
   "outputs": [],
   "source": [
    "# Изменим тип данных\n",
    "autos['DateCrawled'] = pd.to_datetime(autos['DateCrawled'])\n",
    "autos['DateCreated'] = pd.to_datetime(autos['DateCreated'])\n",
    "autos['LastSeen'] = pd.to_datetime(autos['LastSeen'])"
   ]
  },
  {
   "cell_type": "markdown",
   "metadata": {
    "id": "Wi7OnrmzI3Ko"
   },
   "source": [
    "> **Выводы по первому шагу:**\n",
    ">\n",
    "> В первом шаге были проделаны следующие действия:\n",
    ">  - загрузка данных;\n",
    ">  - изучение общей информации о данных.\n",
    ">\n",
    "> **После загрузки и изучения данных можно сделать несколько выводов:**\n",
    "> 1. названия столбцов соответствуют стандартам python;\n",
    "> 2. в датафрейме есть пропущенные значения в 5 столбцах: **VehicleType**, **Gearbox**, **Model**, **FuelType**, **Repaired**;\n",
    "> 3. повторяющихся строк - 4;\n",
    "> 4. тип данных во всех столбцах правильный;\n",
    "> 5. обработку пропущенных значений произведем с помощью пайплана на этапе подготовки данных."
   ]
  },
  {
   "cell_type": "markdown",
   "metadata": {
    "id": "TON1DiFFI3Ko"
   },
   "source": [
    "## 2. Предобработка данных\n",
    "#### 2.1 Поиск и устранение явных дубикатов"
   ]
  },
  {
   "cell_type": "code",
   "execution_count": 12,
   "metadata": {
    "colab": {
     "base_uri": "https://localhost:8080/"
    },
    "id": "MTLhwvNqI3Ko",
    "outputId": "29662dbf-aa29-4fca-8e2d-c93d6d788eac"
   },
   "outputs": [
    {
     "data": {
      "text/plain": [
       "4"
      ]
     },
     "execution_count": 12,
     "metadata": {},
     "output_type": "execute_result"
    }
   ],
   "source": [
    "autos.duplicated().sum()"
   ]
  },
  {
   "cell_type": "code",
   "execution_count": 13,
   "metadata": {
    "id": "WOQkpmiOI3Kp"
   },
   "outputs": [],
   "source": [
    "autos = autos.drop_duplicates()"
   ]
  },
  {
   "cell_type": "markdown",
   "metadata": {
    "id": "fHH2ezawI3Kp"
   },
   "source": [
    "#### 2.2 Поиск аномалий"
   ]
  },
  {
   "cell_type": "code",
   "execution_count": 14,
   "metadata": {
    "colab": {
     "base_uri": "https://localhost:8080/",
     "height": 1000
    },
    "id": "5tOouxTMI3Kp",
    "outputId": "ce626124-3532-4820-c600-06b855e1b172"
   },
   "outputs": [
    {
     "data": {
      "image/png": "[encoded data removed]",
      "text/plain": [
       "<Figure size 1440x2520 with 6 Axes>"
      ]
     },
     "metadata": {
      "needs_background": "light"
     },
     "output_type": "display_data"
    }
   ],
   "source": [
    "# Создаём переменную в который будет список с количественными значениями autos\n",
    "cols_to_check = ['Price', 'RegistrationYear', 'Power',\n",
    "                 'Kilometer', 'RegistrationMonth', 'PostalCode']\n",
    "\n",
    "fig, axes = plt.subplots(nrows=len(cols_to_check), figsize=(20, 35))\n",
    "\n",
    "for i, col in enumerate(cols_to_check):\n",
    "    autos[col].plot(kind='box', vert=False, ax=axes[i], fontsize=14)\n",
    "    axes[i].set_title(f\"Ящик с усами для столбца {col}\", fontsize=14)\n",
    "\n",
    "plt.show()"
   ]
  },
  {
   "cell_type": "code",
   "execution_count": 15,
   "metadata": {
    "id": "OC8e9Lp9I3Kp"
   },
   "outputs": [],
   "source": [
    "columns_to_filter = ['Power', 'RegistrationYear', 'Price']\n",
    "\n",
    "for column in columns_to_filter:\n",
    "    Q1 = autos[column].quantile(0.25)\n",
    "    Q3 = autos[column].quantile(0.75)\n",
    "    IQR = Q3 - Q1\n",
    "\n",
    "    lower_bound = Q1 - 1.5 * IQR\n",
    "    upper_bound = Q3 + 1.5 * IQR\n",
    "\n",
    "    autos = autos[(autos[column] >= lower_bound) & (autos[column] <= upper_bound)]"
   ]
  },
  {
   "cell_type": "markdown",
   "metadata": {
    "id": "VPbodjNhI3Kq"
   },
   "source": [
    "#### 2.3 Удаление неинформативных признаков"
   ]
  },
  {
   "cell_type": "code",
   "execution_count": 16,
   "metadata": {
    "colab": {
     "base_uri": "https://localhost:8080/"
    },
    "id": "eYKx6XTlI3Kq",
    "outputId": "3f2a85ac-7fce-48b9-e6c2-4dc1b5f8fcd4"
   },
   "outputs": [
    {
     "data": {
      "text/plain": [
       "10017"
      ]
     },
     "execution_count": 16,
     "metadata": {},
     "output_type": "execute_result"
    }
   ],
   "source": [
    "p = (autos['Price'] == 0).sum()\n",
    "p"
   ]
  },
  {
   "cell_type": "code",
   "execution_count": 17,
   "metadata": {
    "id": "htvaNdGrI3Kq"
   },
   "outputs": [],
   "source": [
    "# Удаляем неинформативные признаки\n",
    "autos = autos.drop(autos[autos['Price'] == 0].index)"
   ]
  },
  {
   "cell_type": "code",
   "execution_count": 18,
   "metadata": {
    "id": "Q55iqCp-I3Kq"
   },
   "outputs": [],
   "source": [
    "# Отбираем объявления, в которых год регистрации меньше, чем год объявления по продаже авто\n",
    "autos = autos[autos['RegistrationYear'] <= autos['DateCreated'].dt.year]"
   ]
  },
  {
   "cell_type": "markdown",
   "metadata": {
    "id": "5z7jzrUII3Kq"
   },
   "source": [
    "> **Выводы по второму шагу:**\n",
    ">\n",
    "> Во втором шаге были проделаны следующие действия:\n",
    ">  - поиск явных и неявных дубликатов;\n",
    ">  - поиск аномальных значений;\n",
    ">\n",
    "> **После проведённых действий можно сделать следующие выводы:**\n",
    "> 1. в датафреймах обнаружены явные дубликаты, которые успешно удалены;\n",
    "> 2. в процессе поиска аномальных значений выяснилось, что в столбцах с количественными значениями есть выбросы, из столбцов 'Power', 'RegistrationYear', 'Price' были удалены выбросы;\n",
    "> 3. в данных есть неинформативные данные, которые были удалены."
   ]
  },
  {
   "cell_type": "markdown",
   "metadata": {
    "id": "rr54G88EI3Ks"
   },
   "source": [
    "## 3. Обучение моделей"
   ]
  },
  {
   "cell_type": "code",
   "execution_count": 19,
   "metadata": {
    "colab": {
     "base_uri": "https://localhost:8080/"
    },
    "id": "TpL1y72VI3Ks",
    "outputId": "ee5734a0-d9b0-4ac7-f23a-c8775bf6ca71"
   },
   "outputs": [
    {
     "name": "stdout",
     "output_type": "stream",
     "text": [
      "Обнаружено 39715 дубликатов в данных.\n"
     ]
    }
   ],
   "source": [
    "# Удаление лишних признаков (кроме 'Price')\n",
    "autos = autos.drop(columns=['DateCrawled', 'DateCreated', 'LastSeen',\n",
    "                           'RegistrationMonth', 'NumberOfPictures', 'PostalCode'])\n",
    "\n",
    "# Проверка на наличие дубликатов\n",
    "duplicates = autos.duplicated()\n",
    "\n",
    "# Подсчет количества дубликатов\n",
    "num_duplicates = duplicates.sum()\n",
    "\n",
    "if num_duplicates > 0:\n",
    "    print(f\"Обнаружено {num_duplicates} дубликатов в данных.\")\n",
    "else:\n",
    "    print(\"Дубликатов в данных не обнаружено.\")"
   ]
  },
  {
   "cell_type": "code",
   "execution_count": 20,
   "metadata": {
    "colab": {
     "base_uri": "https://localhost:8080/"
    },
    "id": "M44ElRsVI3Ks",
    "outputId": "c669c13e-7a9e-4cae-c49a-160d67ae0d0b"
   },
   "outputs": [
    {
     "name": "stdout",
     "output_type": "stream",
     "text": [
      "Дубликаты успешно удалены.\n"
     ]
    }
   ],
   "source": [
    "# Удаление дубликатов из данных\n",
    "autos = autos.drop_duplicates()\n",
    "\n",
    "# Проверка, что дубликаты успешно удалены\n",
    "if autos.duplicated().any():\n",
    "    print(\"Не удалось удалить все дубликаты.\")\n",
    "else:\n",
    "    print(\"Дубликаты успешно удалены.\")"
   ]
  },
  {
   "cell_type": "code",
   "execution_count": 21,
   "metadata": {
    "colab": {
     "base_uri": "https://localhost:8080/",
     "height": 175
    },
    "id": "7fHSDOtlI3Ks",
    "outputId": "fade7ada-16f7-4441-ef9b-e072010fda1e"
   },
   "outputs": [
    {
     "data": {
      "text/html": [
       "<div>\n",
       "<style scoped>\n",
       "    .dataframe tbody tr th:only-of-type {\n",
       "        vertical-align: middle;\n",
       "    }\n",
       "\n",
       "    .dataframe tbody tr th {\n",
       "        vertical-align: top;\n",
       "    }\n",
       "\n",
       "    .dataframe thead th {\n",
       "        text-align: right;\n",
       "    }\n",
       "</style>\n",
       "<table border=\"1\" class=\"dataframe\">\n",
       "  <thead>\n",
       "    <tr style=\"text-align: right;\">\n",
       "      <th></th>\n",
       "      <th>Price</th>\n",
       "      <th>RegistrationYear</th>\n",
       "      <th>Power</th>\n",
       "      <th>Kilometer</th>\n",
       "    </tr>\n",
       "  </thead>\n",
       "  <tbody>\n",
       "    <tr>\n",
       "      <th>Price</th>\n",
       "      <td>1.000000</td>\n",
       "      <td>0.540099</td>\n",
       "      <td>0.426973</td>\n",
       "      <td>-0.287767</td>\n",
       "    </tr>\n",
       "    <tr>\n",
       "      <th>RegistrationYear</th>\n",
       "      <td>0.540099</td>\n",
       "      <td>1.000000</td>\n",
       "      <td>0.084603</td>\n",
       "      <td>-0.286597</td>\n",
       "    </tr>\n",
       "    <tr>\n",
       "      <th>Power</th>\n",
       "      <td>0.426973</td>\n",
       "      <td>0.084603</td>\n",
       "      <td>1.000000</td>\n",
       "      <td>0.140709</td>\n",
       "    </tr>\n",
       "    <tr>\n",
       "      <th>Kilometer</th>\n",
       "      <td>-0.287767</td>\n",
       "      <td>-0.286597</td>\n",
       "      <td>0.140709</td>\n",
       "      <td>1.000000</td>\n",
       "    </tr>\n",
       "  </tbody>\n",
       "</table>\n",
       "</div>"
      ],
      "text/plain": [
       "                     Price  RegistrationYear     Power  Kilometer\n",
       "Price             1.000000          0.540099  0.426973  -0.287767\n",
       "RegistrationYear  0.540099          1.000000  0.084603  -0.286597\n",
       "Power             0.426973          0.084603  1.000000   0.140709\n",
       "Kilometer        -0.287767         -0.286597  0.140709   1.000000"
      ]
     },
     "execution_count": 21,
     "metadata": {},
     "output_type": "execute_result"
    }
   ],
   "source": [
    "corr = autos.corr()\n",
    "corr"
   ]
  },
  {
   "cell_type": "code",
   "execution_count": 22,
   "metadata": {
    "colab": {
     "base_uri": "https://localhost:8080/"
    },
    "id": "DisvEH45I3K5",
    "outputId": "0fe0141a-f015-4b39-a205-00bed67fd6d8"
   },
   "outputs": [
    {
     "name": "stdout",
     "output_type": "stream",
     "text": [
      "Лучшая модель и её параметры для DummyRegressor на обучающей выборке: Pipeline(steps=[('preprocessor',\n",
      "                 ColumnTransformer(remainder='passthrough',\n",
      "                                   transformers=[('ohe',\n",
      "                                                  Pipeline(steps=[('simpleImputer_ohe',\n",
      "                                                                   SimpleImputer(strategy='most_frequent')),\n",
      "                                                                  ('ohe',\n",
      "                                                                   OneHotEncoder(handle_unknown='ignore'))]),\n",
      "                                                  ['VehicleType', 'FuelType',\n",
      "                                                   'Brand', 'Model', 'Repaired',\n",
      "                                                   'Gearbox']),\n",
      "                                                 ('num', StandardScaler(),\n",
      "                                                  ['Power', 'Kilometer',\n",
      "                                                   'RegistrationYear'])])),\n",
      "                ('models', DummyRegressor())])\n",
      "Метрика лучшей модели на обучающей выборке: 3306.067973107606\n",
      "Время обучения лучшей модели: 0.005083334445953369 мин\n",
      "Время предсказания на обучающей выборке: 0.0035340627034505206 мин\n",
      "Лучшая модель и её параметры для LinearRegression на обучающей выборке: Pipeline(steps=[('preprocessor',\n",
      "                 ColumnTransformer(remainder='passthrough',\n",
      "                                   transformers=[('ohe',\n",
      "                                                  Pipeline(steps=[('simpleImputer_ohe',\n",
      "                                                                   SimpleImputer(strategy='most_frequent')),\n",
      "                                                                  ('ohe',\n",
      "                                                                   OneHotEncoder(handle_unknown='ignore'))]),\n",
      "                                                  ['VehicleType', 'FuelType',\n",
      "                                                   'Brand', 'Model', 'Repaired',\n",
      "                                                   'Gearbox']),\n",
      "                                                 ('num', StandardScaler(),\n",
      "                                                  ['Power', 'Kilometer',\n",
      "                                                   'RegistrationYear'])])),\n",
      "                ('models', LinearRegression())])\n",
      "Метрика лучшей модели на обучающей выборке: 1999.2178176199936\n",
      "Время обучения лучшей модели: 0.032936275005340576 мин\n",
      "Время предсказания на обучающей выборке: 0.0036508321762084963 мин\n",
      "Лучшая модель и её параметры для DecisionTreeRegressor на обучающей выборке: Pipeline(steps=[('preprocessor',\n",
      "                 ColumnTransformer(remainder='passthrough',\n",
      "                                   transformers=[('ohe',\n",
      "                                                  Pipeline(steps=[('simpleImputer_ohe',\n",
      "                                                                   SimpleImputer(strategy='most_frequent')),\n",
      "                                                                  ('ohe',\n",
      "                                                                   OneHotEncoder(handle_unknown='ignore'))]),\n",
      "                                                  ['VehicleType', 'FuelType',\n",
      "                                                   'Brand', 'Model', 'Repaired',\n",
      "                                                   'Gearbox']),\n",
      "                                                 ('num', 'passthrough',\n",
      "                                                  ['Power', 'Kilometer',\n",
      "                                                   'RegistrationYear'])])),\n",
      "                ('models',\n",
      "                 DecisionTreeRegressor(min_samples_leaf=3, min_samples_split=4,\n",
      "                                       random_state=42))])\n",
      "Метрика лучшей модели на обучающей выборке: 1457.9275991560426\n",
      "Время обучения лучшей модели: 0.21696759462356568 мин\n",
      "Время предсказания на обучающей выборке: 0.004284294446309408 мин\n",
      "Лучшая модель и её параметры для LGBMRegressor на обучающей выборке: Pipeline(steps=[('preprocessor',\n",
      "                 ColumnTransformer(remainder='passthrough',\n",
      "                                   transformers=[('ohe',\n",
      "                                                  Pipeline(steps=[('simpleImputer_ohe',\n",
      "                                                                   SimpleImputer(strategy='most_frequent')),\n",
      "                                                                  ('ohe',\n",
      "                                                                   OneHotEncoder(handle_unknown='ignore'))]),\n",
      "                                                  ['VehicleType', 'FuelType',\n",
      "                                                   'Brand', 'Model', 'Repaired',\n",
      "                                                   'Gearbox']),\n",
      "                                                 ('num', StandardScaler(),\n",
      "                                                  ['Power', 'Kilometer',\n",
      "                                                   'RegistrationYear'])])),\n",
      "                ('models', LGBMRegressor(n_estimators=300, random_state=42))])\n",
      "Метрика лучшей модели на обучающей выборке: 1297.619366852477\n",
      "Время обучения лучшей модели: 0.01899024248123169 мин\n",
      "Время предсказания на обучающей выборке: 0.017203879356384278 мин\n"
     ]
    }
   ],
   "source": [
    "RANDOM_STATE = 42\n",
    "TEST_SIZE = 0.25\n",
    "\n",
    "# Разделение данных на признаки (X) и целевую переменную (y)\n",
    "X = autos.drop(columns=['Price'])\n",
    "y = autos['Price']\n",
    "\n",
    "# Разделение данных на обучающую и тестовую выборки\n",
    "X_train, X_test, y_train, y_test = train_test_split(X, y, test_size=TEST_SIZE, random_state=RANDOM_STATE)\n",
    "\n",
    "ohe_columns = ['VehicleType', 'FuelType', 'Brand', 'Model', 'Repaired', 'Gearbox'] \n",
    "num_columns = ['Power', 'Kilometer', 'RegistrationYear']  \n",
    "\n",
    "# Создаем препроцессор\n",
    "ohe_pipe = Pipeline([\n",
    "    ('simpleImputer_ohe', SimpleImputer(missing_values=np.nan, strategy='most_frequent')),\n",
    "    ('ohe', OneHotEncoder(handle_unknown='ignore'))\n",
    "])\n",
    "\n",
    "data_preprocessor = ColumnTransformer([\n",
    "    ('ohe', ohe_pipe, ohe_columns),\n",
    "    ('num', StandardScaler(), num_columns)\n",
    "], remainder='passthrough')\n",
    "\n",
    "# Создаем DummyRegressor, который будет предсказывать среднее значение тренировочной выборки\n",
    "dummy_model = DummyRegressor(strategy='mean')\n",
    "\n",
    "# Создаем модели и их параметры\n",
    "models_params = [\n",
    "    (dummy_model, {}),\n",
    "    (LinearRegression(), {'preprocessor__num': [StandardScaler(), MinMaxScaler(), 'passthrough']}),\n",
    "    (DecisionTreeRegressor(random_state=RANDOM_STATE), {\n",
    "        'models__min_samples_split': range(2, 6),\n",
    "        'models__min_samples_leaf': range(1, 6),\n",
    "        'models__max_depth': (None, *range(2, 6)),\n",
    "        'preprocessor__num': [StandardScaler(), MinMaxScaler(), 'passthrough']\n",
    "    }),\n",
    "    (LGBMRegressor(random_state=RANDOM_STATE), {\n",
    "        'models__n_estimators': [100, 200, 300],\n",
    "        'models__learning_rate': [0.01, 0.05, 0.1]\n",
    "    })\n",
    "]\n",
    "\n",
    "# Создаем пустой список для хранения результатов\n",
    "results = []\n",
    "\n",
    "# Поиск лучших моделей и оценка их производительности\n",
    "for model, params in models_params:\n",
    "    # Создаем конвейер для модели\n",
    "    pipe = Pipeline([\n",
    "        ('preprocessor', data_preprocessor),\n",
    "        ('models', model)\n",
    "    ])\n",
    "    \n",
    "    # Замеряем время обучения\n",
    "    start_train = time()\n",
    "    grid_search = RandomizedSearchCV(pipe, params, cv=5, scoring='neg_root_mean_squared_error', n_jobs=-1)\n",
    "    grid_search.fit(X_train, y_train)\n",
    "    end_train = time()\n",
    "    \n",
    "    # Получаем лучшую модель и её параметры\n",
    "    best_model = grid_search.best_estimator_\n",
    "    best_params = grid_search.best_params_\n",
    "    \n",
    "    # Замеряем время предсказания на обучающей выборке\n",
    "    start_pred_train = time()\n",
    "    y_pred_train = best_model.predict(X_train)\n",
    "    end_pred_train = time()\n",
    "\n",
    "    # Замеряем время обучения лучшей модели с лучшими параметрами\n",
    "    start_train_best = time()\n",
    "    best_model.fit(X_train, y_train)\n",
    "    end_train_best = time()\n",
    "    \n",
    "    # Получаем время предсказания лучшей модели на обучающей выборке\n",
    "    start_pred_train_best = time()\n",
    "    y_pred_train_best = best_model.predict(X_train)\n",
    "    end_pred_train_best = time()\n",
    "  \n",
    "    # Рассчитываем RMSE на обучающей выборке\n",
    "    rmse_train_best = mean_squared_error(y_train, y_pred_train_best, squared=False)\n",
    "    \n",
    "    # Сохраняем результаты в список\n",
    "    results.append({\n",
    "        'Model': type(model).__name__,\n",
    "        'Best Params': best_params,\n",
    "        'Best Score': -grid_search.best_score_,\n",
    "        'Training Time (min)': (end_train_best - start_train_best) / 60,\n",
    "        'Prediction Time Train (min)': (end_pred_train_best - start_pred_train_best) / 60,\n",
    "    })\n",
    "    \n",
    "    # Выводим результаты для обучающей выборки\n",
    "    print(f'Лучшая модель и её параметры для {type(model).__name__} на обучающей выборке: {best_model}')\n",
    "    print(f'Метрика лучшей модели на обучающей выборке: {-grid_search.best_score_}')\n",
    "    print(f'Время обучения лучшей модели: {(end_train_best - start_train_best) / 60} мин')\n",
    "    print(f'Время предсказания на обучающей выборке: {(end_pred_train_best - start_pred_train_best) / 60} мин')"
   ]
  },
  {
   "cell_type": "code",
   "execution_count": 23,
   "metadata": {
    "colab": {
     "base_uri": "https://localhost:8080/",
     "height": 213
    },
    "id": "FvSCWF7SI3K5",
    "outputId": "9f9fb6dc-3dad-4105-bf58-e1af99b1004e"
   },
   "outputs": [
    {
     "data": {
      "text/html": [
       "<div>\n",
       "<style scoped>\n",
       "    .dataframe tbody tr th:only-of-type {\n",
       "        vertical-align: middle;\n",
       "    }\n",
       "\n",
       "    .dataframe tbody tr th {\n",
       "        vertical-align: top;\n",
       "    }\n",
       "\n",
       "    .dataframe thead th {\n",
       "        text-align: right;\n",
       "    }\n",
       "</style>\n",
       "<table border=\"1\" class=\"dataframe\">\n",
       "  <thead>\n",
       "    <tr style=\"text-align: right;\">\n",
       "      <th></th>\n",
       "      <th>Model</th>\n",
       "      <th>Best Params</th>\n",
       "      <th>Best Score</th>\n",
       "      <th>Training Time (min)</th>\n",
       "      <th>Prediction Time Train (min)</th>\n",
       "    </tr>\n",
       "  </thead>\n",
       "  <tbody>\n",
       "    <tr>\n",
       "      <th>1</th>\n",
       "      <td>LinearRegression</td>\n",
       "      <td>{'preprocessor__num': StandardScaler()}</td>\n",
       "      <td>1999.217818</td>\n",
       "      <td>0.032936</td>\n",
       "      <td>0.003651</td>\n",
       "    </tr>\n",
       "    <tr>\n",
       "      <th>2</th>\n",
       "      <td>DecisionTreeRegressor</td>\n",
       "      <td>{'preprocessor__num': 'passthrough', 'models__...</td>\n",
       "      <td>1457.927599</td>\n",
       "      <td>0.216968</td>\n",
       "      <td>0.004284</td>\n",
       "    </tr>\n",
       "    <tr>\n",
       "      <th>3</th>\n",
       "      <td>LGBMRegressor</td>\n",
       "      <td>{'models__n_estimators': 300, 'models__learnin...</td>\n",
       "      <td>1297.619367</td>\n",
       "      <td>0.018990</td>\n",
       "      <td>0.017204</td>\n",
       "    </tr>\n",
       "  </tbody>\n",
       "</table>\n",
       "</div>"
      ],
      "text/plain": [
       "                   Model                                        Best Params  \\\n",
       "1       LinearRegression            {'preprocessor__num': StandardScaler()}   \n",
       "2  DecisionTreeRegressor  {'preprocessor__num': 'passthrough', 'models__...   \n",
       "3          LGBMRegressor  {'models__n_estimators': 300, 'models__learnin...   \n",
       "\n",
       "    Best Score  Training Time (min)  Prediction Time Train (min)  \n",
       "1  1999.217818             0.032936                     0.003651  \n",
       "2  1457.927599             0.216968                     0.004284  \n",
       "3  1297.619367             0.018990                     0.017204  "
      ]
     },
     "execution_count": 23,
     "metadata": {},
     "output_type": "execute_result"
    }
   ],
   "source": [
    "# Создаем DataFrame из списка результатов\n",
    "results_df = pd.DataFrame(results)\n",
    "\n",
    "# Удаляем строки, соответствующие модели DummyRegressor\n",
    "results_df = results_df[results_df['Model'] != 'DummyRegressor']\n",
    "\n",
    "# Выводим таблицу с результатами\n",
    "results_df"
   ]
  },
  {
   "cell_type": "markdown",
   "metadata": {
    "id": "Inl0y_n1I3K5"
   },
   "source": [
    "#### 3.1 Оцениваем метрику лучшей модели на тестовой выборке"
   ]
  },
  {
   "cell_type": "code",
   "execution_count": 24,
   "metadata": {
    "colab": {
     "base_uri": "https://localhost:8080/"
    },
    "id": "4CIf4V8dI3K5",
    "outputId": "750c616c-5e7e-4f4f-925e-8673093361d0"
   },
   "outputs": [
    {
     "name": "stdout",
     "output_type": "stream",
     "text": [
      "Лучшая модель и её параметры: Pipeline(steps=[('preprocessor',\n",
      "                 ColumnTransformer(remainder='passthrough',\n",
      "                                   transformers=[('ohe',\n",
      "                                                  Pipeline(steps=[('simpleImputer_ohe',\n",
      "                                                                   SimpleImputer(strategy='most_frequent')),\n",
      "                                                                  ('ohe',\n",
      "                                                                   OneHotEncoder(handle_unknown='ignore'))]),\n",
      "                                                  ['VehicleType', 'FuelType',\n",
      "                                                   'Brand', 'Model', 'Repaired',\n",
      "                                                   'Gearbox']),\n",
      "                                                 ('num', StandardScaler(),\n",
      "                                                  ['Power', 'Kilometer',\n",
      "                                                   'RegistrationYear'])])),\n",
      "                ('models', LGBMRegressor(n_estimators=300, random_state=42))])\n",
      "RMSE для лучшей модели на тестовой выборке: 1275.655271166846\n",
      "\n"
     ]
    }
   ],
   "source": [
    "# Получаем лучшую модель и её параметры\n",
    "best_model = grid_search.best_estimator_\n",
    "\n",
    "# Оценка качества на тестовой выборке\n",
    "y_pred_test = best_model.predict(X_test)\n",
    "\n",
    "# Расчет RMSE на тестовой выборке\n",
    "rmse_test = mean_squared_error(y_test, y_pred_test, squared=False)\n",
    "\n",
    "# Выводим результат для тестовой выборки\n",
    "print(f'Лучшая модель и её параметры: {best_model}')\n",
    "print(f'RMSE для лучшей модели на тестовой выборке: {rmse_test}\\n')"
   ]
  },
  {
   "cell_type": "markdown",
   "metadata": {
    "id": "rhPAFDt8I3K7"
   },
   "source": [
    "> **Выводы по третьему шагу:**\n",
    ">\n",
    "> В третьем шаге были проделаны следующие действия:\n",
    ">  - построен пайплайн;\n",
    ">  - обучены 3 модели;\n",
    ">  - создана таблица с данными о времени обучения и предсказания модели и о её качестве.\n",
    ">\n",
    "> **После проведённых действий можно сделать следующие выводы:**\n",
    ">\n",
    "> Исходя из критериев заказчика, наиболее подходящей моделью является LGBMRegressor. Она имеет наименьшее время обучения и предсказания, а также наилучшее качество предсказания (значение метрики RMSE равно 1253.940120 < 2500)."
   ]
  },
  {
   "cell_type": "markdown",
   "metadata": {
    "id": "OzFWClr2I3K8"
   },
   "source": [
    "## 4. Общий вывод"
   ]
  },
  {
   "cell_type": "markdown",
   "metadata": {
    "id": "hdTrlijII3K8"
   },
   "source": [
    "В ходе исследования проекта по определению стоимости автомобилей были выполнены шаги, начиная с загрузки данных и заканчивая анализом моделей. Были проведены предобработка данных, обучение моделей и анализ их результатов. Исходя из критериев заказчика (качество предсказания, время обучения модели и время предсказания модели), мы должны выбрать модель, которая демонстрирует лучшее качество предсказания при разумном времени обучения и предсказания.\n",
    "\n",
    "Сравнивая результаты тестирования моделей, можно сделать следующие выводы:\n",
    "\n",
    "> DummyRegressor:\n",
    ">\n",
    "> Время обучения: 0.037406 секунд,\n",
    "> Время предсказания: 0.002517 секунд,\n",
    "> RMSE: 3267.326240\n",
    ">\n",
    "> LinearRegression:\n",
    ">\n",
    "> Время обучения: 1.091584 секунд,\n",
    "> Время предсказания: 0.003384 секунд,\n",
    "> RMSE: 1942.576061\n",
    ">\n",
    "> DecisionTreeRegressor:\n",
    ">\n",
    "> Время обучения: 1.345350 секунд,\n",
    "> Время предсказания: 0.003818 секунд,\n",
    "> RMSE: 1341.936376\n",
    ">\n",
    "> LGBMRegressor:\n",
    ">\n",
    "> Время обучения: 0.819303 секунд\n",
    "> Время предсказания: 0.007252 секунд\n",
    "> RMSE: 1254.739342\n",
    "\n",
    "На основе представленных результатов, можно сделать вывод, что модель LGBMRegressor демонстрирует наилучшее качество предсказания (наименьший RMSE) при разумном времени обучения и предсказания. Кроме того, она показывает значительное улучшение по сравнению с константной моделью (DummyRegressor). Следовательно, LGBMRegressor является наилучшим выбором для решения задачи."
   ]
  }
 ],
 "metadata": {
  "ExecuteTimeLog": [
   {
    "duration": 577,
    "start_time": "2024-03-09T17:14:26.840Z"
   },
   {
    "duration": 0,
    "start_time": "2024-03-09T17:14:27.418Z"
   },
   {
    "duration": 0,
    "start_time": "2024-03-09T17:14:27.419Z"
   },
   {
    "duration": 0,
    "start_time": "2024-03-09T17:14:27.420Z"
   },
   {
    "duration": 0,
    "start_time": "2024-03-09T17:14:27.421Z"
   },
   {
    "duration": 0,
    "start_time": "2024-03-09T17:14:27.422Z"
   },
   {
    "duration": 0,
    "start_time": "2024-03-09T17:14:27.423Z"
   },
   {
    "duration": 0,
    "start_time": "2024-03-09T17:14:27.425Z"
   },
   {
    "duration": 0,
    "start_time": "2024-03-09T17:14:27.426Z"
   },
   {
    "duration": 0,
    "start_time": "2024-03-09T17:14:27.427Z"
   },
   {
    "duration": 18855,
    "start_time": "2024-03-09T17:14:44.980Z"
   },
   {
    "duration": 5007,
    "start_time": "2024-03-09T17:15:33.293Z"
   },
   {
    "duration": 768,
    "start_time": "2024-03-09T17:15:38.302Z"
   },
   {
    "duration": 15,
    "start_time": "2024-03-09T17:15:39.071Z"
   },
   {
    "duration": 107,
    "start_time": "2024-03-09T17:15:39.087Z"
   },
   {
    "duration": 187,
    "start_time": "2024-03-09T17:15:39.196Z"
   },
   {
    "duration": 28926,
    "start_time": "2024-03-09T17:15:39.384Z"
   },
   {
    "duration": 242,
    "start_time": "2024-03-09T17:16:08.312Z"
   },
   {
    "duration": 253,
    "start_time": "2024-03-09T17:16:08.555Z"
   },
   {
    "duration": 344,
    "start_time": "2024-03-09T17:16:08.809Z"
   },
   {
    "duration": 144,
    "start_time": "2024-03-09T17:16:09.155Z"
   },
   {
    "duration": 110,
    "start_time": "2024-03-09T17:17:47.939Z"
   },
   {
    "duration": 452,
    "start_time": "2024-03-12T09:08:21.220Z"
   },
   {
    "duration": 0,
    "start_time": "2024-03-12T09:08:21.675Z"
   },
   {
    "duration": 0,
    "start_time": "2024-03-12T09:08:21.681Z"
   },
   {
    "duration": 0,
    "start_time": "2024-03-12T09:08:21.682Z"
   },
   {
    "duration": 0,
    "start_time": "2024-03-12T09:08:21.684Z"
   },
   {
    "duration": 0,
    "start_time": "2024-03-12T09:08:21.686Z"
   },
   {
    "duration": 0,
    "start_time": "2024-03-12T09:08:21.687Z"
   },
   {
    "duration": 0,
    "start_time": "2024-03-12T09:08:21.689Z"
   },
   {
    "duration": 0,
    "start_time": "2024-03-12T09:08:21.690Z"
   },
   {
    "duration": 0,
    "start_time": "2024-03-12T09:08:21.692Z"
   },
   {
    "duration": 0,
    "start_time": "2024-03-12T09:08:21.693Z"
   },
   {
    "duration": 0,
    "start_time": "2024-03-12T09:08:21.695Z"
   },
   {
    "duration": 0,
    "start_time": "2024-03-12T09:08:21.697Z"
   },
   {
    "duration": 0,
    "start_time": "2024-03-12T09:08:21.698Z"
   },
   {
    "duration": 0,
    "start_time": "2024-03-12T09:08:21.699Z"
   },
   {
    "duration": 0,
    "start_time": "2024-03-12T09:08:21.701Z"
   },
   {
    "duration": 0,
    "start_time": "2024-03-12T09:08:21.703Z"
   },
   {
    "duration": 0,
    "start_time": "2024-03-12T09:08:21.704Z"
   },
   {
    "duration": 0,
    "start_time": "2024-03-12T09:08:21.706Z"
   },
   {
    "duration": 0,
    "start_time": "2024-03-12T09:08:21.708Z"
   },
   {
    "duration": 0,
    "start_time": "2024-03-12T09:08:21.709Z"
   },
   {
    "duration": 28161,
    "start_time": "2024-03-12T09:09:01.734Z"
   },
   {
    "duration": 2525,
    "start_time": "2024-03-12T09:09:35.071Z"
   },
   {
    "duration": 2834,
    "start_time": "2024-03-12T09:09:46.388Z"
   },
   {
    "duration": 3412,
    "start_time": "2024-03-12T09:09:49.224Z"
   },
   {
    "duration": 2883,
    "start_time": "2024-03-12T09:09:52.637Z"
   },
   {
    "duration": 18,
    "start_time": "2024-03-12T09:09:55.522Z"
   },
   {
    "duration": 153,
    "start_time": "2024-03-12T09:09:55.542Z"
   },
   {
    "duration": 247,
    "start_time": "2024-03-12T09:09:55.697Z"
   },
   {
    "duration": 41015,
    "start_time": "2024-03-12T09:09:55.946Z"
   },
   {
    "duration": 357,
    "start_time": "2024-03-12T09:10:36.963Z"
   },
   {
    "duration": 325,
    "start_time": "2024-03-12T09:10:37.321Z"
   },
   {
    "duration": 998,
    "start_time": "2024-03-12T09:10:37.648Z"
   },
   {
    "duration": 156,
    "start_time": "2024-03-12T09:10:38.648Z"
   },
   {
    "duration": 5,
    "start_time": "2024-03-12T09:10:38.806Z"
   },
   {
    "duration": 67,
    "start_time": "2024-03-12T09:10:38.813Z"
   },
   {
    "duration": 50,
    "start_time": "2024-03-12T09:10:38.882Z"
   },
   {
    "duration": 178,
    "start_time": "2024-03-12T09:10:38.935Z"
   },
   {
    "duration": 296,
    "start_time": "2024-03-12T09:10:39.114Z"
   },
   {
    "duration": 26,
    "start_time": "2024-03-12T09:10:39.412Z"
   },
   {
    "duration": 75,
    "start_time": "2024-03-12T09:10:39.440Z"
   },
   {
    "duration": 3,
    "start_time": "2024-03-12T09:10:39.516Z"
   },
   {
    "duration": 1100,
    "start_time": "2024-03-12T09:10:39.521Z"
   },
   {
    "duration": 0,
    "start_time": "2024-03-12T09:10:40.624Z"
   },
   {
    "duration": 0,
    "start_time": "2024-03-12T09:10:40.625Z"
   },
   {
    "duration": 4,
    "start_time": "2024-03-12T09:12:11.566Z"
   },
   {
    "duration": 1053,
    "start_time": "2024-03-12T09:13:36.639Z"
   },
   {
    "duration": 2805,
    "start_time": "2024-03-12T09:13:37.694Z"
   },
   {
    "duration": 1267,
    "start_time": "2024-03-12T09:13:40.501Z"
   },
   {
    "duration": 32,
    "start_time": "2024-03-12T09:13:41.770Z"
   },
   {
    "duration": 163,
    "start_time": "2024-03-12T09:13:41.805Z"
   },
   {
    "duration": 342,
    "start_time": "2024-03-12T09:13:41.970Z"
   },
   {
    "duration": 963,
    "start_time": "2024-03-12T09:14:00.642Z"
   },
   {
    "duration": 8552,
    "start_time": "2024-03-12T09:14:01.608Z"
   },
   {
    "duration": 2006,
    "start_time": "2024-03-12T09:14:10.162Z"
   },
   {
    "duration": 0,
    "start_time": "2024-03-12T09:14:12.172Z"
   },
   {
    "duration": 0,
    "start_time": "2024-03-12T09:14:12.181Z"
   },
   {
    "duration": 0,
    "start_time": "2024-03-12T09:14:12.182Z"
   },
   {
    "duration": 0,
    "start_time": "2024-03-12T09:14:12.183Z"
   },
   {
    "duration": 0,
    "start_time": "2024-03-12T09:14:12.184Z"
   },
   {
    "duration": 0,
    "start_time": "2024-03-12T09:14:12.185Z"
   },
   {
    "duration": 0,
    "start_time": "2024-03-12T09:14:12.185Z"
   },
   {
    "duration": 0,
    "start_time": "2024-03-12T09:14:12.186Z"
   },
   {
    "duration": 0,
    "start_time": "2024-03-12T09:14:12.187Z"
   },
   {
    "duration": 0,
    "start_time": "2024-03-12T09:14:12.188Z"
   },
   {
    "duration": 0,
    "start_time": "2024-03-12T09:14:12.189Z"
   },
   {
    "duration": 0,
    "start_time": "2024-03-12T09:14:12.190Z"
   },
   {
    "duration": 0,
    "start_time": "2024-03-12T09:14:12.191Z"
   },
   {
    "duration": 0,
    "start_time": "2024-03-12T09:14:12.192Z"
   },
   {
    "duration": 0,
    "start_time": "2024-03-12T09:14:12.193Z"
   },
   {
    "duration": 0,
    "start_time": "2024-03-12T09:14:12.193Z"
   },
   {
    "duration": 0,
    "start_time": "2024-03-12T09:14:12.194Z"
   },
   {
    "duration": 0,
    "start_time": "2024-03-12T09:14:12.195Z"
   },
   {
    "duration": 0,
    "start_time": "2024-03-12T09:14:12.200Z"
   },
   {
    "duration": 0,
    "start_time": "2024-03-12T09:14:12.202Z"
   },
   {
    "duration": 761,
    "start_time": "2024-03-12T09:14:32.135Z"
   },
   {
    "duration": 2601,
    "start_time": "2024-03-12T09:14:32.899Z"
   },
   {
    "duration": 1548,
    "start_time": "2024-03-12T09:14:35.502Z"
   },
   {
    "duration": 26,
    "start_time": "2024-03-12T09:14:37.054Z"
   },
   {
    "duration": 171,
    "start_time": "2024-03-12T09:14:37.083Z"
   },
   {
    "duration": 289,
    "start_time": "2024-03-12T09:14:37.256Z"
   },
   {
    "duration": 45194,
    "start_time": "2024-03-12T09:14:37.546Z"
   },
   {
    "duration": 352,
    "start_time": "2024-03-12T09:15:22.742Z"
   },
   {
    "duration": 340,
    "start_time": "2024-03-12T09:15:23.096Z"
   },
   {
    "duration": 1059,
    "start_time": "2024-03-12T09:15:23.438Z"
   },
   {
    "duration": 151,
    "start_time": "2024-03-12T09:15:24.499Z"
   },
   {
    "duration": 6,
    "start_time": "2024-03-12T09:15:24.652Z"
   },
   {
    "duration": 70,
    "start_time": "2024-03-12T09:15:24.659Z"
   },
   {
    "duration": 61,
    "start_time": "2024-03-12T09:15:24.730Z"
   },
   {
    "duration": 169,
    "start_time": "2024-03-12T09:15:24.797Z"
   },
   {
    "duration": 338,
    "start_time": "2024-03-12T09:15:24.967Z"
   },
   {
    "duration": 26,
    "start_time": "2024-03-12T09:15:25.306Z"
   },
   {
    "duration": 94,
    "start_time": "2024-03-12T09:15:25.334Z"
   },
   {
    "duration": 3,
    "start_time": "2024-03-12T09:15:25.430Z"
   },
   {
    "duration": 11100,
    "start_time": "2024-03-13T16:48:30.139Z"
   },
   {
    "duration": 2831,
    "start_time": "2024-03-13T16:48:41.242Z"
   },
   {
    "duration": 1158,
    "start_time": "2024-03-13T16:48:44.075Z"
   },
   {
    "duration": 28,
    "start_time": "2024-03-13T16:48:45.236Z"
   },
   {
    "duration": 156,
    "start_time": "2024-03-13T16:48:45.266Z"
   },
   {
    "duration": 263,
    "start_time": "2024-03-13T16:48:45.423Z"
   },
   {
    "duration": 40984,
    "start_time": "2024-03-13T16:48:45.687Z"
   },
   {
    "duration": 318,
    "start_time": "2024-03-13T16:49:26.672Z"
   },
   {
    "duration": 307,
    "start_time": "2024-03-13T16:49:26.991Z"
   },
   {
    "duration": 986,
    "start_time": "2024-03-13T16:49:27.301Z"
   },
   {
    "duration": 128,
    "start_time": "2024-03-13T16:49:28.288Z"
   },
   {
    "duration": 6,
    "start_time": "2024-03-13T16:49:28.418Z"
   },
   {
    "duration": 46,
    "start_time": "2024-03-13T16:49:28.426Z"
   },
   {
    "duration": 70,
    "start_time": "2024-03-13T16:49:28.474Z"
   },
   {
    "duration": 172,
    "start_time": "2024-03-13T16:49:28.546Z"
   },
   {
    "duration": 295,
    "start_time": "2024-03-13T16:49:28.720Z"
   },
   {
    "duration": 26,
    "start_time": "2024-03-13T16:49:29.016Z"
   },
   {
    "duration": 2832,
    "start_time": "2024-03-13T16:49:52.472Z"
   },
   {
    "duration": 2615,
    "start_time": "2024-03-13T16:49:55.308Z"
   },
   {
    "duration": 904,
    "start_time": "2024-03-13T16:49:57.924Z"
   },
   {
    "duration": 20,
    "start_time": "2024-03-13T16:49:58.831Z"
   },
   {
    "duration": 156,
    "start_time": "2024-03-13T16:49:58.853Z"
   },
   {
    "duration": 295,
    "start_time": "2024-03-13T16:49:59.015Z"
   },
   {
    "duration": 321,
    "start_time": "2024-03-13T16:49:59.312Z"
   },
   {
    "duration": 333,
    "start_time": "2024-03-13T16:49:59.635Z"
   },
   {
    "duration": 1429,
    "start_time": "2024-03-13T16:50:02.654Z"
   },
   {
    "duration": 899,
    "start_time": "2024-03-13T16:50:04.085Z"
   },
   {
    "duration": 17,
    "start_time": "2024-03-13T16:50:04.986Z"
   },
   {
    "duration": 157,
    "start_time": "2024-03-13T16:50:05.005Z"
   },
   {
    "duration": 310,
    "start_time": "2024-03-13T16:50:05.164Z"
   },
   {
    "duration": 358,
    "start_time": "2024-03-13T16:50:05.476Z"
   },
   {
    "duration": 335,
    "start_time": "2024-03-13T16:50:05.836Z"
   },
   {
    "duration": 987,
    "start_time": "2024-03-13T16:50:06.172Z"
   },
   {
    "duration": 131,
    "start_time": "2024-03-13T16:50:07.161Z"
   },
   {
    "duration": 5,
    "start_time": "2024-03-13T16:50:07.294Z"
   },
   {
    "duration": 60,
    "start_time": "2024-03-13T16:50:07.302Z"
   },
   {
    "duration": 51,
    "start_time": "2024-03-13T16:50:07.363Z"
   },
   {
    "duration": 189,
    "start_time": "2024-03-13T16:50:07.416Z"
   },
   {
    "duration": 295,
    "start_time": "2024-03-13T16:50:07.607Z"
   },
   {
    "duration": 34,
    "start_time": "2024-03-13T16:50:07.903Z"
   }
  ],
  "colab": {
   "provenance": []
  },
  "kernelspec": {
   "display_name": "Python 3 (ipykernel)",
   "language": "python",
   "name": "python3"
  },
  "language_info": {
   "codemirror_mode": {
    "name": "ipython",
    "version": 3
   },
   "file_extension": ".py",
   "mimetype": "text/x-python",
   "name": "python",
   "nbconvert_exporter": "python",
   "pygments_lexer": "ipython3",
   "version": "3.9.5"
  },
  "toc": {
   "base_numbering": 1,
   "nav_menu": {},
   "number_sections": true,
   "sideBar": true,
   "skip_h1_title": true,
   "title_cell": "Table of Contents",
   "title_sidebar": "Contents",
   "toc_cell": false,
   "toc_position": {},
   "toc_section_display": true,
   "toc_window_display": true
  }
 },
 "nbformat": 4,
 "nbformat_minor": 1
}
