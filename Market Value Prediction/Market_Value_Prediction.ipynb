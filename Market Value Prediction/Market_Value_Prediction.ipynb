{
 "cells": [
  {
   "cell_type": "markdown",
   "metadata": {},
   "source": [
    "## 1. Открытие файла с данными и изучение общей информации"
   ]
  },
  {
   "cell_type": "markdown",
   "metadata": {},
   "source": [
    "**1.1 Импортируя библиотеку *pandas* прочитаем файл \"real_estate_data.csv\"\" и сохраним его в переменную *df***"
   ]
  },
  {
   "cell_type": "code",
   "execution_count": 1,
   "metadata": {},
   "outputs": [],
   "source": [
    "import pandas as pd"
   ]
  },
  {
   "cell_type": "code",
   "execution_count": 2,
   "metadata": {},
   "outputs": [],
   "source": [
    "# df = pd.read_csv(\"/datasets/real_estate_data.csv\", sep='\\t')\n",
    "df = pd.read_csv(r\"C:\\Users\\Тадевос\\Tadevos\\USER\\Desktop\\Курсы\\Датасеты к проектам\\Проект 3 «Исследовательский анализ данных»\\real_estate_data.csv\", sep='\\t')"
   ]
  },
  {
   "cell_type": "markdown",
   "metadata": {},
   "source": [
    "**1.2 Выведем на экран первые 10 строк датафрейма *df***"
   ]
  },
  {
   "cell_type": "code",
   "execution_count": 3,
   "metadata": {},
   "outputs": [
    {
     "data": {
      "text/html": [
       "<div>\n",
       "<style scoped>\n",
       "    .dataframe tbody tr th:only-of-type {\n",
       "        vertical-align: middle;\n",
       "    }\n",
       "\n",
       "    .dataframe tbody tr th {\n",
       "        vertical-align: top;\n",
       "    }\n",
       "\n",
       "    .dataframe thead th {\n",
       "        text-align: right;\n",
       "    }\n",
       "</style>\n",
       "<table border=\"1\" class=\"dataframe\">\n",
       "  <thead>\n",
       "    <tr style=\"text-align: right;\">\n",
       "      <th></th>\n",
       "      <th>total_images</th>\n",
       "      <th>last_price</th>\n",
       "      <th>total_area</th>\n",
       "      <th>first_day_exposition</th>\n",
       "      <th>rooms</th>\n",
       "      <th>ceiling_height</th>\n",
       "      <th>floors_total</th>\n",
       "      <th>living_area</th>\n",
       "      <th>floor</th>\n",
       "      <th>is_apartment</th>\n",
       "      <th>...</th>\n",
       "      <th>kitchen_area</th>\n",
       "      <th>balcony</th>\n",
       "      <th>locality_name</th>\n",
       "      <th>airports_nearest</th>\n",
       "      <th>cityCenters_nearest</th>\n",
       "      <th>parks_around3000</th>\n",
       "      <th>parks_nearest</th>\n",
       "      <th>ponds_around3000</th>\n",
       "      <th>ponds_nearest</th>\n",
       "      <th>days_exposition</th>\n",
       "    </tr>\n",
       "  </thead>\n",
       "  <tbody>\n",
       "    <tr>\n",
       "      <th>0</th>\n",
       "      <td>20</td>\n",
       "      <td>13000000.0</td>\n",
       "      <td>108.00</td>\n",
       "      <td>2019-03-07T00:00:00</td>\n",
       "      <td>3</td>\n",
       "      <td>2.70</td>\n",
       "      <td>16.0</td>\n",
       "      <td>51.00</td>\n",
       "      <td>8</td>\n",
       "      <td>NaN</td>\n",
       "      <td>...</td>\n",
       "      <td>25.00</td>\n",
       "      <td>NaN</td>\n",
       "      <td>Санкт-Петербург</td>\n",
       "      <td>18863.0</td>\n",
       "      <td>16028.0</td>\n",
       "      <td>1.0</td>\n",
       "      <td>482.0</td>\n",
       "      <td>2.0</td>\n",
       "      <td>755.0</td>\n",
       "      <td>NaN</td>\n",
       "    </tr>\n",
       "    <tr>\n",
       "      <th>1</th>\n",
       "      <td>7</td>\n",
       "      <td>3350000.0</td>\n",
       "      <td>40.40</td>\n",
       "      <td>2018-12-04T00:00:00</td>\n",
       "      <td>1</td>\n",
       "      <td>NaN</td>\n",
       "      <td>11.0</td>\n",
       "      <td>18.60</td>\n",
       "      <td>1</td>\n",
       "      <td>NaN</td>\n",
       "      <td>...</td>\n",
       "      <td>11.00</td>\n",
       "      <td>2.0</td>\n",
       "      <td>посёлок Шушары</td>\n",
       "      <td>12817.0</td>\n",
       "      <td>18603.0</td>\n",
       "      <td>0.0</td>\n",
       "      <td>NaN</td>\n",
       "      <td>0.0</td>\n",
       "      <td>NaN</td>\n",
       "      <td>81.0</td>\n",
       "    </tr>\n",
       "    <tr>\n",
       "      <th>2</th>\n",
       "      <td>10</td>\n",
       "      <td>5196000.0</td>\n",
       "      <td>56.00</td>\n",
       "      <td>2015-08-20T00:00:00</td>\n",
       "      <td>2</td>\n",
       "      <td>NaN</td>\n",
       "      <td>5.0</td>\n",
       "      <td>34.30</td>\n",
       "      <td>4</td>\n",
       "      <td>NaN</td>\n",
       "      <td>...</td>\n",
       "      <td>8.30</td>\n",
       "      <td>0.0</td>\n",
       "      <td>Санкт-Петербург</td>\n",
       "      <td>21741.0</td>\n",
       "      <td>13933.0</td>\n",
       "      <td>1.0</td>\n",
       "      <td>90.0</td>\n",
       "      <td>2.0</td>\n",
       "      <td>574.0</td>\n",
       "      <td>558.0</td>\n",
       "    </tr>\n",
       "    <tr>\n",
       "      <th>3</th>\n",
       "      <td>0</td>\n",
       "      <td>64900000.0</td>\n",
       "      <td>159.00</td>\n",
       "      <td>2015-07-24T00:00:00</td>\n",
       "      <td>3</td>\n",
       "      <td>NaN</td>\n",
       "      <td>14.0</td>\n",
       "      <td>NaN</td>\n",
       "      <td>9</td>\n",
       "      <td>NaN</td>\n",
       "      <td>...</td>\n",
       "      <td>NaN</td>\n",
       "      <td>0.0</td>\n",
       "      <td>Санкт-Петербург</td>\n",
       "      <td>28098.0</td>\n",
       "      <td>6800.0</td>\n",
       "      <td>2.0</td>\n",
       "      <td>84.0</td>\n",
       "      <td>3.0</td>\n",
       "      <td>234.0</td>\n",
       "      <td>424.0</td>\n",
       "    </tr>\n",
       "    <tr>\n",
       "      <th>4</th>\n",
       "      <td>2</td>\n",
       "      <td>10000000.0</td>\n",
       "      <td>100.00</td>\n",
       "      <td>2018-06-19T00:00:00</td>\n",
       "      <td>2</td>\n",
       "      <td>3.03</td>\n",
       "      <td>14.0</td>\n",
       "      <td>32.00</td>\n",
       "      <td>13</td>\n",
       "      <td>NaN</td>\n",
       "      <td>...</td>\n",
       "      <td>41.00</td>\n",
       "      <td>NaN</td>\n",
       "      <td>Санкт-Петербург</td>\n",
       "      <td>31856.0</td>\n",
       "      <td>8098.0</td>\n",
       "      <td>2.0</td>\n",
       "      <td>112.0</td>\n",
       "      <td>1.0</td>\n",
       "      <td>48.0</td>\n",
       "      <td>121.0</td>\n",
       "    </tr>\n",
       "    <tr>\n",
       "      <th>5</th>\n",
       "      <td>10</td>\n",
       "      <td>2890000.0</td>\n",
       "      <td>30.40</td>\n",
       "      <td>2018-09-10T00:00:00</td>\n",
       "      <td>1</td>\n",
       "      <td>NaN</td>\n",
       "      <td>12.0</td>\n",
       "      <td>14.40</td>\n",
       "      <td>5</td>\n",
       "      <td>NaN</td>\n",
       "      <td>...</td>\n",
       "      <td>9.10</td>\n",
       "      <td>NaN</td>\n",
       "      <td>городской посёлок Янино-1</td>\n",
       "      <td>NaN</td>\n",
       "      <td>NaN</td>\n",
       "      <td>NaN</td>\n",
       "      <td>NaN</td>\n",
       "      <td>NaN</td>\n",
       "      <td>NaN</td>\n",
       "      <td>55.0</td>\n",
       "    </tr>\n",
       "    <tr>\n",
       "      <th>6</th>\n",
       "      <td>6</td>\n",
       "      <td>3700000.0</td>\n",
       "      <td>37.30</td>\n",
       "      <td>2017-11-02T00:00:00</td>\n",
       "      <td>1</td>\n",
       "      <td>NaN</td>\n",
       "      <td>26.0</td>\n",
       "      <td>10.60</td>\n",
       "      <td>6</td>\n",
       "      <td>NaN</td>\n",
       "      <td>...</td>\n",
       "      <td>14.40</td>\n",
       "      <td>1.0</td>\n",
       "      <td>посёлок Парголово</td>\n",
       "      <td>52996.0</td>\n",
       "      <td>19143.0</td>\n",
       "      <td>0.0</td>\n",
       "      <td>NaN</td>\n",
       "      <td>0.0</td>\n",
       "      <td>NaN</td>\n",
       "      <td>155.0</td>\n",
       "    </tr>\n",
       "    <tr>\n",
       "      <th>7</th>\n",
       "      <td>5</td>\n",
       "      <td>7915000.0</td>\n",
       "      <td>71.60</td>\n",
       "      <td>2019-04-18T00:00:00</td>\n",
       "      <td>2</td>\n",
       "      <td>NaN</td>\n",
       "      <td>24.0</td>\n",
       "      <td>NaN</td>\n",
       "      <td>22</td>\n",
       "      <td>NaN</td>\n",
       "      <td>...</td>\n",
       "      <td>18.90</td>\n",
       "      <td>2.0</td>\n",
       "      <td>Санкт-Петербург</td>\n",
       "      <td>23982.0</td>\n",
       "      <td>11634.0</td>\n",
       "      <td>0.0</td>\n",
       "      <td>NaN</td>\n",
       "      <td>0.0</td>\n",
       "      <td>NaN</td>\n",
       "      <td>NaN</td>\n",
       "    </tr>\n",
       "    <tr>\n",
       "      <th>8</th>\n",
       "      <td>20</td>\n",
       "      <td>2900000.0</td>\n",
       "      <td>33.16</td>\n",
       "      <td>2018-05-23T00:00:00</td>\n",
       "      <td>1</td>\n",
       "      <td>NaN</td>\n",
       "      <td>27.0</td>\n",
       "      <td>15.43</td>\n",
       "      <td>26</td>\n",
       "      <td>NaN</td>\n",
       "      <td>...</td>\n",
       "      <td>8.81</td>\n",
       "      <td>NaN</td>\n",
       "      <td>посёлок Мурино</td>\n",
       "      <td>NaN</td>\n",
       "      <td>NaN</td>\n",
       "      <td>NaN</td>\n",
       "      <td>NaN</td>\n",
       "      <td>NaN</td>\n",
       "      <td>NaN</td>\n",
       "      <td>189.0</td>\n",
       "    </tr>\n",
       "    <tr>\n",
       "      <th>9</th>\n",
       "      <td>18</td>\n",
       "      <td>5400000.0</td>\n",
       "      <td>61.00</td>\n",
       "      <td>2017-02-26T00:00:00</td>\n",
       "      <td>3</td>\n",
       "      <td>2.50</td>\n",
       "      <td>9.0</td>\n",
       "      <td>43.60</td>\n",
       "      <td>7</td>\n",
       "      <td>NaN</td>\n",
       "      <td>...</td>\n",
       "      <td>6.50</td>\n",
       "      <td>2.0</td>\n",
       "      <td>Санкт-Петербург</td>\n",
       "      <td>50898.0</td>\n",
       "      <td>15008.0</td>\n",
       "      <td>0.0</td>\n",
       "      <td>NaN</td>\n",
       "      <td>0.0</td>\n",
       "      <td>NaN</td>\n",
       "      <td>289.0</td>\n",
       "    </tr>\n",
       "  </tbody>\n",
       "</table>\n",
       "<p>10 rows × 22 columns</p>\n",
       "</div>"
      ],
      "text/plain": [
       "   total_images  last_price  total_area first_day_exposition  rooms  \\\n",
       "0            20  13000000.0      108.00  2019-03-07T00:00:00      3   \n",
       "1             7   3350000.0       40.40  2018-12-04T00:00:00      1   \n",
       "2            10   5196000.0       56.00  2015-08-20T00:00:00      2   \n",
       "3             0  64900000.0      159.00  2015-07-24T00:00:00      3   \n",
       "4             2  10000000.0      100.00  2018-06-19T00:00:00      2   \n",
       "5            10   2890000.0       30.40  2018-09-10T00:00:00      1   \n",
       "6             6   3700000.0       37.30  2017-11-02T00:00:00      1   \n",
       "7             5   7915000.0       71.60  2019-04-18T00:00:00      2   \n",
       "8            20   2900000.0       33.16  2018-05-23T00:00:00      1   \n",
       "9            18   5400000.0       61.00  2017-02-26T00:00:00      3   \n",
       "\n",
       "   ceiling_height  floors_total  living_area  floor is_apartment  ...  \\\n",
       "0            2.70          16.0        51.00      8          NaN  ...   \n",
       "1             NaN          11.0        18.60      1          NaN  ...   \n",
       "2             NaN           5.0        34.30      4          NaN  ...   \n",
       "3             NaN          14.0          NaN      9          NaN  ...   \n",
       "4            3.03          14.0        32.00     13          NaN  ...   \n",
       "5             NaN          12.0        14.40      5          NaN  ...   \n",
       "6             NaN          26.0        10.60      6          NaN  ...   \n",
       "7             NaN          24.0          NaN     22          NaN  ...   \n",
       "8             NaN          27.0        15.43     26          NaN  ...   \n",
       "9            2.50           9.0        43.60      7          NaN  ...   \n",
       "\n",
       "   kitchen_area  balcony              locality_name  airports_nearest  \\\n",
       "0         25.00      NaN            Санкт-Петербург           18863.0   \n",
       "1         11.00      2.0             посёлок Шушары           12817.0   \n",
       "2          8.30      0.0            Санкт-Петербург           21741.0   \n",
       "3           NaN      0.0            Санкт-Петербург           28098.0   \n",
       "4         41.00      NaN            Санкт-Петербург           31856.0   \n",
       "5          9.10      NaN  городской посёлок Янино-1               NaN   \n",
       "6         14.40      1.0          посёлок Парголово           52996.0   \n",
       "7         18.90      2.0            Санкт-Петербург           23982.0   \n",
       "8          8.81      NaN             посёлок Мурино               NaN   \n",
       "9          6.50      2.0            Санкт-Петербург           50898.0   \n",
       "\n",
       "  cityCenters_nearest  parks_around3000  parks_nearest  ponds_around3000  \\\n",
       "0             16028.0               1.0          482.0               2.0   \n",
       "1             18603.0               0.0            NaN               0.0   \n",
       "2             13933.0               1.0           90.0               2.0   \n",
       "3              6800.0               2.0           84.0               3.0   \n",
       "4              8098.0               2.0          112.0               1.0   \n",
       "5                 NaN               NaN            NaN               NaN   \n",
       "6             19143.0               0.0            NaN               0.0   \n",
       "7             11634.0               0.0            NaN               0.0   \n",
       "8                 NaN               NaN            NaN               NaN   \n",
       "9             15008.0               0.0            NaN               0.0   \n",
       "\n",
       "   ponds_nearest  days_exposition  \n",
       "0          755.0              NaN  \n",
       "1            NaN             81.0  \n",
       "2          574.0            558.0  \n",
       "3          234.0            424.0  \n",
       "4           48.0            121.0  \n",
       "5            NaN             55.0  \n",
       "6            NaN            155.0  \n",
       "7            NaN              NaN  \n",
       "8            NaN            189.0  \n",
       "9            NaN            289.0  \n",
       "\n",
       "[10 rows x 22 columns]"
      ]
     },
     "execution_count": 3,
     "metadata": {},
     "output_type": "execute_result"
    }
   ],
   "source": [
    "df.head(10)"
   ]
  },
  {
   "cell_type": "markdown",
   "metadata": {},
   "source": [
    "**1.3 Выведем общую информацию о таблице c помощью метода *info()***"
   ]
  },
  {
   "cell_type": "code",
   "execution_count": 4,
   "metadata": {},
   "outputs": [
    {
     "name": "stdout",
     "output_type": "stream",
     "text": [
      "<class 'pandas.core.frame.DataFrame'>\n",
      "RangeIndex: 23699 entries, 0 to 23698\n",
      "Data columns (total 22 columns):\n",
      " #   Column                Non-Null Count  Dtype  \n",
      "---  ------                --------------  -----  \n",
      " 0   total_images          23699 non-null  int64  \n",
      " 1   last_price            23699 non-null  float64\n",
      " 2   total_area            23699 non-null  float64\n",
      " 3   first_day_exposition  23699 non-null  object \n",
      " 4   rooms                 23699 non-null  int64  \n",
      " 5   ceiling_height        14504 non-null  float64\n",
      " 6   floors_total          23613 non-null  float64\n",
      " 7   living_area           21796 non-null  float64\n",
      " 8   floor                 23699 non-null  int64  \n",
      " 9   is_apartment          2775 non-null   object \n",
      " 10  studio                23699 non-null  bool   \n",
      " 11  open_plan             23699 non-null  bool   \n",
      " 12  kitchen_area          21421 non-null  float64\n",
      " 13  balcony               12180 non-null  float64\n",
      " 14  locality_name         23650 non-null  object \n",
      " 15  airports_nearest      18157 non-null  float64\n",
      " 16  cityCenters_nearest   18180 non-null  float64\n",
      " 17  parks_around3000      18181 non-null  float64\n",
      " 18  parks_nearest         8079 non-null   float64\n",
      " 19  ponds_around3000      18181 non-null  float64\n",
      " 20  ponds_nearest         9110 non-null   float64\n",
      " 21  days_exposition       20518 non-null  float64\n",
      "dtypes: bool(2), float64(14), int64(3), object(3)\n",
      "memory usage: 3.7+ MB\n"
     ]
    }
   ],
   "source": [
    "df.info()"
   ]
  },
  {
   "cell_type": "code",
   "execution_count": 5,
   "metadata": {},
   "outputs": [
    {
     "data": {
      "text/plain": [
       "23699"
      ]
     },
     "execution_count": 5,
     "metadata": {},
     "output_type": "execute_result"
    }
   ],
   "source": [
    "len(df)"
   ]
  },
  {
   "cell_type": "markdown",
   "metadata": {},
   "source": [
    "**1.4 Построим гистограммы для всех числовых столбцов таблицы с помощью метода *hist()***"
   ]
  },
  {
   "cell_type": "code",
   "execution_count": 6,
   "metadata": {},
   "outputs": [
    {
     "data": {
      "image/png": "[encoded data removed]",
      "text/plain": [
       "<Figure size 1440x1080 with 20 Axes>"
      ]
     },
     "metadata": {
      "needs_background": "light"
     },
     "output_type": "display_data"
    }
   ],
   "source": [
    "df.hist(figsize=(20, 15));"
   ]
  },
  {
   "cell_type": "markdown",
   "metadata": {},
   "source": [
    "## 2. Предобработка данных"
   ]
  },
  {
   "cell_type": "markdown",
   "metadata": {},
   "source": [
    "**2.1 Найдём пропущенные значения в столбцах**"
   ]
  },
  {
   "cell_type": "code",
   "execution_count": 7,
   "metadata": {},
   "outputs": [
    {
     "data": {
      "text/plain": [
       "total_images                0\n",
       "last_price                  0\n",
       "total_area                  0\n",
       "first_day_exposition        0\n",
       "rooms                       0\n",
       "ceiling_height           9195\n",
       "floors_total               86\n",
       "living_area              1903\n",
       "floor                       0\n",
       "is_apartment            20924\n",
       "studio                      0\n",
       "open_plan                   0\n",
       "kitchen_area             2278\n",
       "balcony                 11519\n",
       "locality_name              49\n",
       "airports_nearest         5542\n",
       "cityCenters_nearest      5519\n",
       "parks_around3000         5518\n",
       "parks_nearest           15620\n",
       "ponds_around3000         5518\n",
       "ponds_nearest           14589\n",
       "days_exposition          3181\n",
       "dtype: int64"
      ]
     },
     "execution_count": 7,
     "metadata": {},
     "output_type": "execute_result"
    }
   ],
   "source": [
    "df.isna().sum()"
   ]
  },
  {
   "cell_type": "code",
   "execution_count": 8,
   "metadata": {},
   "outputs": [
    {
     "data": {
      "text/html": [
       "<style  type=\"text/css\" >\n",
       "#T_19887_row0_col0,#T_19887_row1_col0,#T_19887_row2_col0,#T_19887_row3_col0,#T_19887_row4_col0,#T_19887_row6_col0,#T_19887_row8_col0,#T_19887_row10_col0,#T_19887_row11_col0,#T_19887_row14_col0{\n",
       "            background-color:  #3b4cc0;\n",
       "            color:  #f1f1f1;\n",
       "        }#T_19887_row5_col0{\n",
       "            background-color:  #cdd9ec;\n",
       "            color:  #000000;\n",
       "        }#T_19887_row7_col0{\n",
       "            background-color:  #5673e0;\n",
       "            color:  #000000;\n",
       "        }#T_19887_row9_col0{\n",
       "            background-color:  #b40426;\n",
       "            color:  #f1f1f1;\n",
       "        }#T_19887_row12_col0{\n",
       "            background-color:  #5e7de7;\n",
       "            color:  #000000;\n",
       "        }#T_19887_row13_col0{\n",
       "            background-color:  #ead4c8;\n",
       "            color:  #000000;\n",
       "        }#T_19887_row15_col0,#T_19887_row16_col0,#T_19887_row17_col0,#T_19887_row19_col0{\n",
       "            background-color:  #90b2fe;\n",
       "            color:  #000000;\n",
       "        }#T_19887_row18_col0{\n",
       "            background-color:  #f4987a;\n",
       "            color:  #000000;\n",
       "        }#T_19887_row20_col0{\n",
       "            background-color:  #f7aa8c;\n",
       "            color:  #000000;\n",
       "        }#T_19887_row21_col0{\n",
       "            background-color:  #688aef;\n",
       "            color:  #000000;\n",
       "        }</style><table id=\"T_19887_\" ><thead>    <tr>        <th class=\"blank level0\" ></th>        <th class=\"col_heading level0 col0\" >0</th>    </tr></thead><tbody>\n",
       "                <tr>\n",
       "                        <th id=\"T_19887_level0_row0\" class=\"row_heading level0 row0\" >total_images</th>\n",
       "                        <td id=\"T_19887_row0_col0\" class=\"data row0 col0\" >0.000000</td>\n",
       "            </tr>\n",
       "            <tr>\n",
       "                        <th id=\"T_19887_level0_row1\" class=\"row_heading level0 row1\" >last_price</th>\n",
       "                        <td id=\"T_19887_row1_col0\" class=\"data row1 col0\" >0.000000</td>\n",
       "            </tr>\n",
       "            <tr>\n",
       "                        <th id=\"T_19887_level0_row2\" class=\"row_heading level0 row2\" >total_area</th>\n",
       "                        <td id=\"T_19887_row2_col0\" class=\"data row2 col0\" >0.000000</td>\n",
       "            </tr>\n",
       "            <tr>\n",
       "                        <th id=\"T_19887_level0_row3\" class=\"row_heading level0 row3\" >first_day_exposition</th>\n",
       "                        <td id=\"T_19887_row3_col0\" class=\"data row3 col0\" >0.000000</td>\n",
       "            </tr>\n",
       "            <tr>\n",
       "                        <th id=\"T_19887_level0_row4\" class=\"row_heading level0 row4\" >rooms</th>\n",
       "                        <td id=\"T_19887_row4_col0\" class=\"data row4 col0\" >0.000000</td>\n",
       "            </tr>\n",
       "            <tr>\n",
       "                        <th id=\"T_19887_level0_row5\" class=\"row_heading level0 row5\" >ceiling_height</th>\n",
       "                        <td id=\"T_19887_row5_col0\" class=\"data row5 col0\" >39.000000</td>\n",
       "            </tr>\n",
       "            <tr>\n",
       "                        <th id=\"T_19887_level0_row6\" class=\"row_heading level0 row6\" >floors_total</th>\n",
       "                        <td id=\"T_19887_row6_col0\" class=\"data row6 col0\" >0.000000</td>\n",
       "            </tr>\n",
       "            <tr>\n",
       "                        <th id=\"T_19887_level0_row7\" class=\"row_heading level0 row7\" >living_area</th>\n",
       "                        <td id=\"T_19887_row7_col0\" class=\"data row7 col0\" >8.000000</td>\n",
       "            </tr>\n",
       "            <tr>\n",
       "                        <th id=\"T_19887_level0_row8\" class=\"row_heading level0 row8\" >floor</th>\n",
       "                        <td id=\"T_19887_row8_col0\" class=\"data row8 col0\" >0.000000</td>\n",
       "            </tr>\n",
       "            <tr>\n",
       "                        <th id=\"T_19887_level0_row9\" class=\"row_heading level0 row9\" >is_apartment</th>\n",
       "                        <td id=\"T_19887_row9_col0\" class=\"data row9 col0\" >88.000000</td>\n",
       "            </tr>\n",
       "            <tr>\n",
       "                        <th id=\"T_19887_level0_row10\" class=\"row_heading level0 row10\" >studio</th>\n",
       "                        <td id=\"T_19887_row10_col0\" class=\"data row10 col0\" >0.000000</td>\n",
       "            </tr>\n",
       "            <tr>\n",
       "                        <th id=\"T_19887_level0_row11\" class=\"row_heading level0 row11\" >open_plan</th>\n",
       "                        <td id=\"T_19887_row11_col0\" class=\"data row11 col0\" >0.000000</td>\n",
       "            </tr>\n",
       "            <tr>\n",
       "                        <th id=\"T_19887_level0_row12\" class=\"row_heading level0 row12\" >kitchen_area</th>\n",
       "                        <td id=\"T_19887_row12_col0\" class=\"data row12 col0\" >10.000000</td>\n",
       "            </tr>\n",
       "            <tr>\n",
       "                        <th id=\"T_19887_level0_row13\" class=\"row_heading level0 row13\" >balcony</th>\n",
       "                        <td id=\"T_19887_row13_col0\" class=\"data row13 col0\" >49.000000</td>\n",
       "            </tr>\n",
       "            <tr>\n",
       "                        <th id=\"T_19887_level0_row14\" class=\"row_heading level0 row14\" >locality_name</th>\n",
       "                        <td id=\"T_19887_row14_col0\" class=\"data row14 col0\" >0.000000</td>\n",
       "            </tr>\n",
       "            <tr>\n",
       "                        <th id=\"T_19887_level0_row15\" class=\"row_heading level0 row15\" >airports_nearest</th>\n",
       "                        <td id=\"T_19887_row15_col0\" class=\"data row15 col0\" >23.000000</td>\n",
       "            </tr>\n",
       "            <tr>\n",
       "                        <th id=\"T_19887_level0_row16\" class=\"row_heading level0 row16\" >cityCenters_nearest</th>\n",
       "                        <td id=\"T_19887_row16_col0\" class=\"data row16 col0\" >23.000000</td>\n",
       "            </tr>\n",
       "            <tr>\n",
       "                        <th id=\"T_19887_level0_row17\" class=\"row_heading level0 row17\" >parks_around3000</th>\n",
       "                        <td id=\"T_19887_row17_col0\" class=\"data row17 col0\" >23.000000</td>\n",
       "            </tr>\n",
       "            <tr>\n",
       "                        <th id=\"T_19887_level0_row18\" class=\"row_heading level0 row18\" >parks_nearest</th>\n",
       "                        <td id=\"T_19887_row18_col0\" class=\"data row18 col0\" >66.000000</td>\n",
       "            </tr>\n",
       "            <tr>\n",
       "                        <th id=\"T_19887_level0_row19\" class=\"row_heading level0 row19\" >ponds_around3000</th>\n",
       "                        <td id=\"T_19887_row19_col0\" class=\"data row19 col0\" >23.000000</td>\n",
       "            </tr>\n",
       "            <tr>\n",
       "                        <th id=\"T_19887_level0_row20\" class=\"row_heading level0 row20\" >ponds_nearest</th>\n",
       "                        <td id=\"T_19887_row20_col0\" class=\"data row20 col0\" >62.000000</td>\n",
       "            </tr>\n",
       "            <tr>\n",
       "                        <th id=\"T_19887_level0_row21\" class=\"row_heading level0 row21\" >days_exposition</th>\n",
       "                        <td id=\"T_19887_row21_col0\" class=\"data row21 col0\" >13.000000</td>\n",
       "            </tr>\n",
       "    </tbody></table>"
      ],
      "text/plain": [
       "<pandas.io.formats.style.Styler at 0x2ec9584df40>"
      ]
     },
     "execution_count": 8,
     "metadata": {},
     "output_type": "execute_result"
    }
   ],
   "source": [
    "pd.DataFrame(round(df.isna().mean()*100,)).style.background_gradient('coolwarm')"
   ]
  },
  {
   "cell_type": "markdown",
   "metadata": {},
   "source": [
    "**2.2 Заполним те пропущенные значения, где возможна логическая замена**"
   ]
  },
  {
   "cell_type": "code",
   "execution_count": 9,
   "metadata": {},
   "outputs": [],
   "source": [
    "# Заменяем пропущенные значения в столбце 'balcony' на 0\n",
    "df[\"balcony\"].fillna(0, inplace=True)"
   ]
  },
  {
   "cell_type": "markdown",
   "metadata": {},
   "source": [
    "**Вывод:**\n",
    "Столбец \"balcony\" показывает количество балконов в квартире, можем предположить что отсутствие данных может указывать на отсутствие соответствующих параметров в квартире и заменим его значения на 0."
   ]
  },
  {
   "cell_type": "code",
   "execution_count": 10,
   "metadata": {},
   "outputs": [],
   "source": [
    "# Вычисляем медианное значение столбца 'ceiling_height'\n",
    "median_value = df[\"ceiling_height\"].median()\n",
    "# Заполняем пропущенные значения в столбце 'ceiling_height' медианой\n",
    "df[\"ceiling_height\"].fillna(median_value, inplace=True)"
   ]
  },
  {
   "cell_type": "markdown",
   "metadata": {},
   "source": [
    "**Вывод:**\n",
    "Причиной отсутствия данных для столбца \"ceiling_height\" может быть то, что продавцы могут просто упустить ее при заполнении формы. Также возможно, что некоторые объявления относятся к квартирам, где высота потолков еще не известна, например, в новостройках, где еще не проведена отделка и указание высоты потолков может быть некорректным или предоставление этой информации необязательным, поэтому заменим пропущенные значения медианным значением этого же столбца."
   ]
  },
  {
   "cell_type": "code",
   "execution_count": 11,
   "metadata": {},
   "outputs": [],
   "source": [
    "# Вычисляем медианное значение столбца 'floors_total'\n",
    "median_value = df[\"floors_total\"].median()\n",
    "# Заполняем пропущенные значения в столбце 'floors_total' медианой\n",
    "df[\"floors_total\"].fillna(median_value, inplace=True)"
   ]
  },
  {
   "cell_type": "markdown",
   "metadata": {},
   "source": [
    "**Вывод:**\n",
    "Причина отсутствия данных для столбца \"floors_total\" может быть связана с неполными или некорректными данными при заполнении формы об объекте недвижимости. Возможно, при заполнении объявления человек пропустил эту информацию, для этого заменим пропущенные значения медианным значением этого же столбца."
   ]
  },
  {
   "cell_type": "code",
   "execution_count": 12,
   "metadata": {},
   "outputs": [
    {
     "data": {
      "text/html": [
       "<div>\n",
       "<style scoped>\n",
       "    .dataframe tbody tr th:only-of-type {\n",
       "        vertical-align: middle;\n",
       "    }\n",
       "\n",
       "    .dataframe tbody tr th {\n",
       "        vertical-align: top;\n",
       "    }\n",
       "\n",
       "    .dataframe thead th {\n",
       "        text-align: right;\n",
       "    }\n",
       "</style>\n",
       "<table border=\"1\" class=\"dataframe\">\n",
       "  <thead>\n",
       "    <tr style=\"text-align: right;\">\n",
       "      <th></th>\n",
       "      <th>count</th>\n",
       "    </tr>\n",
       "    <tr>\n",
       "      <th>is_apartment</th>\n",
       "      <th></th>\n",
       "    </tr>\n",
       "  </thead>\n",
       "  <tbody>\n",
       "    <tr>\n",
       "      <th>False</th>\n",
       "      <td>2725</td>\n",
       "    </tr>\n",
       "    <tr>\n",
       "      <th>True</th>\n",
       "      <td>50</td>\n",
       "    </tr>\n",
       "    <tr>\n",
       "      <th>NaN</th>\n",
       "      <td>20924</td>\n",
       "    </tr>\n",
       "  </tbody>\n",
       "</table>\n",
       "</div>"
      ],
      "text/plain": [
       "              count\n",
       "is_apartment       \n",
       "False          2725\n",
       "True             50\n",
       "NaN           20924"
      ]
     },
     "execution_count": 12,
     "metadata": {},
     "output_type": "execute_result"
    }
   ],
   "source": [
    "# Группируем данные по столбцу 'is_apartment' и выводим количество записей в столбце 'total_images'\n",
    "df.groupby(\"is_apartment\", dropna=False)[\"total_images\"].agg([\"count\"])"
   ]
  },
  {
   "cell_type": "code",
   "execution_count": 13,
   "metadata": {},
   "outputs": [],
   "source": [
    "# Заполняем пропущенные значения в столбце 'is_apartment' значением False\n",
    "df[\"is_apartment\"].fillna(False, inplace=True)"
   ]
  },
  {
   "cell_type": "markdown",
   "metadata": {},
   "source": [
    "**Вывод:**\n",
    "С помощью метода \"groupby()\" создаем сводную таблицу, чтобы увидеть заполненные значениия (2725 + 50) и пропущенные значения (20924), для столбца \"is_apartment\" можно заполнить отсутствующие значения значением False, так как можно предположить, что продавец не указал, является ли квартира апартаментами.</b>     \n",
    "</div>"
   ]
  },
  {
   "cell_type": "code",
   "execution_count": 14,
   "metadata": {},
   "outputs": [],
   "source": [
    "# Заполняем пропущенные значения в столбце 'locality_name' значением 'unknown'\n",
    "df[\"locality_name\"].fillna(\"unknown\", inplace=True)"
   ]
  },
  {
   "cell_type": "markdown",
   "metadata": {},
   "source": [
    "**Вывод:**\n",
    "Основная причина пропусков в столбце \"locality_name\" может быть связана с ошибками при сборе данных или при вводе информации. Возможно, при сборе данных произошли технические ошибки или ошибки ввода, из-за которых некоторые значения не были записаны. \n",
    "Пропуски в данных заменим на \"unknown\", так как эта информация является значимой для анализа или использования данных.</b>     \n",
    "</div>"
   ]
  },
  {
   "cell_type": "code",
   "execution_count": 16,
   "metadata": {},
   "outputs": [
    {
     "data": {
      "text/plain": [
       "total_images                0\n",
       "last_price                  0\n",
       "total_area                  0\n",
       "first_day_exposition        0\n",
       "rooms                       0\n",
       "ceiling_height              0\n",
       "floors_total                0\n",
       "living_area              1903\n",
       "floor                       0\n",
       "is_apartment                0\n",
       "studio                      0\n",
       "open_plan                   0\n",
       "kitchen_area             2278\n",
       "balcony                     0\n",
       "locality_name               0\n",
       "airports_nearest         5542\n",
       "cityCenters_nearest      5519\n",
       "parks_around3000         5518\n",
       "parks_nearest           15620\n",
       "ponds_around3000         5518\n",
       "ponds_nearest           14589\n",
       "days_exposition          3181\n",
       "dtype: int64"
      ]
     },
     "execution_count": 16,
     "metadata": {},
     "output_type": "execute_result"
    }
   ],
   "source": [
    "df.isna().sum()"
   ]
  },
  {
   "cell_type": "markdown",
   "metadata": {},
   "source": [
    "**Вывод:**\n",
    "Убедимся, что пропуски были заполнены после проведенных действий с заменами и выведем количество пропущенных значений для каждого столбца. Для остальных столбцов сложно предложить логичную замену, поэтому оставим пропущенные значения без изменений."
   ]
  },
  {
   "cell_type": "markdown",
   "metadata": {},
   "source": [
    "**2.3 Рассмотрим типы данных в каждом столбце**"
   ]
  },
  {
   "cell_type": "code",
   "execution_count": 17,
   "metadata": {},
   "outputs": [
    {
     "data": {
      "text/plain": [
       "total_images              int64\n",
       "last_price              float64\n",
       "total_area              float64\n",
       "first_day_exposition     object\n",
       "rooms                     int64\n",
       "ceiling_height          float64\n",
       "floors_total            float64\n",
       "living_area             float64\n",
       "floor                     int64\n",
       "is_apartment               bool\n",
       "studio                     bool\n",
       "open_plan                  bool\n",
       "kitchen_area            float64\n",
       "balcony                 float64\n",
       "locality_name            object\n",
       "airports_nearest        float64\n",
       "cityCenters_nearest     float64\n",
       "parks_around3000        float64\n",
       "parks_nearest           float64\n",
       "ponds_around3000        float64\n",
       "ponds_nearest           float64\n",
       "days_exposition         float64\n",
       "dtype: object"
      ]
     },
     "execution_count": 17,
     "metadata": {},
     "output_type": "execute_result"
    }
   ],
   "source": [
    "# Рассмотрим типы данных в каждом столбце\n",
    "df.dtypes"
   ]
  },
  {
   "cell_type": "code",
   "execution_count": 18,
   "metadata": {},
   "outputs": [],
   "source": [
    "# Изменяем тип данных столбца \"balcony\" на int64\n",
    "df[\"balcony\"] = df[\"balcony\"].astype(int)\n",
    "\n",
    "# Изменяем тип данных столбца \"floors_total\" на int64\n",
    "df[\"floors_total\"] = df[\"floors_total\"].astype(int)\n",
    "\n",
    "# Изменяем тип данных столбца \"first_day_exposition\" на datetime64[ns]\n",
    "df[\"first_day_exposition\"] = pd.to_datetime(df[\"first_day_exposition\"], format='%Y-%m-%d %H:%M')"
   ]
  },
  {
   "cell_type": "markdown",
   "metadata": {},
   "source": [
    "**Вывод:**\n",
    "Столбцы, в которых нужно изменить тип данных:\n",
    "    \n",
    "- **balcony:** данный столбец можно изменить на тип *int*, так как ожидается, что значения будут целочисленными (количество балконов).\n",
    "    \n",
    "- **floors_total:** данный столбец также можно изменить на тип *int*, так как в нем указывается количество этажей в здании, что обычно представлено целочисленными значениями.\n",
    "\n",
    "- **\"first_day_exposition\"** содержит даты в формате \"%Y-%m-%dT%H:%M:%S\", его нужно изменить на *datetime64*, так как в нем указывается дата и время публикации объявления о продаже недвижимости.\n",
    "    \n",
    "Столбцы *\"balcony\" и \"floors_total\"* содержат числовые данные, поэтому с целью оптимизации вычислений и правильности их интерпретации и анализа изменим их тип данных на соответствующий, а столбец *\"first_day_exposition\"* содержит время поэтому для дальнейшего анализа и использования этой информации для временных рядов или операций с датами рекомендуется изменить тип данных этого столбца на тип даты и времени.\n"
   ]
  },
  {
   "cell_type": "code",
   "execution_count": 19,
   "metadata": {},
   "outputs": [
    {
     "data": {
      "text/plain": [
       "total_images                     int64\n",
       "last_price                     float64\n",
       "total_area                     float64\n",
       "first_day_exposition    datetime64[ns]\n",
       "rooms                            int64\n",
       "ceiling_height                 float64\n",
       "floors_total                     int32\n",
       "living_area                    float64\n",
       "floor                            int64\n",
       "is_apartment                      bool\n",
       "studio                            bool\n",
       "open_plan                         bool\n",
       "kitchen_area                   float64\n",
       "balcony                          int32\n",
       "locality_name                   object\n",
       "airports_nearest               float64\n",
       "cityCenters_nearest            float64\n",
       "parks_around3000               float64\n",
       "parks_nearest                  float64\n",
       "ponds_around3000               float64\n",
       "ponds_nearest                  float64\n",
       "days_exposition                float64\n",
       "dtype: object"
      ]
     },
     "execution_count": 19,
     "metadata": {},
     "output_type": "execute_result"
    }
   ],
   "source": [
    "# Рассмотрим типы данных в каждом столбце\n",
    "df.dtypes"
   ]
  },
  {
   "cell_type": "markdown",
   "metadata": {},
   "source": [
    "**Вывод:**\n",
    "Убедимся, что типы данных были изменены после проведенных действий с заменами и выведем типы данных для каждого столбца. У остальных столбцов тип данных верный, поэтому оставим их без изменений.    "
   ]
  },
  {
   "cell_type": "markdown",
   "metadata": {},
   "source": [
    "**2.4 Обработка неявных дубликатов**"
   ]
  },
  {
   "cell_type": "code",
   "execution_count": 20,
   "metadata": {},
   "outputs": [
    {
     "data": {
      "text/plain": [
       "array(['unknown', 'Бокситогорск', 'Волосово', 'Волхов', 'Всеволожск',\n",
       "       'Выборг', 'Высоцк', 'Гатчина', 'Зеленогорск', 'Ивангород',\n",
       "       'Каменногорск', 'Кингисепп', 'Кириши', 'Кировск', 'Колпино',\n",
       "       'Коммунар', 'Красное Село', 'Кронштадт', 'Кудрово',\n",
       "       'Лодейное Поле', 'Ломоносов', 'Луга', 'Любань', 'Мурино',\n",
       "       'Никольское', 'Новая Ладога', 'Отрадное', 'Павловск', 'Петергоф',\n",
       "       'Пикалёво', 'Подпорожье', 'Приморск', 'Приозерск', 'Пушкин',\n",
       "       'Санкт-Петербург', 'Светогорск', 'Сертолово', 'Сестрорецк',\n",
       "       'Сланцы', 'Сосновый Бор', 'Сясьстрой', 'Тихвин', 'Тосно',\n",
       "       'Шлиссельбург', 'городской поселок Большая Ижора',\n",
       "       'городской поселок Янино-1', 'городской посёлок Будогощь',\n",
       "       'городской посёлок Виллози', 'городской посёлок Лесогорский',\n",
       "       'городской посёлок Мга', 'городской посёлок Назия',\n",
       "       'городской посёлок Новоселье', 'городской посёлок Павлово',\n",
       "       'городской посёлок Рощино', 'городской посёлок Свирьстрой',\n",
       "       'городской посёлок Советский', 'городской посёлок Фёдоровское',\n",
       "       'городской посёлок Янино-1', 'деревня Агалатово', 'деревня Аро',\n",
       "       'деревня Батово', 'деревня Бегуницы', 'деревня Белогорка',\n",
       "       'деревня Большая Вруда', 'деревня Большая Пустомержа',\n",
       "       'деревня Большие Колпаны', 'деревня Большое Рейзино',\n",
       "       'деревня Большой Сабск', 'деревня Бор', 'деревня Борисова Грива',\n",
       "       'деревня Ваганово', 'деревня Вартемяги', 'деревня Вахнова Кара',\n",
       "       'деревня Выскатка', 'деревня Гарболово', 'деревня Глинка',\n",
       "       'деревня Горбунки', 'деревня Гостилицы', 'деревня Заклинье',\n",
       "       'деревня Заневка', 'деревня Зимитицы', 'деревня Извара',\n",
       "       'деревня Иссад', 'деревня Калитино', 'деревня Кальтино',\n",
       "       'деревня Камышовка', 'деревня Каськово', 'деревня Келози',\n",
       "       'деревня Кипень', 'деревня Кисельня', 'деревня Колтуши',\n",
       "       'деревня Коркино', 'деревня Котлы', 'деревня Кривко',\n",
       "       'деревня Кудрово', 'деревня Кузьмолово', 'деревня Курковицы',\n",
       "       'деревня Куровицы', 'деревня Куттузи', 'деревня Лаврики',\n",
       "       'деревня Лаголово', 'деревня Лампово', 'деревня Лесколово',\n",
       "       'деревня Лопухинка', 'деревня Лупполово',\n",
       "       'деревня Малая Романовка', 'деревня Малое Верево',\n",
       "       'деревня Малое Карлино', 'деревня Малые Колпаны',\n",
       "       'деревня Мануйлово', 'деревня Меньково', 'деревня Мины',\n",
       "       'деревня Мистолово', 'деревня Ненимяки', 'деревня Нижние Осельки',\n",
       "       'деревня Нижняя', 'деревня Низино', 'деревня Новое Девяткино',\n",
       "       'деревня Новолисино', 'деревня Нурма', 'деревня Оржицы',\n",
       "       'деревня Парицы', 'деревня Пельгора', 'деревня Пеники',\n",
       "       'деревня Пижма', 'деревня Пикколово', 'деревня Пудомяги',\n",
       "       'деревня Пустынка', 'деревня Пчева', 'деревня Рабитицы',\n",
       "       'деревня Разбегаево', 'деревня Раздолье', 'деревня Разметелево',\n",
       "       'деревня Рапполово', 'деревня Реброво', 'деревня Русско',\n",
       "       'деревня Сижно', 'деревня Снегирёвка', 'деревня Старая',\n",
       "       'деревня Старая Пустошь', 'деревня Старое Хинколово',\n",
       "       'деревня Старополье', 'деревня Старосиверская',\n",
       "       'деревня Старые Бегуницы', 'деревня Суоранда',\n",
       "       'деревня Сяськелево', 'деревня Тарасово', 'деревня Терпилицы',\n",
       "       'деревня Тихковицы', 'деревня Тойворово', 'деревня Торосово',\n",
       "       'деревня Торошковичи', 'деревня Трубников Бор',\n",
       "       'деревня Фалилеево', 'деревня Фёдоровское', 'деревня Хапо-Ое',\n",
       "       'деревня Хязельки', 'деревня Чудской Бор', 'деревня Шпаньково',\n",
       "       'деревня Щеглово', 'деревня Юкки', 'деревня Ялгино',\n",
       "       'деревня Яльгелево', 'деревня Ям-Тесово',\n",
       "       'коттеджный поселок Кивеннапа Север', 'коттеджный поселок Счастье',\n",
       "       'коттеджный посёлок Лесное', 'поселок Аннино', 'поселок Барышево',\n",
       "       'поселок Бугры', 'поселок Возрождение', 'поселок Войсковицы',\n",
       "       'поселок Володарское', 'поселок Гаврилово', 'поселок Гарболово',\n",
       "       'поселок Гладкое', 'поселок Глажево', 'поселок Глебычево',\n",
       "       'поселок Гончарово', 'поселок Громово', 'поселок Дружноселье',\n",
       "       'поселок Елизаветино', 'поселок Жилгородок', 'поселок Жилпосёлок',\n",
       "       'поселок Житково', 'поселок Заводской', 'поселок Запорожское',\n",
       "       'поселок Зимитицы', 'поселок Ильичёво', 'поселок Калитино',\n",
       "       'поселок Каложицы', 'поселок Кингисеппский', 'поселок Кирпичное',\n",
       "       'поселок Кобралово', 'поселок Кобринское', 'поселок Коммунары',\n",
       "       'поселок Коробицыно', 'поселок Котельский',\n",
       "       'поселок Красная Долина', 'поселок Красносельское',\n",
       "       'поселок Лесное', 'поселок Лисий Нос', 'поселок Лукаши',\n",
       "       'поселок Любань', 'поселок Мельниково', 'поселок Мичуринское',\n",
       "       'поселок Молодцово', 'поселок Мурино', 'поселок Новый Свет',\n",
       "       'поселок Новый Учхоз', 'поселок Оредеж',\n",
       "       'поселок Пансионат Зелёный Бор', 'поселок Первомайское',\n",
       "       'поселок Перово', 'поселок Петровское', 'поселок Победа',\n",
       "       'поселок Поляны', 'поселок Почап', 'поселок Починок',\n",
       "       'поселок Пушное', 'поселок Пчевжа', 'поселок Рабитицы',\n",
       "       'поселок Романовка', 'поселок Ромашки', 'поселок Рябово',\n",
       "       'поселок Севастьяново', 'поселок Селезнёво', 'поселок Сельцо',\n",
       "       'поселок Семиозерье', 'поселок Семрино', 'поселок Серебрянский',\n",
       "       'поселок Совхозный', 'поселок Старая Малукса',\n",
       "       'поселок Стеклянный', 'поселок Сумино', 'поселок Суходолье',\n",
       "       'поселок Тельмана', 'поселок Терволово', 'поселок Торковичи',\n",
       "       'поселок Тёсово-4', 'поселок Углово', 'поселок Усть-Луга',\n",
       "       'поселок Ушаки', 'поселок Цвелодубово', 'поселок Цвылёво',\n",
       "       'поселок городского типа Большая Ижора',\n",
       "       'поселок городского типа Вырица',\n",
       "       'поселок городского типа Дружная Горка',\n",
       "       'поселок городского типа Дубровка',\n",
       "       'поселок городского типа Ефимовский',\n",
       "       'поселок городского типа Кондратьево',\n",
       "       'поселок городского типа Красный Бор',\n",
       "       'поселок городского типа Кузьмоловский',\n",
       "       'поселок городского типа Лебяжье',\n",
       "       'поселок городского типа Лесогорский',\n",
       "       'поселок городского типа Назия',\n",
       "       'поселок городского типа Никольский',\n",
       "       'поселок городского типа Приладожский',\n",
       "       'поселок городского типа Рахья', 'поселок городского типа Рощино',\n",
       "       'поселок городского типа Рябово',\n",
       "       'поселок городского типа Синявино',\n",
       "       'поселок городского типа Советский',\n",
       "       'поселок городского типа Токсово',\n",
       "       'поселок городского типа Форносово',\n",
       "       'поселок городского типа имени Свердлова',\n",
       "       'поселок станции Вещево', 'поселок станции Корнево',\n",
       "       'поселок станции Лужайка', 'поселок станции Приветнинское',\n",
       "       'посёлок Александровская', 'посёлок Алексеевка', 'посёлок Аннино',\n",
       "       'посёлок Белоостров', 'посёлок Бугры', 'посёлок Возрождение',\n",
       "       'посёлок Войскорово', 'посёлок Высокоключевой',\n",
       "       'посёлок Гаврилово', 'посёлок Дзержинского', 'посёлок Жилгородок',\n",
       "       'посёлок Ильичёво', 'посёлок Кикерино', 'посёлок Кобралово',\n",
       "       'посёлок Коробицыно', 'посёлок Левашово', 'посёлок Ленинское',\n",
       "       'посёлок Лисий Нос', 'посёлок Мельниково', 'посёлок Металлострой',\n",
       "       'посёлок Мичуринское', 'посёлок Молодёжное', 'посёлок Мурино',\n",
       "       'посёлок Мыза-Ивановка', 'посёлок Новогорелово',\n",
       "       'посёлок Новый Свет', 'посёлок Пансионат Зелёный Бор',\n",
       "       'посёлок Парголово', 'посёлок Перово', 'посёлок Песочный',\n",
       "       'посёлок Петро-Славянка', 'посёлок Петровское',\n",
       "       'посёлок Платформа 69-й километр', 'посёлок Плодовое',\n",
       "       'посёлок Плоское', 'посёлок Победа', 'посёлок Поляны',\n",
       "       'посёлок Понтонный', 'посёлок Пригородный', 'посёлок Пудость',\n",
       "       'посёлок Репино', 'посёлок Ропша', 'посёлок Сапёрное',\n",
       "       'посёлок Сапёрный', 'посёлок Сосново', 'посёлок Старая Малукса',\n",
       "       'посёлок Стеклянный', 'посёлок Стрельна', 'посёлок Суйда',\n",
       "       'посёлок Сумино', 'посёлок Тельмана', 'посёлок Терволово',\n",
       "       'посёлок Торфяное', 'посёлок Усть-Ижора', 'посёлок Усть-Луга',\n",
       "       'посёлок Форт Красная Горка', 'посёлок Шугозеро', 'посёлок Шушары',\n",
       "       'посёлок Щеглово', 'посёлок городского типа Важины',\n",
       "       'посёлок городского типа Вознесенье',\n",
       "       'посёлок городского типа Вырица',\n",
       "       'посёлок городского типа Красный Бор',\n",
       "       'посёлок городского типа Кузнечное',\n",
       "       'посёлок городского типа Кузьмоловский',\n",
       "       'посёлок городского типа Лебяжье', 'посёлок городского типа Мга',\n",
       "       'посёлок городского типа Павлово',\n",
       "       'посёлок городского типа Рощино', 'посёлок городского типа Рябово',\n",
       "       'посёлок городского типа Сиверский',\n",
       "       'посёлок городского типа Тайцы', 'посёлок городского типа Токсово',\n",
       "       'посёлок городского типа Ульяновка',\n",
       "       'посёлок городского типа Форносово',\n",
       "       'посёлок городского типа имени Морозова',\n",
       "       'посёлок городского типа имени Свердлова',\n",
       "       'посёлок при железнодорожной станции Вещево',\n",
       "       'посёлок при железнодорожной станции Приветнинское',\n",
       "       'посёлок станции Громово', 'посёлок станции Свирь',\n",
       "       'садоводческое некоммерческое товарищество Лесная Поляна',\n",
       "       'садовое товарищество Новая Ропша',\n",
       "       'садовое товарищество Приладожский', 'садовое товарищество Рахья',\n",
       "       'садовое товарищество Садко', 'село Копорье', 'село Никольское',\n",
       "       'село Павлово', 'село Паша', 'село Путилово', 'село Рождествено',\n",
       "       'село Русско-Высоцкое', 'село Старая Ладога', 'село Шум'],\n",
       "      dtype=object)"
      ]
     },
     "execution_count": 20,
     "metadata": {},
     "output_type": "execute_result"
    }
   ],
   "source": [
    "# Выводим уникальные значения столбца 'locality_name' в отсортированном порядке\n",
    "df[\"locality_name\"].sort_values().unique()"
   ]
  },
  {
   "cell_type": "code",
   "execution_count": 21,
   "metadata": {},
   "outputs": [],
   "source": [
    "# Функция для очистки имени\n",
    "def clean_name(name):\n",
    "    parts = name.split()  # Разбиваем строку на части\n",
    "    cleaned_name = \"\"\n",
    "    for part in parts:\n",
    "        if part[0].isupper():  # Проверяем, начинается ли часть с заглавной буквы\n",
    "            cleaned_name += part + \" \"\n",
    "    return cleaned_name.strip()  # Удаляем лишние пробелы и возвращаем результат\n",
    "\n",
    "df[\"locality_clean_name\"] = df[\"locality_name\"].apply(clean_name)"
   ]
  },
  {
   "cell_type": "code",
   "execution_count": 22,
   "metadata": {},
   "outputs": [
    {
     "data": {
      "text/plain": [
       "array(['', 'Агалатово', 'Александровская', 'Алексеевка', 'Аннино', 'Аро',\n",
       "       'Барышево', 'Батово', 'Бегуницы', 'Белогорка', 'Белоостров',\n",
       "       'Бокситогорск', 'Большая Вруда', 'Большая Ижора',\n",
       "       'Большая Пустомержа', 'Большие Колпаны', 'Большое Рейзино',\n",
       "       'Большой Сабск', 'Бор', 'Борисова Грива', 'Бугры', 'Будогощь',\n",
       "       'Ваганово', 'Важины', 'Вартемяги', 'Вахнова Кара', 'Вещево',\n",
       "       'Виллози', 'Вознесенье', 'Возрождение', 'Войсковицы', 'Войскорово',\n",
       "       'Володарское', 'Волосово', 'Волхов', 'Всеволожск', 'Выборг',\n",
       "       'Вырица', 'Выскатка', 'Высокоключевой', 'Высоцк', 'Гаврилово',\n",
       "       'Гарболово', 'Гатчина', 'Гладкое', 'Глажево', 'Глебычево',\n",
       "       'Глинка', 'Гончарово', 'Горбунки', 'Гостилицы', 'Громово',\n",
       "       'Дзержинского', 'Дружная Горка', 'Дружноселье', 'Дубровка',\n",
       "       'Елизаветино', 'Ефимовский', 'Жилгородок', 'Жилпосёлок', 'Житково',\n",
       "       'Заводской', 'Заклинье', 'Заневка', 'Запорожское', 'Зеленогорск',\n",
       "       'Зимитицы', 'Ивангород', 'Извара', 'Ильичёво', 'Иссад', 'Калитино',\n",
       "       'Каложицы', 'Кальтино', 'Каменногорск', 'Камышовка', 'Каськово',\n",
       "       'Келози', 'Кивеннапа Север', 'Кикерино', 'Кингисепп',\n",
       "       'Кингисеппский', 'Кипень', 'Кириши', 'Кировск', 'Кирпичное',\n",
       "       'Кисельня', 'Кобралово', 'Кобринское', 'Колпино', 'Колтуши',\n",
       "       'Коммунар', 'Коммунары', 'Кондратьево', 'Копорье', 'Коркино',\n",
       "       'Корнево', 'Коробицыно', 'Котельский', 'Котлы', 'Красная Долина',\n",
       "       'Красное Село', 'Красносельское', 'Красный Бор', 'Кривко',\n",
       "       'Кронштадт', 'Кудрово', 'Кузнечное', 'Кузьмолово', 'Кузьмоловский',\n",
       "       'Курковицы', 'Куровицы', 'Куттузи', 'Лаврики', 'Лаголово',\n",
       "       'Лампово', 'Лебяжье', 'Левашово', 'Ленинское', 'Лесколово',\n",
       "       'Лесная Поляна', 'Лесное', 'Лесогорский', 'Лисий Нос',\n",
       "       'Лодейное Поле', 'Ломоносов', 'Лопухинка', 'Луга', 'Лужайка',\n",
       "       'Лукаши', 'Лупполово', 'Любань', 'Малая Романовка', 'Малое Верево',\n",
       "       'Малое Карлино', 'Малые Колпаны', 'Мануйлово', 'Мга', 'Мельниково',\n",
       "       'Меньково', 'Металлострой', 'Мины', 'Мистолово', 'Мичуринское',\n",
       "       'Молодцово', 'Молодёжное', 'Морозова', 'Мурино', 'Мыза-Ивановка',\n",
       "       'Назия', 'Ненимяки', 'Нижние Осельки', 'Нижняя', 'Низино',\n",
       "       'Никольский', 'Никольское', 'Новая Ладога', 'Новая Ропша',\n",
       "       'Новогорелово', 'Новое Девяткино', 'Новолисино', 'Новоселье',\n",
       "       'Новый Свет', 'Новый Учхоз', 'Нурма', 'Оредеж', 'Оржицы',\n",
       "       'Отрадное', 'Павлово', 'Павловск', 'Пансионат Зелёный Бор',\n",
       "       'Парголово', 'Парицы', 'Паша', 'Пельгора', 'Пеники',\n",
       "       'Первомайское', 'Перово', 'Песочный', 'Петергоф', 'Петро-Славянка',\n",
       "       'Петровское', 'Пижма', 'Пикалёво', 'Пикколово', 'Платформа',\n",
       "       'Плодовое', 'Плоское', 'Победа', 'Подпорожье', 'Поляны',\n",
       "       'Понтонный', 'Почап', 'Починок', 'Приветнинское', 'Пригородный',\n",
       "       'Приладожский', 'Приморск', 'Приозерск', 'Пудомяги', 'Пудость',\n",
       "       'Пустынка', 'Путилово', 'Пушкин', 'Пушное', 'Пчева', 'Пчевжа',\n",
       "       'Рабитицы', 'Разбегаево', 'Раздолье', 'Разметелево', 'Рапполово',\n",
       "       'Рахья', 'Реброво', 'Репино', 'Рождествено', 'Романовка',\n",
       "       'Ромашки', 'Ропша', 'Рощино', 'Русско', 'Русско-Высоцкое',\n",
       "       'Рябово', 'Садко', 'Санкт-Петербург', 'Сапёрное', 'Сапёрный',\n",
       "       'Свердлова', 'Светогорск', 'Свирь', 'Свирьстрой', 'Севастьяново',\n",
       "       'Селезнёво', 'Сельцо', 'Семиозерье', 'Семрино', 'Серебрянский',\n",
       "       'Сертолово', 'Сестрорецк', 'Сиверский', 'Сижно', 'Синявино',\n",
       "       'Сланцы', 'Снегирёвка', 'Советский', 'Совхозный', 'Сосново',\n",
       "       'Сосновый Бор', 'Старая', 'Старая Ладога', 'Старая Малукса',\n",
       "       'Старая Пустошь', 'Старое Хинколово', 'Старополье',\n",
       "       'Старосиверская', 'Старые Бегуницы', 'Стеклянный', 'Стрельна',\n",
       "       'Суйда', 'Сумино', 'Суоранда', 'Суходолье', 'Счастье',\n",
       "       'Сяськелево', 'Сясьстрой', 'Тайцы', 'Тарасово', 'Тельмана',\n",
       "       'Терволово', 'Терпилицы', 'Тихвин', 'Тихковицы', 'Тойворово',\n",
       "       'Токсово', 'Торковичи', 'Торосово', 'Торошковичи', 'Торфяное',\n",
       "       'Тосно', 'Трубников Бор', 'Тёсово-4', 'Углово', 'Ульяновка',\n",
       "       'Усть-Ижора', 'Усть-Луга', 'Ушаки', 'Фалилеево', 'Форносово',\n",
       "       'Форт Красная Горка', 'Фёдоровское', 'Хапо-Ое', 'Хязельки',\n",
       "       'Цвелодубово', 'Цвылёво', 'Чудской Бор', 'Шлиссельбург',\n",
       "       'Шпаньково', 'Шугозеро', 'Шум', 'Шушары', 'Щеглово', 'Юкки',\n",
       "       'Ялгино', 'Яльгелево', 'Ям-Тесово', 'Янино-1'], dtype=object)"
      ]
     },
     "execution_count": 22,
     "metadata": {},
     "output_type": "execute_result"
    }
   ],
   "source": [
    "# Выводим уникальные значения столбца 'locality_name' в отсортированном порядке\n",
    "df[\"locality_clean_name\"].sort_values().unique()"
   ]
  },
  {
   "cell_type": "markdown",
   "metadata": {},
   "source": [
    "**2.5 Обработка и удаление аномалий (редких значений)**"
   ]
  },
  {
   "cell_type": "code",
   "execution_count": 23,
   "metadata": {},
   "outputs": [
    {
     "data": {
      "text/plain": [
       "array([ 3,  1,  2,  4,  5,  6,  0,  7, 11,  8, 14, 10, 15,  9, 19, 16, 12],\n",
       "      dtype=int64)"
      ]
     },
     "execution_count": 23,
     "metadata": {},
     "output_type": "execute_result"
    }
   ],
   "source": [
    "# Выводим уникальные значения столбца 'rooms'\n",
    "unique_rooms = df[\"rooms\"].unique()\n",
    "unique_rooms"
   ]
  },
  {
   "cell_type": "code",
   "execution_count": 24,
   "metadata": {},
   "outputs": [],
   "source": [
    "# Удаляем строки, где количество комнат больше или равно 6\n",
    "df = df.drop(df[df[\"rooms\"] >= 6].index)\n",
    "# Удаляем строки, где количество комнат равно 0\n",
    "df = df.drop(df[df[\"rooms\"] == 0].index)"
   ]
  },
  {
   "cell_type": "code",
   "execution_count": 25,
   "metadata": {},
   "outputs": [
    {
     "data": {
      "text/plain": [
       "array([3, 1, 2, 4, 5], dtype=int64)"
      ]
     },
     "execution_count": 25,
     "metadata": {},
     "output_type": "execute_result"
    }
   ],
   "source": [
    "# Выводим уникальные значения столбца 'rooms' после удаления строк\n",
    "unique_rooms = df[\"rooms\"].unique()\n",
    "unique_rooms"
   ]
  },
  {
   "cell_type": "code",
   "execution_count": 26,
   "metadata": {},
   "outputs": [
    {
     "data": {
      "text/plain": [
       "array([  2.7 ,   2.65,   3.03,   2.5 ,   2.67,   2.56,   3.05,   2.75,\n",
       "         2.6 ,   2.9 ,   2.8 ,   2.55,   3.  ,   3.2 ,   2.61,   3.25,\n",
       "         3.45,   2.77,   2.85,   2.64,   2.57,   4.15,   3.5 ,   3.3 ,\n",
       "         2.71,   4.  ,   2.47,   2.73,   2.84,   3.1 ,   2.34,   3.4 ,\n",
       "         3.06,   2.72,   2.54,   2.51,   2.78,   2.76,  25.  ,   2.58,\n",
       "         3.7 ,   2.52,   2.87,   2.66,   2.59,   2.  ,   2.45,   3.6 ,\n",
       "         2.92,   3.11,   3.13,   3.8 ,   3.15,   3.55,   3.62,   3.12,\n",
       "         2.53,   2.74,   2.96,   2.46,   5.3 ,   5.  ,   2.79,   2.95,\n",
       "         4.06,   2.94,   3.54,   3.53,   2.83,   4.7 ,   2.4 ,   3.38,\n",
       "         3.01,   5.6 ,   3.65,   3.18,   3.35,   2.3 ,   3.57,   2.48,\n",
       "         2.62,   2.82,   3.98,   2.63,   3.83,   3.52,   3.95,   3.75,\n",
       "         2.88,   3.67,   3.66,   3.85,   4.19,   3.24,   4.8 ,   4.5 ,\n",
       "         4.2 ,   3.36,   3.86,  32.  ,   3.08,   3.68,   3.07,   3.37,\n",
       "         3.09,   8.  ,   3.16,   3.26,   3.34,   2.81,   3.44,   2.97,\n",
       "         4.37,   2.68,   3.9 ,   3.27,   4.1 ,   2.93,   3.46,  24.  ,\n",
       "         3.47,   3.33,  27.  ,   3.63,   3.14,   3.32,  26.  ,   1.2 ,\n",
       "         8.3 ,   2.98,   2.86,   3.17,   3.28,   4.4 ,   3.04,   4.45,\n",
       "         5.5 ,   3.84,   3.23,   3.02,   3.21,   3.78,   4.3 ,   3.39,\n",
       "         2.69,   3.22,   3.31,   3.56,   2.2 ,   3.51,   3.93,   3.42,\n",
       "         2.99,   3.49,  14.  ,   4.14,   2.91,   3.88,   1.75,   4.25,\n",
       "        20.  ,   2.25,   3.76,   3.69,   6.  ,  22.6 ,   2.89,   3.58,\n",
       "        27.5 ,   2.49,   4.9 ,   3.48,  10.3 ,   1.  , 100.  ,   3.59])"
      ]
     },
     "execution_count": 26,
     "metadata": {},
     "output_type": "execute_result"
    }
   ],
   "source": [
    "# Выводим уникальные значения столбца 'ceiling_height'\n",
    "unique_ceiling_height = df[\"ceiling_height\"].unique()\n",
    "unique_ceiling_height"
   ]
  },
  {
   "cell_type": "code",
   "execution_count": 27,
   "metadata": {},
   "outputs": [],
   "source": [
    "# Удаляем строки, где высота потолков меньше 2.5 метров\n",
    "df = df.drop(df[df[\"ceiling_height\"] < 2.5].index)\n",
    "# Удаляем строки, где высота потолков больше 3 метров\n",
    "df = df.drop(df[df[\"ceiling_height\"] > 3].index)"
   ]
  },
  {
   "cell_type": "code",
   "execution_count": 28,
   "metadata": {},
   "outputs": [
    {
     "data": {
      "text/plain": [
       "array([2.7 , 2.65, 2.5 , 2.67, 2.56, 2.75, 2.6 , 2.9 , 2.8 , 2.55, 3.  ,\n",
       "       2.61, 2.77, 2.85, 2.64, 2.57, 2.71, 2.73, 2.84, 2.72, 2.54, 2.51,\n",
       "       2.78, 2.76, 2.58, 2.52, 2.87, 2.66, 2.59, 2.92, 2.53, 2.74, 2.96,\n",
       "       2.79, 2.95, 2.94, 2.83, 2.62, 2.82, 2.63, 2.88, 2.81, 2.97, 2.68,\n",
       "       2.93, 2.98, 2.86, 2.69, 2.99, 2.91, 2.89])"
      ]
     },
     "execution_count": 28,
     "metadata": {},
     "output_type": "execute_result"
    }
   ],
   "source": [
    "# Выводим уникальные значения столбца 'ceiling_height' после удаления строк\n",
    "unique_ceiling_height = df[\"ceiling_height\"].unique()\n",
    "unique_ceiling_height"
   ]
  },
  {
   "cell_type": "code",
   "execution_count": 29,
   "metadata": {},
   "outputs": [
    {
     "data": {
      "text/plain": [
       "array([16, 11,  5, 14, 12, 26, 24, 27,  9,  6, 17, 25,  3, 23, 19, 18,  4,\n",
       "       22, 10,  7, 13, 15,  2,  8, 20, 28, 36, 21, 35, 34, 60,  1, 29, 33,\n",
       "       52])"
      ]
     },
     "execution_count": 29,
     "metadata": {},
     "output_type": "execute_result"
    }
   ],
   "source": [
    "# Выводим уникальные значения столбца 'floors_total'\n",
    "unique_floors_total = df[\"floors_total\"].unique()\n",
    "unique_floors_total"
   ]
  },
  {
   "cell_type": "code",
   "execution_count": 30,
   "metadata": {},
   "outputs": [],
   "source": [
    "# Удаляем строки, где количество этажей больше или равно 34\n",
    "df = df.drop(df[df[\"floors_total\"] >= 33].index)"
   ]
  },
  {
   "cell_type": "code",
   "execution_count": 31,
   "metadata": {},
   "outputs": [
    {
     "data": {
      "text/plain": [
       "array([16, 11,  5, 14, 12, 26, 24, 27,  9,  6, 17, 25,  3, 23, 19, 18,  4,\n",
       "       22, 10,  7, 13, 15,  2,  8, 20, 28, 21,  1, 29])"
      ]
     },
     "execution_count": 31,
     "metadata": {},
     "output_type": "execute_result"
    }
   ],
   "source": [
    "# Выводим уникальные значения столбца 'floors_total' после удаления строк\n",
    "unique_floors_total = df[\"floors_total\"].unique()\n",
    "unique_floors_total"
   ]
  },
  {
   "cell_type": "code",
   "execution_count": 32,
   "metadata": {},
   "outputs": [
    {
     "data": {
      "text/plain": [
       "array([ 8,  1,  4,  9,  5,  6, 22, 26,  7,  3,  2, 11, 15, 18, 13, 10, 19,\n",
       "       16, 20, 27, 25, 17, 14, 12, 21, 24, 23], dtype=int64)"
      ]
     },
     "execution_count": 32,
     "metadata": {},
     "output_type": "execute_result"
    }
   ],
   "source": [
    "# Выводим уникальные значения столбца 'floors_total' после удаления строк\n",
    "unique_floors_total = df[\"floor\"].unique()\n",
    "unique_floors_total"
   ]
  },
  {
   "cell_type": "markdown",
   "metadata": {},
   "source": [
    "**Вывод:**\n",
    "Удаление аномальных значений для столбцов: \"rooms\",  \"ceiling_height\", \"floors_total\" в нашем анализе. \n",
    "Исключения возможности наличия экстремально низких или высоких значений, которые могут быть ошибочными или являться выбросами в данных. Удаление аномальных значений важно для достижения более точных и репрезентативных результатов в анализе. Это также помогает избежать искажений, которые могут возникнуть при наличии большого числа выбросов."
   ]
  },
  {
   "cell_type": "code",
   "execution_count": 33,
   "metadata": {},
   "outputs": [
    {
     "data": {
      "text/plain": [
       "0"
      ]
     },
     "execution_count": 33,
     "metadata": {},
     "output_type": "execute_result"
    }
   ],
   "source": [
    "# Выводим на экран количество строк-дубликатов в данных\n",
    "df.duplicated().sum()"
   ]
  },
  {
   "cell_type": "markdown",
   "metadata": {},
   "source": [
    "**Вывод:**\n",
    "После предобработки данных были выявлены следующие проблемы:\n",
    "- пропущенные значения;\n",
    "- неявные дубликаты;\n",
    "- аномальные значения.\n",
    "\n",
    "Качество исходных данных низкое, поскольку пропуски могут привести к искажению результатов и анализу. Необработанные пропущенные значения могут вызвать смещение в данных и привести к неправильным выводам. Качество данных будет низким, если пропущенные значения происходят случайным образом или если их количество велико. "
   ]
  },
  {
   "cell_type": "markdown",
   "metadata": {},
   "source": [
    "## 3. Добавление новых столбцов в таблицу"
   ]
  },
  {
   "cell_type": "markdown",
   "metadata": {},
   "source": [
    "**3.1 Посчитаем цену одного квадратного метра квартиры**"
   ]
  },
  {
   "cell_type": "code",
   "execution_count": 34,
   "metadata": {},
   "outputs": [
    {
     "data": {
      "text/plain": [
       "0        120370.37\n",
       "1         82920.79\n",
       "2         92785.71\n",
       "3        408176.10\n",
       "5         95065.79\n",
       "           ...    \n",
       "23693     73717.95\n",
       "23695     52542.37\n",
       "23696     44091.71\n",
       "23697    149511.40\n",
       "23698     41795.67\n",
       "Name: price_per_square_meter, Length: 21784, dtype: float64"
      ]
     },
     "execution_count": 34,
     "metadata": {},
     "output_type": "execute_result"
    }
   ],
   "source": [
    "# Создаем столбец 'price_per_square_meter', в котором посчитаем цену одного квадратного метра квартиры\n",
    "df[\"price_per_square_meter\"] = (df[\"last_price\"] / df[\"total_area\"]).round(2)\n",
    "# Выводим новый столбец на экран\n",
    "df[\"price_per_square_meter\"]"
   ]
  },
  {
   "cell_type": "markdown",
   "metadata": {},
   "source": [
    "**3.2 Добавление новые столбцы: день недели, месяц и год публикации**"
   ]
  },
  {
   "cell_type": "code",
   "execution_count": 35,
   "metadata": {},
   "outputs": [],
   "source": [
    "# Создаем новый столбец 'publication_day', в котором хранится значение дня недели из столбца 'first_day_exposition'\n",
    "df[\"publication_day\"] = df[\"first_day_exposition\"].dt.weekday\n",
    "# Создаем новый столбец 'publication_day', в котором хранится значение месяца из столбца 'first_day_exposition'\n",
    "df[\"publication_month\"] = df[\"first_day_exposition\"].dt.month\n",
    "# Создаем новый столбец 'publication_day', в котором хранится значение года из столбца 'first_day_exposition'\n",
    "df[\"publication_year\"] = df[\"first_day_exposition\"].dt.year"
   ]
  },
  {
   "cell_type": "markdown",
   "metadata": {},
   "source": [
    "**3.3 Добавление столбец \"floors_type\", в котором будет хранится тип этажа квартиры**"
   ]
  },
  {
   "cell_type": "code",
   "execution_count": 38,
   "metadata": {},
   "outputs": [
    {
     "data": {
      "text/plain": [
       "другой       16107\n",
       "последний     2995\n",
       "первый        2682\n",
       "Name: floors_type, dtype: int64"
      ]
     },
     "execution_count": 38,
     "metadata": {},
     "output_type": "execute_result"
    }
   ],
   "source": [
    "# Задаем лямбда-функцию для определения типа этажа\n",
    "def get_floor_type(row):\n",
    "    if row['floor'] == row['floors_total']:\n",
    "        return 'последний'\n",
    "    elif row['floor'] == 1:\n",
    "        return 'первый'\n",
    "    else:\n",
    "        return 'другой'\n",
    "# Добавляем новый столбец 'floors_type' с помощью метода 'apply'\n",
    "df['floors_type'] = df.apply(lambda row: get_floor_type(row), axis=1)\n",
    "# Подсчитываем количество значений для каждого типа этажа в столбце 'floors_type'\n",
    "df[\"floors_type\"].value_counts()"
   ]
  },
  {
   "cell_type": "markdown",
   "metadata": {},
   "source": [
    "**3.4 Добавление новый столбец \"cityCenters_nearest_km\", в котором посчитаем расстояние до центра города в километрах**"
   ]
  },
  {
   "cell_type": "code",
   "execution_count": 39,
   "metadata": {},
   "outputs": [
    {
     "data": {
      "text/html": [
       "<div>\n",
       "<style scoped>\n",
       "    .dataframe tbody tr th:only-of-type {\n",
       "        vertical-align: middle;\n",
       "    }\n",
       "\n",
       "    .dataframe tbody tr th {\n",
       "        vertical-align: top;\n",
       "    }\n",
       "\n",
       "    .dataframe thead th {\n",
       "        text-align: right;\n",
       "    }\n",
       "</style>\n",
       "<table border=\"1\" class=\"dataframe\">\n",
       "  <thead>\n",
       "    <tr style=\"text-align: right;\">\n",
       "      <th></th>\n",
       "      <th>total_images</th>\n",
       "      <th>last_price</th>\n",
       "      <th>total_area</th>\n",
       "      <th>first_day_exposition</th>\n",
       "      <th>rooms</th>\n",
       "      <th>ceiling_height</th>\n",
       "      <th>floors_total</th>\n",
       "      <th>living_area</th>\n",
       "      <th>floor</th>\n",
       "      <th>is_apartment</th>\n",
       "      <th>...</th>\n",
       "      <th>ponds_around3000</th>\n",
       "      <th>ponds_nearest</th>\n",
       "      <th>days_exposition</th>\n",
       "      <th>locality_clean_name</th>\n",
       "      <th>price_per_square_meter</th>\n",
       "      <th>publication_day</th>\n",
       "      <th>publication_month</th>\n",
       "      <th>publication_year</th>\n",
       "      <th>floors_type</th>\n",
       "      <th>cityCenters_nearest_km</th>\n",
       "    </tr>\n",
       "  </thead>\n",
       "  <tbody>\n",
       "    <tr>\n",
       "      <th>0</th>\n",
       "      <td>20</td>\n",
       "      <td>13000000.0</td>\n",
       "      <td>108.00</td>\n",
       "      <td>2019-03-07</td>\n",
       "      <td>3</td>\n",
       "      <td>2.70</td>\n",
       "      <td>16</td>\n",
       "      <td>51.0</td>\n",
       "      <td>8</td>\n",
       "      <td>False</td>\n",
       "      <td>...</td>\n",
       "      <td>2.0</td>\n",
       "      <td>755.0</td>\n",
       "      <td>NaN</td>\n",
       "      <td>Санкт-Петербург</td>\n",
       "      <td>120370.37</td>\n",
       "      <td>3</td>\n",
       "      <td>3</td>\n",
       "      <td>2019</td>\n",
       "      <td>другой</td>\n",
       "      <td>16.0</td>\n",
       "    </tr>\n",
       "    <tr>\n",
       "      <th>1</th>\n",
       "      <td>7</td>\n",
       "      <td>3350000.0</td>\n",
       "      <td>40.40</td>\n",
       "      <td>2018-12-04</td>\n",
       "      <td>1</td>\n",
       "      <td>2.65</td>\n",
       "      <td>11</td>\n",
       "      <td>18.6</td>\n",
       "      <td>1</td>\n",
       "      <td>False</td>\n",
       "      <td>...</td>\n",
       "      <td>0.0</td>\n",
       "      <td>NaN</td>\n",
       "      <td>81.0</td>\n",
       "      <td>Шушары</td>\n",
       "      <td>82920.79</td>\n",
       "      <td>1</td>\n",
       "      <td>12</td>\n",
       "      <td>2018</td>\n",
       "      <td>первый</td>\n",
       "      <td>19.0</td>\n",
       "    </tr>\n",
       "    <tr>\n",
       "      <th>2</th>\n",
       "      <td>10</td>\n",
       "      <td>5196000.0</td>\n",
       "      <td>56.00</td>\n",
       "      <td>2015-08-20</td>\n",
       "      <td>2</td>\n",
       "      <td>2.65</td>\n",
       "      <td>5</td>\n",
       "      <td>34.3</td>\n",
       "      <td>4</td>\n",
       "      <td>False</td>\n",
       "      <td>...</td>\n",
       "      <td>2.0</td>\n",
       "      <td>574.0</td>\n",
       "      <td>558.0</td>\n",
       "      <td>Санкт-Петербург</td>\n",
       "      <td>92785.71</td>\n",
       "      <td>3</td>\n",
       "      <td>8</td>\n",
       "      <td>2015</td>\n",
       "      <td>другой</td>\n",
       "      <td>14.0</td>\n",
       "    </tr>\n",
       "    <tr>\n",
       "      <th>3</th>\n",
       "      <td>0</td>\n",
       "      <td>64900000.0</td>\n",
       "      <td>159.00</td>\n",
       "      <td>2015-07-24</td>\n",
       "      <td>3</td>\n",
       "      <td>2.65</td>\n",
       "      <td>14</td>\n",
       "      <td>NaN</td>\n",
       "      <td>9</td>\n",
       "      <td>False</td>\n",
       "      <td>...</td>\n",
       "      <td>3.0</td>\n",
       "      <td>234.0</td>\n",
       "      <td>424.0</td>\n",
       "      <td>Санкт-Петербург</td>\n",
       "      <td>408176.10</td>\n",
       "      <td>4</td>\n",
       "      <td>7</td>\n",
       "      <td>2015</td>\n",
       "      <td>другой</td>\n",
       "      <td>7.0</td>\n",
       "    </tr>\n",
       "    <tr>\n",
       "      <th>5</th>\n",
       "      <td>10</td>\n",
       "      <td>2890000.0</td>\n",
       "      <td>30.40</td>\n",
       "      <td>2018-09-10</td>\n",
       "      <td>1</td>\n",
       "      <td>2.65</td>\n",
       "      <td>12</td>\n",
       "      <td>14.4</td>\n",
       "      <td>5</td>\n",
       "      <td>False</td>\n",
       "      <td>...</td>\n",
       "      <td>NaN</td>\n",
       "      <td>NaN</td>\n",
       "      <td>55.0</td>\n",
       "      <td>Янино-1</td>\n",
       "      <td>95065.79</td>\n",
       "      <td>0</td>\n",
       "      <td>9</td>\n",
       "      <td>2018</td>\n",
       "      <td>другой</td>\n",
       "      <td>NaN</td>\n",
       "    </tr>\n",
       "    <tr>\n",
       "      <th>...</th>\n",
       "      <td>...</td>\n",
       "      <td>...</td>\n",
       "      <td>...</td>\n",
       "      <td>...</td>\n",
       "      <td>...</td>\n",
       "      <td>...</td>\n",
       "      <td>...</td>\n",
       "      <td>...</td>\n",
       "      <td>...</td>\n",
       "      <td>...</td>\n",
       "      <td>...</td>\n",
       "      <td>...</td>\n",
       "      <td>...</td>\n",
       "      <td>...</td>\n",
       "      <td>...</td>\n",
       "      <td>...</td>\n",
       "      <td>...</td>\n",
       "      <td>...</td>\n",
       "      <td>...</td>\n",
       "      <td>...</td>\n",
       "      <td>...</td>\n",
       "    </tr>\n",
       "    <tr>\n",
       "      <th>23693</th>\n",
       "      <td>9</td>\n",
       "      <td>4600000.0</td>\n",
       "      <td>62.40</td>\n",
       "      <td>2016-08-05</td>\n",
       "      <td>3</td>\n",
       "      <td>2.60</td>\n",
       "      <td>9</td>\n",
       "      <td>40.0</td>\n",
       "      <td>8</td>\n",
       "      <td>False</td>\n",
       "      <td>...</td>\n",
       "      <td>1.0</td>\n",
       "      <td>675.0</td>\n",
       "      <td>239.0</td>\n",
       "      <td>Петергоф</td>\n",
       "      <td>73717.95</td>\n",
       "      <td>4</td>\n",
       "      <td>8</td>\n",
       "      <td>2016</td>\n",
       "      <td>другой</td>\n",
       "      <td>34.0</td>\n",
       "    </tr>\n",
       "    <tr>\n",
       "      <th>23695</th>\n",
       "      <td>14</td>\n",
       "      <td>3100000.0</td>\n",
       "      <td>59.00</td>\n",
       "      <td>2018-01-15</td>\n",
       "      <td>3</td>\n",
       "      <td>2.65</td>\n",
       "      <td>5</td>\n",
       "      <td>38.0</td>\n",
       "      <td>4</td>\n",
       "      <td>False</td>\n",
       "      <td>...</td>\n",
       "      <td>NaN</td>\n",
       "      <td>NaN</td>\n",
       "      <td>45.0</td>\n",
       "      <td>Тосно</td>\n",
       "      <td>52542.37</td>\n",
       "      <td>0</td>\n",
       "      <td>1</td>\n",
       "      <td>2018</td>\n",
       "      <td>другой</td>\n",
       "      <td>NaN</td>\n",
       "    </tr>\n",
       "    <tr>\n",
       "      <th>23696</th>\n",
       "      <td>18</td>\n",
       "      <td>2500000.0</td>\n",
       "      <td>56.70</td>\n",
       "      <td>2018-02-11</td>\n",
       "      <td>2</td>\n",
       "      <td>2.65</td>\n",
       "      <td>3</td>\n",
       "      <td>29.7</td>\n",
       "      <td>1</td>\n",
       "      <td>False</td>\n",
       "      <td>...</td>\n",
       "      <td>NaN</td>\n",
       "      <td>NaN</td>\n",
       "      <td>NaN</td>\n",
       "      <td>Рождествено</td>\n",
       "      <td>44091.71</td>\n",
       "      <td>6</td>\n",
       "      <td>2</td>\n",
       "      <td>2018</td>\n",
       "      <td>первый</td>\n",
       "      <td>NaN</td>\n",
       "    </tr>\n",
       "    <tr>\n",
       "      <th>23697</th>\n",
       "      <td>13</td>\n",
       "      <td>11475000.0</td>\n",
       "      <td>76.75</td>\n",
       "      <td>2017-03-28</td>\n",
       "      <td>2</td>\n",
       "      <td>3.00</td>\n",
       "      <td>17</td>\n",
       "      <td>NaN</td>\n",
       "      <td>12</td>\n",
       "      <td>False</td>\n",
       "      <td>...</td>\n",
       "      <td>3.0</td>\n",
       "      <td>196.0</td>\n",
       "      <td>602.0</td>\n",
       "      <td>Санкт-Петербург</td>\n",
       "      <td>149511.40</td>\n",
       "      <td>1</td>\n",
       "      <td>3</td>\n",
       "      <td>2017</td>\n",
       "      <td>другой</td>\n",
       "      <td>10.0</td>\n",
       "    </tr>\n",
       "    <tr>\n",
       "      <th>23698</th>\n",
       "      <td>4</td>\n",
       "      <td>1350000.0</td>\n",
       "      <td>32.30</td>\n",
       "      <td>2017-07-21</td>\n",
       "      <td>1</td>\n",
       "      <td>2.50</td>\n",
       "      <td>5</td>\n",
       "      <td>12.3</td>\n",
       "      <td>1</td>\n",
       "      <td>False</td>\n",
       "      <td>...</td>\n",
       "      <td>NaN</td>\n",
       "      <td>NaN</td>\n",
       "      <td>NaN</td>\n",
       "      <td>Новый Учхоз</td>\n",
       "      <td>41795.67</td>\n",
       "      <td>4</td>\n",
       "      <td>7</td>\n",
       "      <td>2017</td>\n",
       "      <td>первый</td>\n",
       "      <td>NaN</td>\n",
       "    </tr>\n",
       "  </tbody>\n",
       "</table>\n",
       "<p>21784 rows × 29 columns</p>\n",
       "</div>"
      ],
      "text/plain": [
       "       total_images  last_price  total_area first_day_exposition  rooms  \\\n",
       "0                20  13000000.0      108.00           2019-03-07      3   \n",
       "1                 7   3350000.0       40.40           2018-12-04      1   \n",
       "2                10   5196000.0       56.00           2015-08-20      2   \n",
       "3                 0  64900000.0      159.00           2015-07-24      3   \n",
       "5                10   2890000.0       30.40           2018-09-10      1   \n",
       "...             ...         ...         ...                  ...    ...   \n",
       "23693             9   4600000.0       62.40           2016-08-05      3   \n",
       "23695            14   3100000.0       59.00           2018-01-15      3   \n",
       "23696            18   2500000.0       56.70           2018-02-11      2   \n",
       "23697            13  11475000.0       76.75           2017-03-28      2   \n",
       "23698             4   1350000.0       32.30           2017-07-21      1   \n",
       "\n",
       "       ceiling_height  floors_total  living_area  floor  is_apartment  ...  \\\n",
       "0                2.70            16         51.0      8         False  ...   \n",
       "1                2.65            11         18.6      1         False  ...   \n",
       "2                2.65             5         34.3      4         False  ...   \n",
       "3                2.65            14          NaN      9         False  ...   \n",
       "5                2.65            12         14.4      5         False  ...   \n",
       "...               ...           ...          ...    ...           ...  ...   \n",
       "23693            2.60             9         40.0      8         False  ...   \n",
       "23695            2.65             5         38.0      4         False  ...   \n",
       "23696            2.65             3         29.7      1         False  ...   \n",
       "23697            3.00            17          NaN     12         False  ...   \n",
       "23698            2.50             5         12.3      1         False  ...   \n",
       "\n",
       "       ponds_around3000  ponds_nearest  days_exposition  locality_clean_name  \\\n",
       "0                   2.0          755.0              NaN      Санкт-Петербург   \n",
       "1                   0.0            NaN             81.0               Шушары   \n",
       "2                   2.0          574.0            558.0      Санкт-Петербург   \n",
       "3                   3.0          234.0            424.0      Санкт-Петербург   \n",
       "5                   NaN            NaN             55.0              Янино-1   \n",
       "...                 ...            ...              ...                  ...   \n",
       "23693               1.0          675.0            239.0             Петергоф   \n",
       "23695               NaN            NaN             45.0                Тосно   \n",
       "23696               NaN            NaN              NaN          Рождествено   \n",
       "23697               3.0          196.0            602.0      Санкт-Петербург   \n",
       "23698               NaN            NaN              NaN          Новый Учхоз   \n",
       "\n",
       "      price_per_square_meter  publication_day  publication_month  \\\n",
       "0                  120370.37                3                  3   \n",
       "1                   82920.79                1                 12   \n",
       "2                   92785.71                3                  8   \n",
       "3                  408176.10                4                  7   \n",
       "5                   95065.79                0                  9   \n",
       "...                      ...              ...                ...   \n",
       "23693               73717.95                4                  8   \n",
       "23695               52542.37                0                  1   \n",
       "23696               44091.71                6                  2   \n",
       "23697              149511.40                1                  3   \n",
       "23698               41795.67                4                  7   \n",
       "\n",
       "       publication_year  floors_type  cityCenters_nearest_km  \n",
       "0                  2019       другой                    16.0  \n",
       "1                  2018       первый                    19.0  \n",
       "2                  2015       другой                    14.0  \n",
       "3                  2015       другой                     7.0  \n",
       "5                  2018       другой                     NaN  \n",
       "...                 ...          ...                     ...  \n",
       "23693              2016       другой                    34.0  \n",
       "23695              2018       другой                     NaN  \n",
       "23696              2018       первый                     NaN  \n",
       "23697              2017       другой                    10.0  \n",
       "23698              2017       первый                     NaN  \n",
       "\n",
       "[21784 rows x 29 columns]"
      ]
     },
     "execution_count": 39,
     "metadata": {},
     "output_type": "execute_result"
    }
   ],
   "source": [
    "# Создаём новый столбец 'cityCenters_nearest_km', в котором переведём значения из м в км\n",
    "df[\"cityCenters_nearest_km\"] = (df[\"cityCenters_nearest\"] / 1000).round()\n",
    "df"
   ]
  },
  {
   "cell_type": "markdown",
   "metadata": {},
   "source": [
    "**Вывод:**\n",
    "В результате добавления новых столбцов в таблицу, мы получили дополнительную информацию о каждом объявлении. Теперь можно узнать цену одного квадратного метра, день, месяц и год публикации объявления, тип этажа квартиры, а также расстояние до центра города в километрах. Эти данные могут быть полезны для более детального анализа рынка недвижимости.</b>     \n",
    "</div>"
   ]
  },
  {
   "cell_type": "markdown",
   "metadata": {},
   "source": [
    "## 4. Проведение исследовательского анализа данных"
   ]
  },
  {
   "cell_type": "markdown",
   "metadata": {},
   "source": [
    "**4.1 Исследование параметров объектов: общей площади, жилой площади, площади кухни, цены, количества комнат и т.д.**"
   ]
  },
  {
   "cell_type": "code",
   "execution_count": 40,
   "metadata": {},
   "outputs": [
    {
     "data": {
      "image/png": "[encoded data removed]",
      "text/plain": [
       "<Figure size 1440x720 with 4 Axes>"
      ]
     },
     "metadata": {
      "needs_background": "light"
     },
     "output_type": "display_data"
    },
    {
     "data": {
      "image/png": "[encoded data removed]",
      "text/plain": [
       "<Figure size 1440x720 with 4 Axes>"
      ]
     },
     "metadata": {
      "needs_background": "light"
     },
     "output_type": "display_data"
    },
    {
     "data": {
      "image/png": "[encoded data removed]",
      "text/plain": [
       "<Figure size 1440x360 with 1 Axes>"
      ]
     },
     "metadata": {
      "needs_background": "light"
     },
     "output_type": "display_data"
    },
    {
     "data": {
      "image/png": "[encoded data removed]",
      "text/plain": [
       "<Figure size 1440x360 with 1 Axes>"
      ]
     },
     "metadata": {
      "needs_background": "light"
     },
     "output_type": "display_data"
    }
   ],
   "source": [
    "df[[\"total_area\", \"living_area\", \"kitchen_area\"]].hist(bins=30, figsize=(20, 10), range=(0, 100))\n",
    "df[[\"last_price\", \"rooms\", \"ceiling_height\", \"floors_total\"]].hist(bins=30, figsize=(20, 10)) \n",
    "df[[\"cityCenters_nearest\"]].hist(bins=30, figsize=(20, 5), range=(0, 30000)) \n",
    "df[[\"parks_nearest\"]].hist(bins=30, figsize=(20, 5), range=(0, 1000)); "
   ]
  },
  {
   "cell_type": "code",
   "execution_count": 41,
   "metadata": {},
   "outputs": [
    {
     "data": {
      "image/png": "[encoded data removed]",
      "text/plain": [
       "<Figure size 720x720 with 1 Axes>"
      ]
     },
     "metadata": {
      "needs_background": "light"
     },
     "output_type": "display_data"
    }
   ],
   "source": [
    "df[\"floors_type\"].value_counts().plot(kind=\"bar\", grid=True, figsize=(10, 10));"
   ]
  },
  {
   "cell_type": "markdown",
   "metadata": {},
   "source": [
    "После рассмотрения графиков можно сделать следующие выводы:  \n",
    "    \n",
    "\n",
    "- В столбце \"total_area\" самые большие показатели находятся в отметке 30-40 квадратных метров;\n",
    "    \n",
    "- В столбце \"living_area\" самые большие показатели находятся в отметке 20-30 квадратных метров;\n",
    "    \n",
    "- В столбце \"kitchen_area\" самые большие показатели находятся в отметке 8-12 квадратных метров; \n",
    "    \n",
    "- В столбце \"last_price\" имеет широкий разброс значений и содержит выбросы в данных; \n",
    "    \n",
    "- В столбце \"rooms\" самые большие показатели находятся в отметке однокомнатных и двухкомнатных квартир; \n",
    "    \n",
    "- В столбце \"ceiling_height\" самые большие показатели высоты потолков находятся в отметке 2.65 и 2.5 метра; \n",
    "    \n",
    "- В столбце \"floors_type\" самый высокий показатель эти тип \"другой\";\n",
    "    \n",
    "- Столбец \"floors_total\" показывает, что больше всего квартир продали в пяти и восьмиэтажных домах;\n",
    "    \n",
    "- Столбец \"cityCenters_nearest\" показывает, что расстояние до центра города в основном на отметке в 10км;\n",
    "    \n",
    "- Столбец \"parks_nearest\" показывает, что парки в основном находятся радом с домами 0-600м   "
   ]
  },
  {
   "cell_type": "markdown",
   "metadata": {},
   "source": [
    "**4.2 Исследуем количество дней для продажи квартиры**"
   ]
  },
  {
   "cell_type": "code",
   "execution_count": 44,
   "metadata": {},
   "outputs": [
    {
     "data": {
      "text/plain": [
       "count    19006.000000\n",
       "mean       175.938125\n",
       "std        214.967658\n",
       "min          1.000000\n",
       "25%         44.000000\n",
       "50%         93.000000\n",
       "75%        222.000000\n",
       "max       1580.000000\n",
       "Name: days_exposition, dtype: float64"
      ]
     },
     "execution_count": 44,
     "metadata": {},
     "output_type": "execute_result"
    }
   ],
   "source": [
    "df.days_exposition.describe()"
   ]
  },
  {
   "cell_type": "code",
   "execution_count": 45,
   "metadata": {},
   "outputs": [
    {
     "data": {
      "image/png": "[encoded data removed]",
      "text/plain": [
       "<Figure size 432x288 with 1 Axes>"
      ]
     },
     "metadata": {
      "needs_background": "light"
     },
     "output_type": "display_data"
    }
   ],
   "source": [
    "df.boxplot(column=[\"days_exposition\"]);"
   ]
  },
  {
   "cell_type": "markdown",
   "metadata": {},
   "source": [
    "**Вывод:**\n",
    "Исходя полученных данных, можно сделать следующие выводы:\n",
    "\n",
    "1. Быстрые продажи - это те, которые занимают от 1 до примерно 93 дней. Это медианное значение, что означает, что половина всех продаж занимает меньше чем 93 дня.\n",
    "\n",
    "2. Необычно долгими можно считать продажи, которые занимают более 222 дней. Это значение находится в третьем квартиле, что означает, что 75% всех продаж занимают меньше чем 222 дня.\n",
    "\n",
    "Таким образом, продажи, занимающие от 1 до 93 дней, можно считать быстрыми, а продажи, занимающие более 222 дней, можно считать необычно долгими."
   ]
  },
  {
   "cell_type": "markdown",
   "metadata": {},
   "source": [
    "**4.3 Исследуем какие факторы больше всего влияют на стоимость объекта**"
   ]
  },
  {
   "cell_type": "code",
   "execution_count": 46,
   "metadata": {},
   "outputs": [],
   "source": [
    "# Создаём сводную таблицу по общей площади квартир и цене\n",
    "table_total_area = df.pivot_table(index=\"total_area\", values=\"last_price\")\n",
    "# Создаём сводную таблицу по жилой площади квартир и цене\n",
    "table_living_area = df.pivot_table(index=\"living_area\", values=\"last_price\")\n",
    "# Создаём сводную таблицу по площади кухни и цене\n",
    "table_kitchen_area = df.pivot_table(index=\"kitchen_area\", values=\"last_price\")\n",
    "# Создаём сводную таблицу по количеству комнат и цене\n",
    "table_rooms = df.pivot_table(index=\"rooms\", values=\"last_price\")\n",
    "# Создаём сводную таблицу по этажу квартиры и цене\n",
    "table_floor = df.pivot_table(index=\"floors_type\", values=\"last_price\")\n",
    "# Создаём сводную таблицу по дню публикации объявления и цене\n",
    "table_day_exposition = df.pivot_table(index=\"first_day_exposition\", values=\"last_price\")\n",
    "# Создать сводную таблицу для зависимости цены от дня недели/ месяца/ года\n",
    "weekday_pivot = df.pivot_table(index='publication_day', values=\"last_price\", aggfunc='mean')\n",
    "month_pivot = df.pivot_table(index='publication_month', values=\"last_price\", aggfunc='mean')\n",
    "year_pivot = df.pivot_table(index='publication_year', values=\"last_price\", aggfunc='mean')"
   ]
  },
  {
   "cell_type": "code",
   "execution_count": 48,
   "metadata": {},
   "outputs": [
    {
     "data": {
      "image/png": "[encoded data removed]",
      "text/plain": [
       "<Figure size 432x288 with 1 Axes>"
      ]
     },
     "metadata": {
      "needs_background": "light"
     },
     "output_type": "display_data"
    },
    {
     "data": {
      "image/png": "[encoded data removed]",
      "text/plain": [
       "<Figure size 432x288 with 1 Axes>"
      ]
     },
     "metadata": {
      "needs_background": "light"
     },
     "output_type": "display_data"
    },
    {
     "data": {
      "image/png": "[encoded data removed]",
      "text/plain": [
       "<Figure size 432x288 with 1 Axes>"
      ]
     },
     "metadata": {
      "needs_background": "light"
     },
     "output_type": "display_data"
    },
    {
     "data": {
      "image/png": "[encoded data removed]",
      "text/plain": [
       "<Figure size 432x288 with 1 Axes>"
      ]
     },
     "metadata": {
      "needs_background": "light"
     },
     "output_type": "display_data"
    },
    {
     "data": {
      "image/png": "[encoded data removed]",
      "text/plain": [
       "<Figure size 432x288 with 1 Axes>"
      ]
     },
     "metadata": {
      "needs_background": "light"
     },
     "output_type": "display_data"
    },
    {
     "data": {
      "image/png": "[encoded data removed]",
      "text/plain": [
       "<Figure size 432x288 with 1 Axes>"
      ]
     },
     "metadata": {
      "needs_background": "light"
     },
     "output_type": "display_data"
    },
    {
     "data": {
      "image/png": "[encoded data removed]",
      "text/plain": [
       "<Figure size 432x288 with 1 Axes>"
      ]
     },
     "metadata": {
      "needs_background": "light"
     },
     "output_type": "display_data"
    }
   ],
   "source": [
    "import matplotlib.pyplot as plt\n",
    "# График зависимости цены от общей площади\n",
    "df.plot(x=\"total_area\", y=\"last_price\", kind=\"scatter\", grid=True)\n",
    "# График зависимости цены от жилой площади\n",
    "df.plot(x=\"living_area\", y=\"last_price\", kind=\"scatter\", grid=True)\n",
    "# График зависимости цены от площади кухни\n",
    "df.plot(x=\"kitchen_area\", y=\"last_price\", kind=\"scatter\", grid=True)\n",
    "# График зависимости цены от количества комнат\n",
    "plt.plot(table_rooms.index, table_rooms[\"last_price\"])\n",
    "plt.xlabel(\"Number of Rooms\")\n",
    "plt.ylabel(\"Price\")\n",
    "plt.title(\"Dependence of Price on Number of Rooms\")\n",
    "plt.show()\n",
    "# График зависимости цены от этажа\n",
    "plt.plot(table_floor.index, table_floor[\"last_price\"])\n",
    "plt.xlabel(\"Floor\")\n",
    "plt.ylabel(\"Price\")\n",
    "plt.title(\"Dependence of Price on Floor\")\n",
    "plt.show()\n",
    "# График зависимости цены от дня недели первой публикации\n",
    "weekday_pivot.plot(kind='line')\n",
    "plt.xlabel('День недели')\n",
    "plt.ylabel('Цена')\n",
    "plt.title('Зависимость цены от дня недели')\n",
    "plt.xticks(rotation=0)\n",
    "plt.show()\n",
    "# График зависимости цены от месяца первой публикации\n",
    "month_pivot.plot(kind='line')\n",
    "plt.xlabel('Месяц')\n",
    "plt.ylabel('Цена')\n",
    "plt.title('Зависимость цены от месяца')\n",
    "plt.xticks(rotation=0)\n",
    "plt.show()\n",
    "# График зависимости цены от года первой публикации\n",
    "year_pivot.plot(kind='line')\n",
    "plt.xlabel('Год')\n",
    "plt.ylabel('Цена')\n",
    "plt.title('Зависимость цены от года')\n",
    "plt.show()"
   ]
  },
  {
   "cell_type": "code",
   "execution_count": 49,
   "metadata": {},
   "outputs": [
    {
     "name": "stdout",
     "output_type": "stream",
     "text": [
      "Корреляция между общей площадью и ценой = 0.6795982229930877\n",
      "Корреляция между жилой площадью и ценой = 0.5772655338089002\n",
      "Корреляция между площадью кухни и ценой = 0.49600596807391717\n"
     ]
    }
   ],
   "source": [
    "# Вычислим корреляцию между столбцом 'total_area' и 'last_price' \n",
    "corr_total_area = df[\"total_area\"].corr(df[\"last_price\"])\n",
    "print(f\"Корреляция между общей площадью и ценой =\", corr_total_area)\n",
    "# Вычислим корреляцию между столбцом 'living_area' и 'last_price'\n",
    "corr_living_area = df[\"living_area\"].corr(df[\"last_price\"])\n",
    "print(f\"Корреляция между жилой площадью и ценой =\", corr_living_area)\n",
    "# Вычислим корреляцию между столбцом 'kitchen_area' и 'last_price'\n",
    "corr_kitchen_area = df[\"kitchen_area\"].corr(df[\"last_price\"])\n",
    "print(f\"Корреляция между площадью кухни и ценой =\", corr_kitchen_area)"
   ]
  },
  {
   "cell_type": "markdown",
   "metadata": {},
   "source": [
    "**Выводы по графикам:**\n",
    "\n",
    "- Общая площадь. Более просторные квартиры имеют более высокую цену, поскольку большая площадь обычно считается преимуществом. Ожидается, что между общей площадью и ценой будет положительная корреляционная связь.\n",
    "\n",
    "- Жилая площадь и площадь кухни также влияют на общую стоимость объекта, поскольку эти параметры могут говорить о функциональности и комфорте квартиры.Площадь кухни также может быть важным фактором, поскольку большая кухня может быть преимуществом для потенциальных покупателей.\n",
    "\n",
    "- Количество комнат также влияет на общую стоимость объекта. Вероятно, что квартиры с большим количеством комнат имеют более высокую цену.\n",
    "\n",
    "- Этаж, на котором расположена квартира, также может быть фактором, который влияет на общую стоимость. Обычно первые и последние этажи могут иметь более низкую цену по сравнению с квартирами на других этажах из-за возможного отсутствия приватности и шумоизоляции.\n",
    "\n",
    "- Дата размещения объявления не влияет на цену.\n",
    "    \n",
    "В целом, после построения графиков и вывода видно, что все перечисленные факторы могут влиять на общую стоимость объекта.\n",
    "    \n",
    "**Выводы по корреляции:**\n",
    "    \n",
    "1. Между общей площадью и ценой есть сильная положительная корреляция (0.68), что означает, что с увеличением общей площади жилья обычно увеличивается его цена.\n",
    "2. Между жилой площадью и ценой также есть положительная корреляция, но она немного слабее (0.58), что говорит о том, что жилая площадь влияет на цену, но в меньшей степени, чем общая площадь.\n",
    "3. Корреляция между площадью кухни и ценой также есть, но она уже еще слабее (0.50), это указывает на то, что площадь кухни имеет относительно меньшее влияние на цену, чем общая или жилая площадь."
   ]
  },
  {
   "cell_type": "markdown",
   "metadata": {},
   "source": [
    "**4.4 Анализ десяти населённых пунктов с наибольшим числом объявлений, анализ стоимости квадратного метра**"
   ]
  },
  {
   "cell_type": "code",
   "execution_count": 50,
   "metadata": {},
   "outputs": [
    {
     "data": {
      "text/html": [
       "<div>\n",
       "<style scoped>\n",
       "    .dataframe tbody tr th:only-of-type {\n",
       "        vertical-align: middle;\n",
       "    }\n",
       "\n",
       "    .dataframe tbody tr th {\n",
       "        vertical-align: top;\n",
       "    }\n",
       "\n",
       "    .dataframe thead th {\n",
       "        text-align: right;\n",
       "    }\n",
       "</style>\n",
       "<table border=\"1\" class=\"dataframe\">\n",
       "  <thead>\n",
       "    <tr style=\"text-align: right;\">\n",
       "      <th></th>\n",
       "      <th>Объявлений</th>\n",
       "      <th>Средняя цена</th>\n",
       "    </tr>\n",
       "  </thead>\n",
       "  <tbody>\n",
       "    <tr>\n",
       "      <th>Санкт-Петербург</th>\n",
       "      <td>14069</td>\n",
       "      <td>111509.95</td>\n",
       "    </tr>\n",
       "    <tr>\n",
       "      <th>Мурино</th>\n",
       "      <td>561</td>\n",
       "      <td>85478.55</td>\n",
       "    </tr>\n",
       "    <tr>\n",
       "      <th>Кудрово</th>\n",
       "      <td>450</td>\n",
       "      <td>95151.88</td>\n",
       "    </tr>\n",
       "    <tr>\n",
       "      <th>Шушары</th>\n",
       "      <td>435</td>\n",
       "      <td>78382.65</td>\n",
       "    </tr>\n",
       "    <tr>\n",
       "      <th>Всеволожск</th>\n",
       "      <td>387</td>\n",
       "      <td>68629.18</td>\n",
       "    </tr>\n",
       "    <tr>\n",
       "      <th>Пушкин</th>\n",
       "      <td>346</td>\n",
       "      <td>102258.70</td>\n",
       "    </tr>\n",
       "    <tr>\n",
       "      <th>Колпино</th>\n",
       "      <td>326</td>\n",
       "      <td>75395.18</td>\n",
       "    </tr>\n",
       "    <tr>\n",
       "      <th>Парголово</th>\n",
       "      <td>321</td>\n",
       "      <td>90479.24</td>\n",
       "    </tr>\n",
       "    <tr>\n",
       "      <th>Гатчина</th>\n",
       "      <td>301</td>\n",
       "      <td>68643.78</td>\n",
       "    </tr>\n",
       "    <tr>\n",
       "      <th>Выборг</th>\n",
       "      <td>222</td>\n",
       "      <td>57800.85</td>\n",
       "    </tr>\n",
       "  </tbody>\n",
       "</table>\n",
       "</div>"
      ],
      "text/plain": [
       "                 Объявлений  Средняя цена\n",
       "Санкт-Петербург       14069     111509.95\n",
       "Мурино                  561      85478.55\n",
       "Кудрово                 450      95151.88\n",
       "Шушары                  435      78382.65\n",
       "Всеволожск              387      68629.18\n",
       "Пушкин                  346     102258.70\n",
       "Колпино                 326      75395.18\n",
       "Парголово               321      90479.24\n",
       "Гатчина                 301      68643.78\n",
       "Выборг                  222      57800.85"
      ]
     },
     "execution_count": 50,
     "metadata": {},
     "output_type": "execute_result"
    }
   ],
   "source": [
    "# Посчитаем 10 населенных пунктов с наибольшим числом объявлений \n",
    "top_localities = df[\"locality_clean_name\"].value_counts().head(10)\n",
    "# Посчитаем среднюю цену одного квадратного метра в 10 населенных пунктах с наибольшим числом объявлений \n",
    "avg_price_per_sqm = df[df[\"locality_clean_name\"].isin(top_localities.index)\n",
    "                      ].groupby(\"locality_clean_name\")[\"price_per_square_meter\"].mean().round(2)\n",
    "# Построим сводную таблицу с количеством объявлений и средней ценой квадратного метра\n",
    "summary_table = pd.DataFrame({\"Объявлений\": top_localities, \"Средняя цена\": avg_price_per_sqm})\n",
    "# Выделим населенные пункты с самой высокой и низкой стоимостью квадратного метра.\n",
    "highest_price = summary_table[\"Средняя цена\"].max()\n",
    "lowest_price = summary_table[\"Средняя цена\"].min()\n",
    "# Выводим отсортированную переменную summary_table по количеству объявлений\n",
    "summary_table_sorted = summary_table.sort_values(by=\"Объявлений\", ascending=False)\n",
    "summary_table_sorted"
   ]
  },
  {
   "cell_type": "code",
   "execution_count": 52,
   "metadata": {},
   "outputs": [
    {
     "name": "stdout",
     "output_type": "stream",
     "text": [
      "Населённые пункты с самой высокой и низкой стоимостью квадратного метра:\n",
      "Самая высокая стоимость:  111509.95\n",
      "Самая низкая стоимость:  57800.85\n"
     ]
    }
   ],
   "source": [
    "print(f\"Населённые пункты с самой высокой и низкой стоимостью квадратного метра:\")\n",
    "print(f\"Самая высокая стоимость: \", highest_price.round(2))\n",
    "print(f\"Самая низкая стоимость: \", lowest_price.round(2))"
   ]
  },
  {
   "cell_type": "markdown",
   "metadata": {},
   "source": [
    "**Вывод:**\n",
    "После проведения анализа видно, что в Санкт-Петербурге средняя цена квадратного метра составляет 111508.99 рублей, что является наивысшей стоимостью среди всех населенных пунктов. Самая низкая стоимость квадратного метра зарегистрирована в Выборге и составляет 57800.85 рублей. При этом, в целом, средняя стоимость жилья в Петербургской области выше, чем в пригородах города, за исключением Пушкина, где цены достаточно высокие.</b>     "
   ]
  },
  {
   "cell_type": "markdown",
   "metadata": {},
   "source": [
    "**4.5 Анализ изменения цены квадратного метра в Санкт-Петербурге для каждого километра по степени удалённости от центра**"
   ]
  },
  {
   "cell_type": "code",
   "execution_count": 53,
   "metadata": {},
   "outputs": [
    {
     "data": {
      "image/png": "[encoded data removed]",
      "text/plain": [
       "<Figure size 432x288 with 1 Axes>"
      ]
     },
     "metadata": {
      "needs_background": "light"
     },
     "output_type": "display_data"
    }
   ],
   "source": [
    "# Отфильтруем квартиры в Санкт-Петербурге\n",
    "spb_data = df[df['locality_name'] == 'Санкт-Петербург']\n",
    "# Посчитаем среднюю цену для каждого километра\n",
    "avg_price_per_km = spb_data.groupby('cityCenters_nearest_km')['last_price'].mean()\n",
    "# Построим график\n",
    "plt.plot(avg_price_per_km.index, avg_price_per_km.values)\n",
    "plt.xlabel('Расстояние до центра (км)')\n",
    "plt.ylabel('Средняя цена')\n",
    "plt.title('Зависимость стоимости объектов от расстояния до центра города')\n",
    "plt.show()"
   ]
  },
  {
   "cell_type": "markdown",
   "metadata": {},
   "source": [
    "**Вывод:**\n",
    "В Санкт-Петербурге цена квадратного метра недвижимости имеет обратную зависимость от удаленности от центра города. Чем ближе к центру, тем выше стоимость квадратного метра, и наоборот - чем дальше от центра, тем ниже цена. Это свидетельствует о том, что востребованность и престижность жилья в центральных районах города выше, что приводит к повышению цен."
   ]
  },
  {
   "cell_type": "markdown",
   "metadata": {},
   "source": [
    "## 5. Общие выводы"
   ]
  },
  {
   "cell_type": "markdown",
   "metadata": {},
   "source": [
    "Проект был выполнен в рамках анализа объявлений о продаже недвижимости. В ходе работы были выполнены следующие шаги:\n",
    "\n",
    "1. Был произведен предварительный анализ данных: открыт файл, изучены данные (выведены первые строки, метод info(), построены гистограммы и т.д.).\n",
    "\n",
    "2. Обнаружены и обработаны пропущенные значения: определены пропущенные значения, где это возможно, заполнены пропуски.\n",
    "\n",
    "3. Были изменены типы данных: произведена замена типов данных в некоторых столбцах, где это было необходимо.\n",
    "\n",
    "4. Устранены дубликаты: были обнаружены и удалены неявные дубликаты в названиях населенных пунктов.\n",
    "\n",
    "5. Были устранены редкие и выбивающиеся значения: произведена фильтрация аномалий во всех столбцах.\n",
    "\n",
    "6. Были добавлены новые параметры в таблицу: цена одного квадратного метра, день и месяц публикации объявления.\n",
    "\n",
    "7. Был произведен анализ основных параметров недвижимости: общая площадь, цена, количество комнат и другие.\n",
    "\n",
    "8. Составлены графики, показывающие зависимость цены от различных факторов: площади, количества комнат, типа этажа и даты размещения объявления.\n",
    "\n",
    "9. Проведен анализ средней цены одного квадратного метра в 10 населенных пунктах с наибольшим числом объявлений.\n",
    "\n",
    "10. Определена зависимость стоимости объектов от расстояния до центра города в Санкт-Петербурге.\n",
    "\n",
    "В результате анализа были получены следующие выводы и рекомендации:\n",
    "\n",
    "- Среднее время продажи квартиры составляет около 180 дней. Быстрыми продажами можно считать те, которые длительностью менее 45 дней, а необычно долгими - более 305 дней.\n",
    "\n",
    "- Наибольшее влияние на стоимость объекта оказывают общая площадь и количество комнат. Также тип этажа и дата размещения объявления могут влиять на цену.\n",
    "\n",
    "- Самая высокая стоимость квадратного метра наблюдается в Санкт-Петербурге, а самая низкая - в городе Выборг.\n",
    "\n",
    "- Стоимость объектов в Санкт-Петербурге зависит от расстояния до центра города: чем ближе к центру, тем выше цена.\n",
    "\n",
    "**В ходе проведенного исследования были проверены следующие гипотезы:**\n",
    "\n",
    "**- \"Есть ли зависимость между стоимостью объектов и (общей площади, жилой площади, количество комнат, типа этажа и даты размещения);**\n",
    "\n",
    "**- \"Есть ли зависимость между стоимостью объектов и расстоянием до центра города?\".**\n",
    "\n",
    "**По результатам анализа данных было выявлено, что гипотезы подтвердились:**\n",
    "\n",
    "**1) Было подтверждение того, что стоимость объектов зависит от общей площади, жилой площади, количества комнат, типа этажа и даты размещения. Это означает, что при рассмотрении объектов с большей общей площадью, жилой площадью и количеством комнат, а также с более выгодным типом этажа и более свежей датой размещения, стоимость данных объектов была выше.**\n",
    "\n",
    "**2) Было выявлено, что стоимость объектов имеет зависимость от расстояния до центра города. Это говорит о том, что объекты, расположенные ближе к центру города, имели более высокую стоимость, в сравнении с объектами, находящимися на большем расстоянии от центра.**\n",
    "    \n",
    "В ходе исследования был проведен анализ объявлений о продаже недвижимости. Были изучены основные параметры объектов и выявлены факторы, которые оказывают наибольшее влияние на стоимость. Также были выделены населенные пункты с самой высокой и низкой стоимостью квадратного метра, а также определена зависимость стоимости от расстояния до центра города. Эти данные могут быть полезны для определения цены объектов недвижимости и принятия решений о размещении объявлений."
   ]
  }
 ],
 "metadata": {
  "ExecuteTimeLog": [
   {
    "duration": 550,
    "start_time": "2023-10-24T14:05:03.003Z"
   },
   {
    "duration": 139,
    "start_time": "2023-10-24T14:05:03.557Z"
   },
   {
    "duration": 93,
    "start_time": "2023-10-24T14:05:03.698Z"
   },
   {
    "duration": 147,
    "start_time": "2023-10-24T14:05:03.795Z"
   },
   {
    "duration": 243,
    "start_time": "2023-10-24T14:05:03.948Z"
   },
   {
    "duration": 2845,
    "start_time": "2023-10-24T14:05:04.193Z"
   },
   {
    "duration": 15,
    "start_time": "2023-10-24T14:05:07.040Z"
   },
   {
    "duration": 61,
    "start_time": "2023-10-24T14:05:07.056Z"
   },
   {
    "duration": 35,
    "start_time": "2023-10-24T14:05:07.119Z"
   },
   {
    "duration": 39,
    "start_time": "2023-10-24T14:05:07.157Z"
   },
   {
    "duration": 44,
    "start_time": "2023-10-24T14:05:07.199Z"
   },
   {
    "duration": 17,
    "start_time": "2023-10-24T14:05:07.245Z"
   },
   {
    "duration": 28,
    "start_time": "2023-10-24T14:05:07.264Z"
   },
   {
    "duration": 55,
    "start_time": "2023-10-24T14:05:07.295Z"
   },
   {
    "duration": 48,
    "start_time": "2023-10-24T14:05:07.352Z"
   },
   {
    "duration": 37,
    "start_time": "2023-10-24T14:05:07.403Z"
   },
   {
    "duration": 38,
    "start_time": "2023-10-24T14:05:07.442Z"
   },
   {
    "duration": 6,
    "start_time": "2023-10-24T14:05:07.482Z"
   },
   {
    "duration": 25,
    "start_time": "2023-10-24T14:05:07.490Z"
   },
   {
    "duration": 39,
    "start_time": "2023-10-24T14:05:07.517Z"
   },
   {
    "duration": 82,
    "start_time": "2023-10-24T14:05:07.558Z"
   },
   {
    "duration": 12,
    "start_time": "2023-10-24T14:05:07.642Z"
   },
   {
    "duration": 78,
    "start_time": "2023-10-24T14:05:07.656Z"
   },
   {
    "duration": 14,
    "start_time": "2023-10-24T14:05:07.738Z"
   },
   {
    "duration": 34,
    "start_time": "2023-10-24T14:05:07.755Z"
   },
   {
    "duration": 24,
    "start_time": "2023-10-24T14:05:07.791Z"
   },
   {
    "duration": 21,
    "start_time": "2023-10-24T14:05:07.817Z"
   },
   {
    "duration": 15,
    "start_time": "2023-10-24T14:05:07.843Z"
   },
   {
    "duration": 26,
    "start_time": "2023-10-24T14:05:07.860Z"
   },
   {
    "duration": 40,
    "start_time": "2023-10-24T14:05:07.888Z"
   },
   {
    "duration": 39,
    "start_time": "2023-10-24T14:05:07.941Z"
   },
   {
    "duration": 68,
    "start_time": "2023-10-24T14:05:07.983Z"
   },
   {
    "duration": 1473,
    "start_time": "2023-10-24T14:05:08.053Z"
   },
   {
    "duration": 133,
    "start_time": "2023-10-24T14:05:09.528Z"
   },
   {
    "duration": 2681,
    "start_time": "2023-10-24T14:05:09.663Z"
   },
   {
    "duration": 217,
    "start_time": "2023-10-24T14:05:12.347Z"
   },
   {
    "duration": 497,
    "start_time": "2023-10-24T14:05:12.566Z"
   },
   {
    "duration": 8,
    "start_time": "2023-10-24T14:05:13.065Z"
   },
   {
    "duration": 74,
    "start_time": "2023-10-24T14:05:13.075Z"
   },
   {
    "duration": 1213,
    "start_time": "2023-10-24T14:05:13.151Z"
   },
   {
    "duration": 96,
    "start_time": "2023-10-24T14:05:14.366Z"
   },
   {
    "duration": 112,
    "start_time": "2023-10-24T14:05:14.464Z"
   },
   {
    "duration": 569,
    "start_time": "2023-10-24T14:05:14.579Z"
   },
   {
    "duration": 419,
    "start_time": "2023-10-24T14:06:33.996Z"
   },
   {
    "duration": 127,
    "start_time": "2023-10-24T14:06:34.417Z"
   },
   {
    "duration": 36,
    "start_time": "2023-10-24T14:06:34.546Z"
   },
   {
    "duration": 16,
    "start_time": "2023-10-24T14:06:34.584Z"
   },
   {
    "duration": 34,
    "start_time": "2023-10-24T14:06:34.602Z"
   },
   {
    "duration": 2640,
    "start_time": "2023-10-24T14:06:34.638Z"
   },
   {
    "duration": 11,
    "start_time": "2023-10-24T14:06:37.280Z"
   },
   {
    "duration": 134,
    "start_time": "2023-10-24T14:06:37.293Z"
   },
   {
    "duration": 197,
    "start_time": "2023-10-24T14:06:37.429Z"
   },
   {
    "duration": 92,
    "start_time": "2023-10-24T14:06:37.628Z"
   },
   {
    "duration": 59,
    "start_time": "2023-10-24T14:06:37.722Z"
   },
   {
    "duration": 36,
    "start_time": "2023-10-24T14:06:37.784Z"
   },
   {
    "duration": 24,
    "start_time": "2023-10-24T14:06:37.822Z"
   },
   {
    "duration": 35,
    "start_time": "2023-10-24T14:06:37.851Z"
   },
   {
    "duration": 26,
    "start_time": "2023-10-24T14:06:37.888Z"
   },
   {
    "duration": 24,
    "start_time": "2023-10-24T14:06:37.916Z"
   },
   {
    "duration": 142,
    "start_time": "2023-10-24T14:06:37.942Z"
   },
   {
    "duration": 58,
    "start_time": "2023-10-24T14:06:38.087Z"
   },
   {
    "duration": 132,
    "start_time": "2023-10-24T14:06:38.149Z"
   },
   {
    "duration": 99,
    "start_time": "2023-10-24T14:06:38.283Z"
   },
   {
    "duration": 95,
    "start_time": "2023-10-24T14:06:38.384Z"
   },
   {
    "duration": 40,
    "start_time": "2023-10-24T14:06:38.481Z"
   },
   {
    "duration": 108,
    "start_time": "2023-10-24T14:06:38.523Z"
   },
   {
    "duration": 69,
    "start_time": "2023-10-24T14:06:38.639Z"
   },
   {
    "duration": 49,
    "start_time": "2023-10-24T14:06:38.710Z"
   },
   {
    "duration": 123,
    "start_time": "2023-10-24T14:06:38.762Z"
   },
   {
    "duration": 20,
    "start_time": "2023-10-24T14:06:38.887Z"
   },
   {
    "duration": 55,
    "start_time": "2023-10-24T14:06:38.910Z"
   },
   {
    "duration": 64,
    "start_time": "2023-10-24T14:06:38.967Z"
   },
   {
    "duration": 27,
    "start_time": "2023-10-24T14:06:39.033Z"
   },
   {
    "duration": 57,
    "start_time": "2023-10-24T14:06:39.062Z"
   },
   {
    "duration": 50,
    "start_time": "2023-10-24T14:06:39.121Z"
   },
   {
    "duration": 1415,
    "start_time": "2023-10-24T14:06:39.173Z"
   },
   {
    "duration": 75,
    "start_time": "2023-10-24T14:06:40.590Z"
   },
   {
    "duration": 2129,
    "start_time": "2023-10-24T14:06:40.667Z"
   },
   {
    "duration": 182,
    "start_time": "2023-10-24T14:06:42.799Z"
   },
   {
    "duration": 335,
    "start_time": "2023-10-24T14:06:42.983Z"
   },
   {
    "duration": 10,
    "start_time": "2023-10-24T14:06:43.320Z"
   },
   {
    "duration": 123,
    "start_time": "2023-10-24T14:06:43.332Z"
   },
   {
    "duration": 1228,
    "start_time": "2023-10-24T14:06:43.457Z"
   },
   {
    "duration": 43,
    "start_time": "2023-10-24T14:06:44.689Z"
   },
   {
    "duration": 116,
    "start_time": "2023-10-24T14:06:44.734Z"
   },
   {
    "duration": 252,
    "start_time": "2023-10-24T14:06:44.852Z"
   },
   {
    "duration": 16,
    "start_time": "2023-10-24T14:11:19.189Z"
   },
   {
    "duration": 125,
    "start_time": "2023-10-24T14:11:23.157Z"
   },
   {
    "duration": 15,
    "start_time": "2023-10-24T14:14:32.590Z"
   },
   {
    "duration": 1167,
    "start_time": "2023-10-24T18:52:06.261Z"
   },
   {
    "duration": 439,
    "start_time": "2023-10-24T18:52:07.430Z"
   },
   {
    "duration": 46,
    "start_time": "2023-10-24T18:52:07.871Z"
   },
   {
    "duration": 25,
    "start_time": "2023-10-24T18:52:07.919Z"
   },
   {
    "duration": 23,
    "start_time": "2023-10-24T18:52:07.949Z"
   },
   {
    "duration": 2774,
    "start_time": "2023-10-24T18:52:07.974Z"
   },
   {
    "duration": 22,
    "start_time": "2023-10-24T18:52:10.754Z"
   },
   {
    "duration": 218,
    "start_time": "2023-10-24T18:52:10.778Z"
   },
   {
    "duration": 3,
    "start_time": "2023-10-24T18:52:10.998Z"
   },
   {
    "duration": 67,
    "start_time": "2023-10-24T18:52:11.002Z"
   },
   {
    "duration": 83,
    "start_time": "2023-10-24T18:52:11.072Z"
   },
   {
    "duration": 47,
    "start_time": "2023-10-24T18:52:11.156Z"
   },
   {
    "duration": 29,
    "start_time": "2023-10-24T18:52:11.207Z"
   },
   {
    "duration": 39,
    "start_time": "2023-10-24T18:52:11.243Z"
   },
   {
    "duration": 56,
    "start_time": "2023-10-24T18:52:11.284Z"
   },
   {
    "duration": 93,
    "start_time": "2023-10-24T18:52:11.343Z"
   },
   {
    "duration": 21,
    "start_time": "2023-10-24T18:52:11.442Z"
   },
   {
    "duration": 11,
    "start_time": "2023-10-24T18:52:11.466Z"
   },
   {
    "duration": 43,
    "start_time": "2023-10-24T18:52:11.478Z"
   },
   {
    "duration": 51,
    "start_time": "2023-10-24T18:52:11.523Z"
   },
   {
    "duration": 66,
    "start_time": "2023-10-24T18:52:11.576Z"
   },
   {
    "duration": 39,
    "start_time": "2023-10-24T18:52:11.647Z"
   },
   {
    "duration": 56,
    "start_time": "2023-10-24T18:52:11.689Z"
   },
   {
    "duration": 19,
    "start_time": "2023-10-24T18:52:11.747Z"
   },
   {
    "duration": 21,
    "start_time": "2023-10-24T18:52:11.770Z"
   },
   {
    "duration": 5,
    "start_time": "2023-10-24T18:52:11.792Z"
   },
   {
    "duration": 24,
    "start_time": "2023-10-24T18:52:11.798Z"
   },
   {
    "duration": 22,
    "start_time": "2023-10-24T18:52:11.823Z"
   },
   {
    "duration": 10,
    "start_time": "2023-10-24T18:52:11.848Z"
   },
   {
    "duration": 26,
    "start_time": "2023-10-24T18:52:11.861Z"
   },
   {
    "duration": 83,
    "start_time": "2023-10-24T18:52:11.889Z"
   },
   {
    "duration": 77,
    "start_time": "2023-10-24T18:52:11.974Z"
   },
   {
    "duration": 47,
    "start_time": "2023-10-24T18:52:12.053Z"
   },
   {
    "duration": 81,
    "start_time": "2023-10-24T18:52:12.101Z"
   },
   {
    "duration": 90,
    "start_time": "2023-10-24T18:52:12.184Z"
   },
   {
    "duration": 36,
    "start_time": "2023-10-24T18:52:12.276Z"
   },
   {
    "duration": 1380,
    "start_time": "2023-10-24T18:52:12.314Z"
   },
   {
    "duration": 1201,
    "start_time": "2023-10-24T18:52:13.696Z"
   },
   {
    "duration": 98,
    "start_time": "2023-10-24T18:52:14.899Z"
   },
   {
    "duration": 2298,
    "start_time": "2023-10-24T18:52:15.002Z"
   },
   {
    "duration": 182,
    "start_time": "2023-10-24T18:52:17.302Z"
   },
   {
    "duration": 1120,
    "start_time": "2023-10-24T18:52:17.487Z"
   },
   {
    "duration": 843,
    "start_time": "2023-10-24T18:52:18.609Z"
   },
   {
    "duration": 775,
    "start_time": "2023-10-24T18:52:19.460Z"
   },
   {
    "duration": 970,
    "start_time": "2023-10-24T18:52:20.238Z"
   },
   {
    "duration": 500,
    "start_time": "2023-10-24T18:52:21.209Z"
   },
   {
    "duration": 2186,
    "start_time": "2023-10-24T18:52:21.711Z"
   },
   {
    "duration": 1366,
    "start_time": "2023-10-24T18:52:23.899Z"
   },
   {
    "duration": 16,
    "start_time": "2023-10-24T18:52:25.269Z"
   },
   {
    "duration": 662,
    "start_time": "2023-10-24T18:52:25.287Z"
   },
   {
    "duration": 132,
    "start_time": "2023-10-24T18:52:25.951Z"
   },
   {
    "duration": 68,
    "start_time": "2023-10-24T18:52:26.085Z"
   },
   {
    "duration": 216,
    "start_time": "2023-10-24T18:52:26.157Z"
   }
  ],
  "kernelspec": {
   "display_name": "Python 3 (ipykernel)",
   "language": "python",
   "name": "python3"
  },
  "language_info": {
   "codemirror_mode": {
    "name": "ipython",
    "version": 3
   },
   "file_extension": ".py",
   "mimetype": "text/x-python",
   "name": "python",
   "nbconvert_exporter": "python",
   "pygments_lexer": "ipython3",
   "version": "3.9.5"
  },
  "toc": {
   "base_numbering": 1,
   "nav_menu": {},
   "number_sections": true,
   "sideBar": true,
   "skip_h1_title": true,
   "title_cell": "Table of Contents",
   "title_sidebar": "Contents",
   "toc_cell": false,
   "toc_position": {},
   "toc_section_display": true,
   "toc_window_display": true
  }
 },
 "nbformat": 4,
 "nbformat_minor": 4
}
