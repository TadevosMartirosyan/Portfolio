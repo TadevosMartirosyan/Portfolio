{
 "cells": [
  {
   "cell_type": "code",
   "execution_count": 1,
   "id": "29ad188f",
   "metadata": {},
   "outputs": [],
   "source": [
    "# Импортируем все необходимые библиотеки\n",
    "import pandas as pd\n",
    "import matplotlib.pyplot as plt\n",
    "import numpy as np\n",
    "from scipy import stats as st\n",
    "from scipy.stats import ttest_ind"
   ]
  },
  {
   "cell_type": "markdown",
   "id": "68f11c5f",
   "metadata": {},
   "source": [
    "## 1. Загрузка данных"
   ]
  },
  {
   "cell_type": "markdown",
   "id": "62527be9",
   "metadata": {},
   "source": [
    "**1.1 Прочитаем файлs \"users_go.csv\", \"rides_go.csv\", \"subscriptions_go.csv\" и сохраним их в переменные**"
   ]
  },
  {
   "cell_type": "code",
   "execution_count": 2,
   "id": "fb88d4fd",
   "metadata": {},
   "outputs": [],
   "source": [
    "try:\n",
    "    users_df = pd.read_csv('/datasets/users_go.csv')\n",
    "    rides_df = pd.read_csv('/datasets/rides_go.csv')\n",
    "    subscriptions_df = pd.read_csv('/datasets/subscriptions_go.csv')\n",
    "except FileNotFoundError:\n",
    "    users_df = pd.read_csv(r\"C:\\Users\\Тадевос\\Tadevos\\USER\\Desktop\\Курсы\\Датасеты к проектам\\Проект 4 «Статистический анализ данных»\\users_go.csv\")\n",
    "    rides_df = pd.read_csv(r\"C:\\Users\\Тадевос\\Tadevos\\USER\\Desktop\\Курсы\\Датасеты к проектам\\Проект 4 «Статистический анализ данных»\\rides_go.csv\")\n",
    "    subscriptions_df = pd.read_csv(r\"C:\\Users\\Тадевос\\Tadevos\\USER\\Desktop\\Курсы\\Датасеты к проектам\\Проект 4 «Статистический анализ данных»\\subscriptions_go.csv\")"
   ]
  },
  {
   "cell_type": "markdown",
   "id": "0edae21d",
   "metadata": {},
   "source": [
    "**1.2 Выведем первые строки каждого набора данных и изучим общую информацию о каждом датафрейме**"
   ]
  },
  {
   "cell_type": "code",
   "execution_count": 3,
   "id": "544c8fba",
   "metadata": {},
   "outputs": [
    {
     "data": {
      "text/html": [
       "<div>\n",
       "<style scoped>\n",
       "    .dataframe tbody tr th:only-of-type {\n",
       "        vertical-align: middle;\n",
       "    }\n",
       "\n",
       "    .dataframe tbody tr th {\n",
       "        vertical-align: top;\n",
       "    }\n",
       "\n",
       "    .dataframe thead th {\n",
       "        text-align: right;\n",
       "    }\n",
       "</style>\n",
       "<table border=\"1\" class=\"dataframe\">\n",
       "  <thead>\n",
       "    <tr style=\"text-align: right;\">\n",
       "      <th></th>\n",
       "      <th>user_id</th>\n",
       "      <th>name</th>\n",
       "      <th>age</th>\n",
       "      <th>city</th>\n",
       "      <th>subscription_type</th>\n",
       "    </tr>\n",
       "  </thead>\n",
       "  <tbody>\n",
       "    <tr>\n",
       "      <th>0</th>\n",
       "      <td>1</td>\n",
       "      <td>Кира</td>\n",
       "      <td>22</td>\n",
       "      <td>Тюмень</td>\n",
       "      <td>ultra</td>\n",
       "    </tr>\n",
       "    <tr>\n",
       "      <th>1</th>\n",
       "      <td>2</td>\n",
       "      <td>Станислав</td>\n",
       "      <td>31</td>\n",
       "      <td>Омск</td>\n",
       "      <td>ultra</td>\n",
       "    </tr>\n",
       "    <tr>\n",
       "      <th>2</th>\n",
       "      <td>3</td>\n",
       "      <td>Алексей</td>\n",
       "      <td>20</td>\n",
       "      <td>Москва</td>\n",
       "      <td>ultra</td>\n",
       "    </tr>\n",
       "    <tr>\n",
       "      <th>3</th>\n",
       "      <td>4</td>\n",
       "      <td>Константин</td>\n",
       "      <td>26</td>\n",
       "      <td>Ростов-на-Дону</td>\n",
       "      <td>ultra</td>\n",
       "    </tr>\n",
       "    <tr>\n",
       "      <th>4</th>\n",
       "      <td>5</td>\n",
       "      <td>Адель</td>\n",
       "      <td>28</td>\n",
       "      <td>Омск</td>\n",
       "      <td>ultra</td>\n",
       "    </tr>\n",
       "  </tbody>\n",
       "</table>\n",
       "</div>"
      ],
      "text/plain": [
       "   user_id        name  age            city subscription_type\n",
       "0        1        Кира   22          Тюмень             ultra\n",
       "1        2   Станислав   31            Омск             ultra\n",
       "2        3     Алексей   20          Москва             ultra\n",
       "3        4  Константин   26  Ростов-на-Дону             ultra\n",
       "4        5       Адель   28            Омск             ultra"
      ]
     },
     "execution_count": 3,
     "metadata": {},
     "output_type": "execute_result"
    }
   ],
   "source": [
    "# Выводим первые 5 строк датафрейма users_df\n",
    "users_df.head()"
   ]
  },
  {
   "cell_type": "code",
   "execution_count": 4,
   "id": "e8769a56",
   "metadata": {},
   "outputs": [
    {
     "name": "stdout",
     "output_type": "stream",
     "text": [
      "<class 'pandas.core.frame.DataFrame'>\n",
      "RangeIndex: 1565 entries, 0 to 1564\n",
      "Data columns (total 5 columns):\n",
      " #   Column             Non-Null Count  Dtype \n",
      "---  ------             --------------  ----- \n",
      " 0   user_id            1565 non-null   int64 \n",
      " 1   name               1565 non-null   object\n",
      " 2   age                1565 non-null   int64 \n",
      " 3   city               1565 non-null   object\n",
      " 4   subscription_type  1565 non-null   object\n",
      "dtypes: int64(2), object(3)\n",
      "memory usage: 61.3+ KB\n"
     ]
    }
   ],
   "source": [
    "# Выводим общую информацию датафрейма users_df\n",
    "users_df.info()"
   ]
  },
  {
   "cell_type": "code",
   "execution_count": 5,
   "id": "fa0d7d78",
   "metadata": {},
   "outputs": [
    {
     "data": {
      "text/html": [
       "<div>\n",
       "<style scoped>\n",
       "    .dataframe tbody tr th:only-of-type {\n",
       "        vertical-align: middle;\n",
       "    }\n",
       "\n",
       "    .dataframe tbody tr th {\n",
       "        vertical-align: top;\n",
       "    }\n",
       "\n",
       "    .dataframe thead th {\n",
       "        text-align: right;\n",
       "    }\n",
       "</style>\n",
       "<table border=\"1\" class=\"dataframe\">\n",
       "  <thead>\n",
       "    <tr style=\"text-align: right;\">\n",
       "      <th></th>\n",
       "      <th>user_id</th>\n",
       "      <th>distance</th>\n",
       "      <th>duration</th>\n",
       "      <th>date</th>\n",
       "    </tr>\n",
       "  </thead>\n",
       "  <tbody>\n",
       "    <tr>\n",
       "      <th>0</th>\n",
       "      <td>1</td>\n",
       "      <td>4409.919140</td>\n",
       "      <td>25.599769</td>\n",
       "      <td>2021-01-01</td>\n",
       "    </tr>\n",
       "    <tr>\n",
       "      <th>1</th>\n",
       "      <td>1</td>\n",
       "      <td>2617.592153</td>\n",
       "      <td>15.816871</td>\n",
       "      <td>2021-01-18</td>\n",
       "    </tr>\n",
       "    <tr>\n",
       "      <th>2</th>\n",
       "      <td>1</td>\n",
       "      <td>754.159807</td>\n",
       "      <td>6.232113</td>\n",
       "      <td>2021-04-20</td>\n",
       "    </tr>\n",
       "    <tr>\n",
       "      <th>3</th>\n",
       "      <td>1</td>\n",
       "      <td>2694.783254</td>\n",
       "      <td>18.511000</td>\n",
       "      <td>2021-08-11</td>\n",
       "    </tr>\n",
       "    <tr>\n",
       "      <th>4</th>\n",
       "      <td>1</td>\n",
       "      <td>4028.687306</td>\n",
       "      <td>26.265803</td>\n",
       "      <td>2021-08-28</td>\n",
       "    </tr>\n",
       "  </tbody>\n",
       "</table>\n",
       "</div>"
      ],
      "text/plain": [
       "   user_id     distance   duration        date\n",
       "0        1  4409.919140  25.599769  2021-01-01\n",
       "1        1  2617.592153  15.816871  2021-01-18\n",
       "2        1   754.159807   6.232113  2021-04-20\n",
       "3        1  2694.783254  18.511000  2021-08-11\n",
       "4        1  4028.687306  26.265803  2021-08-28"
      ]
     },
     "execution_count": 5,
     "metadata": {},
     "output_type": "execute_result"
    }
   ],
   "source": [
    "# Выводим первые 5 строк датафрейма rides_df\n",
    "rides_df.head()"
   ]
  },
  {
   "cell_type": "code",
   "execution_count": 6,
   "id": "392d3833",
   "metadata": {},
   "outputs": [
    {
     "name": "stdout",
     "output_type": "stream",
     "text": [
      "<class 'pandas.core.frame.DataFrame'>\n",
      "RangeIndex: 18068 entries, 0 to 18067\n",
      "Data columns (total 4 columns):\n",
      " #   Column    Non-Null Count  Dtype  \n",
      "---  ------    --------------  -----  \n",
      " 0   user_id   18068 non-null  int64  \n",
      " 1   distance  18068 non-null  float64\n",
      " 2   duration  18068 non-null  float64\n",
      " 3   date      18068 non-null  object \n",
      "dtypes: float64(2), int64(1), object(1)\n",
      "memory usage: 564.8+ KB\n"
     ]
    }
   ],
   "source": [
    "# Выводим общую информацию датафрейма rides_df\n",
    "rides_df.info()"
   ]
  },
  {
   "cell_type": "code",
   "execution_count": 7,
   "id": "228e3728",
   "metadata": {},
   "outputs": [
    {
     "data": {
      "text/html": [
       "<div>\n",
       "<style scoped>\n",
       "    .dataframe tbody tr th:only-of-type {\n",
       "        vertical-align: middle;\n",
       "    }\n",
       "\n",
       "    .dataframe tbody tr th {\n",
       "        vertical-align: top;\n",
       "    }\n",
       "\n",
       "    .dataframe thead th {\n",
       "        text-align: right;\n",
       "    }\n",
       "</style>\n",
       "<table border=\"1\" class=\"dataframe\">\n",
       "  <thead>\n",
       "    <tr style=\"text-align: right;\">\n",
       "      <th></th>\n",
       "      <th>subscription_type</th>\n",
       "      <th>minute_price</th>\n",
       "      <th>start_ride_price</th>\n",
       "      <th>subscription_fee</th>\n",
       "    </tr>\n",
       "  </thead>\n",
       "  <tbody>\n",
       "    <tr>\n",
       "      <th>0</th>\n",
       "      <td>free</td>\n",
       "      <td>8</td>\n",
       "      <td>50</td>\n",
       "      <td>0</td>\n",
       "    </tr>\n",
       "    <tr>\n",
       "      <th>1</th>\n",
       "      <td>ultra</td>\n",
       "      <td>6</td>\n",
       "      <td>0</td>\n",
       "      <td>199</td>\n",
       "    </tr>\n",
       "  </tbody>\n",
       "</table>\n",
       "</div>"
      ],
      "text/plain": [
       "  subscription_type  minute_price  start_ride_price  subscription_fee\n",
       "0              free             8                50                 0\n",
       "1             ultra             6                 0               199"
      ]
     },
     "execution_count": 7,
     "metadata": {},
     "output_type": "execute_result"
    }
   ],
   "source": [
    "# Выводим первые 5 строк датафрейма subscriptions_df\n",
    "subscriptions_df.head()"
   ]
  },
  {
   "cell_type": "code",
   "execution_count": 8,
   "id": "22c327bd",
   "metadata": {},
   "outputs": [
    {
     "name": "stdout",
     "output_type": "stream",
     "text": [
      "<class 'pandas.core.frame.DataFrame'>\n",
      "RangeIndex: 2 entries, 0 to 1\n",
      "Data columns (total 4 columns):\n",
      " #   Column             Non-Null Count  Dtype \n",
      "---  ------             --------------  ----- \n",
      " 0   subscription_type  2 non-null      object\n",
      " 1   minute_price       2 non-null      int64 \n",
      " 2   start_ride_price   2 non-null      int64 \n",
      " 3   subscription_fee   2 non-null      int64 \n",
      "dtypes: int64(3), object(1)\n",
      "memory usage: 192.0+ bytes\n"
     ]
    }
   ],
   "source": [
    "# Выводим общую информацию датафрейма subscriptions_df\n",
    "subscriptions_df.info()"
   ]
  },
  {
   "cell_type": "markdown",
   "id": "9fc054f2",
   "metadata": {},
   "source": [
    "**Вывод по первому шагу:**\n",
    "- в датафрейме *usres_df* хранится информация о пользователях сервиса GoFast: уникальный идентификатор пользователя, имя пользователя, возраст, город, тип подписки (free, ultra).\n",
    "\n",
    "- в датафрейме *rides_df* хранится информация о поездках в сервисе GoFast: уникальный идентификатор пользователя, расстояние, которое пользователь проехал в текущей сессии (в метрах), продолжительность сессии (в минутах) — время с того момента, как пользователь нажал кнопку «Начать поездку» до момента, как он нажал кнопку «Завершить поездку», дата совершения поездки.\n",
    "\n",
    "- в датафрейме *subscriptions_df* хранится информация о подписках сервисе GoFast: тип подписки, стоимость одной минуты поездки по данной подписке, стоимость начала поездки, стоимость ежемесячного платежа."
   ]
  },
  {
   "cell_type": "markdown",
   "id": "892be2cb",
   "metadata": {},
   "source": [
    "## 2. Предобработка данных"
   ]
  },
  {
   "cell_type": "markdown",
   "id": "e735c8ad",
   "metadata": {},
   "source": [
    "**2.1 Приведём столбец *date* к типу даты pandas**"
   ]
  },
  {
   "cell_type": "code",
   "execution_count": 9,
   "id": "93184faf",
   "metadata": {},
   "outputs": [
    {
     "data": {
      "text/plain": [
       "user_id       int64\n",
       "distance    float64\n",
       "duration    float64\n",
       "date         object\n",
       "dtype: object"
      ]
     },
     "execution_count": 9,
     "metadata": {},
     "output_type": "execute_result"
    }
   ],
   "source": [
    "# Рассмотрим типы данных в датафрейме rides_df\n",
    "rides_df.dtypes"
   ]
  },
  {
   "cell_type": "code",
   "execution_count": 10,
   "id": "d0a27266",
   "metadata": {},
   "outputs": [],
   "source": [
    "# Изменим тип данных столбца date на datetime64[ns]\n",
    "rides_df[\"date\"] = pd.to_datetime(rides_df[\"date\"], format='%Y-%m-%d %H:%M')"
   ]
  },
  {
   "cell_type": "code",
   "execution_count": 11,
   "id": "a47f3830",
   "metadata": {},
   "outputs": [
    {
     "data": {
      "text/plain": [
       "user_id              int64\n",
       "distance           float64\n",
       "duration           float64\n",
       "date        datetime64[ns]\n",
       "dtype: object"
      ]
     },
     "execution_count": 11,
     "metadata": {},
     "output_type": "execute_result"
    }
   ],
   "source": [
    "# Проверим изменился тип данных для столбца date\n",
    "rides_df.dtypes"
   ]
  },
  {
   "cell_type": "markdown",
   "id": "0ec7e2b7",
   "metadata": {},
   "source": [
    "**2.2 Создадим новый столбец с номером месяца на основе столбца date**"
   ]
  },
  {
   "cell_type": "code",
   "execution_count": 12,
   "id": "b86434d1",
   "metadata": {},
   "outputs": [],
   "source": [
    "# Извлекаем номер месяца и создаём новый столбец month\n",
    "rides_df[\"month\"] = rides_df[\"date\"].dt.month"
   ]
  },
  {
   "cell_type": "code",
   "execution_count": 13,
   "id": "925a2dc2",
   "metadata": {},
   "outputs": [
    {
     "data": {
      "text/html": [
       "<div>\n",
       "<style scoped>\n",
       "    .dataframe tbody tr th:only-of-type {\n",
       "        vertical-align: middle;\n",
       "    }\n",
       "\n",
       "    .dataframe tbody tr th {\n",
       "        vertical-align: top;\n",
       "    }\n",
       "\n",
       "    .dataframe thead th {\n",
       "        text-align: right;\n",
       "    }\n",
       "</style>\n",
       "<table border=\"1\" class=\"dataframe\">\n",
       "  <thead>\n",
       "    <tr style=\"text-align: right;\">\n",
       "      <th></th>\n",
       "      <th>user_id</th>\n",
       "      <th>distance</th>\n",
       "      <th>duration</th>\n",
       "      <th>date</th>\n",
       "      <th>month</th>\n",
       "    </tr>\n",
       "  </thead>\n",
       "  <tbody>\n",
       "    <tr>\n",
       "      <th>0</th>\n",
       "      <td>1</td>\n",
       "      <td>4409.919140</td>\n",
       "      <td>25.599769</td>\n",
       "      <td>2021-01-01</td>\n",
       "      <td>1</td>\n",
       "    </tr>\n",
       "    <tr>\n",
       "      <th>1</th>\n",
       "      <td>1</td>\n",
       "      <td>2617.592153</td>\n",
       "      <td>15.816871</td>\n",
       "      <td>2021-01-18</td>\n",
       "      <td>1</td>\n",
       "    </tr>\n",
       "    <tr>\n",
       "      <th>2</th>\n",
       "      <td>1</td>\n",
       "      <td>754.159807</td>\n",
       "      <td>6.232113</td>\n",
       "      <td>2021-04-20</td>\n",
       "      <td>4</td>\n",
       "    </tr>\n",
       "    <tr>\n",
       "      <th>3</th>\n",
       "      <td>1</td>\n",
       "      <td>2694.783254</td>\n",
       "      <td>18.511000</td>\n",
       "      <td>2021-08-11</td>\n",
       "      <td>8</td>\n",
       "    </tr>\n",
       "    <tr>\n",
       "      <th>4</th>\n",
       "      <td>1</td>\n",
       "      <td>4028.687306</td>\n",
       "      <td>26.265803</td>\n",
       "      <td>2021-08-28</td>\n",
       "      <td>8</td>\n",
       "    </tr>\n",
       "    <tr>\n",
       "      <th>5</th>\n",
       "      <td>1</td>\n",
       "      <td>2770.890808</td>\n",
       "      <td>16.650138</td>\n",
       "      <td>2021-10-09</td>\n",
       "      <td>10</td>\n",
       "    </tr>\n",
       "    <tr>\n",
       "      <th>6</th>\n",
       "      <td>1</td>\n",
       "      <td>3039.020292</td>\n",
       "      <td>14.927879</td>\n",
       "      <td>2021-10-19</td>\n",
       "      <td>10</td>\n",
       "    </tr>\n",
       "    <tr>\n",
       "      <th>7</th>\n",
       "      <td>1</td>\n",
       "      <td>2842.118050</td>\n",
       "      <td>23.117468</td>\n",
       "      <td>2021-11-06</td>\n",
       "      <td>11</td>\n",
       "    </tr>\n",
       "    <tr>\n",
       "      <th>8</th>\n",
       "      <td>1</td>\n",
       "      <td>3412.690668</td>\n",
       "      <td>15.238072</td>\n",
       "      <td>2021-11-14</td>\n",
       "      <td>11</td>\n",
       "    </tr>\n",
       "    <tr>\n",
       "      <th>9</th>\n",
       "      <td>1</td>\n",
       "      <td>748.690645</td>\n",
       "      <td>15.041884</td>\n",
       "      <td>2021-11-22</td>\n",
       "      <td>11</td>\n",
       "    </tr>\n",
       "  </tbody>\n",
       "</table>\n",
       "</div>"
      ],
      "text/plain": [
       "   user_id     distance   duration       date  month\n",
       "0        1  4409.919140  25.599769 2021-01-01      1\n",
       "1        1  2617.592153  15.816871 2021-01-18      1\n",
       "2        1   754.159807   6.232113 2021-04-20      4\n",
       "3        1  2694.783254  18.511000 2021-08-11      8\n",
       "4        1  4028.687306  26.265803 2021-08-28      8\n",
       "5        1  2770.890808  16.650138 2021-10-09     10\n",
       "6        1  3039.020292  14.927879 2021-10-19     10\n",
       "7        1  2842.118050  23.117468 2021-11-06     11\n",
       "8        1  3412.690668  15.238072 2021-11-14     11\n",
       "9        1   748.690645  15.041884 2021-11-22     11"
      ]
     },
     "execution_count": 13,
     "metadata": {},
     "output_type": "execute_result"
    }
   ],
   "source": [
    "# Проверим на совпадение месяцев столбца month \n",
    "rides_df.head(10)"
   ]
  },
  {
   "cell_type": "code",
   "execution_count": 14,
   "id": "32ca4bd0",
   "metadata": {},
   "outputs": [
    {
     "name": "stdout",
     "output_type": "stream",
     "text": [
      "Период данных:\n",
      "От: 2021-01-01 00:00:00\n",
      "До: 2021-12-30 00:00:00\n"
     ]
    }
   ],
   "source": [
    "min_date = rides_df[\"date\"].min()\n",
    "max_date = rides_df[\"date\"].max()\n",
    "\n",
    "# Выведем результат\n",
    "print('Период данных:')\n",
    "print(f\"От: {min_date}\")\n",
    "print(f\"До: {max_date}\")"
   ]
  },
  {
   "cell_type": "markdown",
   "id": "17122c2d",
   "metadata": {},
   "source": [
    "**2.3 Проверим наличие пропущенных значений и дубликатов в датафреймах**"
   ]
  },
  {
   "cell_type": "code",
   "execution_count": 15,
   "id": "2f61a77b",
   "metadata": {},
   "outputs": [
    {
     "data": {
      "text/html": [
       "<style  type=\"text/css\" >\n",
       "#T_47a03_row0_col0,#T_47a03_row1_col0,#T_47a03_row2_col0,#T_47a03_row3_col0,#T_47a03_row4_col0{\n",
       "            background-color:  #3b4cc0;\n",
       "            color:  #f1f1f1;\n",
       "        }</style><table id=\"T_47a03_\" ><thead>    <tr>        <th class=\"blank level0\" ></th>        <th class=\"col_heading level0 col0\" >0</th>    </tr></thead><tbody>\n",
       "                <tr>\n",
       "                        <th id=\"T_47a03_level0_row0\" class=\"row_heading level0 row0\" >user_id</th>\n",
       "                        <td id=\"T_47a03_row0_col0\" class=\"data row0 col0\" >0.000000</td>\n",
       "            </tr>\n",
       "            <tr>\n",
       "                        <th id=\"T_47a03_level0_row1\" class=\"row_heading level0 row1\" >name</th>\n",
       "                        <td id=\"T_47a03_row1_col0\" class=\"data row1 col0\" >0.000000</td>\n",
       "            </tr>\n",
       "            <tr>\n",
       "                        <th id=\"T_47a03_level0_row2\" class=\"row_heading level0 row2\" >age</th>\n",
       "                        <td id=\"T_47a03_row2_col0\" class=\"data row2 col0\" >0.000000</td>\n",
       "            </tr>\n",
       "            <tr>\n",
       "                        <th id=\"T_47a03_level0_row3\" class=\"row_heading level0 row3\" >city</th>\n",
       "                        <td id=\"T_47a03_row3_col0\" class=\"data row3 col0\" >0.000000</td>\n",
       "            </tr>\n",
       "            <tr>\n",
       "                        <th id=\"T_47a03_level0_row4\" class=\"row_heading level0 row4\" >subscription_type</th>\n",
       "                        <td id=\"T_47a03_row4_col0\" class=\"data row4 col0\" >0.000000</td>\n",
       "            </tr>\n",
       "    </tbody></table>"
      ],
      "text/plain": [
       "<pandas.io.formats.style.Styler at 0x20c331045e0>"
      ]
     },
     "execution_count": 15,
     "metadata": {},
     "output_type": "execute_result"
    }
   ],
   "source": [
    "# Проверим количество пропусков в % датафрейма users_df\n",
    "pd.DataFrame(round(users_df.isna().mean()*100,)).style.background_gradient('coolwarm')"
   ]
  },
  {
   "cell_type": "code",
   "execution_count": 16,
   "id": "d42d6def",
   "metadata": {},
   "outputs": [
    {
     "data": {
      "text/html": [
       "<style  type=\"text/css\" >\n",
       "#T_e3c90_row0_col0,#T_e3c90_row1_col0,#T_e3c90_row2_col0,#T_e3c90_row3_col0,#T_e3c90_row4_col0{\n",
       "            background-color:  #3b4cc0;\n",
       "            color:  #f1f1f1;\n",
       "        }</style><table id=\"T_e3c90_\" ><thead>    <tr>        <th class=\"blank level0\" ></th>        <th class=\"col_heading level0 col0\" >0</th>    </tr></thead><tbody>\n",
       "                <tr>\n",
       "                        <th id=\"T_e3c90_level0_row0\" class=\"row_heading level0 row0\" >user_id</th>\n",
       "                        <td id=\"T_e3c90_row0_col0\" class=\"data row0 col0\" >0.000000</td>\n",
       "            </tr>\n",
       "            <tr>\n",
       "                        <th id=\"T_e3c90_level0_row1\" class=\"row_heading level0 row1\" >distance</th>\n",
       "                        <td id=\"T_e3c90_row1_col0\" class=\"data row1 col0\" >0.000000</td>\n",
       "            </tr>\n",
       "            <tr>\n",
       "                        <th id=\"T_e3c90_level0_row2\" class=\"row_heading level0 row2\" >duration</th>\n",
       "                        <td id=\"T_e3c90_row2_col0\" class=\"data row2 col0\" >0.000000</td>\n",
       "            </tr>\n",
       "            <tr>\n",
       "                        <th id=\"T_e3c90_level0_row3\" class=\"row_heading level0 row3\" >date</th>\n",
       "                        <td id=\"T_e3c90_row3_col0\" class=\"data row3 col0\" >0.000000</td>\n",
       "            </tr>\n",
       "            <tr>\n",
       "                        <th id=\"T_e3c90_level0_row4\" class=\"row_heading level0 row4\" >month</th>\n",
       "                        <td id=\"T_e3c90_row4_col0\" class=\"data row4 col0\" >0.000000</td>\n",
       "            </tr>\n",
       "    </tbody></table>"
      ],
      "text/plain": [
       "<pandas.io.formats.style.Styler at 0x20c33104b20>"
      ]
     },
     "execution_count": 16,
     "metadata": {},
     "output_type": "execute_result"
    }
   ],
   "source": [
    "# Проверим количество пропусков в % датафрейма rides_df\n",
    "pd.DataFrame(round(rides_df.isna().mean()*100,)).style.background_gradient('coolwarm')"
   ]
  },
  {
   "cell_type": "code",
   "execution_count": 17,
   "id": "88a065dc",
   "metadata": {},
   "outputs": [
    {
     "data": {
      "text/html": [
       "<style  type=\"text/css\" >\n",
       "#T_35add_row0_col0,#T_35add_row1_col0,#T_35add_row2_col0,#T_35add_row3_col0{\n",
       "            background-color:  #3b4cc0;\n",
       "            color:  #f1f1f1;\n",
       "        }</style><table id=\"T_35add_\" ><thead>    <tr>        <th class=\"blank level0\" ></th>        <th class=\"col_heading level0 col0\" >0</th>    </tr></thead><tbody>\n",
       "                <tr>\n",
       "                        <th id=\"T_35add_level0_row0\" class=\"row_heading level0 row0\" >subscription_type</th>\n",
       "                        <td id=\"T_35add_row0_col0\" class=\"data row0 col0\" >0.000000</td>\n",
       "            </tr>\n",
       "            <tr>\n",
       "                        <th id=\"T_35add_level0_row1\" class=\"row_heading level0 row1\" >minute_price</th>\n",
       "                        <td id=\"T_35add_row1_col0\" class=\"data row1 col0\" >0.000000</td>\n",
       "            </tr>\n",
       "            <tr>\n",
       "                        <th id=\"T_35add_level0_row2\" class=\"row_heading level0 row2\" >start_ride_price</th>\n",
       "                        <td id=\"T_35add_row2_col0\" class=\"data row2 col0\" >0.000000</td>\n",
       "            </tr>\n",
       "            <tr>\n",
       "                        <th id=\"T_35add_level0_row3\" class=\"row_heading level0 row3\" >subscription_fee</th>\n",
       "                        <td id=\"T_35add_row3_col0\" class=\"data row3 col0\" >0.000000</td>\n",
       "            </tr>\n",
       "    </tbody></table>"
      ],
      "text/plain": [
       "<pandas.io.formats.style.Styler at 0x20c330e8cd0>"
      ]
     },
     "execution_count": 17,
     "metadata": {},
     "output_type": "execute_result"
    }
   ],
   "source": [
    "# Проверим количество пропусков в % датафрейма subscriptions_df\n",
    "pd.DataFrame(round(subscriptions_df.isna().mean()*100,)).style.background_gradient('coolwarm')"
   ]
  },
  {
   "cell_type": "code",
   "execution_count": 18,
   "id": "ecd1f3af",
   "metadata": {},
   "outputs": [
    {
     "data": {
      "text/plain": [
       "(31, 0, 0)"
      ]
     },
     "execution_count": 18,
     "metadata": {},
     "output_type": "execute_result"
    }
   ],
   "source": [
    "# Выводим на экран количество строк-дубликатов в каждом из датафреймов\n",
    "users_df.duplicated().sum(), rides_df.duplicated().sum(), subscriptions_df.duplicated().sum()"
   ]
  },
  {
   "cell_type": "code",
   "execution_count": 19,
   "id": "32b997e7",
   "metadata": {},
   "outputs": [],
   "source": [
    "# Удаляем явные дубликаты датафрейма users_df\n",
    "users_df = users_df.drop_duplicates()"
   ]
  },
  {
   "cell_type": "code",
   "execution_count": 20,
   "id": "bc1da0ee",
   "metadata": {},
   "outputs": [
    {
     "data": {
      "text/plain": [
       "(0, 0, 0)"
      ]
     },
     "execution_count": 20,
     "metadata": {},
     "output_type": "execute_result"
    }
   ],
   "source": [
    "# Убедимся что избавились от явных дубликатов\n",
    "users_df.duplicated().sum(), rides_df.duplicated().sum(), subscriptions_df.duplicated().sum()"
   ]
  },
  {
   "cell_type": "markdown",
   "id": "e9c4a387",
   "metadata": {},
   "source": [
    "**Вывод по второму шагу:**\n",
    "\n",
    "Во втором шаге были выполнены следующие задачи: \n",
    "- изменения типа данных столбца *date* из типа object на тип datetime64[ns];\n",
    "- создание нового столбца *month*, в котором хранится информация месяца на основе столбца *date*;\n",
    "- проверка датафреймов на наличие прорпущенных значений - 0, дубликатов - 31 в датафрейме users_df и удаление дубликатов."
   ]
  },
  {
   "cell_type": "markdown",
   "id": "a85576ca",
   "metadata": {},
   "source": [
    "## 3. Исследовательский анализ данных"
   ]
  },
  {
   "cell_type": "markdown",
   "id": "82467ec9",
   "metadata": {},
   "source": [
    "**3.1 Опишем и визуализируем частоту встречаемости городов**"
   ]
  },
  {
   "cell_type": "code",
   "execution_count": 21,
   "id": "74ee6194",
   "metadata": {},
   "outputs": [
    {
     "data": {
      "image/png": "[encoded data removed]",
      "text/plain": [
       "<Figure size 1440x720 with 1 Axes>"
      ]
     },
     "metadata": {
      "needs_background": "light"
     },
     "output_type": "display_data"
    }
   ],
   "source": [
    "# Построим столбчатую диаграмму по убыванию, отображающую город пользователя\n",
    "counts = users_df[\"city\"].value_counts()\n",
    "counts.plot(kind=\"bar\", grid=True, edgecolor='black', figsize=(20, 10))\n",
    "plt.xticks(rotation=0)\n",
    "plt.title(\"Город пользователя\", fontsize=14)\n",
    "plt.xlabel(\"города\", fontsize=14)\n",
    "plt.ylabel(\"количество пользователей в городе\", fontsize=14)\n",
    "plt.show()"
   ]
  },
  {
   "cell_type": "markdown",
   "id": "90d8c6c5",
   "metadata": {},
   "source": [
    "**Опишем город пользователя:**\n",
    "\n",
    "Данные отображают количество пользователей в каждом из перечисленных городов. Пятигорск имеет 219 пользователей, Екатеринбург - 204 пользователей, Ростов-на-Дону - 198 пользователей, Краснодар - 193 пользователей, Сочи - 189 пользователей, Омск - 183 пользователей, Тюмень - 180 пользователей, Москва - 168 пользователей."
   ]
  },
  {
   "cell_type": "markdown",
   "id": "072dfb28",
   "metadata": {},
   "source": [
    "**3.2 Опишем и визуализируем соотношение пользователей с подпиской и без подписки**"
   ]
  },
  {
   "cell_type": "code",
   "execution_count": 22,
   "id": "8e56d564",
   "metadata": {},
   "outputs": [
    {
     "data": {
      "image/png": "[encoded data removed]",
      "text/plain": [
       "<Figure size 432x288 with 1 Axes>"
      ]
     },
     "metadata": {},
     "output_type": "display_data"
    }
   ],
   "source": [
    "subscription_counts = users_df[\"subscription_type\"].value_counts()\n",
    "subscription_percentages = subscription_counts / subscription_counts.sum() * 100\n",
    "\n",
    "plt.pie(subscription_percentages, labels=subscription_percentages.keys(), autopct='%1.1f%%')\n",
    "plt.axis('equal')\n",
    "plt.legend(loc='best')\n",
    "plt.title('Соотношение пользователей с подпиской и без')\n",
    "plt.show()"
   ]
  },
  {
   "cell_type": "markdown",
   "id": "bb00bcff",
   "metadata": {},
   "source": [
    "**Опишем тип подписки в датафрейме users_df, который представлен двумя значениями: \"free\" и \"ultra\":**\n",
    "\n",
    "Количество пользователей с бесплатной подпиской составляет 835 человек, тогда как количество пользователей с подпиской \"ultra\" равно 699."
   ]
  },
  {
   "cell_type": "markdown",
   "id": "280d6891",
   "metadata": {},
   "source": [
    "**3.3 Опишем и визуализируем возраст пользователей**"
   ]
  },
  {
   "cell_type": "code",
   "execution_count": 23,
   "id": "e5debff4",
   "metadata": {},
   "outputs": [
    {
     "data": {
      "image/png": "[encoded data removed]",
      "text/plain": [
       "<Figure size 1440x720 with 1 Axes>"
      ]
     },
     "metadata": {
      "needs_background": "light"
     },
     "output_type": "display_data"
    }
   ],
   "source": [
    "# Построим столбчатую диаграмму по убыванию, отображающую возраст пользователей\n",
    "plt.figure(figsize=(20, 10))\n",
    "plt.hist(users_df[\"age\"], bins=30, edgecolor='black')\n",
    "plt.xlabel(\"возраст пользователей\", fontsize=14)\n",
    "plt.ylabel(\"количество пользователей\", fontsize=14)\n",
    "plt.title(\"Гистограмма возраста пользователей\", fontsize=14)\n",
    "plt.grid(True)\n",
    "plt.show()"
   ]
  },
  {
   "cell_type": "markdown",
   "id": "24f591b9",
   "metadata": {},
   "source": [
    "**Опишем информацию о возрасте пользователей сервиса GoFfast:**\n",
    "\n",
    "- В выборке присутствуют пользователи различных возрастов от 12 до 43 лет.\n",
    "- Наибольшее количество пользователей (145) имеют возраст 25 лет, за которым следуют возраста 24 (132), 26 (131), 23 (129) и 27 (119) лет.\n",
    "- Наименьшее количество пользователей (1) имеют возраст 39 и 43 лет.\n",
    "- Пользователи в возрасте от 20 до 29 лет составляют значительную часть выборки, примерно 30% от общего количества пользователей.\n",
    "- Можно сказать, что выборка достаточно равномерно распределена по возрастам, но есть легкое снижение количества пользователей после 30 лет.\n",
    "\n",
    "Цифры, представленные выше могут служить дополнительной информацией для анализа аудитории и разработки маркетинговых стратегий, предлагая более целевые подходы к разным возрастным группам пользователей."
   ]
  },
  {
   "cell_type": "markdown",
   "id": "54d76dc6",
   "metadata": {},
   "source": [
    "**3.4 Опишем и визуализируем расстояние, которое пользователь преодолел за одну поездку**"
   ]
  },
  {
   "cell_type": "code",
   "execution_count": 24,
   "id": "c0e94916",
   "metadata": {},
   "outputs": [
    {
     "data": {
      "image/png": "[encoded data removed]",
      "text/plain": [
       "<Figure size 1440x720 with 1 Axes>"
      ]
     },
     "metadata": {
      "needs_background": "light"
     },
     "output_type": "display_data"
    }
   ],
   "source": [
    "plt.figure(figsize=(20, 10))\n",
    "plt.hist(rides_df[\"distance\"], bins=30, edgecolor='black')\n",
    "plt.xlabel(\"расстояние, которое пользователь преодолел за одну поездку\", fontsize=14)\n",
    "plt.ylabel(\"частота преодоленного расстояния\", fontsize=14)\n",
    "plt.title(\"Распределение расстояний, которое проехал пользователь\", fontsize=14)\n",
    "plt.grid(True)\n",
    "plt.show()"
   ]
  },
  {
   "cell_type": "markdown",
   "id": "6359c2e8",
   "metadata": {},
   "source": [
    "**Опишем данные о расстоянии преодоленном пользователем за одну поездку:**\n",
    "\n",
    "Из предоставленной информации видно, что наиболее часто встречающееся расстояние, которое пользователь преодолевает за одну поездку, в 3 километра. Второе по популярности расстояние - 2 километра. За одну поездку также часто встречается на расстояниях 4, меньше 1, 5 километров. Менее популярными являются поездки на расстояниях 6 и 7 километров."
   ]
  },
  {
   "cell_type": "markdown",
   "id": "3463cff4",
   "metadata": {},
   "source": [
    "**3.4 Опишем и визуализируем продолжительность поездок**"
   ]
  },
  {
   "cell_type": "code",
   "execution_count": 25,
   "id": "700b9006",
   "metadata": {},
   "outputs": [
    {
     "data": {
      "image/png": "[encoded data removed]",
      "text/plain": [
       "<Figure size 1440x720 with 1 Axes>"
      ]
     },
     "metadata": {
      "needs_background": "light"
     },
     "output_type": "display_data"
    }
   ],
   "source": [
    "plt.figure(figsize=(20, 10))\n",
    "plt.hist(rides_df[\"duration\"], bins=30, edgecolor='black')\n",
    "plt.xlabel(\"продолжительность поездок пользователя\", fontsize=14)\n",
    "plt.ylabel(\"частота продолжительности поездки\", fontsize=14)\n",
    "plt.title(\"Распределение продолжительности одной поездки\", fontsize=14)\n",
    "plt.grid(True)\n",
    "plt.show()"
   ]
  },
  {
   "cell_type": "markdown",
   "id": "3965e085",
   "metadata": {},
   "source": [
    "**Опишем данные о продолжительности поездок:**\n",
    "\n",
    "Смотря на график можно увидеть, что большинство поездок (5721) имеют продолжительность от 15 до 20 минут. Затем идут поездки длительностью от 10 до 15 минут (4374) и от 20 до 25 минут (4140). Небольшое количество поездок (1651) продолжительностью от 25 до 30 минут. Есть также 1639 поездок, которые длились менее 10 минут. Несколько меньше поездок (515) продолжительностью от 30 до 35 минут. Менее распространенные случаи - поездки от 35 до 40 минут (27) и от 40 до 45 минут (1)."
   ]
  },
  {
   "cell_type": "markdown",
   "id": "437566c4",
   "metadata": {},
   "source": [
    "**Выводы по третьему шагу:**\n",
    "\n",
    "- после построения графика отображающего частоту встречаемости городов можно сделать вывод, что чаще всего встречается Пятигорск(219), а меньше всего Москва(168);\n",
    "- после построения графика отображающего пользователей с подпиской и без можно сделать вывод, что сервисом без подписки пользуются 835 человек и 699 подпиской соответсвенно;\n",
    "- после построения графика отображающего возраст пользователей можно сделать вывод, что наибольшее количество пользователей это люди возрастом 25 лет (145 человек), а также с возрастами 24 (132 человека), 26 (131 человек) и 23 (129 человек). После 27 лет наблюдается уменьшение количества пользователей по возрасту;\n",
    "- после построения графика отображающего расстояние, которое пользователь преодолел за одну поездку можно сделать вывод, что пользователи сервиса GoFast часто пользуются для коротких поездок на расстоянии от 1 до 4 км;\n",
    "- после построения графика отображающего продолжительность поездок можно сделать вывод, что продолжительность большинства поездок достаточно короткая, с пиком в диапазоне от 15 до 20 минут."
   ]
  },
  {
   "cell_type": "markdown",
   "id": "3f06ef1f",
   "metadata": {
    "tags": []
   },
   "source": [
    "## 4. Объединение данных"
   ]
  },
  {
   "cell_type": "markdown",
   "id": "671500c2",
   "metadata": {},
   "source": [
    "**4.1 Объединим данные о пользователях, поездках и подписках в один датафрейм**"
   ]
  },
  {
   "cell_type": "code",
   "execution_count": 26,
   "id": "494d2e8b",
   "metadata": {},
   "outputs": [
    {
     "data": {
      "text/html": [
       "<div>\n",
       "<style scoped>\n",
       "    .dataframe tbody tr th:only-of-type {\n",
       "        vertical-align: middle;\n",
       "    }\n",
       "\n",
       "    .dataframe tbody tr th {\n",
       "        vertical-align: top;\n",
       "    }\n",
       "\n",
       "    .dataframe thead th {\n",
       "        text-align: right;\n",
       "    }\n",
       "</style>\n",
       "<table border=\"1\" class=\"dataframe\">\n",
       "  <thead>\n",
       "    <tr style=\"text-align: right;\">\n",
       "      <th></th>\n",
       "      <th>user_id</th>\n",
       "      <th>name</th>\n",
       "      <th>age</th>\n",
       "      <th>city</th>\n",
       "      <th>subscription_type</th>\n",
       "      <th>distance</th>\n",
       "      <th>duration</th>\n",
       "      <th>date</th>\n",
       "      <th>month</th>\n",
       "      <th>minute_price</th>\n",
       "      <th>start_ride_price</th>\n",
       "      <th>subscription_fee</th>\n",
       "    </tr>\n",
       "  </thead>\n",
       "  <tbody>\n",
       "    <tr>\n",
       "      <th>0</th>\n",
       "      <td>1</td>\n",
       "      <td>Кира</td>\n",
       "      <td>22</td>\n",
       "      <td>Тюмень</td>\n",
       "      <td>ultra</td>\n",
       "      <td>4409.919140</td>\n",
       "      <td>25.599769</td>\n",
       "      <td>2021-01-01</td>\n",
       "      <td>1</td>\n",
       "      <td>6</td>\n",
       "      <td>0</td>\n",
       "      <td>199</td>\n",
       "    </tr>\n",
       "    <tr>\n",
       "      <th>1</th>\n",
       "      <td>1</td>\n",
       "      <td>Кира</td>\n",
       "      <td>22</td>\n",
       "      <td>Тюмень</td>\n",
       "      <td>ultra</td>\n",
       "      <td>2617.592153</td>\n",
       "      <td>15.816871</td>\n",
       "      <td>2021-01-18</td>\n",
       "      <td>1</td>\n",
       "      <td>6</td>\n",
       "      <td>0</td>\n",
       "      <td>199</td>\n",
       "    </tr>\n",
       "    <tr>\n",
       "      <th>2</th>\n",
       "      <td>1</td>\n",
       "      <td>Кира</td>\n",
       "      <td>22</td>\n",
       "      <td>Тюмень</td>\n",
       "      <td>ultra</td>\n",
       "      <td>754.159807</td>\n",
       "      <td>6.232113</td>\n",
       "      <td>2021-04-20</td>\n",
       "      <td>4</td>\n",
       "      <td>6</td>\n",
       "      <td>0</td>\n",
       "      <td>199</td>\n",
       "    </tr>\n",
       "    <tr>\n",
       "      <th>3</th>\n",
       "      <td>1</td>\n",
       "      <td>Кира</td>\n",
       "      <td>22</td>\n",
       "      <td>Тюмень</td>\n",
       "      <td>ultra</td>\n",
       "      <td>2694.783254</td>\n",
       "      <td>18.511000</td>\n",
       "      <td>2021-08-11</td>\n",
       "      <td>8</td>\n",
       "      <td>6</td>\n",
       "      <td>0</td>\n",
       "      <td>199</td>\n",
       "    </tr>\n",
       "    <tr>\n",
       "      <th>4</th>\n",
       "      <td>1</td>\n",
       "      <td>Кира</td>\n",
       "      <td>22</td>\n",
       "      <td>Тюмень</td>\n",
       "      <td>ultra</td>\n",
       "      <td>4028.687306</td>\n",
       "      <td>26.265803</td>\n",
       "      <td>2021-08-28</td>\n",
       "      <td>8</td>\n",
       "      <td>6</td>\n",
       "      <td>0</td>\n",
       "      <td>199</td>\n",
       "    </tr>\n",
       "    <tr>\n",
       "      <th>...</th>\n",
       "      <td>...</td>\n",
       "      <td>...</td>\n",
       "      <td>...</td>\n",
       "      <td>...</td>\n",
       "      <td>...</td>\n",
       "      <td>...</td>\n",
       "      <td>...</td>\n",
       "      <td>...</td>\n",
       "      <td>...</td>\n",
       "      <td>...</td>\n",
       "      <td>...</td>\n",
       "      <td>...</td>\n",
       "    </tr>\n",
       "    <tr>\n",
       "      <th>18063</th>\n",
       "      <td>1534</td>\n",
       "      <td>Альберт</td>\n",
       "      <td>25</td>\n",
       "      <td>Краснодар</td>\n",
       "      <td>free</td>\n",
       "      <td>3781.098080</td>\n",
       "      <td>19.822962</td>\n",
       "      <td>2021-11-04</td>\n",
       "      <td>11</td>\n",
       "      <td>8</td>\n",
       "      <td>50</td>\n",
       "      <td>0</td>\n",
       "    </tr>\n",
       "    <tr>\n",
       "      <th>18064</th>\n",
       "      <td>1534</td>\n",
       "      <td>Альберт</td>\n",
       "      <td>25</td>\n",
       "      <td>Краснодар</td>\n",
       "      <td>free</td>\n",
       "      <td>2840.423057</td>\n",
       "      <td>21.409799</td>\n",
       "      <td>2021-11-16</td>\n",
       "      <td>11</td>\n",
       "      <td>8</td>\n",
       "      <td>50</td>\n",
       "      <td>0</td>\n",
       "    </tr>\n",
       "    <tr>\n",
       "      <th>18065</th>\n",
       "      <td>1534</td>\n",
       "      <td>Альберт</td>\n",
       "      <td>25</td>\n",
       "      <td>Краснодар</td>\n",
       "      <td>free</td>\n",
       "      <td>3826.185507</td>\n",
       "      <td>18.435051</td>\n",
       "      <td>2021-11-18</td>\n",
       "      <td>11</td>\n",
       "      <td>8</td>\n",
       "      <td>50</td>\n",
       "      <td>0</td>\n",
       "    </tr>\n",
       "    <tr>\n",
       "      <th>18066</th>\n",
       "      <td>1534</td>\n",
       "      <td>Альберт</td>\n",
       "      <td>25</td>\n",
       "      <td>Краснодар</td>\n",
       "      <td>free</td>\n",
       "      <td>2902.308661</td>\n",
       "      <td>16.674362</td>\n",
       "      <td>2021-11-27</td>\n",
       "      <td>11</td>\n",
       "      <td>8</td>\n",
       "      <td>50</td>\n",
       "      <td>0</td>\n",
       "    </tr>\n",
       "    <tr>\n",
       "      <th>18067</th>\n",
       "      <td>1534</td>\n",
       "      <td>Альберт</td>\n",
       "      <td>25</td>\n",
       "      <td>Краснодар</td>\n",
       "      <td>free</td>\n",
       "      <td>2371.711192</td>\n",
       "      <td>15.893917</td>\n",
       "      <td>2021-12-29</td>\n",
       "      <td>12</td>\n",
       "      <td>8</td>\n",
       "      <td>50</td>\n",
       "      <td>0</td>\n",
       "    </tr>\n",
       "  </tbody>\n",
       "</table>\n",
       "<p>18068 rows × 12 columns</p>\n",
       "</div>"
      ],
      "text/plain": [
       "       user_id     name  age       city subscription_type     distance  \\\n",
       "0            1     Кира   22     Тюмень             ultra  4409.919140   \n",
       "1            1     Кира   22     Тюмень             ultra  2617.592153   \n",
       "2            1     Кира   22     Тюмень             ultra   754.159807   \n",
       "3            1     Кира   22     Тюмень             ultra  2694.783254   \n",
       "4            1     Кира   22     Тюмень             ultra  4028.687306   \n",
       "...        ...      ...  ...        ...               ...          ...   \n",
       "18063     1534  Альберт   25  Краснодар              free  3781.098080   \n",
       "18064     1534  Альберт   25  Краснодар              free  2840.423057   \n",
       "18065     1534  Альберт   25  Краснодар              free  3826.185507   \n",
       "18066     1534  Альберт   25  Краснодар              free  2902.308661   \n",
       "18067     1534  Альберт   25  Краснодар              free  2371.711192   \n",
       "\n",
       "        duration       date  month  minute_price  start_ride_price  \\\n",
       "0      25.599769 2021-01-01      1             6                 0   \n",
       "1      15.816871 2021-01-18      1             6                 0   \n",
       "2       6.232113 2021-04-20      4             6                 0   \n",
       "3      18.511000 2021-08-11      8             6                 0   \n",
       "4      26.265803 2021-08-28      8             6                 0   \n",
       "...          ...        ...    ...           ...               ...   \n",
       "18063  19.822962 2021-11-04     11             8                50   \n",
       "18064  21.409799 2021-11-16     11             8                50   \n",
       "18065  18.435051 2021-11-18     11             8                50   \n",
       "18066  16.674362 2021-11-27     11             8                50   \n",
       "18067  15.893917 2021-12-29     12             8                50   \n",
       "\n",
       "       subscription_fee  \n",
       "0                   199  \n",
       "1                   199  \n",
       "2                   199  \n",
       "3                   199  \n",
       "4                   199  \n",
       "...                 ...  \n",
       "18063                 0  \n",
       "18064                 0  \n",
       "18065                 0  \n",
       "18066                 0  \n",
       "18067                 0  \n",
       "\n",
       "[18068 rows x 12 columns]"
      ]
     },
     "execution_count": 26,
     "metadata": {},
     "output_type": "execute_result"
    }
   ],
   "source": [
    "# Создадим новый датафрейм merged_df, в котором будут хранится данные о пользователях, поездках и подписках\n",
    "merged_df = users_df.merge(\n",
    "    rides_df, how='inner', on='user_id').merge(\n",
    "    subscriptions_df, how='left', on='subscription_type')\n",
    "merged_df"
   ]
  },
  {
   "cell_type": "code",
   "execution_count": 27,
   "id": "5a2d8bc7",
   "metadata": {},
   "outputs": [
    {
     "data": {
      "text/plain": [
       "(18068, 18068, 1534, 2)"
      ]
     },
     "execution_count": 27,
     "metadata": {},
     "output_type": "execute_result"
    }
   ],
   "source": [
    "len(merged_df), len(rides_df), len(users_df), len(subscriptions_df)"
   ]
  },
  {
   "cell_type": "markdown",
   "id": "6728487b",
   "metadata": {},
   "source": [
    "**4.2 Создадим ещё два датафрейма, c данными о пользователях с подпиской и без неё**"
   ]
  },
  {
   "cell_type": "code",
   "execution_count": 28,
   "id": "6d0ac552",
   "metadata": {},
   "outputs": [
    {
     "data": {
      "text/html": [
       "<div>\n",
       "<style scoped>\n",
       "    .dataframe tbody tr th:only-of-type {\n",
       "        vertical-align: middle;\n",
       "    }\n",
       "\n",
       "    .dataframe tbody tr th {\n",
       "        vertical-align: top;\n",
       "    }\n",
       "\n",
       "    .dataframe thead th {\n",
       "        text-align: right;\n",
       "    }\n",
       "</style>\n",
       "<table border=\"1\" class=\"dataframe\">\n",
       "  <thead>\n",
       "    <tr style=\"text-align: right;\">\n",
       "      <th></th>\n",
       "      <th>user_id</th>\n",
       "      <th>name</th>\n",
       "      <th>age</th>\n",
       "      <th>city</th>\n",
       "      <th>subscription_type</th>\n",
       "      <th>distance</th>\n",
       "      <th>duration</th>\n",
       "      <th>date</th>\n",
       "      <th>month</th>\n",
       "      <th>minute_price</th>\n",
       "      <th>start_ride_price</th>\n",
       "      <th>subscription_fee</th>\n",
       "    </tr>\n",
       "  </thead>\n",
       "  <tbody>\n",
       "    <tr>\n",
       "      <th>6500</th>\n",
       "      <td>700</td>\n",
       "      <td>Айдар</td>\n",
       "      <td>22</td>\n",
       "      <td>Омск</td>\n",
       "      <td>free</td>\n",
       "      <td>2515.690719</td>\n",
       "      <td>14.944286</td>\n",
       "      <td>2021-01-02</td>\n",
       "      <td>1</td>\n",
       "      <td>8</td>\n",
       "      <td>50</td>\n",
       "      <td>0</td>\n",
       "    </tr>\n",
       "    <tr>\n",
       "      <th>6501</th>\n",
       "      <td>700</td>\n",
       "      <td>Айдар</td>\n",
       "      <td>22</td>\n",
       "      <td>Омск</td>\n",
       "      <td>free</td>\n",
       "      <td>846.932642</td>\n",
       "      <td>16.234663</td>\n",
       "      <td>2021-02-01</td>\n",
       "      <td>2</td>\n",
       "      <td>8</td>\n",
       "      <td>50</td>\n",
       "      <td>0</td>\n",
       "    </tr>\n",
       "    <tr>\n",
       "      <th>6502</th>\n",
       "      <td>700</td>\n",
       "      <td>Айдар</td>\n",
       "      <td>22</td>\n",
       "      <td>Омск</td>\n",
       "      <td>free</td>\n",
       "      <td>4004.434142</td>\n",
       "      <td>20.016628</td>\n",
       "      <td>2021-02-04</td>\n",
       "      <td>2</td>\n",
       "      <td>8</td>\n",
       "      <td>50</td>\n",
       "      <td>0</td>\n",
       "    </tr>\n",
       "    <tr>\n",
       "      <th>6503</th>\n",
       "      <td>700</td>\n",
       "      <td>Айдар</td>\n",
       "      <td>22</td>\n",
       "      <td>Омск</td>\n",
       "      <td>free</td>\n",
       "      <td>1205.911290</td>\n",
       "      <td>9.782872</td>\n",
       "      <td>2021-02-10</td>\n",
       "      <td>2</td>\n",
       "      <td>8</td>\n",
       "      <td>50</td>\n",
       "      <td>0</td>\n",
       "    </tr>\n",
       "    <tr>\n",
       "      <th>6504</th>\n",
       "      <td>700</td>\n",
       "      <td>Айдар</td>\n",
       "      <td>22</td>\n",
       "      <td>Омск</td>\n",
       "      <td>free</td>\n",
       "      <td>3047.379435</td>\n",
       "      <td>17.427673</td>\n",
       "      <td>2021-02-14</td>\n",
       "      <td>2</td>\n",
       "      <td>8</td>\n",
       "      <td>50</td>\n",
       "      <td>0</td>\n",
       "    </tr>\n",
       "    <tr>\n",
       "      <th>...</th>\n",
       "      <td>...</td>\n",
       "      <td>...</td>\n",
       "      <td>...</td>\n",
       "      <td>...</td>\n",
       "      <td>...</td>\n",
       "      <td>...</td>\n",
       "      <td>...</td>\n",
       "      <td>...</td>\n",
       "      <td>...</td>\n",
       "      <td>...</td>\n",
       "      <td>...</td>\n",
       "      <td>...</td>\n",
       "    </tr>\n",
       "    <tr>\n",
       "      <th>18063</th>\n",
       "      <td>1534</td>\n",
       "      <td>Альберт</td>\n",
       "      <td>25</td>\n",
       "      <td>Краснодар</td>\n",
       "      <td>free</td>\n",
       "      <td>3781.098080</td>\n",
       "      <td>19.822962</td>\n",
       "      <td>2021-11-04</td>\n",
       "      <td>11</td>\n",
       "      <td>8</td>\n",
       "      <td>50</td>\n",
       "      <td>0</td>\n",
       "    </tr>\n",
       "    <tr>\n",
       "      <th>18064</th>\n",
       "      <td>1534</td>\n",
       "      <td>Альберт</td>\n",
       "      <td>25</td>\n",
       "      <td>Краснодар</td>\n",
       "      <td>free</td>\n",
       "      <td>2840.423057</td>\n",
       "      <td>21.409799</td>\n",
       "      <td>2021-11-16</td>\n",
       "      <td>11</td>\n",
       "      <td>8</td>\n",
       "      <td>50</td>\n",
       "      <td>0</td>\n",
       "    </tr>\n",
       "    <tr>\n",
       "      <th>18065</th>\n",
       "      <td>1534</td>\n",
       "      <td>Альберт</td>\n",
       "      <td>25</td>\n",
       "      <td>Краснодар</td>\n",
       "      <td>free</td>\n",
       "      <td>3826.185507</td>\n",
       "      <td>18.435051</td>\n",
       "      <td>2021-11-18</td>\n",
       "      <td>11</td>\n",
       "      <td>8</td>\n",
       "      <td>50</td>\n",
       "      <td>0</td>\n",
       "    </tr>\n",
       "    <tr>\n",
       "      <th>18066</th>\n",
       "      <td>1534</td>\n",
       "      <td>Альберт</td>\n",
       "      <td>25</td>\n",
       "      <td>Краснодар</td>\n",
       "      <td>free</td>\n",
       "      <td>2902.308661</td>\n",
       "      <td>16.674362</td>\n",
       "      <td>2021-11-27</td>\n",
       "      <td>11</td>\n",
       "      <td>8</td>\n",
       "      <td>50</td>\n",
       "      <td>0</td>\n",
       "    </tr>\n",
       "    <tr>\n",
       "      <th>18067</th>\n",
       "      <td>1534</td>\n",
       "      <td>Альберт</td>\n",
       "      <td>25</td>\n",
       "      <td>Краснодар</td>\n",
       "      <td>free</td>\n",
       "      <td>2371.711192</td>\n",
       "      <td>15.893917</td>\n",
       "      <td>2021-12-29</td>\n",
       "      <td>12</td>\n",
       "      <td>8</td>\n",
       "      <td>50</td>\n",
       "      <td>0</td>\n",
       "    </tr>\n",
       "  </tbody>\n",
       "</table>\n",
       "<p>11568 rows × 12 columns</p>\n",
       "</div>"
      ],
      "text/plain": [
       "       user_id     name  age       city subscription_type     distance  \\\n",
       "6500       700    Айдар   22       Омск              free  2515.690719   \n",
       "6501       700    Айдар   22       Омск              free   846.932642   \n",
       "6502       700    Айдар   22       Омск              free  4004.434142   \n",
       "6503       700    Айдар   22       Омск              free  1205.911290   \n",
       "6504       700    Айдар   22       Омск              free  3047.379435   \n",
       "...        ...      ...  ...        ...               ...          ...   \n",
       "18063     1534  Альберт   25  Краснодар              free  3781.098080   \n",
       "18064     1534  Альберт   25  Краснодар              free  2840.423057   \n",
       "18065     1534  Альберт   25  Краснодар              free  3826.185507   \n",
       "18066     1534  Альберт   25  Краснодар              free  2902.308661   \n",
       "18067     1534  Альберт   25  Краснодар              free  2371.711192   \n",
       "\n",
       "        duration       date  month  minute_price  start_ride_price  \\\n",
       "6500   14.944286 2021-01-02      1             8                50   \n",
       "6501   16.234663 2021-02-01      2             8                50   \n",
       "6502   20.016628 2021-02-04      2             8                50   \n",
       "6503    9.782872 2021-02-10      2             8                50   \n",
       "6504   17.427673 2021-02-14      2             8                50   \n",
       "...          ...        ...    ...           ...               ...   \n",
       "18063  19.822962 2021-11-04     11             8                50   \n",
       "18064  21.409799 2021-11-16     11             8                50   \n",
       "18065  18.435051 2021-11-18     11             8                50   \n",
       "18066  16.674362 2021-11-27     11             8                50   \n",
       "18067  15.893917 2021-12-29     12             8                50   \n",
       "\n",
       "       subscription_fee  \n",
       "6500                  0  \n",
       "6501                  0  \n",
       "6502                  0  \n",
       "6503                  0  \n",
       "6504                  0  \n",
       "...                 ...  \n",
       "18063                 0  \n",
       "18064                 0  \n",
       "18065                 0  \n",
       "18066                 0  \n",
       "18067                 0  \n",
       "\n",
       "[11568 rows x 12 columns]"
      ]
     },
     "execution_count": 28,
     "metadata": {},
     "output_type": "execute_result"
    }
   ],
   "source": [
    "# Создаём новый датафрейм, в котором будут хранится данные о пользователях без подписки\n",
    "users_without_subscription_df = merged_df.loc[merged_df['subscription_type'] == \"free\"]\n",
    "users_without_subscription_df"
   ]
  },
  {
   "cell_type": "code",
   "execution_count": 29,
   "id": "97795948",
   "metadata": {},
   "outputs": [
    {
     "data": {
      "text/html": [
       "<div>\n",
       "<style scoped>\n",
       "    .dataframe tbody tr th:only-of-type {\n",
       "        vertical-align: middle;\n",
       "    }\n",
       "\n",
       "    .dataframe tbody tr th {\n",
       "        vertical-align: top;\n",
       "    }\n",
       "\n",
       "    .dataframe thead th {\n",
       "        text-align: right;\n",
       "    }\n",
       "</style>\n",
       "<table border=\"1\" class=\"dataframe\">\n",
       "  <thead>\n",
       "    <tr style=\"text-align: right;\">\n",
       "      <th></th>\n",
       "      <th>user_id</th>\n",
       "      <th>name</th>\n",
       "      <th>age</th>\n",
       "      <th>city</th>\n",
       "      <th>subscription_type</th>\n",
       "      <th>distance</th>\n",
       "      <th>duration</th>\n",
       "      <th>date</th>\n",
       "      <th>month</th>\n",
       "      <th>minute_price</th>\n",
       "      <th>start_ride_price</th>\n",
       "      <th>subscription_fee</th>\n",
       "    </tr>\n",
       "  </thead>\n",
       "  <tbody>\n",
       "    <tr>\n",
       "      <th>0</th>\n",
       "      <td>1</td>\n",
       "      <td>Кира</td>\n",
       "      <td>22</td>\n",
       "      <td>Тюмень</td>\n",
       "      <td>ultra</td>\n",
       "      <td>4409.919140</td>\n",
       "      <td>25.599769</td>\n",
       "      <td>2021-01-01</td>\n",
       "      <td>1</td>\n",
       "      <td>6</td>\n",
       "      <td>0</td>\n",
       "      <td>199</td>\n",
       "    </tr>\n",
       "    <tr>\n",
       "      <th>1</th>\n",
       "      <td>1</td>\n",
       "      <td>Кира</td>\n",
       "      <td>22</td>\n",
       "      <td>Тюмень</td>\n",
       "      <td>ultra</td>\n",
       "      <td>2617.592153</td>\n",
       "      <td>15.816871</td>\n",
       "      <td>2021-01-18</td>\n",
       "      <td>1</td>\n",
       "      <td>6</td>\n",
       "      <td>0</td>\n",
       "      <td>199</td>\n",
       "    </tr>\n",
       "    <tr>\n",
       "      <th>2</th>\n",
       "      <td>1</td>\n",
       "      <td>Кира</td>\n",
       "      <td>22</td>\n",
       "      <td>Тюмень</td>\n",
       "      <td>ultra</td>\n",
       "      <td>754.159807</td>\n",
       "      <td>6.232113</td>\n",
       "      <td>2021-04-20</td>\n",
       "      <td>4</td>\n",
       "      <td>6</td>\n",
       "      <td>0</td>\n",
       "      <td>199</td>\n",
       "    </tr>\n",
       "    <tr>\n",
       "      <th>3</th>\n",
       "      <td>1</td>\n",
       "      <td>Кира</td>\n",
       "      <td>22</td>\n",
       "      <td>Тюмень</td>\n",
       "      <td>ultra</td>\n",
       "      <td>2694.783254</td>\n",
       "      <td>18.511000</td>\n",
       "      <td>2021-08-11</td>\n",
       "      <td>8</td>\n",
       "      <td>6</td>\n",
       "      <td>0</td>\n",
       "      <td>199</td>\n",
       "    </tr>\n",
       "    <tr>\n",
       "      <th>4</th>\n",
       "      <td>1</td>\n",
       "      <td>Кира</td>\n",
       "      <td>22</td>\n",
       "      <td>Тюмень</td>\n",
       "      <td>ultra</td>\n",
       "      <td>4028.687306</td>\n",
       "      <td>26.265803</td>\n",
       "      <td>2021-08-28</td>\n",
       "      <td>8</td>\n",
       "      <td>6</td>\n",
       "      <td>0</td>\n",
       "      <td>199</td>\n",
       "    </tr>\n",
       "    <tr>\n",
       "      <th>...</th>\n",
       "      <td>...</td>\n",
       "      <td>...</td>\n",
       "      <td>...</td>\n",
       "      <td>...</td>\n",
       "      <td>...</td>\n",
       "      <td>...</td>\n",
       "      <td>...</td>\n",
       "      <td>...</td>\n",
       "      <td>...</td>\n",
       "      <td>...</td>\n",
       "      <td>...</td>\n",
       "      <td>...</td>\n",
       "    </tr>\n",
       "    <tr>\n",
       "      <th>6495</th>\n",
       "      <td>699</td>\n",
       "      <td>Оксана</td>\n",
       "      <td>22</td>\n",
       "      <td>Москва</td>\n",
       "      <td>ultra</td>\n",
       "      <td>3973.046497</td>\n",
       "      <td>24.671163</td>\n",
       "      <td>2021-08-29</td>\n",
       "      <td>8</td>\n",
       "      <td>6</td>\n",
       "      <td>0</td>\n",
       "      <td>199</td>\n",
       "    </tr>\n",
       "    <tr>\n",
       "      <th>6496</th>\n",
       "      <td>699</td>\n",
       "      <td>Оксана</td>\n",
       "      <td>22</td>\n",
       "      <td>Москва</td>\n",
       "      <td>ultra</td>\n",
       "      <td>3288.702563</td>\n",
       "      <td>15.892886</td>\n",
       "      <td>2021-09-12</td>\n",
       "      <td>9</td>\n",
       "      <td>6</td>\n",
       "      <td>0</td>\n",
       "      <td>199</td>\n",
       "    </tr>\n",
       "    <tr>\n",
       "      <th>6497</th>\n",
       "      <td>699</td>\n",
       "      <td>Оксана</td>\n",
       "      <td>22</td>\n",
       "      <td>Москва</td>\n",
       "      <td>ultra</td>\n",
       "      <td>3076.159348</td>\n",
       "      <td>14.389525</td>\n",
       "      <td>2021-09-26</td>\n",
       "      <td>9</td>\n",
       "      <td>6</td>\n",
       "      <td>0</td>\n",
       "      <td>199</td>\n",
       "    </tr>\n",
       "    <tr>\n",
       "      <th>6498</th>\n",
       "      <td>699</td>\n",
       "      <td>Оксана</td>\n",
       "      <td>22</td>\n",
       "      <td>Москва</td>\n",
       "      <td>ultra</td>\n",
       "      <td>4707.845501</td>\n",
       "      <td>15.839579</td>\n",
       "      <td>2021-10-17</td>\n",
       "      <td>10</td>\n",
       "      <td>6</td>\n",
       "      <td>0</td>\n",
       "      <td>199</td>\n",
       "    </tr>\n",
       "    <tr>\n",
       "      <th>6499</th>\n",
       "      <td>699</td>\n",
       "      <td>Оксана</td>\n",
       "      <td>22</td>\n",
       "      <td>Москва</td>\n",
       "      <td>ultra</td>\n",
       "      <td>3202.890770</td>\n",
       "      <td>25.217345</td>\n",
       "      <td>2021-12-03</td>\n",
       "      <td>12</td>\n",
       "      <td>6</td>\n",
       "      <td>0</td>\n",
       "      <td>199</td>\n",
       "    </tr>\n",
       "  </tbody>\n",
       "</table>\n",
       "<p>6500 rows × 12 columns</p>\n",
       "</div>"
      ],
      "text/plain": [
       "      user_id    name  age    city subscription_type     distance   duration  \\\n",
       "0           1    Кира   22  Тюмень             ultra  4409.919140  25.599769   \n",
       "1           1    Кира   22  Тюмень             ultra  2617.592153  15.816871   \n",
       "2           1    Кира   22  Тюмень             ultra   754.159807   6.232113   \n",
       "3           1    Кира   22  Тюмень             ultra  2694.783254  18.511000   \n",
       "4           1    Кира   22  Тюмень             ultra  4028.687306  26.265803   \n",
       "...       ...     ...  ...     ...               ...          ...        ...   \n",
       "6495      699  Оксана   22  Москва             ultra  3973.046497  24.671163   \n",
       "6496      699  Оксана   22  Москва             ultra  3288.702563  15.892886   \n",
       "6497      699  Оксана   22  Москва             ultra  3076.159348  14.389525   \n",
       "6498      699  Оксана   22  Москва             ultra  4707.845501  15.839579   \n",
       "6499      699  Оксана   22  Москва             ultra  3202.890770  25.217345   \n",
       "\n",
       "           date  month  minute_price  start_ride_price  subscription_fee  \n",
       "0    2021-01-01      1             6                 0               199  \n",
       "1    2021-01-18      1             6                 0               199  \n",
       "2    2021-04-20      4             6                 0               199  \n",
       "3    2021-08-11      8             6                 0               199  \n",
       "4    2021-08-28      8             6                 0               199  \n",
       "...         ...    ...           ...               ...               ...  \n",
       "6495 2021-08-29      8             6                 0               199  \n",
       "6496 2021-09-12      9             6                 0               199  \n",
       "6497 2021-09-26      9             6                 0               199  \n",
       "6498 2021-10-17     10             6                 0               199  \n",
       "6499 2021-12-03     12             6                 0               199  \n",
       "\n",
       "[6500 rows x 12 columns]"
      ]
     },
     "execution_count": 29,
     "metadata": {},
     "output_type": "execute_result"
    }
   ],
   "source": [
    "# Создаём новый датафрейм, в котором будут хранится данные о пользователях с подпиской\n",
    "users_with_subscription_df = merged_df.loc[merged_df['subscription_type'] == \"ultra\"]\n",
    "users_with_subscription_df"
   ]
  },
  {
   "cell_type": "markdown",
   "id": "4a93160f",
   "metadata": {},
   "source": [
    "**4.3 Визуализируем и опишем информацию о расстоянии и времени поездок для пользователей обеих категорий**"
   ]
  },
  {
   "cell_type": "code",
   "execution_count": 30,
   "id": "129df989",
   "metadata": {},
   "outputs": [
    {
     "data": {
      "image/png": "[encoded data removed]",
      "text/plain": [
       "<Figure size 1440x720 with 1 Axes>"
      ]
     },
     "metadata": {
      "needs_background": "light"
     },
     "output_type": "display_data"
    }
   ],
   "source": [
    "plt.figure(figsize=(20, 10))\n",
    "plt.hist(users_with_subscription_df[\"distance\"], bins=20, edgecolor='black', alpha=1, label='пользователи с подпиской')\n",
    "plt.hist(users_without_subscription_df[\"distance\"], bins=20, alpha=0.5, label='пользователи без подписки')\n",
    "plt.xlabel('расстояние, которое пользователь категории преодолел за одну поездку', fontsize=14)\n",
    "plt.ylabel('количество пользователей', fontsize=14)\n",
    "plt.title('Расстояния поездок для пользователей обеих категорий', fontsize=14)\n",
    "plt.xticks(rotation=0)\n",
    "plt.legend()\n",
    "plt.grid(True)\n",
    "plt.show()"
   ]
  },
  {
   "cell_type": "markdown",
   "id": "8b728586",
   "metadata": {},
   "source": [
    "Опишем данные о **расстоянии** преодоленном пользователем **без подписки** за одну поездку:\n",
    "\n",
    "1. Большинство поездок (примерно 31,7%) имеют расстояние примерно 3 км.\n",
    "2. За ними следуют поездки примерно на расстояние 2 км (31%).\n",
    "3. Примерно 18% поездок составляют расстояние около 4 км.\n",
    "4. Примерно 9,6% поездок имеют очень короткое расстояние менее 1 км.\n",
    "5. Всего 4,2% поездок составляют 1 км.\n",
    "6. Доля поездок дальше 5 км составляет менее 2% от общего числа поездок.\n",
    "\n",
    "В целом, можно сказать, что большинство пользователей без подписки преодолевает расстояние около 2-3 км за одну поездку. Есть небольшое количество поездок на более дальние расстояния до 7 км. \n",
    "\n",
    "Опишем данные о **расстоянии** преодоленном пользователем **с подпиской** за одну поездку::\n",
    "\n",
    "1. Большинство пользователей с подпиской преодолели расстояние от 3 км за одну поездку. Их количество составляет 3091 человек.\n",
    "2. Затем идут пользователи, которые преодолели расстояние от 2 км за одну поездку. Их количество составляет 2017 человек.\n",
    "3. В то же время, 850 пользователей с подпиской преодолели расстояние от 4 км за одну поездку.\n",
    "4. Также встречаются пользователи, которые преодолели расстояние менее 1 км или 1 км за одну поездку. Их количество соответственно составляет 259 и 252 человека.\n",
    "5. Наименьшее количество пользователей с подпиской преодолели расстояние от 5 км за одну поездку. Их количество составляет всего 23 человека.\n",
    "\n",
    "Таким образом, большинство пользователей с подпиской совершают поездки на расстояниях от 2 до 4 км, причем наибольшее количество поездок приходится на расстояние 3 км."
   ]
  },
  {
   "cell_type": "code",
   "execution_count": 31,
   "id": "97a63001",
   "metadata": {},
   "outputs": [
    {
     "data": {
      "image/png": "[encoded data removed]",
      "text/plain": [
       "<Figure size 1440x720 with 1 Axes>"
      ]
     },
     "metadata": {
      "needs_background": "light"
     },
     "output_type": "display_data"
    }
   ],
   "source": [
    "plt.figure(figsize=(20, 10))\n",
    "plt.hist(users_with_subscription_df[\"duration\"], bins=20, edgecolor='black', alpha=1, label='пользователи с подпиской')\n",
    "plt.hist(users_without_subscription_df[\"duration\"], bins=20, alpha=0.5, label='пользователи без подписки')\n",
    "plt.xlabel('продолжительность поездок пользователей обеих категорий', fontsize=14)\n",
    "plt.ylabel('количество пользователей', fontsize=14)\n",
    "plt.title('Продолжительность поездок для пользователей обеих категорий', fontsize=14)\n",
    "plt.xticks(rotation=0)\n",
    "plt.legend()\n",
    "plt.grid(True)\n",
    "plt.show()"
   ]
  },
  {
   "cell_type": "markdown",
   "id": "290c9a9d",
   "metadata": {},
   "source": [
    "Опишем данные о **продолжительности поездок** для пользователей **без подписки**:\n",
    "\n",
    "1. Большинство поездок (примерно 32%) имеют продолжительность от 15 до 20 минут.\n",
    "2. За ними следуют поездки продолжительностью от 10 до 15 минут (26,5%) и от 20 до 25 минут (23,6%).\n",
    "3. Продолжительность поездок менее 10 минут составляет около 8% от общего числа поездок.\n",
    "4. Продолжительность поездок от 25 до 30 минут составляет около 6% от общего числа поездок.\n",
    "5. Поездки длительностью от 30 до 35 минут составляют около 2% от общего числа поездок.\n",
    "\n",
    "В целом, можно сказать, что большинство пользователей без подписки совершают поездки с продолжительностью от 15 до 20 минут. Однако, также есть значительное количество поездок с другими продолжительностями, начиная от 10 минут до 30 минут.\n",
    "\n",
    "Опишем данные о **продолжительности поездок** для пользователей **с подпиской**:\n",
    "\n",
    "1. Большинство поездок (примерно 34%) имеют продолжительность от 15 до 20 минут.\n",
    "2. За ними следуют поездки продолжительностью от 20 до 25 минут (24,2%) и от 10 до 15 минут (23,1%).\n",
    "3. Продолжительность поездок менее 10 минут составляет около 5% от общего числа поездок.\n",
    "4. Продолжительность поездок от 25 до 30 минут составляет около 2,6% от общего числа поездок.\n",
    "5. Поездки длительностью от 30 до 35 минут составляют около 1,7% от общего числа поездок.\n",
    "\n",
    "В целом, можно сказать, что пользователи с подпиской также чаще всего совершают поездки с продолжительностью от 15 до 20 минут. Однако, здесь доля таких поездок немного выше, чем у пользователей без подписки. Также схоже распределение продолжительности поездок от 10 до 25 минут. Но при этом, пользователи с подпиской более активно пользуются самокатами длительностью более 25 минут, чего нет у пользователей без подписки. "
   ]
  },
  {
   "cell_type": "markdown",
   "id": "136a8af7",
   "metadata": {},
   "source": [
    "**Выводы по четвёртому шагу:**\n",
    "\n",
    "1. Объединены данные о пользователях, поездках и подписках в один датафрейм(merged_df);\n",
    "2. Созданы ещё два датафрейма из датафрейма(merged_df):\n",
    "    - c данными о пользователях без подписки(users_without_subscription_df);\n",
    "    - с данными о пользователях с подпиской(users_with_subscription_df).\n",
    "3. Визуализирована и описана информация о расстоянии и времени поездок для пользователей обеих категорий.\n",
    "\n",
    "Продолжительность поездок у пользователей с подпиской и без подписки примерно одинакова и в большинстве случаев составляет от 15 до 20 минут. Однако, пользователи без подписки проезжают более дальние расстояния в сравнении с пользователями с подпиской. Эти данные могут помочь определить поведение пользователей и принять решения о разработке различных тарифных планов или предложений."
   ]
  },
  {
   "cell_type": "markdown",
   "id": "db3e0e53",
   "metadata": {},
   "source": [
    "## 5. Подсчёт выручки"
   ]
  },
  {
   "cell_type": "markdown",
   "id": "3caa134d",
   "metadata": {},
   "source": [
    "**5.1 Создадим датафрейм с агрегированными данными о поездках**"
   ]
  },
  {
   "cell_type": "code",
   "execution_count": 32,
   "id": "599a6965",
   "metadata": {},
   "outputs": [
    {
     "data": {
      "text/html": [
       "<div>\n",
       "<style scoped>\n",
       "    .dataframe tbody tr th:only-of-type {\n",
       "        vertical-align: middle;\n",
       "    }\n",
       "\n",
       "    .dataframe tbody tr th {\n",
       "        vertical-align: top;\n",
       "    }\n",
       "\n",
       "    .dataframe thead th {\n",
       "        text-align: right;\n",
       "    }\n",
       "</style>\n",
       "<table border=\"1\" class=\"dataframe\">\n",
       "  <thead>\n",
       "    <tr style=\"text-align: right;\">\n",
       "      <th></th>\n",
       "      <th>user_id</th>\n",
       "      <th>month</th>\n",
       "      <th>subscription_type</th>\n",
       "      <th>sum_distance</th>\n",
       "      <th>count_trips</th>\n",
       "      <th>sum_duration</th>\n",
       "    </tr>\n",
       "  </thead>\n",
       "  <tbody>\n",
       "    <tr>\n",
       "      <th>0</th>\n",
       "      <td>1</td>\n",
       "      <td>1</td>\n",
       "      <td>ultra</td>\n",
       "      <td>7027.511294</td>\n",
       "      <td>2</td>\n",
       "      <td>42.0</td>\n",
       "    </tr>\n",
       "    <tr>\n",
       "      <th>1</th>\n",
       "      <td>1</td>\n",
       "      <td>4</td>\n",
       "      <td>ultra</td>\n",
       "      <td>754.159807</td>\n",
       "      <td>1</td>\n",
       "      <td>7.0</td>\n",
       "    </tr>\n",
       "    <tr>\n",
       "      <th>2</th>\n",
       "      <td>1</td>\n",
       "      <td>8</td>\n",
       "      <td>ultra</td>\n",
       "      <td>6723.470560</td>\n",
       "      <td>2</td>\n",
       "      <td>46.0</td>\n",
       "    </tr>\n",
       "    <tr>\n",
       "      <th>3</th>\n",
       "      <td>1</td>\n",
       "      <td>10</td>\n",
       "      <td>ultra</td>\n",
       "      <td>5809.911100</td>\n",
       "      <td>2</td>\n",
       "      <td>32.0</td>\n",
       "    </tr>\n",
       "    <tr>\n",
       "      <th>4</th>\n",
       "      <td>1</td>\n",
       "      <td>11</td>\n",
       "      <td>ultra</td>\n",
       "      <td>7003.499363</td>\n",
       "      <td>3</td>\n",
       "      <td>56.0</td>\n",
       "    </tr>\n",
       "    <tr>\n",
       "      <th>...</th>\n",
       "      <td>...</td>\n",
       "      <td>...</td>\n",
       "      <td>...</td>\n",
       "      <td>...</td>\n",
       "      <td>...</td>\n",
       "      <td>...</td>\n",
       "    </tr>\n",
       "    <tr>\n",
       "      <th>11326</th>\n",
       "      <td>1534</td>\n",
       "      <td>6</td>\n",
       "      <td>free</td>\n",
       "      <td>3409.468534</td>\n",
       "      <td>2</td>\n",
       "      <td>26.0</td>\n",
       "    </tr>\n",
       "    <tr>\n",
       "      <th>11327</th>\n",
       "      <td>1534</td>\n",
       "      <td>8</td>\n",
       "      <td>free</td>\n",
       "      <td>7622.453034</td>\n",
       "      <td>2</td>\n",
       "      <td>48.0</td>\n",
       "    </tr>\n",
       "    <tr>\n",
       "      <th>11328</th>\n",
       "      <td>1534</td>\n",
       "      <td>9</td>\n",
       "      <td>free</td>\n",
       "      <td>4928.173852</td>\n",
       "      <td>1</td>\n",
       "      <td>23.0</td>\n",
       "    </tr>\n",
       "    <tr>\n",
       "      <th>11329</th>\n",
       "      <td>1534</td>\n",
       "      <td>11</td>\n",
       "      <td>free</td>\n",
       "      <td>13350.015305</td>\n",
       "      <td>4</td>\n",
       "      <td>78.0</td>\n",
       "    </tr>\n",
       "    <tr>\n",
       "      <th>11330</th>\n",
       "      <td>1534</td>\n",
       "      <td>12</td>\n",
       "      <td>free</td>\n",
       "      <td>2371.711192</td>\n",
       "      <td>1</td>\n",
       "      <td>16.0</td>\n",
       "    </tr>\n",
       "  </tbody>\n",
       "</table>\n",
       "<p>11331 rows × 6 columns</p>\n",
       "</div>"
      ],
      "text/plain": [
       "       user_id  month subscription_type  sum_distance  count_trips  \\\n",
       "0            1      1             ultra   7027.511294            2   \n",
       "1            1      4             ultra    754.159807            1   \n",
       "2            1      8             ultra   6723.470560            2   \n",
       "3            1     10             ultra   5809.911100            2   \n",
       "4            1     11             ultra   7003.499363            3   \n",
       "...        ...    ...               ...           ...          ...   \n",
       "11326     1534      6              free   3409.468534            2   \n",
       "11327     1534      8              free   7622.453034            2   \n",
       "11328     1534      9              free   4928.173852            1   \n",
       "11329     1534     11              free  13350.015305            4   \n",
       "11330     1534     12              free   2371.711192            1   \n",
       "\n",
       "       sum_duration  \n",
       "0              42.0  \n",
       "1               7.0  \n",
       "2              46.0  \n",
       "3              32.0  \n",
       "4              56.0  \n",
       "...             ...  \n",
       "11326          26.0  \n",
       "11327          48.0  \n",
       "11328          23.0  \n",
       "11329          78.0  \n",
       "11330          16.0  \n",
       "\n",
       "[11331 rows x 6 columns]"
      ]
     },
     "execution_count": 32,
     "metadata": {},
     "output_type": "execute_result"
    }
   ],
   "source": [
    "# Округляем продолжительность поездки\n",
    "merged_df['duration'] = np.ceil(rides_df['duration'])\n",
    "\n",
    "# Создаём сводную таблицу с агрегированными данными\n",
    "agg_df = merged_df.pivot_table(index=['user_id', \"month\", \"subscription_type\"], values=['distance', 'duration'], \n",
    "                               aggfunc={'distance': 'sum', 'duration': ['count', 'sum']})\n",
    "\n",
    "# Переименуем столбцы\n",
    "agg_df.columns = ['sum_distance', 'count_trips', 'sum_duration']\n",
    "\n",
    "# Сбросим индекс\n",
    "agg_df = agg_df.reset_index()\n",
    "\n",
    "# Выводим датафрейм agg_df на экран\n",
    "agg_df"
   ]
  },
  {
   "cell_type": "markdown",
   "id": "5a30910a",
   "metadata": {},
   "source": [
    "**5.2 Добавим столбец с помесячной выручкой, которую принёс каждый пользователь**"
   ]
  },
  {
   "cell_type": "code",
   "execution_count": 33,
   "id": "a350e5de",
   "metadata": {},
   "outputs": [
    {
     "data": {
      "text/html": [
       "<div>\n",
       "<style scoped>\n",
       "    .dataframe tbody tr th:only-of-type {\n",
       "        vertical-align: middle;\n",
       "    }\n",
       "\n",
       "    .dataframe tbody tr th {\n",
       "        vertical-align: top;\n",
       "    }\n",
       "\n",
       "    .dataframe thead th {\n",
       "        text-align: right;\n",
       "    }\n",
       "</style>\n",
       "<table border=\"1\" class=\"dataframe\">\n",
       "  <thead>\n",
       "    <tr style=\"text-align: right;\">\n",
       "      <th></th>\n",
       "      <th>user_id</th>\n",
       "      <th>month</th>\n",
       "      <th>subscription_type</th>\n",
       "      <th>sum_distance</th>\n",
       "      <th>count_trips</th>\n",
       "      <th>sum_duration</th>\n",
       "      <th>monthly_revenue</th>\n",
       "    </tr>\n",
       "  </thead>\n",
       "  <tbody>\n",
       "    <tr>\n",
       "      <th>0</th>\n",
       "      <td>1</td>\n",
       "      <td>1</td>\n",
       "      <td>ultra</td>\n",
       "      <td>7027.511294</td>\n",
       "      <td>2</td>\n",
       "      <td>42.0</td>\n",
       "      <td>451.0</td>\n",
       "    </tr>\n",
       "    <tr>\n",
       "      <th>1</th>\n",
       "      <td>1</td>\n",
       "      <td>4</td>\n",
       "      <td>ultra</td>\n",
       "      <td>754.159807</td>\n",
       "      <td>1</td>\n",
       "      <td>7.0</td>\n",
       "      <td>241.0</td>\n",
       "    </tr>\n",
       "    <tr>\n",
       "      <th>2</th>\n",
       "      <td>1</td>\n",
       "      <td>8</td>\n",
       "      <td>ultra</td>\n",
       "      <td>6723.470560</td>\n",
       "      <td>2</td>\n",
       "      <td>46.0</td>\n",
       "      <td>475.0</td>\n",
       "    </tr>\n",
       "    <tr>\n",
       "      <th>3</th>\n",
       "      <td>1</td>\n",
       "      <td>10</td>\n",
       "      <td>ultra</td>\n",
       "      <td>5809.911100</td>\n",
       "      <td>2</td>\n",
       "      <td>32.0</td>\n",
       "      <td>391.0</td>\n",
       "    </tr>\n",
       "    <tr>\n",
       "      <th>4</th>\n",
       "      <td>1</td>\n",
       "      <td>11</td>\n",
       "      <td>ultra</td>\n",
       "      <td>7003.499363</td>\n",
       "      <td>3</td>\n",
       "      <td>56.0</td>\n",
       "      <td>535.0</td>\n",
       "    </tr>\n",
       "    <tr>\n",
       "      <th>...</th>\n",
       "      <td>...</td>\n",
       "      <td>...</td>\n",
       "      <td>...</td>\n",
       "      <td>...</td>\n",
       "      <td>...</td>\n",
       "      <td>...</td>\n",
       "      <td>...</td>\n",
       "    </tr>\n",
       "    <tr>\n",
       "      <th>11326</th>\n",
       "      <td>1534</td>\n",
       "      <td>6</td>\n",
       "      <td>free</td>\n",
       "      <td>3409.468534</td>\n",
       "      <td>2</td>\n",
       "      <td>26.0</td>\n",
       "      <td>308.0</td>\n",
       "    </tr>\n",
       "    <tr>\n",
       "      <th>11327</th>\n",
       "      <td>1534</td>\n",
       "      <td>8</td>\n",
       "      <td>free</td>\n",
       "      <td>7622.453034</td>\n",
       "      <td>2</td>\n",
       "      <td>48.0</td>\n",
       "      <td>484.0</td>\n",
       "    </tr>\n",
       "    <tr>\n",
       "      <th>11328</th>\n",
       "      <td>1534</td>\n",
       "      <td>9</td>\n",
       "      <td>free</td>\n",
       "      <td>4928.173852</td>\n",
       "      <td>1</td>\n",
       "      <td>23.0</td>\n",
       "      <td>234.0</td>\n",
       "    </tr>\n",
       "    <tr>\n",
       "      <th>11329</th>\n",
       "      <td>1534</td>\n",
       "      <td>11</td>\n",
       "      <td>free</td>\n",
       "      <td>13350.015305</td>\n",
       "      <td>4</td>\n",
       "      <td>78.0</td>\n",
       "      <td>824.0</td>\n",
       "    </tr>\n",
       "    <tr>\n",
       "      <th>11330</th>\n",
       "      <td>1534</td>\n",
       "      <td>12</td>\n",
       "      <td>free</td>\n",
       "      <td>2371.711192</td>\n",
       "      <td>1</td>\n",
       "      <td>16.0</td>\n",
       "      <td>178.0</td>\n",
       "    </tr>\n",
       "  </tbody>\n",
       "</table>\n",
       "<p>11331 rows × 7 columns</p>\n",
       "</div>"
      ],
      "text/plain": [
       "       user_id  month subscription_type  sum_distance  count_trips  \\\n",
       "0            1      1             ultra   7027.511294            2   \n",
       "1            1      4             ultra    754.159807            1   \n",
       "2            1      8             ultra   6723.470560            2   \n",
       "3            1     10             ultra   5809.911100            2   \n",
       "4            1     11             ultra   7003.499363            3   \n",
       "...        ...    ...               ...           ...          ...   \n",
       "11326     1534      6              free   3409.468534            2   \n",
       "11327     1534      8              free   7622.453034            2   \n",
       "11328     1534      9              free   4928.173852            1   \n",
       "11329     1534     11              free  13350.015305            4   \n",
       "11330     1534     12              free   2371.711192            1   \n",
       "\n",
       "       sum_duration  monthly_revenue  \n",
       "0              42.0            451.0  \n",
       "1               7.0            241.0  \n",
       "2              46.0            475.0  \n",
       "3              32.0            391.0  \n",
       "4              56.0            535.0  \n",
       "...             ...              ...  \n",
       "11326          26.0            308.0  \n",
       "11327          48.0            484.0  \n",
       "11328          23.0            234.0  \n",
       "11329          78.0            824.0  \n",
       "11330          16.0            178.0  \n",
       "\n",
       "[11331 rows x 7 columns]"
      ]
     },
     "execution_count": 33,
     "metadata": {},
     "output_type": "execute_result"
    }
   ],
   "source": [
    "# Создание функции для расчета стоимости поездки\n",
    "def calculate_revenue(row):\n",
    "    if row['subscription_type'] == 'free':\n",
    "        duration = (row['sum_duration'])\n",
    "        start_cost = 50\n",
    "        minute_cost = 8\n",
    "        revenue_without_subscription = (start_cost * row['count_trips']) + (duration * minute_cost)\n",
    "        return revenue_without_subscription\n",
    "    else:\n",
    "        duration = (row['sum_duration'])\n",
    "        start_cost = 0\n",
    "        subscription_fee = 199\n",
    "        minute_cost = 6\n",
    "    revenue_with_subscription = subscription_fee + (duration * minute_cost)\n",
    "    return revenue_with_subscription\n",
    "\n",
    "# Добавляем столбец с помесячной выручкой\n",
    "agg_df['monthly_revenue'] = agg_df.apply(calculate_revenue, axis=1)\n",
    "\n",
    "# Выводим датафрейм agg_df на экран\n",
    "agg_df"
   ]
  },
  {
   "cell_type": "markdown",
   "id": "c7df32d5",
   "metadata": {},
   "source": [
    "**Выводы по пятому шагу:**\n",
    "\n",
    "1. Создан новый датафрейм(agg_df) с агрегированными данными о поездках;\n",
    "2. Был добавлен новый столбец *monthly_revenue*, в котором хранится информация о помесячной выручке, которую принёс каждый пользователь(с подпиской и без);\n",
    "3. Посчитана выручка в месяц от пользователей с подпиской и без подписки, также посчитано количество пользователей с подпиской и без неё."
   ]
  },
  {
   "cell_type": "markdown",
   "id": "2a5862cf",
   "metadata": {},
   "source": [
    "## 6. Проверка гипотез"
   ]
  },
  {
   "cell_type": "markdown",
   "id": "92a8601e",
   "metadata": {},
   "source": [
    "**6.1 Тратят ли пользователи с подпиской больше времени на поездки?**"
   ]
  },
  {
   "cell_type": "markdown",
   "id": "6cb0a61c",
   "metadata": {},
   "source": [
    "Нулевая гипотеза **(H₀)**: Пользователи с подпиской и пользователи без подписки тратят одинаковое количество времени на поездки.\n",
    "\n",
    "Альтернативная гипотеза **(H₁)**: Пользователи с подпиской тратят больше времени на поездки по сравнению с пользователями без подписки."
   ]
  },
  {
   "cell_type": "code",
   "execution_count": 34,
   "id": "cc0e1f6c",
   "metadata": {},
   "outputs": [
    {
     "name": "stdout",
     "output_type": "stream",
     "text": [
      "среднее значение продолжительности поездок пользователей без подписки: 17.890992392807746\n",
      "среднее значение продолжительности поездок пользователей с подпиской: 19.037692307692307\n",
      "p-значение: 2.495945372073663e-34\n",
      "Разница статистически значима. Пользователи с подпиской тратят больше времени на поездки.\n"
     ]
    }
   ],
   "source": [
    "# Создание двух независимых выборок из данных\n",
    "users_without_subscription = merged_df[merged_df['subscription_type'] == \"ultra\"]['duration']\n",
    "users_with_subscription = merged_df[merged_df['subscription_type'] == \"free\"]['duration']\n",
    "\n",
    "# Проводим одновыборочный t-тест\n",
    "result = ttest_ind(users_without_subscription, users_with_subscription, alternative='greater')\n",
    "\n",
    "# Проверяем достигаемый уровень значимости\n",
    "alpha = 0.05\n",
    "\n",
    "print('среднее значение продолжительности поездок пользователей без подписки:'\n",
    "      , merged_df[merged_df['subscription_type'] == \"free\"]['duration'].mean())\n",
    "print('среднее значение продолжительности поездок пользователей с подпиской:'\n",
    "      , merged_df[merged_df['subscription_type'] == \"ultra\"]['duration'].mean())\n",
    "print('p-значение:', result.pvalue)\n",
    "\n",
    "if result.pvalue < alpha:\n",
    "    print(\"Разница статистически значима. Пользователи с подпиской тратят больше времени на поездки.\")\n",
    "else:\n",
    "    print(\"Нет статистически значимой разницы. Пользователи с подпиской не тратят больше времени на поездки.\")"
   ]
  },
  {
   "cell_type": "markdown",
   "id": "95a665ec",
   "metadata": {},
   "source": [
    "**6.2 Cреднее расстояние, которое проезжают пользователи с подпиской за одну поездку < 3130 метров?**"
   ]
  },
  {
   "cell_type": "markdown",
   "id": "7539abd2",
   "metadata": {},
   "source": [
    "Нулевая гипотеза **(H₀)**: Среднее расстояние, которое проезжают пользователи с подпиской за одну поездку, не превышает 3130 метров.\n",
    "\n",
    "Альтернативная гипотеза **(H₁)**: Среднее расстояние, которое проезжают пользователи с подпиской за одну поездку, превышает 3130 метров."
   ]
  },
  {
   "cell_type": "code",
   "execution_count": 35,
   "id": "fec1b30b",
   "metadata": {},
   "outputs": [
    {
     "name": "stdout",
     "output_type": "stream",
     "text": [
      "среднее значение дальности поездок пользователей с подпиской: 3115.4453880370247\n",
      "p-значение: 0.9195368847849785\n",
      "Не отвергаем нулевую гипотезу: среднее расстояние не превышает 3130 метров\n"
     ]
    }
   ],
   "source": [
    "# Выделяем выборку с расстояниями одной поездки для пользователей с подпиской\n",
    "data = merged_df.loc[merged_df['subscription_type'] == 'ultra', 'distance']\n",
    "\n",
    "# Задаем гипотезу H0: среднее расстояние = 3130 метров\n",
    "h0_mean_distance = 3130\n",
    "\n",
    "# Проводим одновыборочный t-тест\n",
    "result = st.ttest_1samp(data, h0_mean_distance, alternative='greater')\n",
    "\n",
    "# Проверяем достигаемый уровень значимости\n",
    "alpha = 0.05\n",
    "\n",
    "print('среднее значение дальности поездок пользователей с подпиской:'\n",
    "      , merged_df[merged_df['subscription_type'] == \"ultra\"]['distance'].mean())\n",
    "print('p-значение:', result.pvalue)\n",
    "\n",
    "if result.pvalue < alpha:\n",
    "    print(\"Отвергаем нулевую гипотезу: среднее расстояние > 3130 метров\")\n",
    "else:\n",
    "    print(\"Не отвергаем нулевую гипотезу: среднее расстояние не превышает 3130 метров\")"
   ]
  },
  {
   "cell_type": "markdown",
   "id": "b5c84fb5",
   "metadata": {},
   "source": [
    "**6.3 Помесячная выручка от пользователей с подпиской по месяцам > чем выручка от пользователей без подписки?**"
   ]
  },
  {
   "cell_type": "markdown",
   "id": "b4d1e541",
   "metadata": {},
   "source": [
    "Нулевая гипотеза **(H₀)**:: Нет статистически значимой разницы в выручке от пользователей с подпиской и без подписки.\n",
    "\n",
    "Альтернативная гипотеза  **(H₁)**: Есть статистически значимая разница в выручке от пользователей с подпиской и без подписки."
   ]
  },
  {
   "cell_type": "code",
   "execution_count": 36,
   "id": "fafa4a86",
   "metadata": {},
   "outputs": [
    {
     "name": "stdout",
     "output_type": "stream",
     "text": [
      "средние значения выручки пользователей без подписки: 328.6413651073845\n",
      "средние значения выручки пользователей с подпиской: 362.7921906022502\n",
      "p-значение: 1.8850394384715216e-31\n",
      "Есть статистически значимая разница в выручке от пользователей с подпиской и без подписки.\n"
     ]
    }
   ],
   "source": [
    "# Создание двух независимых выборок из данных\n",
    "users_without_subscription = agg_df[agg_df['subscription_type'] == 'free']['monthly_revenue']\n",
    "users_with_subscription = agg_df[agg_df['subscription_type'] == 'ultra']['monthly_revenue']\n",
    "\n",
    "# Проведение t-теста\n",
    "result = st.ttest_ind(users_with_subscription, users_without_subscription, alternative='greater')\n",
    "\n",
    "# Проверяем достигаемый уровень значимости\n",
    "alpha = 0.05\n",
    "\n",
    "print('средние значения выручки пользователей без подписки:'\n",
    "      , agg_df[agg_df['subscription_type'] == \"free\"]['monthly_revenue'].mean())\n",
    "print('средние значения выручки пользователей с подпиской:'\n",
    "      , agg_df[agg_df['subscription_type'] == \"ultra\"]['monthly_revenue'].mean())\n",
    "print('p-значение:', result.pvalue)\n",
    "\n",
    "if result.pvalue < alpha:\n",
    "    print(\"Есть статистически значимая разница в выручке от пользователей с подпиской и без подписки.\")\n",
    "else:\n",
    "    print(\"Нет статистически значимой разницы в выручке от пользователей с подпиской и без подписки.\")"
   ]
  },
  {
   "cell_type": "markdown",
   "id": "ba7e1467",
   "metadata": {},
   "source": [
    "**Выводы по шестому шагу:**\n",
    "\n",
    "Из проведенных тестов можно сделать следующие выводы:\n",
    "\n",
    "1. Пользователи с подпиской проводят больше времени на поездках по сравнению с пользователями без подписки.\n",
    "2. Среднее расстояние, которое проезжают пользователи с подпиской за одну поездку, не превышает оптимальное значение износа самоката.\n",
    "3. Есть статистически значимая разница в выручке от пользователей с подпиской и без подписки.\n",
    "4. Для проверки гипотезы о снижении количества обращений в техподдержку после обновления серверов следует использовать t-тест для связанных выборок.\n",
    "\n",
    "Таким образом, можно заключить, что пользователи с подпиской являются более выгодными для сервиса, проводят более длительные поездки и приносят больше выручки. Также, после обновления серверов, ожидается снижение количества обращений в техподдержку."
   ]
  },
  {
   "cell_type": "markdown",
   "id": "cc1fe3b8",
   "metadata": {},
   "source": [
    "## Общий вывод"
   ]
  },
  {
   "cell_type": "markdown",
   "id": "5bc925b4",
   "metadata": {},
   "source": [
    "В результате проведенного исследования были выявлены основные факторы, влияющие на выручку сервиса GoFast. \n",
    "\n",
    "В ходе исследования были выполнены следующие действия:\n",
    "1. Подготовлено окружение для анализа данных путем импортирования нужных библиотек.\n",
    "2. Загружены данные из файла и произведен основной анализ их характеристик.\n",
    "3. Выполнены необходимые преобразования данных, включая изменение типов, добавление новых столбцов и обработку пропущенных значений.\n",
    "4. Исследована информация о пользователях и поездках, а также проанализированы частота встречаемости городов, соотношение подписанных и неподписанных пользователей, а также анализ возраста, продолжительности и расстояния поездок.\n",
    "5. Данные о пользователях, поездках и подписках объединены в одной таблице, также были созданы отдельные таблицы для подписанных и неподписанных пользователей.\n",
    "6. Проведена визуализация данных о времени и расстоянии поездок для обеих категорий пользователей.\n",
    "7. Вычислена общая выручка на основе сагрегированных данных о поездках и добавлен столбец с ежемесячной выручкой.\n",
    "8. Проверены несколько гипотез, связанных с временем, расстоянием и выручкой от поездок пользователей с подпиской и без подписки.\n",
    "9. Основываясь на полученных результатах исследования, сделаны выводы.\n",
    "\n",
    "Выручка от услуг сервиса GoFast зависит от различных факторов, включая категорию пользователей, их предпочтения и поведение. Анализ данных показал, что пользователи с подпиской осуществляют больше поездок, имеют большую продолжительность и длину поездок, а также приносят большую выручку по сравнению с пользователями без подписки.\n",
    "\n",
    "**В ходе проведенного исследования были проверены следующие гипотезы:**\n",
    "\n",
    "**6.1 Тратят ли пользователи с подпиской больше времени на поездки?**\n",
    "\n",
    "**6.2 Cреднее расстояние, которое проезжают пользователи с подпиской за одну поездку < 3130 метров?**\n",
    "\n",
    "**6.3 Помесячная выручка от пользователей с подпиской по месяцам > чем выручка от пользователей без подписки?**\n",
    "\n",
    "**6.4 Позволит ли обновление сервера снизить количество обращений в техподдержку? Какой тест понадобился бы для проверки этой гипотезы?**\n",
    "\n",
    "\n",
    "По результатам анализа данных было выявлено, что нет статистически значимой разницы, пользователи с подпиской тратят больше времени на поездки. Также было выяснено, что среднее расстояние, которое проезжают пользователи с подпиской за одну поездку, не превышает оптимальное значение в 3130 метров. \n",
    "\n",
    "Однако, наиболее важным фактором, влияющим на выручку от услуг сервиса GoFast, является наличие подписки. Было обнаружено, что выручка от пользователей с подпиской значительно меньше выручки от пользователей без подписки.\n",
    "\n",
    "Итак, основные выводы и рекомендации для бизнеса:\n",
    "- Стимулирование пользователей к оформлению подписки может увеличить выручку сервиса, так как пользователи с подпиской охотнее совершают поездки, проводят на них больше времени и проезжают большее расстояние.\n",
    "- Следует обратить внимание на увеличение продолжительности поездок и расстояния, которое проезжают пользователи с подпиской, так как это позволит увеличить выручку еще больше.\n",
    "- Важно проводить мониторинг и анализ выручки по месяцам, чтобы определить тенденции и эффективность маркетинговых акций, направленных на привлечение новых клиентов и удержание существующих.\n",
    "- Технические улучшения, включая обновление серверов и мобильного приложения, могут способствовать снижению количества обращений в техподдержку и повышению общей удовлетворенности пользователей.\n",
    "\n",
    "Таким образом, анализ данных позволяет определить основные факторы, влияющие на выручку от услуг сервиса GoFast, и предоставляет рекомендации для бизнеса по оптимизации и увеличению выручки."
   ]
  }
 ],
 "metadata": {
  "ExecuteTimeLog": [
   {
    "duration": 1378,
    "start_time": "2023-11-07T17:23:15.767Z"
   },
   {
    "duration": 105,
    "start_time": "2023-11-07T17:23:17.149Z"
   },
   {
    "duration": 0,
    "start_time": "2023-11-07T17:23:17.256Z"
   },
   {
    "duration": 0,
    "start_time": "2023-11-07T17:23:17.258Z"
   },
   {
    "duration": 0,
    "start_time": "2023-11-07T17:23:17.261Z"
   },
   {
    "duration": 0,
    "start_time": "2023-11-07T17:23:17.262Z"
   },
   {
    "duration": 0,
    "start_time": "2023-11-07T17:23:17.263Z"
   },
   {
    "duration": 0,
    "start_time": "2023-11-07T17:23:17.264Z"
   },
   {
    "duration": 0,
    "start_time": "2023-11-07T17:23:17.265Z"
   },
   {
    "duration": 0,
    "start_time": "2023-11-07T17:23:17.267Z"
   },
   {
    "duration": 0,
    "start_time": "2023-11-07T17:23:17.268Z"
   },
   {
    "duration": 0,
    "start_time": "2023-11-07T17:23:17.269Z"
   },
   {
    "duration": 0,
    "start_time": "2023-11-07T17:23:17.270Z"
   },
   {
    "duration": 0,
    "start_time": "2023-11-07T17:23:17.271Z"
   },
   {
    "duration": 0,
    "start_time": "2023-11-07T17:23:17.272Z"
   },
   {
    "duration": 0,
    "start_time": "2023-11-07T17:23:17.273Z"
   },
   {
    "duration": 0,
    "start_time": "2023-11-07T17:23:17.274Z"
   },
   {
    "duration": 0,
    "start_time": "2023-11-07T17:23:17.275Z"
   },
   {
    "duration": 0,
    "start_time": "2023-11-07T17:23:17.278Z"
   },
   {
    "duration": 0,
    "start_time": "2023-11-07T17:23:17.279Z"
   },
   {
    "duration": 0,
    "start_time": "2023-11-07T17:23:17.280Z"
   },
   {
    "duration": 0,
    "start_time": "2023-11-07T17:23:17.282Z"
   },
   {
    "duration": 0,
    "start_time": "2023-11-07T17:23:17.283Z"
   },
   {
    "duration": 0,
    "start_time": "2023-11-07T17:23:17.285Z"
   },
   {
    "duration": 0,
    "start_time": "2023-11-07T17:23:17.287Z"
   },
   {
    "duration": 0,
    "start_time": "2023-11-07T17:23:17.289Z"
   },
   {
    "duration": 0,
    "start_time": "2023-11-07T17:23:17.290Z"
   },
   {
    "duration": 0,
    "start_time": "2023-11-07T17:23:17.291Z"
   },
   {
    "duration": 0,
    "start_time": "2023-11-07T17:23:17.293Z"
   },
   {
    "duration": 0,
    "start_time": "2023-11-07T17:23:17.294Z"
   },
   {
    "duration": 0,
    "start_time": "2023-11-07T17:23:17.295Z"
   },
   {
    "duration": 0,
    "start_time": "2023-11-07T17:23:17.309Z"
   },
   {
    "duration": 0,
    "start_time": "2023-11-07T17:23:17.310Z"
   },
   {
    "duration": 0,
    "start_time": "2023-11-07T17:23:17.310Z"
   },
   {
    "duration": 0,
    "start_time": "2023-11-07T17:23:17.311Z"
   },
   {
    "duration": 0,
    "start_time": "2023-11-07T17:23:17.312Z"
   },
   {
    "duration": 0,
    "start_time": "2023-11-07T17:23:17.315Z"
   },
   {
    "duration": 0,
    "start_time": "2023-11-07T17:23:17.316Z"
   },
   {
    "duration": 204,
    "start_time": "2023-11-07T17:25:36.513Z"
   },
   {
    "duration": 1125,
    "start_time": "2023-11-07T17:25:41.123Z"
   },
   {
    "duration": 72,
    "start_time": "2023-11-07T17:25:42.250Z"
   },
   {
    "duration": 10,
    "start_time": "2023-11-07T17:25:42.324Z"
   },
   {
    "duration": 21,
    "start_time": "2023-11-07T17:25:42.336Z"
   },
   {
    "duration": 24,
    "start_time": "2023-11-07T17:25:42.359Z"
   },
   {
    "duration": 14,
    "start_time": "2023-11-07T17:25:42.384Z"
   },
   {
    "duration": 8,
    "start_time": "2023-11-07T17:25:42.400Z"
   },
   {
    "duration": 21,
    "start_time": "2023-11-07T17:25:42.409Z"
   },
   {
    "duration": 21,
    "start_time": "2023-11-07T17:25:42.432Z"
   },
   {
    "duration": 14,
    "start_time": "2023-11-07T17:25:42.455Z"
   },
   {
    "duration": 4,
    "start_time": "2023-11-07T17:25:42.471Z"
   },
   {
    "duration": 6,
    "start_time": "2023-11-07T17:25:42.477Z"
   },
   {
    "duration": 38,
    "start_time": "2023-11-07T17:25:42.485Z"
   },
   {
    "duration": 47,
    "start_time": "2023-11-07T17:25:42.526Z"
   },
   {
    "duration": 11,
    "start_time": "2023-11-07T17:25:42.575Z"
   },
   {
    "duration": 22,
    "start_time": "2023-11-07T17:25:42.588Z"
   },
   {
    "duration": 15,
    "start_time": "2023-11-07T17:25:42.612Z"
   },
   {
    "duration": 5,
    "start_time": "2023-11-07T17:25:42.629Z"
   },
   {
    "duration": 14,
    "start_time": "2023-11-07T17:25:42.635Z"
   },
   {
    "duration": 215,
    "start_time": "2023-11-07T17:25:42.650Z"
   },
   {
    "duration": 142,
    "start_time": "2023-11-07T17:25:42.867Z"
   },
   {
    "duration": 297,
    "start_time": "2023-11-07T17:25:43.011Z"
   },
   {
    "duration": 18,
    "start_time": "2023-11-07T17:25:43.309Z"
   },
   {
    "duration": 199,
    "start_time": "2023-11-07T17:25:43.329Z"
   },
   {
    "duration": 12,
    "start_time": "2023-11-07T17:25:43.529Z"
   },
   {
    "duration": 212,
    "start_time": "2023-11-07T17:25:43.542Z"
   },
   {
    "duration": 37,
    "start_time": "2023-11-07T17:25:43.755Z"
   },
   {
    "duration": 44,
    "start_time": "2023-11-07T17:25:43.794Z"
   },
   {
    "duration": 22,
    "start_time": "2023-11-07T17:25:43.839Z"
   },
   {
    "duration": 219,
    "start_time": "2023-11-07T17:25:43.862Z"
   },
   {
    "duration": 188,
    "start_time": "2023-11-07T17:25:44.083Z"
   },
   {
    "duration": 251,
    "start_time": "2023-11-07T17:25:44.272Z"
   },
   {
    "duration": 186,
    "start_time": "2023-11-07T17:25:44.525Z"
   },
   {
    "duration": 44,
    "start_time": "2023-11-07T17:25:44.713Z"
   },
   {
    "duration": 140,
    "start_time": "2023-11-07T17:25:44.759Z"
   },
   {
    "duration": 18,
    "start_time": "2023-11-07T17:25:44.901Z"
   },
   {
    "duration": 9,
    "start_time": "2023-11-07T17:25:44.923Z"
   },
   {
    "duration": 12,
    "start_time": "2023-11-07T17:25:44.934Z"
   },
   {
    "duration": 7,
    "start_time": "2023-11-07T17:31:11.159Z"
   },
   {
    "duration": 1128,
    "start_time": "2023-11-07T17:34:54.754Z"
   },
   {
    "duration": 84,
    "start_time": "2023-11-07T17:34:55.884Z"
   },
   {
    "duration": 15,
    "start_time": "2023-11-07T17:34:55.971Z"
   },
   {
    "duration": 55,
    "start_time": "2023-11-07T17:34:55.989Z"
   },
   {
    "duration": 20,
    "start_time": "2023-11-07T17:34:56.046Z"
   },
   {
    "duration": 22,
    "start_time": "2023-11-07T17:34:56.068Z"
   },
   {
    "duration": 10,
    "start_time": "2023-11-07T17:34:56.092Z"
   },
   {
    "duration": 23,
    "start_time": "2023-11-07T17:34:56.103Z"
   },
   {
    "duration": 18,
    "start_time": "2023-11-07T17:34:56.130Z"
   },
   {
    "duration": 7,
    "start_time": "2023-11-07T17:34:56.151Z"
   },
   {
    "duration": 13,
    "start_time": "2023-11-07T17:34:56.160Z"
   },
   {
    "duration": 17,
    "start_time": "2023-11-07T17:34:56.175Z"
   },
   {
    "duration": 36,
    "start_time": "2023-11-07T17:34:56.194Z"
   },
   {
    "duration": 68,
    "start_time": "2023-11-07T17:34:56.232Z"
   },
   {
    "duration": 16,
    "start_time": "2023-11-07T17:34:56.302Z"
   },
   {
    "duration": 19,
    "start_time": "2023-11-07T17:34:56.319Z"
   },
   {
    "duration": 20,
    "start_time": "2023-11-07T17:34:56.340Z"
   },
   {
    "duration": 5,
    "start_time": "2023-11-07T17:34:56.361Z"
   },
   {
    "duration": 20,
    "start_time": "2023-11-07T17:34:56.368Z"
   },
   {
    "duration": 213,
    "start_time": "2023-11-07T17:34:56.391Z"
   },
   {
    "duration": 146,
    "start_time": "2023-11-07T17:34:56.606Z"
   },
   {
    "duration": 313,
    "start_time": "2023-11-07T17:34:56.753Z"
   },
   {
    "duration": 12,
    "start_time": "2023-11-07T17:34:57.068Z"
   },
   {
    "duration": 243,
    "start_time": "2023-11-07T17:34:57.082Z"
   },
   {
    "duration": 12,
    "start_time": "2023-11-07T17:34:57.328Z"
   },
   {
    "duration": 222,
    "start_time": "2023-11-07T17:34:57.342Z"
   },
   {
    "duration": 44,
    "start_time": "2023-11-07T17:34:57.566Z"
   },
   {
    "duration": 23,
    "start_time": "2023-11-07T17:34:57.622Z"
   },
   {
    "duration": 22,
    "start_time": "2023-11-07T17:34:57.647Z"
   },
   {
    "duration": 206,
    "start_time": "2023-11-07T17:34:57.670Z"
   },
   {
    "duration": 206,
    "start_time": "2023-11-07T17:34:57.878Z"
   },
   {
    "duration": 281,
    "start_time": "2023-11-07T17:34:58.086Z"
   },
   {
    "duration": 249,
    "start_time": "2023-11-07T17:34:58.369Z"
   },
   {
    "duration": 41,
    "start_time": "2023-11-07T17:34:58.619Z"
   },
   {
    "duration": 155,
    "start_time": "2023-11-07T17:34:58.661Z"
   },
   {
    "duration": 11,
    "start_time": "2023-11-07T17:34:58.819Z"
   },
   {
    "duration": 21,
    "start_time": "2023-11-07T17:34:58.831Z"
   },
   {
    "duration": 16,
    "start_time": "2023-11-07T17:34:58.854Z"
   },
   {
    "duration": 1138,
    "start_time": "2023-11-08T14:52:03.653Z"
   },
   {
    "duration": 82,
    "start_time": "2023-11-08T14:52:04.792Z"
   },
   {
    "duration": 13,
    "start_time": "2023-11-08T14:52:04.875Z"
   },
   {
    "duration": 18,
    "start_time": "2023-11-08T14:52:04.891Z"
   },
   {
    "duration": 27,
    "start_time": "2023-11-08T14:52:04.911Z"
   },
   {
    "duration": 20,
    "start_time": "2023-11-08T14:52:04.940Z"
   },
   {
    "duration": 7,
    "start_time": "2023-11-08T14:52:04.961Z"
   },
   {
    "duration": 11,
    "start_time": "2023-11-08T14:52:04.970Z"
   },
   {
    "duration": 14,
    "start_time": "2023-11-08T14:52:04.982Z"
   },
   {
    "duration": 21,
    "start_time": "2023-11-08T14:52:04.999Z"
   },
   {
    "duration": 21,
    "start_time": "2023-11-08T14:52:05.022Z"
   },
   {
    "duration": 73,
    "start_time": "2023-11-08T14:52:05.045Z"
   },
   {
    "duration": 29,
    "start_time": "2023-11-08T14:52:05.120Z"
   },
   {
    "duration": 19,
    "start_time": "2023-11-08T14:52:05.150Z"
   },
   {
    "duration": 68,
    "start_time": "2023-11-08T14:52:05.170Z"
   },
   {
    "duration": 11,
    "start_time": "2023-11-08T14:52:05.240Z"
   },
   {
    "duration": 17,
    "start_time": "2023-11-08T14:52:05.253Z"
   },
   {
    "duration": 16,
    "start_time": "2023-11-08T14:52:05.272Z"
   },
   {
    "duration": 7,
    "start_time": "2023-11-08T14:52:05.290Z"
   },
   {
    "duration": 21,
    "start_time": "2023-11-08T14:52:05.298Z"
   },
   {
    "duration": 226,
    "start_time": "2023-11-08T14:52:05.321Z"
   },
   {
    "duration": 133,
    "start_time": "2023-11-08T14:52:05.548Z"
   },
   {
    "duration": 293,
    "start_time": "2023-11-08T14:52:05.683Z"
   },
   {
    "duration": 15,
    "start_time": "2023-11-08T14:52:05.978Z"
   },
   {
    "duration": 248,
    "start_time": "2023-11-08T14:52:05.995Z"
   },
   {
    "duration": 12,
    "start_time": "2023-11-08T14:52:06.245Z"
   },
   {
    "duration": 237,
    "start_time": "2023-11-08T14:52:06.258Z"
   },
   {
    "duration": 46,
    "start_time": "2023-11-08T14:52:06.498Z"
   },
   {
    "duration": 5,
    "start_time": "2023-11-08T14:52:06.546Z"
   },
   {
    "duration": 41,
    "start_time": "2023-11-08T14:52:06.552Z"
   },
   {
    "duration": 26,
    "start_time": "2023-11-08T14:52:06.594Z"
   },
   {
    "duration": 270,
    "start_time": "2023-11-08T14:52:06.634Z"
   },
   {
    "duration": 281,
    "start_time": "2023-11-08T14:52:06.906Z"
   },
   {
    "duration": 58,
    "start_time": "2023-11-08T14:52:07.189Z"
   },
   {
    "duration": 144,
    "start_time": "2023-11-08T14:52:07.249Z"
   },
   {
    "duration": 36,
    "start_time": "2023-11-08T14:52:07.395Z"
   },
   {
    "duration": 12,
    "start_time": "2023-11-08T14:52:07.434Z"
   },
   {
    "duration": 36,
    "start_time": "2023-11-08T14:52:07.448Z"
   },
   {
    "duration": 1205,
    "start_time": "2023-11-08T15:00:38.701Z"
   },
   {
    "duration": 73,
    "start_time": "2023-11-08T15:00:39.908Z"
   },
   {
    "duration": 11,
    "start_time": "2023-11-08T15:00:39.983Z"
   },
   {
    "duration": 55,
    "start_time": "2023-11-08T15:00:39.996Z"
   },
   {
    "duration": 61,
    "start_time": "2023-11-08T15:00:40.053Z"
   },
   {
    "duration": 39,
    "start_time": "2023-11-08T15:00:40.115Z"
   },
   {
    "duration": 31,
    "start_time": "2023-11-08T15:00:40.156Z"
   },
   {
    "duration": 55,
    "start_time": "2023-11-08T15:00:40.189Z"
   },
   {
    "duration": 88,
    "start_time": "2023-11-08T15:00:40.246Z"
   },
   {
    "duration": 36,
    "start_time": "2023-11-08T15:00:40.337Z"
   },
   {
    "duration": 20,
    "start_time": "2023-11-08T15:00:40.375Z"
   },
   {
    "duration": 40,
    "start_time": "2023-11-08T15:00:40.397Z"
   },
   {
    "duration": 29,
    "start_time": "2023-11-08T15:00:40.439Z"
   },
   {
    "duration": 45,
    "start_time": "2023-11-08T15:00:40.470Z"
   },
   {
    "duration": 86,
    "start_time": "2023-11-08T15:00:40.516Z"
   },
   {
    "duration": 34,
    "start_time": "2023-11-08T15:00:40.603Z"
   },
   {
    "duration": 31,
    "start_time": "2023-11-08T15:00:40.639Z"
   },
   {
    "duration": 29,
    "start_time": "2023-11-08T15:00:40.672Z"
   },
   {
    "duration": 16,
    "start_time": "2023-11-08T15:00:40.702Z"
   },
   {
    "duration": 34,
    "start_time": "2023-11-08T15:00:40.719Z"
   },
   {
    "duration": 238,
    "start_time": "2023-11-08T15:00:40.755Z"
   },
   {
    "duration": 147,
    "start_time": "2023-11-08T15:00:40.995Z"
   },
   {
    "duration": 256,
    "start_time": "2023-11-08T15:00:41.144Z"
   },
   {
    "duration": 16,
    "start_time": "2023-11-08T15:00:41.402Z"
   },
   {
    "duration": 248,
    "start_time": "2023-11-08T15:00:41.429Z"
   },
   {
    "duration": 12,
    "start_time": "2023-11-08T15:00:41.679Z"
   },
   {
    "duration": 272,
    "start_time": "2023-11-08T15:00:41.693Z"
   },
   {
    "duration": 35,
    "start_time": "2023-11-08T15:00:41.969Z"
   },
   {
    "duration": 27,
    "start_time": "2023-11-08T15:00:42.006Z"
   },
   {
    "duration": 46,
    "start_time": "2023-11-08T15:00:42.036Z"
   },
   {
    "duration": 53,
    "start_time": "2023-11-08T15:00:42.084Z"
   },
   {
    "duration": 281,
    "start_time": "2023-11-08T15:00:42.139Z"
   },
   {
    "duration": 279,
    "start_time": "2023-11-08T15:00:42.422Z"
   },
   {
    "duration": 54,
    "start_time": "2023-11-08T15:00:42.702Z"
   },
   {
    "duration": 147,
    "start_time": "2023-11-08T15:00:42.758Z"
   },
   {
    "duration": 31,
    "start_time": "2023-11-08T15:00:42.907Z"
   },
   {
    "duration": 65,
    "start_time": "2023-11-08T15:00:42.940Z"
   },
   {
    "duration": 48,
    "start_time": "2023-11-08T15:00:43.006Z"
   }
  ],
  "kernelspec": {
   "display_name": "Python 3 (ipykernel)",
   "language": "python",
   "name": "python3"
  },
  "language_info": {
   "codemirror_mode": {
    "name": "ipython",
    "version": 3
   },
   "file_extension": ".py",
   "mimetype": "text/x-python",
   "name": "python",
   "nbconvert_exporter": "python",
   "pygments_lexer": "ipython3",
   "version": "3.9.5"
  },
  "toc": {
   "base_numbering": 1,
   "nav_menu": {},
   "number_sections": true,
   "sideBar": true,
   "skip_h1_title": true,
   "title_cell": "Table of Contents",
   "title_sidebar": "Contents",
   "toc_cell": false,
   "toc_position": {},
   "toc_section_display": true,
   "toc_window_display": false
  }
 },
 "nbformat": 4,
 "nbformat_minor": 5
}
