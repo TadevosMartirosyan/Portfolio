{
 "cells": [
  {
   "cell_type": "markdown",
   "metadata": {},
   "source": [
    "# Проект телекоммуникации\n",
    "Оператор связи \"ТелеДом\" стремится снизить отток клиентов, предлагая им специальные условия, если они планируют отказаться от услуг. Для этого необходима модель МО, которая способна предсказывать, разорвёт ли абонент договор. Команда оператора собрала персональные данные клиентов, а также информацию о их тарифах и услугах с целью разработки такой модели.\n",
    "\n",
    "***Цель исследования:*** заключается в обучении модели машинного обучения, способной предсказывать отток клиентов оператора связи \"ТелеДом\"."
   ]
  },
  {
   "cell_type": "code",
   "execution_count": 1,
   "metadata": {},
   "outputs": [],
   "source": [
    "import pandas as pd\n",
    "import numpy as np\n",
    "import seaborn as sns\n",
    "import matplotlib.pyplot as plt\n",
    "from skimpy import clean_columns\n",
    "from sklearn.linear_model import LogisticRegression\n",
    "from catboost import CatBoostClassifier\n",
    "from sklearn.model_selection import (\n",
    "    train_test_split, GridSearchCV)\n",
    "from sklearn.preprocessing import (\n",
    "    OneHotEncoder, StandardScaler, MinMaxScaler)\n",
    "from sklearn.metrics import roc_auc_score\n",
    "from sklearn.pipeline import Pipeline\n",
    "from sklearn.compose import ColumnTransformer\n",
    "from sklearn.impute import SimpleImputer\n",
    "from sklearn.tree import DecisionTreeClassifier\n",
    "from sklearn.neighbors import KNeighborsClassifier\n",
    "from sklearn.svm import SVC\n",
    "import shap \n",
    "import warnings\n",
    "warnings.simplefilter(action='ignore', category=FutureWarning)"
   ]
  },
  {
   "cell_type": "markdown",
   "metadata": {},
   "source": [
    "## 1. Загрузка данных\n",
    "#### 1.1 Загрузка данных и изучение общей информации"
   ]
  },
  {
   "cell_type": "code",
   "execution_count": 2,
   "metadata": {},
   "outputs": [],
   "source": [
    "try:\n",
    "    contract_df = pd.read_csv(\"/datasets/contract_new.csv\", parse_dates=['BeginDate'])\n",
    "    person_df = pd.read_csv(\"/datasets/personal_new.csv\")\n",
    "    internet_df = pd.read_csv(\"/datasets/internet_new.csv\")\n",
    "    phone_df = pd.read_csv(\"/datasets/phone_new.csv\")\n",
    "except FileNotFoundError:\n",
    "    contract_df = pd.read_csv(r\"C:\\Users\\Тадевос\\Tadevos\\USER\\Desktop\\Курсы\\Модуль 4\\Датасеты к проектам\\Диплом\\contract_new.csv\", parse_dates=['BeginDate'])\n",
    "    person_df = pd.read_csv(r\"C:\\Users\\Тадевос\\Tadevos\\USER\\Desktop\\Курсы\\Модуль 4\\Датасеты к проектам\\Диплом\\personal_new.csv\")\n",
    "    internet_df = pd.read_csv(r\"C:\\Users\\Тадевос\\Tadevos\\USER\\Desktop\\Курсы\\Модуль 4\\Датасеты к проектам\\Диплом\\internet_new.csv\")\n",
    "    phone_df = pd.read_csv(r\"C:\\Users\\Тадевос\\Tadevos\\USER\\Desktop\\Курсы\\Модуль 4\\Датасеты к проектам\\Диплом\\phone_new.csv\")"
   ]
  },
  {
   "cell_type": "code",
   "execution_count": 3,
   "metadata": {},
   "outputs": [
    {
     "data": {
      "text/html": [
       "<div>\n",
       "<style scoped>\n",
       "    .dataframe tbody tr th:only-of-type {\n",
       "        vertical-align: middle;\n",
       "    }\n",
       "\n",
       "    .dataframe tbody tr th {\n",
       "        vertical-align: top;\n",
       "    }\n",
       "\n",
       "    .dataframe thead th {\n",
       "        text-align: right;\n",
       "    }\n",
       "</style>\n",
       "<table border=\"1\" class=\"dataframe\">\n",
       "  <thead>\n",
       "    <tr style=\"text-align: right;\">\n",
       "      <th></th>\n",
       "      <th>customerID</th>\n",
       "      <th>BeginDate</th>\n",
       "      <th>EndDate</th>\n",
       "      <th>Type</th>\n",
       "      <th>PaperlessBilling</th>\n",
       "      <th>PaymentMethod</th>\n",
       "      <th>MonthlyCharges</th>\n",
       "      <th>TotalCharges</th>\n",
       "    </tr>\n",
       "  </thead>\n",
       "  <tbody>\n",
       "    <tr>\n",
       "      <th>0</th>\n",
       "      <td>7590-VHVEG</td>\n",
       "      <td>2020-01-01</td>\n",
       "      <td>No</td>\n",
       "      <td>Month-to-month</td>\n",
       "      <td>Yes</td>\n",
       "      <td>Electronic check</td>\n",
       "      <td>29.85</td>\n",
       "      <td>31.04</td>\n",
       "    </tr>\n",
       "    <tr>\n",
       "      <th>1</th>\n",
       "      <td>5575-GNVDE</td>\n",
       "      <td>2017-04-01</td>\n",
       "      <td>No</td>\n",
       "      <td>One year</td>\n",
       "      <td>No</td>\n",
       "      <td>Mailed check</td>\n",
       "      <td>56.95</td>\n",
       "      <td>2071.84</td>\n",
       "    </tr>\n",
       "    <tr>\n",
       "      <th>2</th>\n",
       "      <td>3668-QPYBK</td>\n",
       "      <td>2019-10-01</td>\n",
       "      <td>No</td>\n",
       "      <td>Month-to-month</td>\n",
       "      <td>Yes</td>\n",
       "      <td>Mailed check</td>\n",
       "      <td>53.85</td>\n",
       "      <td>226.17</td>\n",
       "    </tr>\n",
       "    <tr>\n",
       "      <th>3</th>\n",
       "      <td>7795-CFOCW</td>\n",
       "      <td>2016-05-01</td>\n",
       "      <td>No</td>\n",
       "      <td>One year</td>\n",
       "      <td>No</td>\n",
       "      <td>Bank transfer (automatic)</td>\n",
       "      <td>42.30</td>\n",
       "      <td>1960.6</td>\n",
       "    </tr>\n",
       "    <tr>\n",
       "      <th>4</th>\n",
       "      <td>9237-HQITU</td>\n",
       "      <td>2019-09-01</td>\n",
       "      <td>No</td>\n",
       "      <td>Month-to-month</td>\n",
       "      <td>Yes</td>\n",
       "      <td>Electronic check</td>\n",
       "      <td>70.70</td>\n",
       "      <td>353.5</td>\n",
       "    </tr>\n",
       "  </tbody>\n",
       "</table>\n",
       "</div>"
      ],
      "text/plain": [
       "   customerID  BeginDate EndDate            Type PaperlessBilling  \\\n",
       "0  7590-VHVEG 2020-01-01      No  Month-to-month              Yes   \n",
       "1  5575-GNVDE 2017-04-01      No        One year               No   \n",
       "2  3668-QPYBK 2019-10-01      No  Month-to-month              Yes   \n",
       "3  7795-CFOCW 2016-05-01      No        One year               No   \n",
       "4  9237-HQITU 2019-09-01      No  Month-to-month              Yes   \n",
       "\n",
       "               PaymentMethod  MonthlyCharges TotalCharges  \n",
       "0           Electronic check           29.85        31.04  \n",
       "1               Mailed check           56.95      2071.84  \n",
       "2               Mailed check           53.85       226.17  \n",
       "3  Bank transfer (automatic)           42.30       1960.6  \n",
       "4           Electronic check           70.70        353.5  "
      ]
     },
     "execution_count": 3,
     "metadata": {},
     "output_type": "execute_result"
    }
   ],
   "source": [
    "contract_df.head()"
   ]
  },
  {
   "cell_type": "code",
   "execution_count": 4,
   "metadata": {},
   "outputs": [
    {
     "name": "stdout",
     "output_type": "stream",
     "text": [
      "<class 'pandas.core.frame.DataFrame'>\n",
      "RangeIndex: 7043 entries, 0 to 7042\n",
      "Data columns (total 8 columns):\n",
      " #   Column            Non-Null Count  Dtype         \n",
      "---  ------            --------------  -----         \n",
      " 0   customerID        7043 non-null   object        \n",
      " 1   BeginDate         7043 non-null   datetime64[ns]\n",
      " 2   EndDate           7043 non-null   object        \n",
      " 3   Type              7043 non-null   object        \n",
      " 4   PaperlessBilling  7043 non-null   object        \n",
      " 5   PaymentMethod     7043 non-null   object        \n",
      " 6   MonthlyCharges    7043 non-null   float64       \n",
      " 7   TotalCharges      7043 non-null   object        \n",
      "dtypes: datetime64[ns](1), float64(1), object(6)\n",
      "memory usage: 440.3+ KB\n"
     ]
    }
   ],
   "source": [
    "contract_df.info()"
   ]
  },
  {
   "cell_type": "code",
   "execution_count": 5,
   "metadata": {},
   "outputs": [
    {
     "data": {
      "text/html": [
       "<div>\n",
       "<style scoped>\n",
       "    .dataframe tbody tr th:only-of-type {\n",
       "        vertical-align: middle;\n",
       "    }\n",
       "\n",
       "    .dataframe tbody tr th {\n",
       "        vertical-align: top;\n",
       "    }\n",
       "\n",
       "    .dataframe thead th {\n",
       "        text-align: right;\n",
       "    }\n",
       "</style>\n",
       "<table border=\"1\" class=\"dataframe\">\n",
       "  <thead>\n",
       "    <tr style=\"text-align: right;\">\n",
       "      <th></th>\n",
       "      <th>customerID</th>\n",
       "      <th>gender</th>\n",
       "      <th>SeniorCitizen</th>\n",
       "      <th>Partner</th>\n",
       "      <th>Dependents</th>\n",
       "    </tr>\n",
       "  </thead>\n",
       "  <tbody>\n",
       "    <tr>\n",
       "      <th>0</th>\n",
       "      <td>7590-VHVEG</td>\n",
       "      <td>Female</td>\n",
       "      <td>0</td>\n",
       "      <td>Yes</td>\n",
       "      <td>No</td>\n",
       "    </tr>\n",
       "    <tr>\n",
       "      <th>1</th>\n",
       "      <td>5575-GNVDE</td>\n",
       "      <td>Male</td>\n",
       "      <td>0</td>\n",
       "      <td>No</td>\n",
       "      <td>No</td>\n",
       "    </tr>\n",
       "    <tr>\n",
       "      <th>2</th>\n",
       "      <td>3668-QPYBK</td>\n",
       "      <td>Male</td>\n",
       "      <td>0</td>\n",
       "      <td>No</td>\n",
       "      <td>No</td>\n",
       "    </tr>\n",
       "    <tr>\n",
       "      <th>3</th>\n",
       "      <td>7795-CFOCW</td>\n",
       "      <td>Male</td>\n",
       "      <td>0</td>\n",
       "      <td>No</td>\n",
       "      <td>No</td>\n",
       "    </tr>\n",
       "    <tr>\n",
       "      <th>4</th>\n",
       "      <td>9237-HQITU</td>\n",
       "      <td>Female</td>\n",
       "      <td>0</td>\n",
       "      <td>No</td>\n",
       "      <td>No</td>\n",
       "    </tr>\n",
       "  </tbody>\n",
       "</table>\n",
       "</div>"
      ],
      "text/plain": [
       "   customerID  gender  SeniorCitizen Partner Dependents\n",
       "0  7590-VHVEG  Female              0     Yes         No\n",
       "1  5575-GNVDE    Male              0      No         No\n",
       "2  3668-QPYBK    Male              0      No         No\n",
       "3  7795-CFOCW    Male              0      No         No\n",
       "4  9237-HQITU  Female              0      No         No"
      ]
     },
     "execution_count": 5,
     "metadata": {},
     "output_type": "execute_result"
    }
   ],
   "source": [
    "person_df.head()"
   ]
  },
  {
   "cell_type": "code",
   "execution_count": 6,
   "metadata": {},
   "outputs": [
    {
     "name": "stdout",
     "output_type": "stream",
     "text": [
      "<class 'pandas.core.frame.DataFrame'>\n",
      "RangeIndex: 7043 entries, 0 to 7042\n",
      "Data columns (total 5 columns):\n",
      " #   Column         Non-Null Count  Dtype \n",
      "---  ------         --------------  ----- \n",
      " 0   customerID     7043 non-null   object\n",
      " 1   gender         7043 non-null   object\n",
      " 2   SeniorCitizen  7043 non-null   int64 \n",
      " 3   Partner        7043 non-null   object\n",
      " 4   Dependents     7043 non-null   object\n",
      "dtypes: int64(1), object(4)\n",
      "memory usage: 275.2+ KB\n"
     ]
    }
   ],
   "source": [
    "person_df.info()"
   ]
  },
  {
   "cell_type": "code",
   "execution_count": 7,
   "metadata": {},
   "outputs": [
    {
     "data": {
      "text/html": [
       "<div>\n",
       "<style scoped>\n",
       "    .dataframe tbody tr th:only-of-type {\n",
       "        vertical-align: middle;\n",
       "    }\n",
       "\n",
       "    .dataframe tbody tr th {\n",
       "        vertical-align: top;\n",
       "    }\n",
       "\n",
       "    .dataframe thead th {\n",
       "        text-align: right;\n",
       "    }\n",
       "</style>\n",
       "<table border=\"1\" class=\"dataframe\">\n",
       "  <thead>\n",
       "    <tr style=\"text-align: right;\">\n",
       "      <th></th>\n",
       "      <th>customerID</th>\n",
       "      <th>InternetService</th>\n",
       "      <th>OnlineSecurity</th>\n",
       "      <th>OnlineBackup</th>\n",
       "      <th>DeviceProtection</th>\n",
       "      <th>TechSupport</th>\n",
       "      <th>StreamingTV</th>\n",
       "      <th>StreamingMovies</th>\n",
       "    </tr>\n",
       "  </thead>\n",
       "  <tbody>\n",
       "    <tr>\n",
       "      <th>0</th>\n",
       "      <td>7590-VHVEG</td>\n",
       "      <td>DSL</td>\n",
       "      <td>No</td>\n",
       "      <td>Yes</td>\n",
       "      <td>No</td>\n",
       "      <td>No</td>\n",
       "      <td>No</td>\n",
       "      <td>No</td>\n",
       "    </tr>\n",
       "    <tr>\n",
       "      <th>1</th>\n",
       "      <td>5575-GNVDE</td>\n",
       "      <td>DSL</td>\n",
       "      <td>Yes</td>\n",
       "      <td>No</td>\n",
       "      <td>Yes</td>\n",
       "      <td>No</td>\n",
       "      <td>No</td>\n",
       "      <td>No</td>\n",
       "    </tr>\n",
       "    <tr>\n",
       "      <th>2</th>\n",
       "      <td>3668-QPYBK</td>\n",
       "      <td>DSL</td>\n",
       "      <td>Yes</td>\n",
       "      <td>Yes</td>\n",
       "      <td>No</td>\n",
       "      <td>No</td>\n",
       "      <td>No</td>\n",
       "      <td>No</td>\n",
       "    </tr>\n",
       "    <tr>\n",
       "      <th>3</th>\n",
       "      <td>7795-CFOCW</td>\n",
       "      <td>DSL</td>\n",
       "      <td>Yes</td>\n",
       "      <td>No</td>\n",
       "      <td>Yes</td>\n",
       "      <td>Yes</td>\n",
       "      <td>No</td>\n",
       "      <td>No</td>\n",
       "    </tr>\n",
       "    <tr>\n",
       "      <th>4</th>\n",
       "      <td>9237-HQITU</td>\n",
       "      <td>Fiber optic</td>\n",
       "      <td>No</td>\n",
       "      <td>No</td>\n",
       "      <td>No</td>\n",
       "      <td>No</td>\n",
       "      <td>No</td>\n",
       "      <td>No</td>\n",
       "    </tr>\n",
       "  </tbody>\n",
       "</table>\n",
       "</div>"
      ],
      "text/plain": [
       "   customerID InternetService OnlineSecurity OnlineBackup DeviceProtection  \\\n",
       "0  7590-VHVEG             DSL             No          Yes               No   \n",
       "1  5575-GNVDE             DSL            Yes           No              Yes   \n",
       "2  3668-QPYBK             DSL            Yes          Yes               No   \n",
       "3  7795-CFOCW             DSL            Yes           No              Yes   \n",
       "4  9237-HQITU     Fiber optic             No           No               No   \n",
       "\n",
       "  TechSupport StreamingTV StreamingMovies  \n",
       "0          No          No              No  \n",
       "1          No          No              No  \n",
       "2          No          No              No  \n",
       "3         Yes          No              No  \n",
       "4          No          No              No  "
      ]
     },
     "execution_count": 7,
     "metadata": {},
     "output_type": "execute_result"
    }
   ],
   "source": [
    "internet_df.head()"
   ]
  },
  {
   "cell_type": "code",
   "execution_count": 8,
   "metadata": {},
   "outputs": [
    {
     "name": "stdout",
     "output_type": "stream",
     "text": [
      "<class 'pandas.core.frame.DataFrame'>\n",
      "RangeIndex: 5517 entries, 0 to 5516\n",
      "Data columns (total 8 columns):\n",
      " #   Column            Non-Null Count  Dtype \n",
      "---  ------            --------------  ----- \n",
      " 0   customerID        5517 non-null   object\n",
      " 1   InternetService   5517 non-null   object\n",
      " 2   OnlineSecurity    5517 non-null   object\n",
      " 3   OnlineBackup      5517 non-null   object\n",
      " 4   DeviceProtection  5517 non-null   object\n",
      " 5   TechSupport       5517 non-null   object\n",
      " 6   StreamingTV       5517 non-null   object\n",
      " 7   StreamingMovies   5517 non-null   object\n",
      "dtypes: object(8)\n",
      "memory usage: 344.9+ KB\n"
     ]
    }
   ],
   "source": [
    "internet_df.info()"
   ]
  },
  {
   "cell_type": "code",
   "execution_count": 9,
   "metadata": {},
   "outputs": [
    {
     "data": {
      "text/html": [
       "<div>\n",
       "<style scoped>\n",
       "    .dataframe tbody tr th:only-of-type {\n",
       "        vertical-align: middle;\n",
       "    }\n",
       "\n",
       "    .dataframe tbody tr th {\n",
       "        vertical-align: top;\n",
       "    }\n",
       "\n",
       "    .dataframe thead th {\n",
       "        text-align: right;\n",
       "    }\n",
       "</style>\n",
       "<table border=\"1\" class=\"dataframe\">\n",
       "  <thead>\n",
       "    <tr style=\"text-align: right;\">\n",
       "      <th></th>\n",
       "      <th>customerID</th>\n",
       "      <th>MultipleLines</th>\n",
       "    </tr>\n",
       "  </thead>\n",
       "  <tbody>\n",
       "    <tr>\n",
       "      <th>0</th>\n",
       "      <td>5575-GNVDE</td>\n",
       "      <td>No</td>\n",
       "    </tr>\n",
       "    <tr>\n",
       "      <th>1</th>\n",
       "      <td>3668-QPYBK</td>\n",
       "      <td>No</td>\n",
       "    </tr>\n",
       "    <tr>\n",
       "      <th>2</th>\n",
       "      <td>9237-HQITU</td>\n",
       "      <td>No</td>\n",
       "    </tr>\n",
       "    <tr>\n",
       "      <th>3</th>\n",
       "      <td>9305-CDSKC</td>\n",
       "      <td>Yes</td>\n",
       "    </tr>\n",
       "    <tr>\n",
       "      <th>4</th>\n",
       "      <td>1452-KIOVK</td>\n",
       "      <td>Yes</td>\n",
       "    </tr>\n",
       "  </tbody>\n",
       "</table>\n",
       "</div>"
      ],
      "text/plain": [
       "   customerID MultipleLines\n",
       "0  5575-GNVDE            No\n",
       "1  3668-QPYBK            No\n",
       "2  9237-HQITU            No\n",
       "3  9305-CDSKC           Yes\n",
       "4  1452-KIOVK           Yes"
      ]
     },
     "execution_count": 9,
     "metadata": {},
     "output_type": "execute_result"
    }
   ],
   "source": [
    "phone_df.head()"
   ]
  },
  {
   "cell_type": "code",
   "execution_count": 10,
   "metadata": {},
   "outputs": [
    {
     "name": "stdout",
     "output_type": "stream",
     "text": [
      "<class 'pandas.core.frame.DataFrame'>\n",
      "RangeIndex: 6361 entries, 0 to 6360\n",
      "Data columns (total 2 columns):\n",
      " #   Column         Non-Null Count  Dtype \n",
      "---  ------         --------------  ----- \n",
      " 0   customerID     6361 non-null   object\n",
      " 1   MultipleLines  6361 non-null   object\n",
      "dtypes: object(2)\n",
      "memory usage: 99.5+ KB\n"
     ]
    }
   ],
   "source": [
    "phone_df.info()"
   ]
  },
  {
   "cell_type": "markdown",
   "metadata": {},
   "source": [
    "> **Выводы по первому шагу:**\n",
    ">\n",
    "> В первом шаге были проделаны следующие действия: \n",
    ">  - загрузка данных;\n",
    ">  - изучение общей информации о данных.\n",
    ">\n",
    "> **После загрузки и изучения данных можно сделать несколько выводов:**\n",
    "> 1. названия столбцов не соответствуют стандартам pep8;\n",
    "> 2. во всех датафреймах нет пропущенных значений;\n",
    "> 3. в датафрейме **'contract_df'** тип данных не соответствует значениям."
   ]
  },
  {
   "cell_type": "markdown",
   "metadata": {},
   "source": [
    "##  2. Исследовательский анализ и предобработка данных\n",
    "#### 2.1 Переименование столбцов в датафреймах"
   ]
  },
  {
   "cell_type": "code",
   "execution_count": 11,
   "metadata": {},
   "outputs": [],
   "source": [
    "# Приведение названий столбцов к snake_case\n",
    "contract_df = clean_columns(contract_df)\n",
    "person_df = clean_columns(person_df)\n",
    "internet_df = clean_columns(internet_df)\n",
    "phone_df = clean_columns(phone_df)"
   ]
  },
  {
   "cell_type": "code",
   "execution_count": 12,
   "metadata": {},
   "outputs": [
    {
     "data": {
      "text/html": [
       "<div>\n",
       "<style scoped>\n",
       "    .dataframe tbody tr th:only-of-type {\n",
       "        vertical-align: middle;\n",
       "    }\n",
       "\n",
       "    .dataframe tbody tr th {\n",
       "        vertical-align: top;\n",
       "    }\n",
       "\n",
       "    .dataframe thead th {\n",
       "        text-align: right;\n",
       "    }\n",
       "</style>\n",
       "<table border=\"1\" class=\"dataframe\">\n",
       "  <thead>\n",
       "    <tr style=\"text-align: right;\">\n",
       "      <th></th>\n",
       "      <th>customer_id</th>\n",
       "      <th>internet_service</th>\n",
       "      <th>online_security</th>\n",
       "      <th>online_backup</th>\n",
       "      <th>device_protection</th>\n",
       "      <th>tech_support</th>\n",
       "      <th>streaming_tv</th>\n",
       "      <th>streaming_movies</th>\n",
       "    </tr>\n",
       "  </thead>\n",
       "  <tbody>\n",
       "    <tr>\n",
       "      <th>0</th>\n",
       "      <td>7590-VHVEG</td>\n",
       "      <td>DSL</td>\n",
       "      <td>No</td>\n",
       "      <td>Yes</td>\n",
       "      <td>No</td>\n",
       "      <td>No</td>\n",
       "      <td>No</td>\n",
       "      <td>No</td>\n",
       "    </tr>\n",
       "    <tr>\n",
       "      <th>1</th>\n",
       "      <td>5575-GNVDE</td>\n",
       "      <td>DSL</td>\n",
       "      <td>Yes</td>\n",
       "      <td>No</td>\n",
       "      <td>Yes</td>\n",
       "      <td>No</td>\n",
       "      <td>No</td>\n",
       "      <td>No</td>\n",
       "    </tr>\n",
       "    <tr>\n",
       "      <th>2</th>\n",
       "      <td>3668-QPYBK</td>\n",
       "      <td>DSL</td>\n",
       "      <td>Yes</td>\n",
       "      <td>Yes</td>\n",
       "      <td>No</td>\n",
       "      <td>No</td>\n",
       "      <td>No</td>\n",
       "      <td>No</td>\n",
       "    </tr>\n",
       "    <tr>\n",
       "      <th>3</th>\n",
       "      <td>7795-CFOCW</td>\n",
       "      <td>DSL</td>\n",
       "      <td>Yes</td>\n",
       "      <td>No</td>\n",
       "      <td>Yes</td>\n",
       "      <td>Yes</td>\n",
       "      <td>No</td>\n",
       "      <td>No</td>\n",
       "    </tr>\n",
       "    <tr>\n",
       "      <th>4</th>\n",
       "      <td>9237-HQITU</td>\n",
       "      <td>Fiber optic</td>\n",
       "      <td>No</td>\n",
       "      <td>No</td>\n",
       "      <td>No</td>\n",
       "      <td>No</td>\n",
       "      <td>No</td>\n",
       "      <td>No</td>\n",
       "    </tr>\n",
       "    <tr>\n",
       "      <th>...</th>\n",
       "      <td>...</td>\n",
       "      <td>...</td>\n",
       "      <td>...</td>\n",
       "      <td>...</td>\n",
       "      <td>...</td>\n",
       "      <td>...</td>\n",
       "      <td>...</td>\n",
       "      <td>...</td>\n",
       "    </tr>\n",
       "    <tr>\n",
       "      <th>5512</th>\n",
       "      <td>6840-RESVB</td>\n",
       "      <td>DSL</td>\n",
       "      <td>Yes</td>\n",
       "      <td>No</td>\n",
       "      <td>Yes</td>\n",
       "      <td>Yes</td>\n",
       "      <td>Yes</td>\n",
       "      <td>Yes</td>\n",
       "    </tr>\n",
       "    <tr>\n",
       "      <th>5513</th>\n",
       "      <td>2234-XADUH</td>\n",
       "      <td>Fiber optic</td>\n",
       "      <td>No</td>\n",
       "      <td>Yes</td>\n",
       "      <td>Yes</td>\n",
       "      <td>No</td>\n",
       "      <td>Yes</td>\n",
       "      <td>Yes</td>\n",
       "    </tr>\n",
       "    <tr>\n",
       "      <th>5514</th>\n",
       "      <td>4801-JZAZL</td>\n",
       "      <td>DSL</td>\n",
       "      <td>Yes</td>\n",
       "      <td>No</td>\n",
       "      <td>No</td>\n",
       "      <td>No</td>\n",
       "      <td>No</td>\n",
       "      <td>No</td>\n",
       "    </tr>\n",
       "    <tr>\n",
       "      <th>5515</th>\n",
       "      <td>8361-LTMKD</td>\n",
       "      <td>Fiber optic</td>\n",
       "      <td>No</td>\n",
       "      <td>No</td>\n",
       "      <td>No</td>\n",
       "      <td>No</td>\n",
       "      <td>No</td>\n",
       "      <td>No</td>\n",
       "    </tr>\n",
       "    <tr>\n",
       "      <th>5516</th>\n",
       "      <td>3186-AJIEK</td>\n",
       "      <td>Fiber optic</td>\n",
       "      <td>Yes</td>\n",
       "      <td>No</td>\n",
       "      <td>Yes</td>\n",
       "      <td>Yes</td>\n",
       "      <td>Yes</td>\n",
       "      <td>Yes</td>\n",
       "    </tr>\n",
       "  </tbody>\n",
       "</table>\n",
       "<p>5517 rows × 8 columns</p>\n",
       "</div>"
      ],
      "text/plain": [
       "     customer_id internet_service online_security online_backup  \\\n",
       "0     7590-VHVEG              DSL              No           Yes   \n",
       "1     5575-GNVDE              DSL             Yes            No   \n",
       "2     3668-QPYBK              DSL             Yes           Yes   \n",
       "3     7795-CFOCW              DSL             Yes            No   \n",
       "4     9237-HQITU      Fiber optic              No            No   \n",
       "...          ...              ...             ...           ...   \n",
       "5512  6840-RESVB              DSL             Yes            No   \n",
       "5513  2234-XADUH      Fiber optic              No           Yes   \n",
       "5514  4801-JZAZL              DSL             Yes            No   \n",
       "5515  8361-LTMKD      Fiber optic              No            No   \n",
       "5516  3186-AJIEK      Fiber optic             Yes            No   \n",
       "\n",
       "     device_protection tech_support streaming_tv streaming_movies  \n",
       "0                   No           No           No               No  \n",
       "1                  Yes           No           No               No  \n",
       "2                   No           No           No               No  \n",
       "3                  Yes          Yes           No               No  \n",
       "4                   No           No           No               No  \n",
       "...                ...          ...          ...              ...  \n",
       "5512               Yes          Yes          Yes              Yes  \n",
       "5513               Yes           No          Yes              Yes  \n",
       "5514                No           No           No               No  \n",
       "5515                No           No           No               No  \n",
       "5516               Yes          Yes          Yes              Yes  \n",
       "\n",
       "[5517 rows x 8 columns]"
      ]
     },
     "execution_count": 12,
     "metadata": {},
     "output_type": "execute_result"
    }
   ],
   "source": [
    "internet_df"
   ]
  },
  {
   "cell_type": "code",
   "execution_count": 13,
   "metadata": {},
   "outputs": [
    {
     "data": {
      "text/html": [
       "<div>\n",
       "<style scoped>\n",
       "    .dataframe tbody tr th:only-of-type {\n",
       "        vertical-align: middle;\n",
       "    }\n",
       "\n",
       "    .dataframe tbody tr th {\n",
       "        vertical-align: top;\n",
       "    }\n",
       "\n",
       "    .dataframe thead th {\n",
       "        text-align: right;\n",
       "    }\n",
       "</style>\n",
       "<table border=\"1\" class=\"dataframe\">\n",
       "  <thead>\n",
       "    <tr style=\"text-align: right;\">\n",
       "      <th></th>\n",
       "      <th>customer_id</th>\n",
       "      <th>begin_date</th>\n",
       "      <th>end_date</th>\n",
       "      <th>type</th>\n",
       "      <th>paperless_billing</th>\n",
       "      <th>payment_method</th>\n",
       "      <th>monthly_charges</th>\n",
       "      <th>total_charges</th>\n",
       "    </tr>\n",
       "  </thead>\n",
       "  <tbody>\n",
       "    <tr>\n",
       "      <th>0</th>\n",
       "      <td>7590-VHVEG</td>\n",
       "      <td>2020-01-01</td>\n",
       "      <td>No</td>\n",
       "      <td>Month-to-month</td>\n",
       "      <td>Yes</td>\n",
       "      <td>Electronic check</td>\n",
       "      <td>29.85</td>\n",
       "      <td>31.04</td>\n",
       "    </tr>\n",
       "    <tr>\n",
       "      <th>1</th>\n",
       "      <td>5575-GNVDE</td>\n",
       "      <td>2017-04-01</td>\n",
       "      <td>No</td>\n",
       "      <td>One year</td>\n",
       "      <td>No</td>\n",
       "      <td>Mailed check</td>\n",
       "      <td>56.95</td>\n",
       "      <td>2071.84</td>\n",
       "    </tr>\n",
       "    <tr>\n",
       "      <th>2</th>\n",
       "      <td>3668-QPYBK</td>\n",
       "      <td>2019-10-01</td>\n",
       "      <td>No</td>\n",
       "      <td>Month-to-month</td>\n",
       "      <td>Yes</td>\n",
       "      <td>Mailed check</td>\n",
       "      <td>53.85</td>\n",
       "      <td>226.17</td>\n",
       "    </tr>\n",
       "    <tr>\n",
       "      <th>3</th>\n",
       "      <td>7795-CFOCW</td>\n",
       "      <td>2016-05-01</td>\n",
       "      <td>No</td>\n",
       "      <td>One year</td>\n",
       "      <td>No</td>\n",
       "      <td>Bank transfer (automatic)</td>\n",
       "      <td>42.30</td>\n",
       "      <td>1960.6</td>\n",
       "    </tr>\n",
       "    <tr>\n",
       "      <th>4</th>\n",
       "      <td>9237-HQITU</td>\n",
       "      <td>2019-09-01</td>\n",
       "      <td>No</td>\n",
       "      <td>Month-to-month</td>\n",
       "      <td>Yes</td>\n",
       "      <td>Electronic check</td>\n",
       "      <td>70.70</td>\n",
       "      <td>353.5</td>\n",
       "    </tr>\n",
       "    <tr>\n",
       "      <th>...</th>\n",
       "      <td>...</td>\n",
       "      <td>...</td>\n",
       "      <td>...</td>\n",
       "      <td>...</td>\n",
       "      <td>...</td>\n",
       "      <td>...</td>\n",
       "      <td>...</td>\n",
       "      <td>...</td>\n",
       "    </tr>\n",
       "    <tr>\n",
       "      <th>7038</th>\n",
       "      <td>6840-RESVB</td>\n",
       "      <td>2018-02-01</td>\n",
       "      <td>No</td>\n",
       "      <td>One year</td>\n",
       "      <td>Yes</td>\n",
       "      <td>Mailed check</td>\n",
       "      <td>84.80</td>\n",
       "      <td>2035.2</td>\n",
       "    </tr>\n",
       "    <tr>\n",
       "      <th>7039</th>\n",
       "      <td>2234-XADUH</td>\n",
       "      <td>2014-02-01</td>\n",
       "      <td>No</td>\n",
       "      <td>One year</td>\n",
       "      <td>Yes</td>\n",
       "      <td>Credit card (automatic)</td>\n",
       "      <td>103.20</td>\n",
       "      <td>7430.4</td>\n",
       "    </tr>\n",
       "    <tr>\n",
       "      <th>7040</th>\n",
       "      <td>4801-JZAZL</td>\n",
       "      <td>2019-03-01</td>\n",
       "      <td>No</td>\n",
       "      <td>Month-to-month</td>\n",
       "      <td>Yes</td>\n",
       "      <td>Electronic check</td>\n",
       "      <td>29.60</td>\n",
       "      <td>325.6</td>\n",
       "    </tr>\n",
       "    <tr>\n",
       "      <th>7041</th>\n",
       "      <td>8361-LTMKD</td>\n",
       "      <td>2019-07-01</td>\n",
       "      <td>No</td>\n",
       "      <td>Month-to-month</td>\n",
       "      <td>Yes</td>\n",
       "      <td>Mailed check</td>\n",
       "      <td>74.40</td>\n",
       "      <td>520.8</td>\n",
       "    </tr>\n",
       "    <tr>\n",
       "      <th>7042</th>\n",
       "      <td>3186-AJIEK</td>\n",
       "      <td>2014-08-01</td>\n",
       "      <td>No</td>\n",
       "      <td>Two year</td>\n",
       "      <td>Yes</td>\n",
       "      <td>Bank transfer (automatic)</td>\n",
       "      <td>105.65</td>\n",
       "      <td>7251.82</td>\n",
       "    </tr>\n",
       "  </tbody>\n",
       "</table>\n",
       "<p>7043 rows × 8 columns</p>\n",
       "</div>"
      ],
      "text/plain": [
       "     customer_id begin_date end_date            type paperless_billing  \\\n",
       "0     7590-VHVEG 2020-01-01       No  Month-to-month               Yes   \n",
       "1     5575-GNVDE 2017-04-01       No        One year                No   \n",
       "2     3668-QPYBK 2019-10-01       No  Month-to-month               Yes   \n",
       "3     7795-CFOCW 2016-05-01       No        One year                No   \n",
       "4     9237-HQITU 2019-09-01       No  Month-to-month               Yes   \n",
       "...          ...        ...      ...             ...               ...   \n",
       "7038  6840-RESVB 2018-02-01       No        One year               Yes   \n",
       "7039  2234-XADUH 2014-02-01       No        One year               Yes   \n",
       "7040  4801-JZAZL 2019-03-01       No  Month-to-month               Yes   \n",
       "7041  8361-LTMKD 2019-07-01       No  Month-to-month               Yes   \n",
       "7042  3186-AJIEK 2014-08-01       No        Two year               Yes   \n",
       "\n",
       "                 payment_method  monthly_charges total_charges  \n",
       "0              Electronic check            29.85         31.04  \n",
       "1                  Mailed check            56.95       2071.84  \n",
       "2                  Mailed check            53.85        226.17  \n",
       "3     Bank transfer (automatic)            42.30        1960.6  \n",
       "4              Electronic check            70.70         353.5  \n",
       "...                         ...              ...           ...  \n",
       "7038               Mailed check            84.80        2035.2  \n",
       "7039    Credit card (automatic)           103.20        7430.4  \n",
       "7040           Electronic check            29.60         325.6  \n",
       "7041               Mailed check            74.40         520.8  \n",
       "7042  Bank transfer (automatic)           105.65       7251.82  \n",
       "\n",
       "[7043 rows x 8 columns]"
      ]
     },
     "execution_count": 13,
     "metadata": {},
     "output_type": "execute_result"
    }
   ],
   "source": [
    "contract_df"
   ]
  },
  {
   "cell_type": "markdown",
   "metadata": {},
   "source": [
    "#### 2.2 Изменение типа данных"
   ]
  },
  {
   "cell_type": "code",
   "execution_count": 14,
   "metadata": {},
   "outputs": [
    {
     "name": "stdout",
     "output_type": "stream",
     "text": [
      "Количество непустых значений до преобразования: 7032\n",
      "Количество непустых значений после преобразования: 7043\n"
     ]
    }
   ],
   "source": [
    "# Преобразование столбца \"TotalCharges\" в числовой формат\n",
    "contract_df['total_charges'] = pd.to_numeric(contract_df['total_charges'], errors='coerce')\n",
    "# Проверка количества непустых значений до и после преобразования\n",
    "print(\"Количество непустых значений до преобразования:\", contract_df['total_charges'].notnull().sum())\n",
    "contract_df['total_charges'] = contract_df['total_charges'].fillna(0)  # Замена NaN значений на 0\n",
    "print(\"Количество непустых значений после преобразования:\", contract_df['total_charges'].notnull().sum())"
   ]
  },
  {
   "cell_type": "code",
   "execution_count": 15,
   "metadata": {},
   "outputs": [
    {
     "data": {
      "text/html": [
       "<div>\n",
       "<style scoped>\n",
       "    .dataframe tbody tr th:only-of-type {\n",
       "        vertical-align: middle;\n",
       "    }\n",
       "\n",
       "    .dataframe tbody tr th {\n",
       "        vertical-align: top;\n",
       "    }\n",
       "\n",
       "    .dataframe thead th {\n",
       "        text-align: right;\n",
       "    }\n",
       "</style>\n",
       "<table border=\"1\" class=\"dataframe\">\n",
       "  <thead>\n",
       "    <tr style=\"text-align: right;\">\n",
       "      <th></th>\n",
       "      <th>customer_id</th>\n",
       "      <th>gender</th>\n",
       "      <th>senior_citizen</th>\n",
       "      <th>partner</th>\n",
       "      <th>dependents</th>\n",
       "    </tr>\n",
       "  </thead>\n",
       "  <tbody>\n",
       "    <tr>\n",
       "      <th>0</th>\n",
       "      <td>7590-VHVEG</td>\n",
       "      <td>Female</td>\n",
       "      <td>No</td>\n",
       "      <td>Yes</td>\n",
       "      <td>No</td>\n",
       "    </tr>\n",
       "    <tr>\n",
       "      <th>1</th>\n",
       "      <td>5575-GNVDE</td>\n",
       "      <td>Male</td>\n",
       "      <td>No</td>\n",
       "      <td>No</td>\n",
       "      <td>No</td>\n",
       "    </tr>\n",
       "    <tr>\n",
       "      <th>2</th>\n",
       "      <td>3668-QPYBK</td>\n",
       "      <td>Male</td>\n",
       "      <td>No</td>\n",
       "      <td>No</td>\n",
       "      <td>No</td>\n",
       "    </tr>\n",
       "    <tr>\n",
       "      <th>3</th>\n",
       "      <td>7795-CFOCW</td>\n",
       "      <td>Male</td>\n",
       "      <td>No</td>\n",
       "      <td>No</td>\n",
       "      <td>No</td>\n",
       "    </tr>\n",
       "    <tr>\n",
       "      <th>4</th>\n",
       "      <td>9237-HQITU</td>\n",
       "      <td>Female</td>\n",
       "      <td>No</td>\n",
       "      <td>No</td>\n",
       "      <td>No</td>\n",
       "    </tr>\n",
       "  </tbody>\n",
       "</table>\n",
       "</div>"
      ],
      "text/plain": [
       "  customer_id  gender senior_citizen partner dependents\n",
       "0  7590-VHVEG  Female             No     Yes         No\n",
       "1  5575-GNVDE    Male             No      No         No\n",
       "2  3668-QPYBK    Male             No      No         No\n",
       "3  7795-CFOCW    Male             No      No         No\n",
       "4  9237-HQITU  Female             No      No         No"
      ]
     },
     "execution_count": 15,
     "metadata": {},
     "output_type": "execute_result"
    }
   ],
   "source": [
    "# Заменяем значения в столбце 'SeniorCitizen'\n",
    "person_df['senior_citizen'] = person_df['senior_citizen'].replace({0: 'No', 1: 'Yes'})\n",
    "\n",
    "# Просмотр обновленного датафрейма\n",
    "person_df.head()"
   ]
  },
  {
   "cell_type": "markdown",
   "metadata": {},
   "source": [
    "#### 2.3 Поиск и устранение дубликатов\n",
    "##### 2.3.1 Поиск явных дубликатов"
   ]
  },
  {
   "cell_type": "code",
   "execution_count": 16,
   "metadata": {},
   "outputs": [
    {
     "name": "stdout",
     "output_type": "stream",
     "text": [
      "0 0 0 0\n"
     ]
    }
   ],
   "source": [
    "# Выводим на экран количество строк-дубликатов в каждом из датафреймов\n",
    "contract_duplicates = contract_df.duplicated().sum()\n",
    "person_duplicates = person_df.duplicated().sum()\n",
    "internet_duplicates = internet_df.duplicated().sum()\n",
    "phone_duplicates = phone_df.duplicated().sum()\n",
    "\n",
    "print(contract_duplicates, person_duplicates, \n",
    "      internet_duplicates, phone_duplicates)"
   ]
  },
  {
   "cell_type": "markdown",
   "metadata": {},
   "source": [
    "##### 2.3.2 Поиск неявных дубликатов и построение графиков"
   ]
  },
  {
   "cell_type": "code",
   "execution_count": 17,
   "metadata": {},
   "outputs": [],
   "source": [
    "# Функция 1 - для категориальных столбцов\n",
    "def plot_categorical_countplot(data, column, title, xlabel, ylabel,\n",
    "                                order=None, edgecolor='black'):\n",
    "    plt.figure(figsize=(14, 6))\n",
    "\n",
    "    # Если порядок не задан, сортируем значения столбца по убыванию\n",
    "    if order is None:\n",
    "        order = data[column].value_counts().index.tolist()\n",
    "\n",
    "    sns.countplot(data=data, x=column, order=order, edgecolor=edgecolor)\n",
    "\n",
    "    # Добавляем аннотации с количеством над каждым столбцом\n",
    "    for p in plt.gca().patches:\n",
    "        plt.gca().annotate(f'{int(p.get_height())}', \n",
    "                           (p.get_x() + p.get_width() / 2., p.get_height()),\n",
    "                           ha='center', va='center', fontsize=12, color='black', \n",
    "                           xytext=(0, 5), textcoords='offset points')\n",
    "\n",
    "    plt.title(title)\n",
    "    plt.xlabel(xlabel, fontsize=14)\n",
    "    plt.ylabel(ylabel, fontsize=14)\n",
    "    plt.show()\n",
    "\n",
    "# Функция 2 - для столбцов логического типа\n",
    "def plot_internet_service_options(pivot_table_internet, columns_of_interest):\n",
    "    # Значения из сводной таблицы\n",
    "    yes_values = pivot_table_internet.loc['Yes', columns_of_interest].values\n",
    "    no_values = pivot_table_internet.loc['No', columns_of_interest].values\n",
    "\n",
    "    # Категории услуг\n",
    "    categories = columns_of_interest\n",
    "\n",
    "    # Сортировка по убыванию для значений \"No\"\n",
    "    sorted_indices = np.argsort(no_values)[::-1]  # Индексы в порядке убывания\n",
    "    no_values = no_values[sorted_indices]\n",
    "    categories = np.array(categories)[sorted_indices]  # Применяем ту же сортировку к категориям\n",
    "\n",
    "    # Параметры для графика\n",
    "    bar_width = 0.35\n",
    "    index = np.arange(len(categories))\n",
    "\n",
    "    # Создание фигуры графика с указанным размером\n",
    "    fig, ax = plt.subplots(figsize=(12, 6))\n",
    "    \n",
    "    # Создание графика\n",
    "    bars1 = ax.bar(index, yes_values, bar_width, label='Yes', edgecolor='black')\n",
    "    bars2 = ax.bar(index + bar_width, no_values, bar_width, label='No', edgecolor='black')\n",
    "\n",
    "    # Добавление названий категорий и легенды\n",
    "    ax.set_xlabel('Категории', fontsize=14)\n",
    "    ax.set_ylabel('Частота', fontsize=14)\n",
    "    ax.set_title('График бинарной классификации', fontsize=14)\n",
    "    ax.set_xticks(index + bar_width / 2)\n",
    "    ax.set_xticklabels(categories, fontsize=14)\n",
    "    ax.legend()\n",
    "\n",
    "     # Добавление меток на столбцах\n",
    "    for bars in [bars1, bars2]:\n",
    "        for bar in bars:\n",
    "            height = bar.get_height()\n",
    "            ax.annotate(f'{int(height)}', \n",
    "                        xy=(bar.get_x() + bar.get_width() / 2, height),\n",
    "                        xytext=(0, 3),\n",
    "                        textcoords=\"offset points\",\n",
    "                        ha='center', va='bottom', fontsize=12)\n",
    "\n",
    "    # Отображение графика\n",
    "    plt.xticks()\n",
    "    plt.tight_layout()\n",
    "    plt.show()"
   ]
  },
  {
   "cell_type": "code",
   "execution_count": 18,
   "metadata": {},
   "outputs": [
    {
     "data": {
      "text/html": [
       "<div>\n",
       "<style scoped>\n",
       "    .dataframe tbody tr th:only-of-type {\n",
       "        vertical-align: middle;\n",
       "    }\n",
       "\n",
       "    .dataframe tbody tr th {\n",
       "        vertical-align: top;\n",
       "    }\n",
       "\n",
       "    .dataframe thead th {\n",
       "        text-align: right;\n",
       "    }\n",
       "</style>\n",
       "<table border=\"1\" class=\"dataframe\">\n",
       "  <thead>\n",
       "    <tr style=\"text-align: right;\">\n",
       "      <th></th>\n",
       "      <th>type</th>\n",
       "      <th>paperless_billing</th>\n",
       "      <th>payment_method</th>\n",
       "    </tr>\n",
       "  </thead>\n",
       "  <tbody>\n",
       "    <tr>\n",
       "      <th>Month-to-month</th>\n",
       "      <td>3875.0</td>\n",
       "      <td>-</td>\n",
       "      <td>-</td>\n",
       "    </tr>\n",
       "    <tr>\n",
       "      <th>Two year</th>\n",
       "      <td>1695.0</td>\n",
       "      <td>-</td>\n",
       "      <td>-</td>\n",
       "    </tr>\n",
       "    <tr>\n",
       "      <th>One year</th>\n",
       "      <td>1473.0</td>\n",
       "      <td>-</td>\n",
       "      <td>-</td>\n",
       "    </tr>\n",
       "    <tr>\n",
       "      <th>Yes</th>\n",
       "      <td>-</td>\n",
       "      <td>4171.0</td>\n",
       "      <td>-</td>\n",
       "    </tr>\n",
       "    <tr>\n",
       "      <th>No</th>\n",
       "      <td>-</td>\n",
       "      <td>2872.0</td>\n",
       "      <td>-</td>\n",
       "    </tr>\n",
       "    <tr>\n",
       "      <th>Electronic check</th>\n",
       "      <td>-</td>\n",
       "      <td>-</td>\n",
       "      <td>2365.0</td>\n",
       "    </tr>\n",
       "    <tr>\n",
       "      <th>Mailed check</th>\n",
       "      <td>-</td>\n",
       "      <td>-</td>\n",
       "      <td>1612.0</td>\n",
       "    </tr>\n",
       "    <tr>\n",
       "      <th>Bank transfer (automatic)</th>\n",
       "      <td>-</td>\n",
       "      <td>-</td>\n",
       "      <td>1544.0</td>\n",
       "    </tr>\n",
       "    <tr>\n",
       "      <th>Credit card (automatic)</th>\n",
       "      <td>-</td>\n",
       "      <td>-</td>\n",
       "      <td>1522.0</td>\n",
       "    </tr>\n",
       "  </tbody>\n",
       "</table>\n",
       "</div>"
      ],
      "text/plain": [
       "                             type paperless_billing payment_method\n",
       "Month-to-month             3875.0                 -              -\n",
       "Two year                   1695.0                 -              -\n",
       "One year                   1473.0                 -              -\n",
       "Yes                             -            4171.0              -\n",
       "No                              -            2872.0              -\n",
       "Electronic check                -                 -         2365.0\n",
       "Mailed check                    -                 -         1612.0\n",
       "Bank transfer (automatic)       -                 -         1544.0\n",
       "Credit card (automatic)         -                 -         1522.0"
      ]
     },
     "execution_count": 18,
     "metadata": {},
     "output_type": "execute_result"
    }
   ],
   "source": [
    "# Выбираем столбцы с категориальными значениями\n",
    "selected_columns_contract = ['type', 'paperless_billing', 'payment_method']\n",
    "\n",
    "# Создаем сводную таблицу с value_counts\n",
    "pivot_table_contract = pd.concat([contract_df[col].value_counts().rename(col) \n",
    "                                  for col in selected_columns_contract], axis=1)\n",
    "\n",
    "# Заменяем NaN на \"-\"\n",
    "pivot_table_contract = pivot_table_contract.fillna(\"-\")\n",
    "\n",
    "# Выводим сводную таблицу\n",
    "pivot_table_contract"
   ]
  },
  {
   "cell_type": "code",
   "execution_count": 19,
   "metadata": {},
   "outputs": [
    {
     "data": {
      "image/png": "[encoded data removed]",
      "text/plain": [
       "<Figure size 1008x432 with 1 Axes>"
      ]
     },
     "metadata": {
      "needs_background": "light"
     },
     "output_type": "display_data"
    },
    {
     "data": {
      "image/png": "[encoded data removed]",
      "text/plain": [
       "<Figure size 1008x432 with 1 Axes>"
      ]
     },
     "metadata": {
      "needs_background": "light"
     },
     "output_type": "display_data"
    },
    {
     "data": {
      "image/png": "[encoded data removed]",
      "text/plain": [
       "<Figure size 864x432 with 1 Axes>"
      ]
     },
     "metadata": {
      "needs_background": "light"
     },
     "output_type": "display_data"
    }
   ],
   "source": [
    "# Функция 1\n",
    "plot_categorical_countplot(contract_df, 'type', \n",
    "                           'Диаграмма для столбца type', 'тип оплаты', 'частота')\n",
    "plot_categorical_countplot(contract_df, 'payment_method', \n",
    "                           'Диаграмма для столбца payment_method', 'тип платежа', 'частота')\n",
    "# Функция 2\n",
    "columns_of_contract = ['paperless_billing']\n",
    "plot_internet_service_options(pivot_table_contract, columns_of_contract)"
   ]
  },
  {
   "cell_type": "code",
   "execution_count": 20,
   "metadata": {},
   "outputs": [
    {
     "data": {
      "text/html": [
       "<div>\n",
       "<style scoped>\n",
       "    .dataframe tbody tr th:only-of-type {\n",
       "        vertical-align: middle;\n",
       "    }\n",
       "\n",
       "    .dataframe tbody tr th {\n",
       "        vertical-align: top;\n",
       "    }\n",
       "\n",
       "    .dataframe thead th {\n",
       "        text-align: right;\n",
       "    }\n",
       "</style>\n",
       "<table border=\"1\" class=\"dataframe\">\n",
       "  <thead>\n",
       "    <tr style=\"text-align: right;\">\n",
       "      <th></th>\n",
       "      <th>gender</th>\n",
       "      <th>senior_citizen</th>\n",
       "      <th>partner</th>\n",
       "      <th>dependents</th>\n",
       "    </tr>\n",
       "  </thead>\n",
       "  <tbody>\n",
       "    <tr>\n",
       "      <th>Male</th>\n",
       "      <td>3555.0</td>\n",
       "      <td>-</td>\n",
       "      <td>-</td>\n",
       "      <td>-</td>\n",
       "    </tr>\n",
       "    <tr>\n",
       "      <th>Female</th>\n",
       "      <td>3488.0</td>\n",
       "      <td>-</td>\n",
       "      <td>-</td>\n",
       "      <td>-</td>\n",
       "    </tr>\n",
       "    <tr>\n",
       "      <th>No</th>\n",
       "      <td>-</td>\n",
       "      <td>5901.0</td>\n",
       "      <td>3641.0</td>\n",
       "      <td>4933.0</td>\n",
       "    </tr>\n",
       "    <tr>\n",
       "      <th>Yes</th>\n",
       "      <td>-</td>\n",
       "      <td>1142.0</td>\n",
       "      <td>3402.0</td>\n",
       "      <td>2110.0</td>\n",
       "    </tr>\n",
       "  </tbody>\n",
       "</table>\n",
       "</div>"
      ],
      "text/plain": [
       "        gender senior_citizen partner dependents\n",
       "Male    3555.0              -       -          -\n",
       "Female  3488.0              -       -          -\n",
       "No           -         5901.0  3641.0     4933.0\n",
       "Yes          -         1142.0  3402.0     2110.0"
      ]
     },
     "execution_count": 20,
     "metadata": {},
     "output_type": "execute_result"
    }
   ],
   "source": [
    "# Выбираем столбцы с категориальными значениями\n",
    "selected_columns_person = ['gender', 'senior_citizen', 'partner', 'dependents']\n",
    "\n",
    "# Создаем сводную таблицу с value_counts\n",
    "pivot_table_person = pd.concat([person_df[col].value_counts().rename(col) \n",
    "                                for col in selected_columns_person], axis=1)\n",
    "\n",
    "# Заменяем NaN на \"-\"\n",
    "pivot_table_person = pivot_table_person.fillna(\"-\")\n",
    "\n",
    "# Выводим сводную таблицу\n",
    "pivot_table_person"
   ]
  },
  {
   "cell_type": "code",
   "execution_count": 21,
   "metadata": {},
   "outputs": [
    {
     "data": {
      "image/png": "[encoded data removed]",
      "text/plain": [
       "<Figure size 1008x432 with 1 Axes>"
      ]
     },
     "metadata": {
      "needs_background": "light"
     },
     "output_type": "display_data"
    },
    {
     "data": {
      "image/png": "[encoded data removed]",
      "text/plain": [
       "<Figure size 864x432 with 1 Axes>"
      ]
     },
     "metadata": {
      "needs_background": "light"
     },
     "output_type": "display_data"
    }
   ],
   "source": [
    "# Функция 1\n",
    "plot_categorical_countplot(person_df, 'gender', \n",
    "                           'Диаграмма для столбца gender', 'пол', 'частота')\n",
    "# Функция 2\n",
    "columns_of_interest = ['senior_citizen', 'partner', 'dependents']\n",
    "plot_internet_service_options(pivot_table_person, columns_of_interest)"
   ]
  },
  {
   "cell_type": "code",
   "execution_count": 22,
   "metadata": {},
   "outputs": [
    {
     "data": {
      "text/html": [
       "<div>\n",
       "<style scoped>\n",
       "    .dataframe tbody tr th:only-of-type {\n",
       "        vertical-align: middle;\n",
       "    }\n",
       "\n",
       "    .dataframe tbody tr th {\n",
       "        vertical-align: top;\n",
       "    }\n",
       "\n",
       "    .dataframe thead th {\n",
       "        text-align: right;\n",
       "    }\n",
       "</style>\n",
       "<table border=\"1\" class=\"dataframe\">\n",
       "  <thead>\n",
       "    <tr style=\"text-align: right;\">\n",
       "      <th></th>\n",
       "      <th>internet_service</th>\n",
       "      <th>online_security</th>\n",
       "      <th>online_backup</th>\n",
       "      <th>device_protection</th>\n",
       "      <th>tech_support</th>\n",
       "      <th>streaming_tv</th>\n",
       "      <th>streaming_movies</th>\n",
       "    </tr>\n",
       "  </thead>\n",
       "  <tbody>\n",
       "    <tr>\n",
       "      <th>Fiber optic</th>\n",
       "      <td>3096.0</td>\n",
       "      <td>-</td>\n",
       "      <td>-</td>\n",
       "      <td>-</td>\n",
       "      <td>-</td>\n",
       "      <td>-</td>\n",
       "      <td>-</td>\n",
       "    </tr>\n",
       "    <tr>\n",
       "      <th>DSL</th>\n",
       "      <td>2421.0</td>\n",
       "      <td>-</td>\n",
       "      <td>-</td>\n",
       "      <td>-</td>\n",
       "      <td>-</td>\n",
       "      <td>-</td>\n",
       "      <td>-</td>\n",
       "    </tr>\n",
       "    <tr>\n",
       "      <th>No</th>\n",
       "      <td>-</td>\n",
       "      <td>3498.0</td>\n",
       "      <td>3088.0</td>\n",
       "      <td>3095.0</td>\n",
       "      <td>3473.0</td>\n",
       "      <td>2810.0</td>\n",
       "      <td>2785.0</td>\n",
       "    </tr>\n",
       "    <tr>\n",
       "      <th>Yes</th>\n",
       "      <td>-</td>\n",
       "      <td>2019.0</td>\n",
       "      <td>2429.0</td>\n",
       "      <td>2422.0</td>\n",
       "      <td>2044.0</td>\n",
       "      <td>2707.0</td>\n",
       "      <td>2732.0</td>\n",
       "    </tr>\n",
       "  </tbody>\n",
       "</table>\n",
       "</div>"
      ],
      "text/plain": [
       "            internet_service online_security online_backup device_protection  \\\n",
       "Fiber optic           3096.0               -             -                 -   \n",
       "DSL                   2421.0               -             -                 -   \n",
       "No                         -          3498.0        3088.0            3095.0   \n",
       "Yes                        -          2019.0        2429.0            2422.0   \n",
       "\n",
       "            tech_support streaming_tv streaming_movies  \n",
       "Fiber optic            -            -                -  \n",
       "DSL                    -            -                -  \n",
       "No                3473.0       2810.0           2785.0  \n",
       "Yes               2044.0       2707.0           2732.0  "
      ]
     },
     "execution_count": 22,
     "metadata": {},
     "output_type": "execute_result"
    }
   ],
   "source": [
    "# Выбираем столбцы с категориальными значениями\n",
    "selected_columns_internet = ['internet_service', 'online_security',\n",
    "                            'online_backup', 'device_protection',\n",
    "                            'tech_support', 'streaming_tv',\n",
    "                            'streaming_movies']\n",
    "\n",
    "# Создаем сводную таблицу с value_counts\n",
    "pivot_table_internet = pd.concat([internet_df[col].value_counts().rename(col) \n",
    "                                  for col in selected_columns_internet], axis=1)\n",
    "\n",
    "# Заменяем NaN на \"-\"\n",
    "pivot_table_internet = pivot_table_internet.fillna(\"-\")\n",
    "\n",
    "# Выводим сводную таблицу\n",
    "pivot_table_internet"
   ]
  },
  {
   "cell_type": "code",
   "execution_count": 23,
   "metadata": {},
   "outputs": [
    {
     "data": {
      "image/png": "[encoded data removed]",
      "text/plain": [
       "<Figure size 1008x432 with 1 Axes>"
      ]
     },
     "metadata": {
      "needs_background": "light"
     },
     "output_type": "display_data"
    },
    {
     "data": {
      "image/png": "[encoded data removed]",
      "text/plain": [
       "<Figure size 864x432 with 1 Axes>"
      ]
     },
     "metadata": {
      "needs_background": "light"
     },
     "output_type": "display_data"
    }
   ],
   "source": [
    "# Функция 1\n",
    "plot_categorical_countplot(internet_df, 'internet_service', \n",
    "                           'Диаграмма для столбца internet_service', 'тип подключения', 'частота')\n",
    "# Функция 2\n",
    "columns_of_interest = ['online_security', 'online_backup', 'device_protection',\n",
    "                        'tech_support', 'streaming_tv', 'streaming_movies']\n",
    "plot_internet_service_options(pivot_table_internet, columns_of_interest)"
   ]
  },
  {
   "cell_type": "code",
   "execution_count": 24,
   "metadata": {},
   "outputs": [
    {
     "data": {
      "text/html": [
       "<div>\n",
       "<style scoped>\n",
       "    .dataframe tbody tr th:only-of-type {\n",
       "        vertical-align: middle;\n",
       "    }\n",
       "\n",
       "    .dataframe tbody tr th {\n",
       "        vertical-align: top;\n",
       "    }\n",
       "\n",
       "    .dataframe thead th {\n",
       "        text-align: right;\n",
       "    }\n",
       "</style>\n",
       "<table border=\"1\" class=\"dataframe\">\n",
       "  <thead>\n",
       "    <tr style=\"text-align: right;\">\n",
       "      <th></th>\n",
       "      <th>multiple_lines</th>\n",
       "    </tr>\n",
       "    <tr>\n",
       "      <th>multiple_lines</th>\n",
       "      <th></th>\n",
       "    </tr>\n",
       "  </thead>\n",
       "  <tbody>\n",
       "    <tr>\n",
       "      <th>No</th>\n",
       "      <td>3390</td>\n",
       "    </tr>\n",
       "    <tr>\n",
       "      <th>Yes</th>\n",
       "      <td>2971</td>\n",
       "    </tr>\n",
       "  </tbody>\n",
       "</table>\n",
       "</div>"
      ],
      "text/plain": [
       "                multiple_lines\n",
       "multiple_lines                \n",
       "No                        3390\n",
       "Yes                       2971"
      ]
     },
     "execution_count": 24,
     "metadata": {},
     "output_type": "execute_result"
    }
   ],
   "source": [
    "# Выбираем столбцы с категориальными значениями\n",
    "selected_columns_phone = ['multiple_lines']\n",
    "\n",
    "# Создаем сводную таблицу с value_counts\n",
    "pivot_table_phone = pd.concat([phone_df[col].value_counts().rename(col) \n",
    "                               for col in selected_columns_phone], axis=1)\n",
    "\n",
    "# Заменяем NaN на \"-\"\n",
    "pivot_table_phone = pivot_table_phone.fillna(\"-\")\n",
    "\n",
    "# Выводим сводную таблицу\n",
    "pivot_table_phone"
   ]
  },
  {
   "cell_type": "code",
   "execution_count": 25,
   "metadata": {},
   "outputs": [
    {
     "data": {
      "image/png": "[encoded data removed]",
      "text/plain": [
       "<Figure size 864x432 with 1 Axes>"
      ]
     },
     "metadata": {
      "needs_background": "light"
     },
     "output_type": "display_data"
    }
   ],
   "source": [
    "# Функция 2\n",
    "columns_of_phone = ['multiple_lines']\n",
    "plot_internet_service_options(pivot_table_phone, columns_of_phone)"
   ]
  },
  {
   "cell_type": "markdown",
   "metadata": {},
   "source": [
    "#### 2.4 Поиск аномальных значений"
   ]
  },
  {
   "cell_type": "code",
   "execution_count": 26,
   "metadata": {},
   "outputs": [
    {
     "data": {
      "image/png": "[encoded data removed]",
      "text/plain": [
       "<Figure size 1152x576 with 2 Axes>"
      ]
     },
     "metadata": {
      "needs_background": "light"
     },
     "output_type": "display_data"
    }
   ],
   "source": [
    "# Создаём переменную в который будет список с количественными значениями\n",
    "cols_to_check = ['monthly_charges', 'total_charges']\n",
    "\n",
    "fig, axes = plt.subplots(nrows=len(cols_to_check), figsize=(16, 8))\n",
    "\n",
    "for i, col in enumerate(cols_to_check):\n",
    "    contract_df[col].plot(kind='box', vert=False, ax=axes[i], fontsize=14)\n",
    "    axes[i].set_title(f\"Ящик с усами для столбца {col}\", fontsize=14)\n",
    "\n",
    "plt.tight_layout()\n",
    "plt.show()"
   ]
  },
  {
   "cell_type": "markdown",
   "metadata": {},
   "source": [
    "> **Выводы по второму шагу:**\n",
    ">\n",
    "> Во втором шаге были проделаны следующие действия: \n",
    ">  - переименованы столбцы;\n",
    ">  - изменён тип данных, где это необходимо;\n",
    ">  - поиск явных и неявных дубликатов;\n",
    ">  - созданы функции для построения графиков;\n",
    ">  - построены графики по всем признакам;\n",
    ">  -  дубликаты и аномалии не обнаружены."
   ]
  },
  {
   "cell_type": "markdown",
   "metadata": {},
   "source": [
    "## 3 Объединение таблиц"
   ]
  },
  {
   "cell_type": "code",
   "execution_count": 27,
   "metadata": {},
   "outputs": [],
   "source": [
    "# Объединяем все датафреймы с использованием полного объединения\n",
    "merged_df = contract_df.merge(\n",
    "    person_df, on='customer_id', how='left').merge(\n",
    "        phone_df, on='customer_id', how='left').merge(\n",
    "            internet_df, on='customer_id', how='left')"
   ]
  },
  {
   "cell_type": "code",
   "execution_count": 28,
   "metadata": {},
   "outputs": [
    {
     "name": "stdout",
     "output_type": "stream",
     "text": [
      "<class 'pandas.core.frame.DataFrame'>\n",
      "RangeIndex: 7043 entries, 0 to 7042\n",
      "Data columns (total 20 columns):\n",
      " #   Column             Non-Null Count  Dtype         \n",
      "---  ------             --------------  -----         \n",
      " 0   customer_id        7043 non-null   object        \n",
      " 1   begin_date         7043 non-null   datetime64[ns]\n",
      " 2   end_date           7043 non-null   object        \n",
      " 3   type               7043 non-null   object        \n",
      " 4   paperless_billing  7043 non-null   object        \n",
      " 5   payment_method     7043 non-null   object        \n",
      " 6   monthly_charges    7043 non-null   float64       \n",
      " 7   total_charges      7043 non-null   float64       \n",
      " 8   gender             7043 non-null   object        \n",
      " 9   senior_citizen     7043 non-null   object        \n",
      " 10  partner            7043 non-null   object        \n",
      " 11  dependents         7043 non-null   object        \n",
      " 12  multiple_lines     6361 non-null   object        \n",
      " 13  internet_service   5517 non-null   object        \n",
      " 14  online_security    5517 non-null   object        \n",
      " 15  online_backup      5517 non-null   object        \n",
      " 16  device_protection  5517 non-null   object        \n",
      " 17  tech_support       5517 non-null   object        \n",
      " 18  streaming_tv       5517 non-null   object        \n",
      " 19  streaming_movies   5517 non-null   object        \n",
      "dtypes: datetime64[ns](1), float64(2), object(17)\n",
      "memory usage: 1.1+ MB\n"
     ]
    }
   ],
   "source": [
    "merged_df.info()"
   ]
  },
  {
   "cell_type": "code",
   "execution_count": 29,
   "metadata": {},
   "outputs": [],
   "source": [
    "columns_to_fill = ['internet_service', 'online_security', 'online_backup', \n",
    "                   'device_protection', 'tech_support', 'streaming_tv', \n",
    "                   'streaming_movies', 'multiple_lines']\n",
    "\n",
    "for column in columns_to_fill:\n",
    "    merged_df[column].fillna('other', inplace=True)"
   ]
  },
  {
   "cell_type": "code",
   "execution_count": 30,
   "metadata": {},
   "outputs": [
    {
     "data": {
      "text/html": [
       "<div>\n",
       "<style scoped>\n",
       "    .dataframe tbody tr th:only-of-type {\n",
       "        vertical-align: middle;\n",
       "    }\n",
       "\n",
       "    .dataframe tbody tr th {\n",
       "        vertical-align: top;\n",
       "    }\n",
       "\n",
       "    .dataframe thead th {\n",
       "        text-align: right;\n",
       "    }\n",
       "</style>\n",
       "<table border=\"1\" class=\"dataframe\">\n",
       "  <thead>\n",
       "    <tr style=\"text-align: right;\">\n",
       "      <th></th>\n",
       "      <th>end_date</th>\n",
       "      <th>begin_date</th>\n",
       "      <th>duration_days</th>\n",
       "      <th>target</th>\n",
       "    </tr>\n",
       "  </thead>\n",
       "  <tbody>\n",
       "    <tr>\n",
       "      <th>0</th>\n",
       "      <td>2020-02-01</td>\n",
       "      <td>2020-01-01</td>\n",
       "      <td>31</td>\n",
       "      <td>1</td>\n",
       "    </tr>\n",
       "    <tr>\n",
       "      <th>1</th>\n",
       "      <td>2020-02-01</td>\n",
       "      <td>2017-04-01</td>\n",
       "      <td>1036</td>\n",
       "      <td>1</td>\n",
       "    </tr>\n",
       "    <tr>\n",
       "      <th>2</th>\n",
       "      <td>2020-02-01</td>\n",
       "      <td>2019-10-01</td>\n",
       "      <td>123</td>\n",
       "      <td>1</td>\n",
       "    </tr>\n",
       "    <tr>\n",
       "      <th>3</th>\n",
       "      <td>2020-02-01</td>\n",
       "      <td>2016-05-01</td>\n",
       "      <td>1371</td>\n",
       "      <td>1</td>\n",
       "    </tr>\n",
       "    <tr>\n",
       "      <th>4</th>\n",
       "      <td>2020-02-01</td>\n",
       "      <td>2019-09-01</td>\n",
       "      <td>153</td>\n",
       "      <td>1</td>\n",
       "    </tr>\n",
       "    <tr>\n",
       "      <th>...</th>\n",
       "      <td>...</td>\n",
       "      <td>...</td>\n",
       "      <td>...</td>\n",
       "      <td>...</td>\n",
       "    </tr>\n",
       "    <tr>\n",
       "      <th>7033</th>\n",
       "      <td>2020-02-01</td>\n",
       "      <td>2016-12-01</td>\n",
       "      <td>1157</td>\n",
       "      <td>1</td>\n",
       "    </tr>\n",
       "    <tr>\n",
       "      <th>7034</th>\n",
       "      <td>2015-11-01</td>\n",
       "      <td>2014-03-01</td>\n",
       "      <td>610</td>\n",
       "      <td>0</td>\n",
       "    </tr>\n",
       "    <tr>\n",
       "      <th>7035</th>\n",
       "      <td>2020-02-01</td>\n",
       "      <td>2018-07-01</td>\n",
       "      <td>580</td>\n",
       "      <td>1</td>\n",
       "    </tr>\n",
       "    <tr>\n",
       "      <th>7036</th>\n",
       "      <td>2020-02-01</td>\n",
       "      <td>2019-02-01</td>\n",
       "      <td>365</td>\n",
       "      <td>1</td>\n",
       "    </tr>\n",
       "    <tr>\n",
       "      <th>7037</th>\n",
       "      <td>2020-02-01</td>\n",
       "      <td>2014-02-01</td>\n",
       "      <td>2191</td>\n",
       "      <td>1</td>\n",
       "    </tr>\n",
       "  </tbody>\n",
       "</table>\n",
       "<p>7038 rows × 4 columns</p>\n",
       "</div>"
      ],
      "text/plain": [
       "       end_date begin_date  duration_days  target\n",
       "0    2020-02-01 2020-01-01             31       1\n",
       "1    2020-02-01 2017-04-01           1036       1\n",
       "2    2020-02-01 2019-10-01            123       1\n",
       "3    2020-02-01 2016-05-01           1371       1\n",
       "4    2020-02-01 2019-09-01            153       1\n",
       "...         ...        ...            ...     ...\n",
       "7033 2020-02-01 2016-12-01           1157       1\n",
       "7034 2015-11-01 2014-03-01            610       0\n",
       "7035 2020-02-01 2018-07-01            580       1\n",
       "7036 2020-02-01 2019-02-01            365       1\n",
       "7037 2020-02-01 2014-02-01           2191       1\n",
       "\n",
       "[7038 rows x 4 columns]"
      ]
     },
     "execution_count": 30,
     "metadata": {},
     "output_type": "execute_result"
    }
   ],
   "source": [
    "merged_df['end_date'] = merged_df['end_date'].replace('No', '2020-02-01')\n",
    "merged_df[['begin_date', 'end_date']] = merged_df[['begin_date', 'end_date']].apply(pd.to_datetime)\n",
    "merged_df['duration_days']= (merged_df['end_date']-merged_df['begin_date']).dt.days\n",
    "\n",
    "# Создаем целевой признак\n",
    "merged_df['target'] = np.where(merged_df['end_date'] == '2020-02-01', 1, 0)\n",
    "\n",
    "# Выводим результат\n",
    "merged_df[['end_date', 'begin_date', 'duration_days', 'target']].head(-5)"
   ]
  },
  {
   "cell_type": "code",
   "execution_count": 31,
   "metadata": {},
   "outputs": [
    {
     "name": "stdout",
     "output_type": "stream",
     "text": [
      "<class 'pandas.core.frame.DataFrame'>\n",
      "RangeIndex: 7043 entries, 0 to 7042\n",
      "Data columns (total 22 columns):\n",
      " #   Column             Non-Null Count  Dtype         \n",
      "---  ------             --------------  -----         \n",
      " 0   customer_id        7043 non-null   object        \n",
      " 1   begin_date         7043 non-null   datetime64[ns]\n",
      " 2   end_date           7043 non-null   datetime64[ns]\n",
      " 3   type               7043 non-null   object        \n",
      " 4   paperless_billing  7043 non-null   object        \n",
      " 5   payment_method     7043 non-null   object        \n",
      " 6   monthly_charges    7043 non-null   float64       \n",
      " 7   total_charges      7043 non-null   float64       \n",
      " 8   gender             7043 non-null   object        \n",
      " 9   senior_citizen     7043 non-null   object        \n",
      " 10  partner            7043 non-null   object        \n",
      " 11  dependents         7043 non-null   object        \n",
      " 12  multiple_lines     7043 non-null   object        \n",
      " 13  internet_service   7043 non-null   object        \n",
      " 14  online_security    7043 non-null   object        \n",
      " 15  online_backup      7043 non-null   object        \n",
      " 16  device_protection  7043 non-null   object        \n",
      " 17  tech_support       7043 non-null   object        \n",
      " 18  streaming_tv       7043 non-null   object        \n",
      " 19  streaming_movies   7043 non-null   object        \n",
      " 20  duration_days      7043 non-null   int64         \n",
      " 21  target             7043 non-null   int32         \n",
      "dtypes: datetime64[ns](2), float64(2), int32(1), int64(1), object(16)\n",
      "memory usage: 1.2+ MB\n"
     ]
    }
   ],
   "source": [
    "merged_df.info()"
   ]
  },
  {
   "cell_type": "code",
   "execution_count": 32,
   "metadata": {},
   "outputs": [
    {
     "data": {
      "text/plain": [
       "target\n",
       "1    5942\n",
       "0    1101\n",
       "Name: count, dtype: int64"
      ]
     },
     "execution_count": 32,
     "metadata": {},
     "output_type": "execute_result"
    }
   ],
   "source": [
    "merged_df['target'].value_counts()"
   ]
  },
  {
   "cell_type": "code",
   "execution_count": 33,
   "metadata": {},
   "outputs": [
    {
     "name": "stdout",
     "output_type": "stream",
     "text": [
      "Дубликатов в данных не обнаружено.\n"
     ]
    }
   ],
   "source": [
    "# Удаление лишних признаков \n",
    "merged_df = merged_df.drop(columns=['begin_date', 'end_date'])\n",
    "\n",
    "# Проверка на наличие дубликатов\n",
    "duplicates = merged_df.duplicated()\n",
    "\n",
    "# Подсчет количества дубликатов\n",
    "num_duplicates = duplicates.sum()\n",
    "\n",
    "if num_duplicates > 0:\n",
    "    print(f\"Обнаружено {num_duplicates} дубликатов в данных.\")\n",
    "else:\n",
    "    print(\"Дубликатов в данных не обнаружено.\")"
   ]
  },
  {
   "cell_type": "code",
   "execution_count": 34,
   "metadata": {},
   "outputs": [
    {
     "name": "stdout",
     "output_type": "stream",
     "text": [
      "<class 'pandas.core.frame.DataFrame'>\n",
      "RangeIndex: 7043 entries, 0 to 7042\n",
      "Data columns (total 20 columns):\n",
      " #   Column             Non-Null Count  Dtype  \n",
      "---  ------             --------------  -----  \n",
      " 0   customer_id        7043 non-null   object \n",
      " 1   type               7043 non-null   object \n",
      " 2   paperless_billing  7043 non-null   object \n",
      " 3   payment_method     7043 non-null   object \n",
      " 4   monthly_charges    7043 non-null   float64\n",
      " 5   total_charges      7043 non-null   float64\n",
      " 6   gender             7043 non-null   object \n",
      " 7   senior_citizen     7043 non-null   object \n",
      " 8   partner            7043 non-null   object \n",
      " 9   dependents         7043 non-null   object \n",
      " 10  multiple_lines     7043 non-null   object \n",
      " 11  internet_service   7043 non-null   object \n",
      " 12  online_security    7043 non-null   object \n",
      " 13  online_backup      7043 non-null   object \n",
      " 14  device_protection  7043 non-null   object \n",
      " 15  tech_support       7043 non-null   object \n",
      " 16  streaming_tv       7043 non-null   object \n",
      " 17  streaming_movies   7043 non-null   object \n",
      " 18  duration_days      7043 non-null   int64  \n",
      " 19  target             7043 non-null   int32  \n",
      "dtypes: float64(2), int32(1), int64(1), object(16)\n",
      "memory usage: 1.0+ MB\n"
     ]
    }
   ],
   "source": [
    "# Выводим информацию о полученном датафрейме\n",
    "merged_df.info()"
   ]
  },
  {
   "cell_type": "code",
   "execution_count": 35,
   "metadata": {},
   "outputs": [
    {
     "data": {
      "image/png": "[encoded data removed]",
      "text/plain": [
       "<Figure size 864x576 with 2 Axes>"
      ]
     },
     "metadata": {
      "needs_background": "light"
     },
     "output_type": "display_data"
    }
   ],
   "source": [
    "# Построение матрицы корреляций\n",
    "numeric_columns = ['monthly_charges', 'total_charges', 'duration_days', 'target']\n",
    "correlation_matrix = merged_df[numeric_columns].corr()\n",
    "\n",
    "# Построение тепловой карты для матрицы корреляций\n",
    "plt.figure(figsize=(12, 8))\n",
    "sns.heatmap(correlation_matrix, annot=True, cmap='coolwarm', fmt=\".2f\")\n",
    "plt.title('Матрица корреляций')\n",
    "plt.show()"
   ]
  },
  {
   "cell_type": "markdown",
   "metadata": {},
   "source": [
    "> **Выводы по третьему шагу:**\n",
    ">\n",
    "> В птретьем шаге были проделаны следующие действия: \n",
    ">  - обьединение таблиц в **merged_df**;\n",
    ">  - создание новых признаков - 'duration_days', 'target';\n",
    ">  - построена матрица корреляций.\n",
    ">\n",
    "> **После загрузки и изучения данных можно сделать несколько выводов:**\n",
    "> > Сильная положительная корреляция между total_charges и monthly_charges, что логично, учитывая, что общая сумма оплаты должна зависеть от ежемесячной платы.\n",
    "> >\n",
    "> > Можно заметить высокую положительную корреляцию между total_charges и duration_days, что может указывать на то, что клиенты с более долгосрочным использованием услуг компании имеют более высокие общие платежи.\n",
    "> >\n",
    "> > monthly_charges и duration_days также имеют положительную корреляцию, что может указывать на то, что клиенты с более долгосрочным использованием услуг часто платят больше в месяц.\n",
    "> >\n",
    "> > Отрицательная корреляция между target и monthly_charges может свидетельствовать о том, что клиенты, склонные к оттоку, могут иметь более низкие ежемесячные платежи. Однако корреляция не слишком сильна, поэтому это требует дополнительного анализа."
   ]
  },
  {
   "cell_type": "markdown",
   "metadata": {},
   "source": [
    "## 4. Пайплайн"
   ]
  },
  {
   "cell_type": "code",
   "execution_count": 36,
   "metadata": {},
   "outputs": [
    {
     "name": "stdout",
     "output_type": "stream",
     "text": [
      "Лучшая модель и её параметры:\n",
      " Pipeline(steps=[('preprocessor',\n",
      "                 ColumnTransformer(remainder='passthrough',\n",
      "                                   transformers=[('ohe',\n",
      "                                                  Pipeline(steps=[('simpleImputer_ohe',\n",
      "                                                                   SimpleImputer(strategy='most_frequent')),\n",
      "                                                                  ('ohe',\n",
      "                                                                   OneHotEncoder(drop='first',\n",
      "                                                                                 handle_unknown='ignore',\n",
      "                                                                                 sparse_output=False))]),\n",
      "                                                  ['type', 'paperless_billing',\n",
      "                                                   'payment_method', 'gender',\n",
      "                                                   'senior_citizen', 'partner',\n",
      "                                                   'dependents',\n",
      "                                                   'internet_service',\n",
      "                                                   'online_security',\n",
      "                                                   'online_backup',\n",
      "                                                   'device_protection',\n",
      "                                                   'tech_support',\n",
      "                                                   'streaming_tv',\n",
      "                                                   'streaming_movies',\n",
      "                                                   'multiple_lines']),\n",
      "                                                 ('num', StandardScaler(),\n",
      "                                                  ['monthly_charges',\n",
      "                                                   'total_charges',\n",
      "                                                   'duration_days'])])),\n",
      "                ('models',\n",
      "                 <catboost.core.CatBoostClassifier object at 0x000001DCF538E130>)])\n",
      "Значение ROC AUC лучшей модели на тренировочной выборке: 0.8923010485332528\n"
     ]
    }
   ],
   "source": [
    "RANDOM_STATE = 60524\n",
    "TEST_SIZE = 0.25\n",
    "\n",
    "X = merged_df.drop(columns=['customer_id', 'target']) \n",
    "y = merged_df['target']\n",
    "\n",
    "# делим данные на тренировочные и тестовые\n",
    "X_train, X_test, y_train, y_test = train_test_split(\n",
    "    X,\n",
    "    y,\n",
    "    test_size=TEST_SIZE,\n",
    "    random_state=RANDOM_STATE,\n",
    "    stratify=y)\n",
    "\n",
    "ohe_columns = ['type', 'paperless_billing', 'payment_method', 'gender', 'senior_citizen', 'partner',\n",
    "               'dependents', 'internet_service', 'online_security', 'online_backup', 'device_protection',\n",
    "               'tech_support', 'streaming_tv', 'streaming_movies', 'multiple_lines'] \n",
    "num_columns = ['monthly_charges', 'total_charges', 'duration_days']  \n",
    "\n",
    "ohe_pipe = Pipeline(\n",
    "    [\n",
    "        (\n",
    "            'simpleImputer_ohe', \n",
    "            SimpleImputer(missing_values=np.nan, strategy='most_frequent')\n",
    "        ),\n",
    "        (\n",
    "            'ohe', \n",
    "            OneHotEncoder(drop='first', handle_unknown='ignore', sparse_output=False)\n",
    "        )\n",
    "    ]\n",
    ") \n",
    "\n",
    "data_preprocessor = ColumnTransformer(\n",
    "    [\n",
    "        ('ohe', ohe_pipe, ohe_columns),\n",
    "        ('num', StandardScaler(), num_columns)\n",
    "    ], \n",
    "    remainder='passthrough'\n",
    ") \n",
    "\n",
    "pipe_final = Pipeline(\n",
    "    [\n",
    "        ('preprocessor', data_preprocessor),\n",
    "        ('models', DecisionTreeClassifier(random_state=RANDOM_STATE))\n",
    "    ]\n",
    ") \n",
    "\n",
    "param_grid = [\n",
    "    # словарь для модели DecisionTreeClassifier()\n",
    "    {\n",
    "        'models': [DecisionTreeClassifier(random_state=RANDOM_STATE)],\n",
    "        'models__max_depth': range(2, 5),\n",
    "        'models__max_features': range(2, 5),\n",
    "        'preprocessor__num': [StandardScaler(), MinMaxScaler(), 'passthrough']  \n",
    "    },\n",
    "    # словарь для модели KNeighborsClassifier() \n",
    "    {\n",
    "        'models': [KNeighborsClassifier()],\n",
    "        'models__n_neighbors': range(2, 5),\n",
    "        'preprocessor__num': [StandardScaler(), MinMaxScaler(), 'passthrough']   \n",
    "    },\n",
    "    # словарь для модели SVC()\n",
    "    {\n",
    "    'models': [SVC(random_state=RANDOM_STATE, kernel='rbf', C=1.0, gamma='scale')],\n",
    "    'preprocessor__num': [StandardScaler(), MinMaxScaler(), 'passthrough']  \n",
    "    },\n",
    "    # словарь для модели LogisticRegression()\n",
    "    {\n",
    "        'models': [LogisticRegression(\n",
    "            random_state=RANDOM_STATE, \n",
    "            solver='liblinear', \n",
    "            penalty='l1'\n",
    "        )],\n",
    "        'models__C': range(1, 5),\n",
    "        'preprocessor__num': [StandardScaler(), MinMaxScaler(), 'passthrough']  \n",
    "    },\n",
    "    # словарь для модели CatBoostClassifier()\n",
    "    {\n",
    "        'models': [CatBoostClassifier(random_state=RANDOM_STATE, verbose=False)],\n",
    "        'models__iterations': [100, 200, 300],\n",
    "        'models__learning_rate': [0.01, 0.05, 0.1]\n",
    "    }\n",
    "]\n",
    "\n",
    "grid_search = GridSearchCV(\n",
    "    pipe_final, \n",
    "    param_grid, \n",
    "    cv=5,\n",
    "    scoring='roc_auc',\n",
    "    n_jobs=-1\n",
    ")\n",
    "grid_search.fit(X_train, y_train)\n",
    "\n",
    "print ('Лучшая модель и её параметры:\\n', grid_search.best_estimator_)\n",
    "print ('Значение ROC AUC лучшей модели на тренировочной выборке:', grid_search.best_score_)"
   ]
  },
  {
   "cell_type": "code",
   "execution_count": 37,
   "metadata": {},
   "outputs": [
    {
     "data": {
      "text/html": [
       "<div>\n",
       "<style scoped>\n",
       "    .dataframe tbody tr th:only-of-type {\n",
       "        vertical-align: middle;\n",
       "    }\n",
       "\n",
       "    .dataframe tbody tr th {\n",
       "        vertical-align: top;\n",
       "    }\n",
       "\n",
       "    .dataframe thead th {\n",
       "        text-align: right;\n",
       "    }\n",
       "</style>\n",
       "<table border=\"1\" class=\"dataframe\">\n",
       "  <thead>\n",
       "    <tr style=\"text-align: right;\">\n",
       "      <th></th>\n",
       "      <th>rank_test_score</th>\n",
       "      <th>param_models</th>\n",
       "      <th>mean_test_score</th>\n",
       "      <th>params</th>\n",
       "    </tr>\n",
       "  </thead>\n",
       "  <tbody>\n",
       "    <tr>\n",
       "      <th>59</th>\n",
       "      <td>1</td>\n",
       "      <td>&lt;catboost.core.CatBoostClassifier object at 0x...</td>\n",
       "      <td>0.892301</td>\n",
       "      <td>{'models': &lt;catboost.core.CatBoostClassifier o...</td>\n",
       "    </tr>\n",
       "    <tr>\n",
       "      <th>36</th>\n",
       "      <td>10</td>\n",
       "      <td>SVC(random_state=60524)</td>\n",
       "      <td>0.772101</td>\n",
       "      <td>{'models': SVC(random_state=60524), 'preproces...</td>\n",
       "    </tr>\n",
       "    <tr>\n",
       "      <th>44</th>\n",
       "      <td>11</td>\n",
       "      <td>LogisticRegression(penalty='l1', random_state=...</td>\n",
       "      <td>0.762650</td>\n",
       "      <td>{'models': LogisticRegression(penalty='l1', ra...</td>\n",
       "    </tr>\n",
       "    <tr>\n",
       "      <th>24</th>\n",
       "      <td>24</td>\n",
       "      <td>DecisionTreeClassifier(random_state=60524)</td>\n",
       "      <td>0.717151</td>\n",
       "      <td>{'models': DecisionTreeClassifier(random_state...</td>\n",
       "    </tr>\n",
       "    <tr>\n",
       "      <th>33</th>\n",
       "      <td>27</td>\n",
       "      <td>KNeighborsClassifier()</td>\n",
       "      <td>0.706167</td>\n",
       "      <td>{'models': KNeighborsClassifier(), 'models__n_...</td>\n",
       "    </tr>\n",
       "  </tbody>\n",
       "</table>\n",
       "</div>"
      ],
      "text/plain": [
       "    rank_test_score                                       param_models  \\\n",
       "59                1  <catboost.core.CatBoostClassifier object at 0x...   \n",
       "36               10                            SVC(random_state=60524)   \n",
       "44               11  LogisticRegression(penalty='l1', random_state=...   \n",
       "24               24         DecisionTreeClassifier(random_state=60524)   \n",
       "33               27                             KNeighborsClassifier()   \n",
       "\n",
       "    mean_test_score                                             params  \n",
       "59         0.892301  {'models': <catboost.core.CatBoostClassifier o...  \n",
       "36         0.772101  {'models': SVC(random_state=60524), 'preproces...  \n",
       "44         0.762650  {'models': LogisticRegression(penalty='l1', ra...  \n",
       "24         0.717151  {'models': DecisionTreeClassifier(random_state...  \n",
       "33         0.706167  {'models': KNeighborsClassifier(), 'models__n_...  "
      ]
     },
     "execution_count": 37,
     "metadata": {},
     "output_type": "execute_result"
    }
   ],
   "source": [
    "result = pd.DataFrame(grid_search.cv_results_)\n",
    "\n",
    "# Преобразуем тип данных столбца 'param_models' в строку\n",
    "result['param_models'] = result['param_models'].astype(str)\n",
    "\n",
    "# Выбираем первое вхождение каждой модели, кроме CatBoostClassifier\n",
    "best_models = result.sort_values('rank_test_score').drop_duplicates(subset='param_models')\n",
    "\n",
    "# Выводим информацию о лучших моделях\n",
    "best_models[['rank_test_score', 'param_models', 'mean_test_score', 'params']]"
   ]
  },
  {
   "cell_type": "markdown",
   "metadata": {},
   "source": [
    "#### 4.1 Тестирование"
   ]
  },
  {
   "cell_type": "code",
   "execution_count": 38,
   "metadata": {},
   "outputs": [
    {
     "name": "stdout",
     "output_type": "stream",
     "text": [
      "Лучшая модель и её параметры: Pipeline(steps=[('preprocessor',\n",
      "                 ColumnTransformer(remainder='passthrough',\n",
      "                                   transformers=[('ohe',\n",
      "                                                  Pipeline(steps=[('simpleImputer_ohe',\n",
      "                                                                   SimpleImputer(strategy='most_frequent')),\n",
      "                                                                  ('ohe',\n",
      "                                                                   OneHotEncoder(drop='first',\n",
      "                                                                                 handle_unknown='ignore',\n",
      "                                                                                 sparse_output=False))]),\n",
      "                                                  ['type', 'paperless_billing',\n",
      "                                                   'payment_method', 'gender',\n",
      "                                                   'senior_citizen', 'partner',\n",
      "                                                   'dependents',\n",
      "                                                   'internet_service',\n",
      "                                                   'online_security',\n",
      "                                                   'online_backup',\n",
      "                                                   'device_protection',\n",
      "                                                   'tech_support',\n",
      "                                                   'streaming_tv',\n",
      "                                                   'streaming_movies',\n",
      "                                                   'multiple_lines']),\n",
      "                                                 ('num', StandardScaler(),\n",
      "                                                  ['monthly_charges',\n",
      "                                                   'total_charges',\n",
      "                                                   'duration_days'])])),\n",
      "                ('models',\n",
      "                 <catboost.core.CatBoostClassifier object at 0x000001DCF538E130>)])\n",
      "ROC-AUC на тестовой выборке: 0.9126734369264651\n"
     ]
    }
   ],
   "source": [
    "# Получаем лучшую модель и её параметры\n",
    "best_model = grid_search.best_estimator_\n",
    "\n",
    "# Предсказание вероятностей классов на тестовой выборке\n",
    "y_pred_proba = best_model.predict_proba(X_test)\n",
    "\n",
    "# Выбираем вероятности положительного класса (класса 1)\n",
    "y_pred_proba_positive = y_pred_proba[:, 1]\n",
    "\n",
    "# Вычисляем ROC-AUC для тестовой выборки\n",
    "roc_auc = roc_auc_score(y_test, y_pred_proba_positive)\n",
    "\n",
    "# Выводим результаты\n",
    "print(f'Лучшая модель и её параметры: {best_model}')\n",
    "print(\"ROC-AUC на тестовой выборке:\", roc_auc)"
   ]
  },
  {
   "cell_type": "code",
   "execution_count": 39,
   "metadata": {},
   "outputs": [
    {
     "name": "stdout",
     "output_type": "stream",
     "text": [
      "Лучшие параметры модели: {'models': <catboost.core.CatBoostClassifier object at 0x000001DCF5247EB0>, 'models__iterations': 300, 'models__learning_rate': 0.1}\n"
     ]
    }
   ],
   "source": [
    "# Получаем лучшие параметры лучшей модели\n",
    "best_params = grid_search.best_params_\n",
    "\n",
    "# Выводим параметры\n",
    "print('Лучшие параметры модели:', best_params)"
   ]
  },
  {
   "cell_type": "markdown",
   "metadata": {},
   "source": [
    "> **Выводы по четвёртому шагу:**\n",
    ">\n",
    "> В четвёртом шаге были проделаны следующие действия: \n",
    ">  - построен пайплайн с разными моделями и геперпараметрами.\n",
    ">  - рачсчитана метрика на лучшей модели.\n",
    ">\n",
    "> **После загрузки и изучения данных можно сделать несколько выводов:**\n",
    "> > Модель CatBoostClassifier показала хороший результат на тестовой выборке с показателем ROC-AUC равным 0.913, **требуемы результат на тестовой выборке ROC-AUC > 0.85**. Это свидетельствует о том, что модель достаточно точно предсказывает вероятность положительного класса (оттока клиентов) по сравнению с отрицательным классом. Это важный показатель для задачи прогнозирования оттока, поскольку позволяет оценить качество модели при различных порогах классификации.\n",
    "> >\n",
    "> >Также можно отметить, что модель использует предварительную обработку данных, включая кодирование категориальных признаков с помощью OneHotEncoder и стандартизацию числовых признаков с помощью StandardScaler. Это помогает модели эффективно работать с разными типами признаков и снижает влияние различных масштабов значений на процесс обучения."
   ]
  },
  {
   "cell_type": "markdown",
   "metadata": {},
   "source": [
    "# 5. Анализ важности признаков"
   ]
  },
  {
   "cell_type": "code",
   "execution_count": 40,
   "metadata": {},
   "outputs": [
    {
     "data": {
      "image/png": "[encoded data removed]",
      "text/plain": [
       "<Figure size 576x684 with 2 Axes>"
      ]
     },
     "metadata": {
      "needs_background": "light"
     },
     "output_type": "display_data"
    }
   ],
   "source": [
    "# Получаем обработанные данные\n",
    "X_train_processed = pipe_final.named_steps['preprocessor'].fit_transform(X_train)\n",
    "X_test_processed = pipe_final.named_steps['preprocessor'].transform(X_test)\n",
    "\n",
    "# Получаем имена признаков после обработки\n",
    "feature_names = pipe_final.named_steps['preprocessor'].get_feature_names_out()\n",
    "\n",
    "# Инициализируем Explainer\n",
    "explainer = shap.TreeExplainer(grid_search.best_estimator_['models'])\n",
    "explainer.feature_names = feature_names\n",
    "\n",
    "# Получаем значения SHAP\n",
    "shap_values = explainer.shap_values(X_test_processed)\n",
    "\n",
    "# Визуализируем важность признаков\n",
    "shap.summary_plot(shap_values, X_test_processed, feature_names=feature_names)"
   ]
  },
  {
   "cell_type": "markdown",
   "metadata": {},
   "source": [
    "> **Выводы по пятому шагу:**\n",
    ">\n",
    "> В пятом шаге были проделаны следующие действия: \n",
    ">  - проведён анализ важности признаков.\n",
    ">\n",
    "> **После загрузки и изучения данных можно сделать несколько выводов:**\n",
    "> > Наиболее важные признаки, определенные с использованием метода SHAP (SHapley Additive exPlanations), представляют собой различные аспекты услуг и тарифов, которые оказывают влияние на решение клиентов о продолжении или прекращении пользования услугами оператора связи.\n",
    "> >\n",
    "> > Важные признаки включают в себя длительность пользования услугами (num__duration_days) и суммарные затраты (num__total_charges), что может свидетельствовать о стабильности и долгосрочности отношений с клиентами. Также значимыми признаками являются тип тарифного плана (ohe__type_Two year, ohe__type_One year) и наличие партнера (ohe__partner_Yes), что указывает на важность долгосрочных и стабильных контрактов.\n",
    "> >\n",
    "> > Остальные признаки, такие как наличие дополнительных услуг (охрана онлайн, резервное копирование онлайн, защита устройств, поддержка технического обслуживания и т. д.), также оказывают влияние на решение клиентов о прекращении пользования услугами."
   ]
  },
  {
   "cell_type": "markdown",
   "metadata": {},
   "source": [
    "## Итоговый вывод \n",
    "\n",
    "В ходе исследования были проведены различные этапы анализа данных для определения оттока клиентов и оптимального подхода к персонализации предложений для клиентов \"ТелеДом\".\n",
    "\n",
    "Начав с изучения общей характеристики данных, были проанализированы признаки, включая тип тарифного плана, наличие дополнительных услуг, историю платежей и т. д. Для подготовки данных к построению модели машинного обучения были выполнены такие этапы, как обработка пропущенных значений, преобразование категориальных признаков и масштабирование числовых данных.\n",
    "\n",
    "Построение модели машинного обучения было выполнено с использованием различных алгоритмов, таких как DecisionTreeClassifier, KNeighborsClassifier, SVC и LogisticRegression, а также CatBoostClassifier, с последующим подбором оптимальных параметров с помощью GridSearchCV. Наилучшей моделью, показавшей высокую точность прогнозирования, оказался CatBoostClassifier с определенными параметрами.\n",
    "\n",
    "Дополнительно был проведен анализ важности признаков с использованием метода SHAP, что позволило выявить основные факторы, влияющие на решение клиентов о продолжении или прекращении пользования услугами \"ТелеДом\".\n",
    "\n",
    "На основе результатов анализа были сделаны следующие выводы:\n",
    "\n",
    "Наличие длительных контрактов и стабильные отношения с клиентами существенно снижают вероятность оттока.\n",
    "Предоставление дополнительных услуг, таких как онлайн-защита, резервное копирование данных и т. д., также оказывает положительное влияние на удержание клиентов.\n",
    "Персонализация предложений и акций в зависимости от индивидуальных потребностей и предпочтений клиентов может быть эффективным способом удержания клиентов и привлечения новых."
   ]
  },
  {
   "cell_type": "markdown",
   "metadata": {},
   "source": [
    "## Отчёт по проекту\n",
    "\n",
    "1. План работы:\n",
    "\n",
    "Шаг 1. Загрузка данных - ✅\n",
    "\n",
    "Шаг 2. Исследовательский анализ и предобработка данных - ✅\n",
    "\n",
    "Шаг 3. Объединение данных - ✅\n",
    "\n",
    "Шаг 4. Исследовательский анализ и предобработка данных объединённого датафрейма - ❌\n",
    "\n",
    "Шаг 5. Подготовка данных - ✅\n",
    "\n",
    "Шаг 6. Обучение моделей машинного обучения - ✅\n",
    "\n",
    "Шаг 7. Выбор лучшей модели - ✅\n",
    "\n",
    "Шаг 8. Общий вывод и рекомендации заказчику - ✅\n",
    "\n",
    "В ходе работы над проектом были выполнены все пункты плана, кроме **4-ого шага**, так как это шаг был выполнен над всеми таблицами перед их объединением.\n",
    "\n",
    "2. Трудности возникли с исследовательским анализ, решить удалось путём создания двух функций.\n",
    "\n",
    "3. Ключевыми шагами являются все шаги, среди них выделю **предобработку** и **подготовку** данных к обучению.\n",
    "\n",
    "4. В ходе обучения моделей выявилась **лучшая модель с гиперпараметрами** - CatBoostClassifier('models__iterations': 300, 'models__learning_rate': 0.1).\n",
    "\n",
    "5. Список признаков используемых для обучения моделей:\n",
    "\n",
    "> type — тип оплаты: раз в год-два или ежемесячно;\n",
    "> \n",
    "> paperless_billing — электронный расчётный лист;\n",
    "> \n",
    "> payment_method — тип платежа;\n",
    "> \n",
    "> monthly_charges — расходы за месяц;\n",
    "> \n",
    "> total_charges — общие расходы абонента.\n",
    "> \n",
    "> gender — пол;\n",
    "> \n",
    "> senior_citizen — является ли абонент пенсионером;\n",
    "> \n",
    "> partner — есть ли у абонента супруг или супруга;\n",
    "> \n",
    "> dependents — есть ли у абонента дети.\n",
    "> \n",
    "> internet_service — тип подключения;\n",
    "> \n",
    "> online_security — блокировка опасных сайтов;\n",
    "> \n",
    "> online_backup — облачное хранилище файлов для резервного копирования данных;\n",
    "> \n",
    "> device_protection — антивирус;\n",
    ">  \n",
    "> tech_support — выделенная линия технической поддержки;\n",
    "> \n",
    "> streaming_tv — стриминговое телевидение;\n",
    "> \n",
    "> streaming_movies — каталог фильмов.\n",
    "> \n",
    "> multiple_lines — подключение телефона к нескольким линиям одновременно;\n",
    "> \n",
    "> **duration_days** - количество дней пользования клиентом;\n",
    "> \n",
    "> **target** - целевой признак.\n",
    "\n",
    "Предобработка данных влючала в себя:\n",
    "- переименование столбцов;\n",
    "- изменение типа данных;\n",
    "- поиск дубликатов(явных, неявных) и аномалий."
   ]
  }
 ],
 "metadata": {
  "ExecuteTimeLog": [
   {
    "duration": 2031,
    "start_time": "2024-05-11T01:29:54.483Z"
   },
   {
    "duration": 354,
    "start_time": "2024-05-11T01:30:00.489Z"
   },
   {
    "duration": 12,
    "start_time": "2024-05-11T01:30:03.959Z"
   },
   {
    "duration": 10,
    "start_time": "2024-05-11T01:30:04.148Z"
   },
   {
    "duration": 10,
    "start_time": "2024-05-11T01:30:04.283Z"
   },
   {
    "duration": 10,
    "start_time": "2024-05-11T01:30:04.747Z"
   },
   {
    "duration": 9,
    "start_time": "2024-05-11T01:30:04.924Z"
   },
   {
    "duration": 9,
    "start_time": "2024-05-11T01:30:05.339Z"
   },
   {
    "duration": 6,
    "start_time": "2024-05-11T01:30:05.514Z"
   },
   {
    "duration": 8,
    "start_time": "2024-05-11T01:30:06.575Z"
   },
   {
    "duration": 10,
    "start_time": "2024-05-11T01:36:27.393Z"
   },
   {
    "duration": 9,
    "start_time": "2024-05-11T01:36:27.615Z"
   },
   {
    "duration": 7,
    "start_time": "2024-05-11T01:36:27.825Z"
   },
   {
    "duration": 9,
    "start_time": "2024-05-11T01:36:27.961Z"
   },
   {
    "duration": 8,
    "start_time": "2024-05-11T01:36:28.335Z"
   },
   {
    "duration": 9,
    "start_time": "2024-05-11T01:36:28.484Z"
   },
   {
    "duration": 6,
    "start_time": "2024-05-11T01:36:28.777Z"
   },
   {
    "duration": 8,
    "start_time": "2024-05-11T01:36:29.304Z"
   },
   {
    "duration": 4,
    "start_time": "2024-05-11T01:36:29.454Z"
   },
   {
    "duration": 5,
    "start_time": "2024-05-11T01:36:29.490Z"
   },
   {
    "duration": 4,
    "start_time": "2024-05-11T01:36:29.530Z"
   },
   {
    "duration": 3,
    "start_time": "2024-05-11T01:36:29.566Z"
   },
   {
    "duration": 8,
    "start_time": "2024-05-11T01:36:30.588Z"
   },
   {
    "duration": 6,
    "start_time": "2024-05-11T01:36:31.046Z"
   },
   {
    "duration": 8,
    "start_time": "2024-05-11T01:36:31.220Z"
   },
   {
    "duration": 17,
    "start_time": "2024-05-11T01:36:31.558Z"
   },
   {
    "duration": 8,
    "start_time": "2024-05-11T01:36:31.913Z"
   },
   {
    "duration": 13,
    "start_time": "2024-05-11T01:36:32.306Z"
   },
   {
    "duration": 515,
    "start_time": "2024-05-11T01:36:33.967Z"
   },
   {
    "duration": 26,
    "start_time": "2024-05-11T01:36:34.484Z"
   },
   {
    "duration": 411,
    "start_time": "2024-05-11T01:36:35.264Z"
   },
   {
    "duration": 17,
    "start_time": "2024-05-11T01:36:35.858Z"
   },
   {
    "duration": 451,
    "start_time": "2024-05-11T01:36:36.226Z"
   },
   {
    "duration": 8,
    "start_time": "2024-05-11T01:36:36.785Z"
   },
   {
    "duration": 210,
    "start_time": "2024-05-11T01:36:37.032Z"
   },
   {
    "duration": 343,
    "start_time": "2024-05-11T01:36:37.728Z"
   },
   {
    "duration": 28,
    "start_time": "2024-05-11T01:36:39.005Z"
   },
   {
    "duration": 19,
    "start_time": "2024-05-11T01:36:39.337Z"
   },
   {
    "duration": 6,
    "start_time": "2024-05-11T01:36:39.902Z"
   },
   {
    "duration": 36,
    "start_time": "2024-05-11T01:36:40.334Z"
   },
   {
    "duration": 16,
    "start_time": "2024-05-11T01:36:40.537Z"
   },
   {
    "duration": 13,
    "start_time": "2024-05-11T01:36:42.422Z"
   },
   {
    "duration": 305,
    "start_time": "2024-05-11T01:36:42.598Z"
   },
   {
    "duration": 5,
    "start_time": "2024-05-11T01:37:24.275Z"
   },
   {
    "duration": 1430,
    "start_time": "2024-05-11T08:49:17.971Z"
   },
   {
    "duration": 0,
    "start_time": "2024-05-11T08:49:19.405Z"
   },
   {
    "duration": 0,
    "start_time": "2024-05-11T08:49:19.406Z"
   },
   {
    "duration": 0,
    "start_time": "2024-05-11T08:49:19.408Z"
   },
   {
    "duration": 0,
    "start_time": "2024-05-11T08:49:19.409Z"
   },
   {
    "duration": 0,
    "start_time": "2024-05-11T08:49:19.410Z"
   },
   {
    "duration": 0,
    "start_time": "2024-05-11T08:49:19.412Z"
   },
   {
    "duration": 0,
    "start_time": "2024-05-11T08:49:19.413Z"
   },
   {
    "duration": 0,
    "start_time": "2024-05-11T08:49:19.414Z"
   },
   {
    "duration": 0,
    "start_time": "2024-05-11T08:49:19.416Z"
   },
   {
    "duration": 0,
    "start_time": "2024-05-11T08:49:19.417Z"
   },
   {
    "duration": 0,
    "start_time": "2024-05-11T08:49:19.419Z"
   },
   {
    "duration": 0,
    "start_time": "2024-05-11T08:49:19.420Z"
   },
   {
    "duration": 0,
    "start_time": "2024-05-11T08:49:19.421Z"
   },
   {
    "duration": 0,
    "start_time": "2024-05-11T08:49:19.423Z"
   },
   {
    "duration": 0,
    "start_time": "2024-05-11T08:49:19.424Z"
   },
   {
    "duration": 0,
    "start_time": "2024-05-11T08:49:19.461Z"
   },
   {
    "duration": 0,
    "start_time": "2024-05-11T08:49:19.463Z"
   },
   {
    "duration": 0,
    "start_time": "2024-05-11T08:49:19.464Z"
   },
   {
    "duration": 0,
    "start_time": "2024-05-11T08:49:19.466Z"
   },
   {
    "duration": 0,
    "start_time": "2024-05-11T08:49:19.467Z"
   },
   {
    "duration": 0,
    "start_time": "2024-05-11T08:49:19.469Z"
   },
   {
    "duration": 0,
    "start_time": "2024-05-11T08:49:19.470Z"
   },
   {
    "duration": 0,
    "start_time": "2024-05-11T08:49:19.472Z"
   },
   {
    "duration": 0,
    "start_time": "2024-05-11T08:49:19.473Z"
   },
   {
    "duration": 0,
    "start_time": "2024-05-11T08:49:19.474Z"
   },
   {
    "duration": 0,
    "start_time": "2024-05-11T08:49:19.476Z"
   },
   {
    "duration": 0,
    "start_time": "2024-05-11T08:49:19.478Z"
   },
   {
    "duration": 0,
    "start_time": "2024-05-11T08:49:19.479Z"
   },
   {
    "duration": 0,
    "start_time": "2024-05-11T08:49:19.480Z"
   },
   {
    "duration": 0,
    "start_time": "2024-05-11T08:49:19.482Z"
   },
   {
    "duration": 0,
    "start_time": "2024-05-11T08:49:19.483Z"
   },
   {
    "duration": 0,
    "start_time": "2024-05-11T08:49:19.485Z"
   },
   {
    "duration": 0,
    "start_time": "2024-05-11T08:49:19.486Z"
   },
   {
    "duration": 0,
    "start_time": "2024-05-11T08:49:19.488Z"
   },
   {
    "duration": 0,
    "start_time": "2024-05-11T08:49:19.489Z"
   },
   {
    "duration": 0,
    "start_time": "2024-05-11T08:49:19.491Z"
   },
   {
    "duration": 0,
    "start_time": "2024-05-11T08:49:19.493Z"
   },
   {
    "duration": 0,
    "start_time": "2024-05-11T08:49:19.494Z"
   },
   {
    "duration": 0,
    "start_time": "2024-05-11T08:49:19.495Z"
   },
   {
    "duration": 38347,
    "start_time": "2024-05-11T08:49:55.332Z"
   },
   {
    "duration": 2418,
    "start_time": "2024-05-11T08:50:33.681Z"
   },
   {
    "duration": 0,
    "start_time": "2024-05-11T08:50:36.106Z"
   },
   {
    "duration": 0,
    "start_time": "2024-05-11T08:50:36.108Z"
   },
   {
    "duration": 0,
    "start_time": "2024-05-11T08:50:36.110Z"
   },
   {
    "duration": 0,
    "start_time": "2024-05-11T08:50:36.111Z"
   },
   {
    "duration": 0,
    "start_time": "2024-05-11T08:50:36.113Z"
   },
   {
    "duration": 0,
    "start_time": "2024-05-11T08:50:36.114Z"
   },
   {
    "duration": 0,
    "start_time": "2024-05-11T08:50:36.116Z"
   },
   {
    "duration": 0,
    "start_time": "2024-05-11T08:50:36.117Z"
   },
   {
    "duration": 0,
    "start_time": "2024-05-11T08:50:36.119Z"
   },
   {
    "duration": 0,
    "start_time": "2024-05-11T08:50:36.120Z"
   },
   {
    "duration": 0,
    "start_time": "2024-05-11T08:50:36.121Z"
   },
   {
    "duration": 0,
    "start_time": "2024-05-11T08:50:36.123Z"
   },
   {
    "duration": 0,
    "start_time": "2024-05-11T08:50:36.124Z"
   },
   {
    "duration": 0,
    "start_time": "2024-05-11T08:50:36.161Z"
   },
   {
    "duration": 0,
    "start_time": "2024-05-11T08:50:36.162Z"
   },
   {
    "duration": 0,
    "start_time": "2024-05-11T08:50:36.163Z"
   },
   {
    "duration": 0,
    "start_time": "2024-05-11T08:50:36.164Z"
   },
   {
    "duration": 0,
    "start_time": "2024-05-11T08:50:36.165Z"
   },
   {
    "duration": 0,
    "start_time": "2024-05-11T08:50:36.167Z"
   },
   {
    "duration": 0,
    "start_time": "2024-05-11T08:50:36.167Z"
   },
   {
    "duration": 0,
    "start_time": "2024-05-11T08:50:36.169Z"
   },
   {
    "duration": 0,
    "start_time": "2024-05-11T08:50:36.170Z"
   },
   {
    "duration": 0,
    "start_time": "2024-05-11T08:50:36.171Z"
   },
   {
    "duration": 0,
    "start_time": "2024-05-11T08:50:36.172Z"
   },
   {
    "duration": 0,
    "start_time": "2024-05-11T08:50:36.173Z"
   },
   {
    "duration": 0,
    "start_time": "2024-05-11T08:50:36.174Z"
   },
   {
    "duration": 0,
    "start_time": "2024-05-11T08:50:36.175Z"
   },
   {
    "duration": 0,
    "start_time": "2024-05-11T08:50:36.176Z"
   },
   {
    "duration": 1,
    "start_time": "2024-05-11T08:50:36.177Z"
   },
   {
    "duration": 0,
    "start_time": "2024-05-11T08:50:36.178Z"
   },
   {
    "duration": 0,
    "start_time": "2024-05-11T08:50:36.180Z"
   },
   {
    "duration": 0,
    "start_time": "2024-05-11T08:50:36.181Z"
   },
   {
    "duration": 0,
    "start_time": "2024-05-11T08:50:36.182Z"
   },
   {
    "duration": 0,
    "start_time": "2024-05-11T08:50:36.183Z"
   },
   {
    "duration": 0,
    "start_time": "2024-05-11T08:50:36.184Z"
   },
   {
    "duration": 0,
    "start_time": "2024-05-11T08:50:36.185Z"
   },
   {
    "duration": 0,
    "start_time": "2024-05-11T08:50:36.186Z"
   },
   {
    "duration": 0,
    "start_time": "2024-05-11T08:50:36.188Z"
   },
   {
    "duration": 0,
    "start_time": "2024-05-11T08:50:36.189Z"
   },
   {
    "duration": 2921,
    "start_time": "2024-05-11T08:51:14.299Z"
   },
   {
    "duration": 8098,
    "start_time": "2024-05-11T08:51:17.223Z"
   },
   {
    "duration": 2877,
    "start_time": "2024-05-11T08:51:25.323Z"
   },
   {
    "duration": 376,
    "start_time": "2024-05-11T08:51:28.202Z"
   },
   {
    "duration": 15,
    "start_time": "2024-05-11T08:51:28.580Z"
   },
   {
    "duration": 12,
    "start_time": "2024-05-11T08:51:28.597Z"
   },
   {
    "duration": 13,
    "start_time": "2024-05-11T08:51:28.611Z"
   },
   {
    "duration": 9,
    "start_time": "2024-05-11T08:51:28.626Z"
   },
   {
    "duration": 9,
    "start_time": "2024-05-11T08:51:28.637Z"
   },
   {
    "duration": 10,
    "start_time": "2024-05-11T08:51:28.661Z"
   },
   {
    "duration": 13,
    "start_time": "2024-05-11T08:51:28.673Z"
   },
   {
    "duration": 10,
    "start_time": "2024-05-11T08:51:28.688Z"
   },
   {
    "duration": 12,
    "start_time": "2024-05-11T08:51:28.700Z"
   },
   {
    "duration": 11,
    "start_time": "2024-05-11T08:51:28.716Z"
   },
   {
    "duration": 41,
    "start_time": "2024-05-11T08:51:28.729Z"
   },
   {
    "duration": 10,
    "start_time": "2024-05-11T08:51:28.772Z"
   },
   {
    "duration": 10,
    "start_time": "2024-05-11T08:51:28.785Z"
   },
   {
    "duration": 18,
    "start_time": "2024-05-11T08:51:28.797Z"
   },
   {
    "duration": 11,
    "start_time": "2024-05-11T08:51:28.817Z"
   },
   {
    "duration": 18,
    "start_time": "2024-05-11T08:51:28.860Z"
   },
   {
    "duration": 695,
    "start_time": "2024-05-11T08:51:28.879Z"
   },
   {
    "duration": 15,
    "start_time": "2024-05-11T08:51:29.576Z"
   },
   {
    "duration": 472,
    "start_time": "2024-05-11T08:51:29.593Z"
   },
   {
    "duration": 19,
    "start_time": "2024-05-11T08:51:30.067Z"
   },
   {
    "duration": 639,
    "start_time": "2024-05-11T08:51:30.088Z"
   },
   {
    "duration": 10,
    "start_time": "2024-05-11T08:51:30.729Z"
   },
   {
    "duration": 324,
    "start_time": "2024-05-11T08:51:30.741Z"
   },
   {
    "duration": 443,
    "start_time": "2024-05-11T08:51:31.068Z"
   },
   {
    "duration": 23,
    "start_time": "2024-05-11T08:51:31.514Z"
   },
   {
    "duration": 38,
    "start_time": "2024-05-11T08:51:31.539Z"
   },
   {
    "duration": 22,
    "start_time": "2024-05-11T08:51:31.579Z"
   },
   {
    "duration": 35,
    "start_time": "2024-05-11T08:51:31.604Z"
   },
   {
    "duration": 20,
    "start_time": "2024-05-11T08:51:31.641Z"
   },
   {
    "duration": 19,
    "start_time": "2024-05-11T08:51:31.663Z"
   },
   {
    "duration": 24,
    "start_time": "2024-05-11T08:51:31.685Z"
   },
   {
    "duration": 19,
    "start_time": "2024-05-11T08:51:31.711Z"
   },
   {
    "duration": 388,
    "start_time": "2024-05-11T08:51:31.732Z"
   },
   {
    "duration": 9,
    "start_time": "2024-05-11T08:51:32.122Z"
   },
   {
    "duration": 189,
    "start_time": "2024-05-11T08:51:32.134Z"
   },
   {
    "duration": 0,
    "start_time": "2024-05-11T08:51:32.325Z"
   },
   {
    "duration": 0,
    "start_time": "2024-05-11T08:51:32.327Z"
   },
   {
    "duration": 0,
    "start_time": "2024-05-11T08:51:32.329Z"
   },
   {
    "duration": 4747,
    "start_time": "2024-05-11T08:54:48.139Z"
   },
   {
    "duration": 26,
    "start_time": "2024-05-11T08:55:06.895Z"
   },
   {
    "duration": 26,
    "start_time": "2024-05-11T08:55:23.998Z"
   },
   {
    "duration": 3,
    "start_time": "2024-05-11T08:56:07.899Z"
   },
   {
    "duration": 4843,
    "start_time": "2024-05-11T08:57:05.441Z"
   },
   {
    "duration": 3647,
    "start_time": "2024-05-11T08:59:40.755Z"
   },
   {
    "duration": 2915,
    "start_time": "2024-05-11T08:59:44.406Z"
   },
   {
    "duration": 6888,
    "start_time": "2024-05-11T08:59:47.324Z"
   },
   {
    "duration": 2562,
    "start_time": "2024-05-11T08:59:54.214Z"
   },
   {
    "duration": 121,
    "start_time": "2024-05-11T08:59:56.779Z"
   },
   {
    "duration": 14,
    "start_time": "2024-05-11T08:59:56.902Z"
   },
   {
    "duration": 12,
    "start_time": "2024-05-11T08:59:56.918Z"
   },
   {
    "duration": 13,
    "start_time": "2024-05-11T08:59:56.933Z"
   },
   {
    "duration": 24,
    "start_time": "2024-05-11T08:59:56.948Z"
   },
   {
    "duration": 27,
    "start_time": "2024-05-11T08:59:56.974Z"
   },
   {
    "duration": 13,
    "start_time": "2024-05-11T08:59:57.004Z"
   },
   {
    "duration": 13,
    "start_time": "2024-05-11T08:59:57.020Z"
   },
   {
    "duration": 15,
    "start_time": "2024-05-11T08:59:57.035Z"
   },
   {
    "duration": 22,
    "start_time": "2024-05-11T08:59:57.056Z"
   },
   {
    "duration": 14,
    "start_time": "2024-05-11T08:59:57.080Z"
   },
   {
    "duration": 37,
    "start_time": "2024-05-11T08:59:57.097Z"
   },
   {
    "duration": 11,
    "start_time": "2024-05-11T08:59:57.137Z"
   },
   {
    "duration": 24,
    "start_time": "2024-05-11T08:59:57.150Z"
   },
   {
    "duration": 17,
    "start_time": "2024-05-11T08:59:57.176Z"
   },
   {
    "duration": 12,
    "start_time": "2024-05-11T08:59:57.197Z"
   },
   {
    "duration": 30,
    "start_time": "2024-05-11T08:59:57.212Z"
   },
   {
    "duration": 661,
    "start_time": "2024-05-11T08:59:57.245Z"
   },
   {
    "duration": 17,
    "start_time": "2024-05-11T08:59:57.909Z"
   },
   {
    "duration": 496,
    "start_time": "2024-05-11T08:59:57.928Z"
   },
   {
    "duration": 20,
    "start_time": "2024-05-11T08:59:58.426Z"
   },
   {
    "duration": 543,
    "start_time": "2024-05-11T08:59:58.462Z"
   },
   {
    "duration": 10,
    "start_time": "2024-05-11T08:59:59.007Z"
   },
   {
    "duration": 307,
    "start_time": "2024-05-11T08:59:59.019Z"
   },
   {
    "duration": 360,
    "start_time": "2024-05-11T08:59:59.328Z"
   },
   {
    "duration": 21,
    "start_time": "2024-05-11T08:59:59.690Z"
   },
   {
    "duration": 47,
    "start_time": "2024-05-11T08:59:59.713Z"
   },
   {
    "duration": 10,
    "start_time": "2024-05-11T08:59:59.763Z"
   },
   {
    "duration": 41,
    "start_time": "2024-05-11T08:59:59.775Z"
   },
   {
    "duration": 22,
    "start_time": "2024-05-11T08:59:59.819Z"
   },
   {
    "duration": 7,
    "start_time": "2024-05-11T08:59:59.860Z"
   },
   {
    "duration": 17,
    "start_time": "2024-05-11T08:59:59.869Z"
   },
   {
    "duration": 20,
    "start_time": "2024-05-11T08:59:59.889Z"
   },
   {
    "duration": 417,
    "start_time": "2024-05-11T08:59:59.911Z"
   },
   {
    "duration": 9,
    "start_time": "2024-05-11T09:00:00.330Z"
   },
   {
    "duration": 176,
    "start_time": "2024-05-11T09:00:00.341Z"
   },
   {
    "duration": 95980,
    "start_time": "2024-05-11T09:00:00.522Z"
   },
   {
    "duration": 24,
    "start_time": "2024-05-11T09:01:36.505Z"
   },
   {
    "duration": 69,
    "start_time": "2024-05-11T09:01:36.531Z"
   },
   {
    "duration": 2020,
    "start_time": "2024-05-11T09:01:36.602Z"
   }
  ],
  "kernelspec": {
   "display_name": "Python 3 (ipykernel)",
   "language": "python",
   "name": "python3"
  },
  "language_info": {
   "codemirror_mode": {
    "name": "ipython",
    "version": 3
   },
   "file_extension": ".py",
   "mimetype": "text/x-python",
   "name": "python",
   "nbconvert_exporter": "python",
   "pygments_lexer": "ipython3",
   "version": "3.9.5"
  },
  "toc": {
   "base_numbering": 1,
   "nav_menu": {},
   "number_sections": true,
   "sideBar": true,
   "skip_h1_title": true,
   "title_cell": "Table of Contents",
   "title_sidebar": "Contents",
   "toc_cell": false,
   "toc_position": {
    "height": "calc(100% - 180px)",
    "left": "10px",
    "top": "150px",
    "width": "256px"
   },
   "toc_section_display": true,
   "toc_window_display": true
  }
 },
 "nbformat": 4,
 "nbformat_minor": 2
}
