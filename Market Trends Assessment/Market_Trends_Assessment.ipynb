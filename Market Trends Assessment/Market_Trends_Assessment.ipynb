{
 "cells": [
  {
   "cell_type": "code",
   "execution_count": 1,
   "id": "929cf99c-de99-4f17-b96d-38033cc16ca3",
   "metadata": {},
   "outputs": [],
   "source": [
    "# Импортируем все необходимые библиотеки\n",
    "import pandas as pd\n",
    "import matplotlib.pyplot as plt\n",
    "import seaborn as sns\n",
    "import numpy as np\n",
    "from scipy import stats as st\n",
    "from scipy.stats import ttest_ind"
   ]
  },
  {
   "cell_type": "markdown",
   "id": "a2351ddb-be90-4726-85e0-84593a848910",
   "metadata": {},
   "source": [
    "## 1. Загрузка данных"
   ]
  },
  {
   "cell_type": "markdown",
   "id": "9945c36f-6847-4ff7-b328-777221e8f785",
   "metadata": {},
   "source": [
    "**1.1 Прочитаем файл \"games.csv\" и сохраним его в переменную df**"
   ]
  },
  {
   "cell_type": "code",
   "execution_count": 2,
   "id": "5ea2f0a3-1ce0-408b-9ac4-fd69cf9c60b6",
   "metadata": {},
   "outputs": [],
   "source": [
    "try:\n",
    "    df = pd.read_csv('/datasets/games.csv')\n",
    "except FileNotFoundError:\n",
    "    df = pd.read_csv(r\"C:\\Users\\Тадевос\\Tadevos\\USER\\Desktop\\Курсы\\Модуль 1\\Датасеты к проектам\\Проект 5 «Сборный проект»\\games.csv\")"
   ]
  },
  {
   "cell_type": "markdown",
   "id": "a76dfdb2-acdc-4823-bb58-bb8af7823907",
   "metadata": {},
   "source": [
    "**1.2 Выведем первые строки набора данных и изучим общую информацию о датафрейме**"
   ]
  },
  {
   "cell_type": "code",
   "execution_count": 3,
   "id": "c56b7d43-81c9-4828-8774-72957334a694",
   "metadata": {},
   "outputs": [
    {
     "data": {
      "text/html": [
       "<div>\n",
       "<style scoped>\n",
       "    .dataframe tbody tr th:only-of-type {\n",
       "        vertical-align: middle;\n",
       "    }\n",
       "\n",
       "    .dataframe tbody tr th {\n",
       "        vertical-align: top;\n",
       "    }\n",
       "\n",
       "    .dataframe thead th {\n",
       "        text-align: right;\n",
       "    }\n",
       "</style>\n",
       "<table border=\"1\" class=\"dataframe\">\n",
       "  <thead>\n",
       "    <tr style=\"text-align: right;\">\n",
       "      <th></th>\n",
       "      <th>Name</th>\n",
       "      <th>Platform</th>\n",
       "      <th>Year_of_Release</th>\n",
       "      <th>Genre</th>\n",
       "      <th>NA_sales</th>\n",
       "      <th>EU_sales</th>\n",
       "      <th>JP_sales</th>\n",
       "      <th>Other_sales</th>\n",
       "      <th>Critic_Score</th>\n",
       "      <th>User_Score</th>\n",
       "      <th>Rating</th>\n",
       "    </tr>\n",
       "  </thead>\n",
       "  <tbody>\n",
       "    <tr>\n",
       "      <th>0</th>\n",
       "      <td>Wii Sports</td>\n",
       "      <td>Wii</td>\n",
       "      <td>2006.0</td>\n",
       "      <td>Sports</td>\n",
       "      <td>41.36</td>\n",
       "      <td>28.96</td>\n",
       "      <td>3.77</td>\n",
       "      <td>8.45</td>\n",
       "      <td>76.0</td>\n",
       "      <td>8</td>\n",
       "      <td>E</td>\n",
       "    </tr>\n",
       "    <tr>\n",
       "      <th>1</th>\n",
       "      <td>Super Mario Bros.</td>\n",
       "      <td>NES</td>\n",
       "      <td>1985.0</td>\n",
       "      <td>Platform</td>\n",
       "      <td>29.08</td>\n",
       "      <td>3.58</td>\n",
       "      <td>6.81</td>\n",
       "      <td>0.77</td>\n",
       "      <td>NaN</td>\n",
       "      <td>NaN</td>\n",
       "      <td>NaN</td>\n",
       "    </tr>\n",
       "    <tr>\n",
       "      <th>2</th>\n",
       "      <td>Mario Kart Wii</td>\n",
       "      <td>Wii</td>\n",
       "      <td>2008.0</td>\n",
       "      <td>Racing</td>\n",
       "      <td>15.68</td>\n",
       "      <td>12.76</td>\n",
       "      <td>3.79</td>\n",
       "      <td>3.29</td>\n",
       "      <td>82.0</td>\n",
       "      <td>8.3</td>\n",
       "      <td>E</td>\n",
       "    </tr>\n",
       "    <tr>\n",
       "      <th>3</th>\n",
       "      <td>Wii Sports Resort</td>\n",
       "      <td>Wii</td>\n",
       "      <td>2009.0</td>\n",
       "      <td>Sports</td>\n",
       "      <td>15.61</td>\n",
       "      <td>10.93</td>\n",
       "      <td>3.28</td>\n",
       "      <td>2.95</td>\n",
       "      <td>80.0</td>\n",
       "      <td>8</td>\n",
       "      <td>E</td>\n",
       "    </tr>\n",
       "    <tr>\n",
       "      <th>4</th>\n",
       "      <td>Pokemon Red/Pokemon Blue</td>\n",
       "      <td>GB</td>\n",
       "      <td>1996.0</td>\n",
       "      <td>Role-Playing</td>\n",
       "      <td>11.27</td>\n",
       "      <td>8.89</td>\n",
       "      <td>10.22</td>\n",
       "      <td>1.00</td>\n",
       "      <td>NaN</td>\n",
       "      <td>NaN</td>\n",
       "      <td>NaN</td>\n",
       "    </tr>\n",
       "  </tbody>\n",
       "</table>\n",
       "</div>"
      ],
      "text/plain": [
       "                       Name Platform  Year_of_Release         Genre  NA_sales  \\\n",
       "0                Wii Sports      Wii           2006.0        Sports     41.36   \n",
       "1         Super Mario Bros.      NES           1985.0      Platform     29.08   \n",
       "2            Mario Kart Wii      Wii           2008.0        Racing     15.68   \n",
       "3         Wii Sports Resort      Wii           2009.0        Sports     15.61   \n",
       "4  Pokemon Red/Pokemon Blue       GB           1996.0  Role-Playing     11.27   \n",
       "\n",
       "   EU_sales  JP_sales  Other_sales  Critic_Score User_Score Rating  \n",
       "0     28.96      3.77         8.45          76.0          8      E  \n",
       "1      3.58      6.81         0.77           NaN        NaN    NaN  \n",
       "2     12.76      3.79         3.29          82.0        8.3      E  \n",
       "3     10.93      3.28         2.95          80.0          8      E  \n",
       "4      8.89     10.22         1.00           NaN        NaN    NaN  "
      ]
     },
     "execution_count": 3,
     "metadata": {},
     "output_type": "execute_result"
    }
   ],
   "source": [
    "# Выводим первые 5 строк датафрейма\n",
    "df.head()"
   ]
  },
  {
   "cell_type": "code",
   "execution_count": 4,
   "id": "23e41d46-56d0-4507-8af1-35eea35a390d",
   "metadata": {},
   "outputs": [
    {
     "name": "stdout",
     "output_type": "stream",
     "text": [
      "<class 'pandas.core.frame.DataFrame'>\n",
      "RangeIndex: 16715 entries, 0 to 16714\n",
      "Data columns (total 11 columns):\n",
      " #   Column           Non-Null Count  Dtype  \n",
      "---  ------           --------------  -----  \n",
      " 0   Name             16713 non-null  object \n",
      " 1   Platform         16715 non-null  object \n",
      " 2   Year_of_Release  16446 non-null  float64\n",
      " 3   Genre            16713 non-null  object \n",
      " 4   NA_sales         16715 non-null  float64\n",
      " 5   EU_sales         16715 non-null  float64\n",
      " 6   JP_sales         16715 non-null  float64\n",
      " 7   Other_sales      16715 non-null  float64\n",
      " 8   Critic_Score     8137 non-null   float64\n",
      " 9   User_Score       10014 non-null  object \n",
      " 10  Rating           9949 non-null   object \n",
      "dtypes: float64(6), object(5)\n",
      "memory usage: 1.4+ MB\n"
     ]
    }
   ],
   "source": [
    "# Выводим общую информацию датафрейма\n",
    "df.info()"
   ]
  },
  {
   "cell_type": "markdown",
   "id": "e51d867a-ee28-4d0f-a62a-711f5bd719a8",
   "metadata": {},
   "source": [
    "**Выводы по первому шагу:**\n",
    "\n",
    "Была изучена общая информация о датафрейме, изначальные данные представлены в виде таблицы с 16715 строками и 11 столбцами. Каждая строка соответствует отдельной игре, а каждый столбец содержит информацию о ее характеристиках:\n",
    "\n",
    "**Описание данных:**\n",
    "- Name — название игры\n",
    "- Platform — платформа\n",
    "- Year_of_Release — год выпуска\n",
    "- Genre — жанр игры\n",
    "- NA_sales — продажи в Северной Америке (миллионы проданных копий)\n",
    "- EU_sales — продажи в Европе (миллионы проданных копий)\n",
    "- JP_sales — продажи в Японии (миллионы проданных копий)\n",
    "- Other_sales — продажи в других странах (миллионы проданных копий)\n",
    "- Critic_Score — оценка критиков (максимум 100)\n",
    "- User_Score — оценка пользователей (максимум 10)\n",
    "- Rating — рейтинг от организации ESRB (англ. Entertainment Software Rating Board). Эта ассоциация определяет рейтинг компьютерных игр и присваивает им подходящую возрастную категорию.\n",
    "\n",
    "Столбцы имеют различные типы данных. Столбцы Name, Platform, Genre, User_Score и Rating содержат данные типа object (строки), а остальные столбцы содержат данные типа float64 (числа с плавающей точкой)."
   ]
  },
  {
   "cell_type": "markdown",
   "id": "d56aca9c-6760-4fb2-bead-b2e1e638a6c9",
   "metadata": {},
   "source": [
    "# 2. Предобработка данных"
   ]
  },
  {
   "cell_type": "markdown",
   "id": "7471cdf8-9850-42b9-bbb9-acfc33d7d102",
   "metadata": {},
   "source": [
    "**2.1 Приведём названия столбцов к нижнему регистру**"
   ]
  },
  {
   "cell_type": "code",
   "execution_count": 5,
   "id": "e53812ef-61f8-4f45-8188-4785bc14e937",
   "metadata": {},
   "outputs": [
    {
     "data": {
      "text/plain": [
       "Index(['name', 'platform', 'year_of_release', 'genre', 'na_sales', 'eu_sales',\n",
       "       'jp_sales', 'other_sales', 'critic_score', 'user_score', 'rating'],\n",
       "      dtype='object')"
      ]
     },
     "execution_count": 5,
     "metadata": {},
     "output_type": "execute_result"
    }
   ],
   "source": [
    "# Присвоим каждому столбцу 'df' значение, полученное из приведения каждого столбца к нижнему регистру\n",
    "df.columns = [col.lower() for col in df.columns]\n",
    "df.columns"
   ]
  },
  {
   "cell_type": "markdown",
   "id": "4578e4f2-79eb-4cac-a325-a7fe54483cdb",
   "metadata": {},
   "source": [
    "**2.2 Преобразуем данные в нужные типы**"
   ]
  },
  {
   "cell_type": "code",
   "execution_count": 6,
   "id": "a68b1768-4834-4f1b-bfdf-46742198c56c",
   "metadata": {},
   "outputs": [
    {
     "data": {
      "text/plain": [
       "name                object\n",
       "platform            object\n",
       "year_of_release    float64\n",
       "genre               object\n",
       "na_sales           float64\n",
       "eu_sales           float64\n",
       "jp_sales           float64\n",
       "other_sales        float64\n",
       "critic_score       float64\n",
       "user_score          object\n",
       "rating              object\n",
       "dtype: object"
      ]
     },
     "execution_count": 6,
     "metadata": {},
     "output_type": "execute_result"
    }
   ],
   "source": [
    "# Рассмотрим типы данных в датафрейме\n",
    "df.dtypes"
   ]
  },
  {
   "cell_type": "markdown",
   "id": "f2bfb2c8-e0b0-4e20-88b7-06e09389b8b3",
   "metadata": {},
   "source": [
    "**Преобразование типов данных:**\n",
    "1) Столбец \"year_of_release\" следует преобразовать в тип данных \"int\", так как год выпуска игры является целым числом, перед тем как преобразовать данные необходимо заполнить или удалить пустые значения из столбца (в нашем случае удаляем пустые значения так как их очень мало - 2%), потому что NaN это float тип и если в столбце будет NaN, то в int преобразовать не получится.\n",
    "\n",
    "2) Столбцы \"na_sales\", \"eu_sales\", \"jp_sales\" и \"other_sales\" следует оставить в типе данных \"float\", так как значения продаж могут быть вещественными числами.\n",
    "\n",
    "3) Столбец \"critic_score\" следует оставить в типе данных \"float\", так как оценка критиков может быть вещественным числом.\n",
    "\n",
    "4) Столбец \"user_score\" следует преобразовать в тип данных \"float\", так как оценка пользователей является числом, перед тем как преобразовать данные заменяем значения 'tbd' на NaN в столбце \"user_score\", потому что все значения данного столбца должны быть числовыми, а 'tbd' - это строка (TBD означает \"To Be Determined\"- т.е., оценка будет определена позже.).\n",
    "\n",
    "5) Столбец \"rating\" следует оставить в типе данных \"object\", так как рейтинг представлен строковыми значениями."
   ]
  },
  {
   "cell_type": "code",
   "execution_count": 7,
   "id": "84cbfc2c-b130-49b3-86d8-1f97e9fd4a02",
   "metadata": {},
   "outputs": [
    {
     "data": {
      "text/plain": [
       "269"
      ]
     },
     "execution_count": 7,
     "metadata": {},
     "output_type": "execute_result"
    }
   ],
   "source": [
    "# Посчитаем сумму пропусков столбца \"year_of_release\"\n",
    "df[\"year_of_release\"].isna().sum()"
   ]
  },
  {
   "cell_type": "code",
   "execution_count": 8,
   "id": "750966a3-ecb9-42a4-9b7f-3900363411a7",
   "metadata": {},
   "outputs": [],
   "source": [
    "# Удаляем пустые значения из столбца \"year_of_release\"\n",
    "df.dropna(subset=[\"year_of_release\"], inplace=True)\n",
    "# Сбросим индекс датафрейма после удаления строк\n",
    "df = df.reset_index(drop=True)"
   ]
  },
  {
   "cell_type": "code",
   "execution_count": 9,
   "id": "7f0190fd-27ea-48ac-9dc2-0823ac517837",
   "metadata": {},
   "outputs": [
    {
     "data": {
      "text/plain": [
       "0"
      ]
     },
     "execution_count": 9,
     "metadata": {},
     "output_type": "execute_result"
    }
   ],
   "source": [
    "# ПРоверим удалились ли пропуски\n",
    "df[\"year_of_release\"].isna().sum()"
   ]
  },
  {
   "cell_type": "code",
   "execution_count": 10,
   "id": "2c5a2c28-ccbb-4645-a3a9-31433da761ac",
   "metadata": {},
   "outputs": [],
   "source": [
    "# Изменяем тип данных столбца \"year_of_release\" на int\n",
    "df[\"year_of_release\"] = df[\"year_of_release\"].astype(int)"
   ]
  },
  {
   "cell_type": "code",
   "execution_count": 11,
   "id": "a72349b4-3594-4a1c-8cab-53d66840a1ce",
   "metadata": {},
   "outputs": [],
   "source": [
    "# Заменяем значения 'tbd' на NaN в столбце \"user_score\"\n",
    "df[\"user_score\"].replace('tbd', np.nan, inplace=True)\n",
    "# Изменяем тип данных столбца \"user_score\" на float\n",
    "df[\"user_score\"] = df[\"user_score\"].astype(float)"
   ]
  },
  {
   "cell_type": "code",
   "execution_count": 12,
   "id": "9a74c2e4-dac3-442d-b60a-5f11836fb697",
   "metadata": {},
   "outputs": [
    {
     "data": {
      "text/plain": [
       "name                object\n",
       "platform            object\n",
       "year_of_release      int32\n",
       "genre               object\n",
       "na_sales           float64\n",
       "eu_sales           float64\n",
       "jp_sales           float64\n",
       "other_sales        float64\n",
       "critic_score       float64\n",
       "user_score         float64\n",
       "rating              object\n",
       "dtype: object"
      ]
     },
     "execution_count": 12,
     "metadata": {},
     "output_type": "execute_result"
    }
   ],
   "source": [
    "# Проверим изменились ли типы данных столбцов\n",
    "df.dtypes"
   ]
  },
  {
   "cell_type": "markdown",
   "id": "c30a620d-63c8-4e7a-89a3-d2bd855636de",
   "metadata": {},
   "source": [
    "**2.3 Обработаем пропуски в данных**"
   ]
  },
  {
   "cell_type": "code",
   "execution_count": 13,
   "id": "32ef17e3-86dc-4e57-a965-1730891bea85",
   "metadata": {},
   "outputs": [
    {
     "data": {
      "text/html": [
       "<style  type=\"text/css\" >\n",
       "#T_0ae3b_row0_col0,#T_0ae3b_row1_col0,#T_0ae3b_row2_col0,#T_0ae3b_row3_col0,#T_0ae3b_row4_col0,#T_0ae3b_row5_col0,#T_0ae3b_row6_col0,#T_0ae3b_row7_col0{\n",
       "            background-color:  #3b4cc0;\n",
       "            color:  #f1f1f1;\n",
       "        }#T_0ae3b_row8_col0{\n",
       "            background-color:  #cd423b;\n",
       "            color:  #f1f1f1;\n",
       "        }#T_0ae3b_row9_col0{\n",
       "            background-color:  #b40426;\n",
       "            color:  #f1f1f1;\n",
       "        }#T_0ae3b_row10_col0{\n",
       "            background-color:  #f59c7d;\n",
       "            color:  #000000;\n",
       "        }</style><table id=\"T_0ae3b_\" ><thead>    <tr>        <th class=\"blank level0\" ></th>        <th class=\"col_heading level0 col0\" >0</th>    </tr></thead><tbody>\n",
       "                <tr>\n",
       "                        <th id=\"T_0ae3b_level0_row0\" class=\"row_heading level0 row0\" >name</th>\n",
       "                        <td id=\"T_0ae3b_row0_col0\" class=\"data row0 col0\" >0.000000</td>\n",
       "            </tr>\n",
       "            <tr>\n",
       "                        <th id=\"T_0ae3b_level0_row1\" class=\"row_heading level0 row1\" >platform</th>\n",
       "                        <td id=\"T_0ae3b_row1_col0\" class=\"data row1 col0\" >0.000000</td>\n",
       "            </tr>\n",
       "            <tr>\n",
       "                        <th id=\"T_0ae3b_level0_row2\" class=\"row_heading level0 row2\" >year_of_release</th>\n",
       "                        <td id=\"T_0ae3b_row2_col0\" class=\"data row2 col0\" >0.000000</td>\n",
       "            </tr>\n",
       "            <tr>\n",
       "                        <th id=\"T_0ae3b_level0_row3\" class=\"row_heading level0 row3\" >genre</th>\n",
       "                        <td id=\"T_0ae3b_row3_col0\" class=\"data row3 col0\" >0.000000</td>\n",
       "            </tr>\n",
       "            <tr>\n",
       "                        <th id=\"T_0ae3b_level0_row4\" class=\"row_heading level0 row4\" >na_sales</th>\n",
       "                        <td id=\"T_0ae3b_row4_col0\" class=\"data row4 col0\" >0.000000</td>\n",
       "            </tr>\n",
       "            <tr>\n",
       "                        <th id=\"T_0ae3b_level0_row5\" class=\"row_heading level0 row5\" >eu_sales</th>\n",
       "                        <td id=\"T_0ae3b_row5_col0\" class=\"data row5 col0\" >0.000000</td>\n",
       "            </tr>\n",
       "            <tr>\n",
       "                        <th id=\"T_0ae3b_level0_row6\" class=\"row_heading level0 row6\" >jp_sales</th>\n",
       "                        <td id=\"T_0ae3b_row6_col0\" class=\"data row6 col0\" >0.000000</td>\n",
       "            </tr>\n",
       "            <tr>\n",
       "                        <th id=\"T_0ae3b_level0_row7\" class=\"row_heading level0 row7\" >other_sales</th>\n",
       "                        <td id=\"T_0ae3b_row7_col0\" class=\"data row7 col0\" >0.000000</td>\n",
       "            </tr>\n",
       "            <tr>\n",
       "                        <th id=\"T_0ae3b_level0_row8\" class=\"row_heading level0 row8\" >critic_score</th>\n",
       "                        <td id=\"T_0ae3b_row8_col0\" class=\"data row8 col0\" >51.000000</td>\n",
       "            </tr>\n",
       "            <tr>\n",
       "                        <th id=\"T_0ae3b_level0_row9\" class=\"row_heading level0 row9\" >user_score</th>\n",
       "                        <td id=\"T_0ae3b_row9_col0\" class=\"data row9 col0\" >55.000000</td>\n",
       "            </tr>\n",
       "            <tr>\n",
       "                        <th id=\"T_0ae3b_level0_row10\" class=\"row_heading level0 row10\" >rating</th>\n",
       "                        <td id=\"T_0ae3b_row10_col0\" class=\"data row10 col0\" >41.000000</td>\n",
       "            </tr>\n",
       "    </tbody></table>"
      ],
      "text/plain": [
       "<pandas.io.formats.style.Styler at 0x1bd5d1eb790>"
      ]
     },
     "execution_count": 13,
     "metadata": {},
     "output_type": "execute_result"
    }
   ],
   "source": [
    "pd.DataFrame(round(df.isna().mean()*100,)).style.background_gradient('coolwarm')"
   ]
  },
  {
   "cell_type": "markdown",
   "id": "c41b8c51-1d09-4f6f-90b4-164df7c2af2a",
   "metadata": {},
   "source": [
    "**Данные содержат пропущенные значения в столбцах critic_score - 51%, user_score - 55% и rating - 41%.**\n",
    "\n",
    "Для заполнения пропусков в столбце critic_score можно воспользоваться различными методами, например, медианой или средним значением оценок критиков. Это можно сделать, поскольку оценка критиков зависит от профессиональных мнений и их средний показатель даст представление о степени успеха или качества игры. \n",
    "\n",
    "Что касается пропусков в столбце user_score, то заполнение их средним или медианным значением не является адекватным решением, поскольку это может исказить общую картину исследования. Оценки пользователей являются субъективной информацией и могут сильно различаться, поэтому более надежным подходом будет оставить пропущенные значения без заполнения.\n",
    "\n",
    "Столбец rating представляет собой категориальную переменную, поэтому пропуски можно заполнить наиболее часто встречающимся значением, таким как \"Unknown\" или \"Not Rated\", если таковые имеются.\n",
    "\n",
    "Причины возникновения пропусков могут быть различными. Например, отсутствие оценок критиков или пользователей может быть связано с ограниченным доступом к информации, или игра может быть еще не оценена. Также, некоторые игры могут быть выпущены в странах, которые не подвергаются рейтинговой системе ESRB."
   ]
  },
  {
   "cell_type": "code",
   "execution_count": 14,
   "id": "da45aa56-ffe3-4889-99e6-8897a50e61e4",
   "metadata": {},
   "outputs": [
    {
     "data": {
      "text/plain": [
       "count    7983.000000\n",
       "mean       68.994363\n",
       "std        13.920060\n",
       "min        13.000000\n",
       "25%        60.000000\n",
       "50%        71.000000\n",
       "75%        79.000000\n",
       "max        98.000000\n",
       "Name: critic_score, dtype: float64"
      ]
     },
     "execution_count": 14,
     "metadata": {},
     "output_type": "execute_result"
    }
   ],
   "source": [
    "df[\"critic_score\"].describe()"
   ]
  },
  {
   "cell_type": "code",
   "execution_count": 15,
   "id": "a0907d76-e6f5-4b59-b407-898e821099a0",
   "metadata": {},
   "outputs": [],
   "source": [
    "# Заполняем пропущенные значения в столбце 'rating' значением 'unknown'\n",
    "df[\"rating\"].fillna(\"unknown\", inplace=True)"
   ]
  },
  {
   "cell_type": "code",
   "execution_count": 16,
   "id": "dec40eaa-6440-415f-b224-d0f9a63b50eb",
   "metadata": {},
   "outputs": [
    {
     "data": {
      "text/html": [
       "<style  type=\"text/css\" >\n",
       "#T_64f0a_row0_col0,#T_64f0a_row1_col0,#T_64f0a_row2_col0,#T_64f0a_row3_col0,#T_64f0a_row4_col0,#T_64f0a_row5_col0,#T_64f0a_row6_col0,#T_64f0a_row7_col0,#T_64f0a_row10_col0{\n",
       "            background-color:  #3b4cc0;\n",
       "            color:  #f1f1f1;\n",
       "        }#T_64f0a_row8_col0{\n",
       "            background-color:  #cd423b;\n",
       "            color:  #f1f1f1;\n",
       "        }#T_64f0a_row9_col0{\n",
       "            background-color:  #b40426;\n",
       "            color:  #f1f1f1;\n",
       "        }</style><table id=\"T_64f0a_\" ><thead>    <tr>        <th class=\"blank level0\" ></th>        <th class=\"col_heading level0 col0\" >0</th>    </tr></thead><tbody>\n",
       "                <tr>\n",
       "                        <th id=\"T_64f0a_level0_row0\" class=\"row_heading level0 row0\" >name</th>\n",
       "                        <td id=\"T_64f0a_row0_col0\" class=\"data row0 col0\" >0.000000</td>\n",
       "            </tr>\n",
       "            <tr>\n",
       "                        <th id=\"T_64f0a_level0_row1\" class=\"row_heading level0 row1\" >platform</th>\n",
       "                        <td id=\"T_64f0a_row1_col0\" class=\"data row1 col0\" >0.000000</td>\n",
       "            </tr>\n",
       "            <tr>\n",
       "                        <th id=\"T_64f0a_level0_row2\" class=\"row_heading level0 row2\" >year_of_release</th>\n",
       "                        <td id=\"T_64f0a_row2_col0\" class=\"data row2 col0\" >0.000000</td>\n",
       "            </tr>\n",
       "            <tr>\n",
       "                        <th id=\"T_64f0a_level0_row3\" class=\"row_heading level0 row3\" >genre</th>\n",
       "                        <td id=\"T_64f0a_row3_col0\" class=\"data row3 col0\" >0.000000</td>\n",
       "            </tr>\n",
       "            <tr>\n",
       "                        <th id=\"T_64f0a_level0_row4\" class=\"row_heading level0 row4\" >na_sales</th>\n",
       "                        <td id=\"T_64f0a_row4_col0\" class=\"data row4 col0\" >0.000000</td>\n",
       "            </tr>\n",
       "            <tr>\n",
       "                        <th id=\"T_64f0a_level0_row5\" class=\"row_heading level0 row5\" >eu_sales</th>\n",
       "                        <td id=\"T_64f0a_row5_col0\" class=\"data row5 col0\" >0.000000</td>\n",
       "            </tr>\n",
       "            <tr>\n",
       "                        <th id=\"T_64f0a_level0_row6\" class=\"row_heading level0 row6\" >jp_sales</th>\n",
       "                        <td id=\"T_64f0a_row6_col0\" class=\"data row6 col0\" >0.000000</td>\n",
       "            </tr>\n",
       "            <tr>\n",
       "                        <th id=\"T_64f0a_level0_row7\" class=\"row_heading level0 row7\" >other_sales</th>\n",
       "                        <td id=\"T_64f0a_row7_col0\" class=\"data row7 col0\" >0.000000</td>\n",
       "            </tr>\n",
       "            <tr>\n",
       "                        <th id=\"T_64f0a_level0_row8\" class=\"row_heading level0 row8\" >critic_score</th>\n",
       "                        <td id=\"T_64f0a_row8_col0\" class=\"data row8 col0\" >51.000000</td>\n",
       "            </tr>\n",
       "            <tr>\n",
       "                        <th id=\"T_64f0a_level0_row9\" class=\"row_heading level0 row9\" >user_score</th>\n",
       "                        <td id=\"T_64f0a_row9_col0\" class=\"data row9 col0\" >55.000000</td>\n",
       "            </tr>\n",
       "            <tr>\n",
       "                        <th id=\"T_64f0a_level0_row10\" class=\"row_heading level0 row10\" >rating</th>\n",
       "                        <td id=\"T_64f0a_row10_col0\" class=\"data row10 col0\" >0.000000</td>\n",
       "            </tr>\n",
       "    </tbody></table>"
      ],
      "text/plain": [
       "<pandas.io.formats.style.Styler at 0x1bd5d3b5d60>"
      ]
     },
     "execution_count": 16,
     "metadata": {},
     "output_type": "execute_result"
    }
   ],
   "source": [
    "pd.DataFrame(round(df.isna().mean()*100,)).style.background_gradient('coolwarm')"
   ]
  },
  {
   "cell_type": "markdown",
   "id": "434e5de5-e99f-4f75-a11e-3365a9a28300",
   "metadata": {},
   "source": [
    "**2.4 Добавление в датафрейм нового столбца с суммарными продажами во всех регионах**"
   ]
  },
  {
   "cell_type": "code",
   "execution_count": 17,
   "id": "a22482f7-d834-4e85-9962-4c326c5c3a8d",
   "metadata": {},
   "outputs": [
    {
     "data": {
      "text/html": [
       "<div>\n",
       "<style scoped>\n",
       "    .dataframe tbody tr th:only-of-type {\n",
       "        vertical-align: middle;\n",
       "    }\n",
       "\n",
       "    .dataframe tbody tr th {\n",
       "        vertical-align: top;\n",
       "    }\n",
       "\n",
       "    .dataframe thead th {\n",
       "        text-align: right;\n",
       "    }\n",
       "</style>\n",
       "<table border=\"1\" class=\"dataframe\">\n",
       "  <thead>\n",
       "    <tr style=\"text-align: right;\">\n",
       "      <th></th>\n",
       "      <th>name</th>\n",
       "      <th>platform</th>\n",
       "      <th>year_of_release</th>\n",
       "      <th>genre</th>\n",
       "      <th>na_sales</th>\n",
       "      <th>eu_sales</th>\n",
       "      <th>jp_sales</th>\n",
       "      <th>other_sales</th>\n",
       "      <th>critic_score</th>\n",
       "      <th>user_score</th>\n",
       "      <th>rating</th>\n",
       "      <th>total_sales</th>\n",
       "    </tr>\n",
       "  </thead>\n",
       "  <tbody>\n",
       "    <tr>\n",
       "      <th>0</th>\n",
       "      <td>Wii Sports</td>\n",
       "      <td>Wii</td>\n",
       "      <td>2006</td>\n",
       "      <td>Sports</td>\n",
       "      <td>41.36</td>\n",
       "      <td>28.96</td>\n",
       "      <td>3.77</td>\n",
       "      <td>8.45</td>\n",
       "      <td>76.0</td>\n",
       "      <td>8.0</td>\n",
       "      <td>E</td>\n",
       "      <td>82.54</td>\n",
       "    </tr>\n",
       "    <tr>\n",
       "      <th>1</th>\n",
       "      <td>Super Mario Bros.</td>\n",
       "      <td>NES</td>\n",
       "      <td>1985</td>\n",
       "      <td>Platform</td>\n",
       "      <td>29.08</td>\n",
       "      <td>3.58</td>\n",
       "      <td>6.81</td>\n",
       "      <td>0.77</td>\n",
       "      <td>NaN</td>\n",
       "      <td>NaN</td>\n",
       "      <td>unknown</td>\n",
       "      <td>40.24</td>\n",
       "    </tr>\n",
       "    <tr>\n",
       "      <th>2</th>\n",
       "      <td>Mario Kart Wii</td>\n",
       "      <td>Wii</td>\n",
       "      <td>2008</td>\n",
       "      <td>Racing</td>\n",
       "      <td>15.68</td>\n",
       "      <td>12.76</td>\n",
       "      <td>3.79</td>\n",
       "      <td>3.29</td>\n",
       "      <td>82.0</td>\n",
       "      <td>8.3</td>\n",
       "      <td>E</td>\n",
       "      <td>35.52</td>\n",
       "    </tr>\n",
       "    <tr>\n",
       "      <th>3</th>\n",
       "      <td>Wii Sports Resort</td>\n",
       "      <td>Wii</td>\n",
       "      <td>2009</td>\n",
       "      <td>Sports</td>\n",
       "      <td>15.61</td>\n",
       "      <td>10.93</td>\n",
       "      <td>3.28</td>\n",
       "      <td>2.95</td>\n",
       "      <td>80.0</td>\n",
       "      <td>8.0</td>\n",
       "      <td>E</td>\n",
       "      <td>32.77</td>\n",
       "    </tr>\n",
       "    <tr>\n",
       "      <th>4</th>\n",
       "      <td>Pokemon Red/Pokemon Blue</td>\n",
       "      <td>GB</td>\n",
       "      <td>1996</td>\n",
       "      <td>Role-Playing</td>\n",
       "      <td>11.27</td>\n",
       "      <td>8.89</td>\n",
       "      <td>10.22</td>\n",
       "      <td>1.00</td>\n",
       "      <td>NaN</td>\n",
       "      <td>NaN</td>\n",
       "      <td>unknown</td>\n",
       "      <td>31.38</td>\n",
       "    </tr>\n",
       "    <tr>\n",
       "      <th>...</th>\n",
       "      <td>...</td>\n",
       "      <td>...</td>\n",
       "      <td>...</td>\n",
       "      <td>...</td>\n",
       "      <td>...</td>\n",
       "      <td>...</td>\n",
       "      <td>...</td>\n",
       "      <td>...</td>\n",
       "      <td>...</td>\n",
       "      <td>...</td>\n",
       "      <td>...</td>\n",
       "      <td>...</td>\n",
       "    </tr>\n",
       "    <tr>\n",
       "      <th>16441</th>\n",
       "      <td>Samurai Warriors: Sanada Maru</td>\n",
       "      <td>PS3</td>\n",
       "      <td>2016</td>\n",
       "      <td>Action</td>\n",
       "      <td>0.00</td>\n",
       "      <td>0.00</td>\n",
       "      <td>0.01</td>\n",
       "      <td>0.00</td>\n",
       "      <td>NaN</td>\n",
       "      <td>NaN</td>\n",
       "      <td>unknown</td>\n",
       "      <td>0.01</td>\n",
       "    </tr>\n",
       "    <tr>\n",
       "      <th>16442</th>\n",
       "      <td>LMA Manager 2007</td>\n",
       "      <td>X360</td>\n",
       "      <td>2006</td>\n",
       "      <td>Sports</td>\n",
       "      <td>0.00</td>\n",
       "      <td>0.01</td>\n",
       "      <td>0.00</td>\n",
       "      <td>0.00</td>\n",
       "      <td>NaN</td>\n",
       "      <td>NaN</td>\n",
       "      <td>unknown</td>\n",
       "      <td>0.01</td>\n",
       "    </tr>\n",
       "    <tr>\n",
       "      <th>16443</th>\n",
       "      <td>Haitaka no Psychedelica</td>\n",
       "      <td>PSV</td>\n",
       "      <td>2016</td>\n",
       "      <td>Adventure</td>\n",
       "      <td>0.00</td>\n",
       "      <td>0.00</td>\n",
       "      <td>0.01</td>\n",
       "      <td>0.00</td>\n",
       "      <td>NaN</td>\n",
       "      <td>NaN</td>\n",
       "      <td>unknown</td>\n",
       "      <td>0.01</td>\n",
       "    </tr>\n",
       "    <tr>\n",
       "      <th>16444</th>\n",
       "      <td>Spirits &amp; Spells</td>\n",
       "      <td>GBA</td>\n",
       "      <td>2003</td>\n",
       "      <td>Platform</td>\n",
       "      <td>0.01</td>\n",
       "      <td>0.00</td>\n",
       "      <td>0.00</td>\n",
       "      <td>0.00</td>\n",
       "      <td>NaN</td>\n",
       "      <td>NaN</td>\n",
       "      <td>unknown</td>\n",
       "      <td>0.01</td>\n",
       "    </tr>\n",
       "    <tr>\n",
       "      <th>16445</th>\n",
       "      <td>Winning Post 8 2016</td>\n",
       "      <td>PSV</td>\n",
       "      <td>2016</td>\n",
       "      <td>Simulation</td>\n",
       "      <td>0.00</td>\n",
       "      <td>0.00</td>\n",
       "      <td>0.01</td>\n",
       "      <td>0.00</td>\n",
       "      <td>NaN</td>\n",
       "      <td>NaN</td>\n",
       "      <td>unknown</td>\n",
       "      <td>0.01</td>\n",
       "    </tr>\n",
       "  </tbody>\n",
       "</table>\n",
       "<p>16446 rows × 12 columns</p>\n",
       "</div>"
      ],
      "text/plain": [
       "                                name platform  year_of_release         genre  \\\n",
       "0                         Wii Sports      Wii             2006        Sports   \n",
       "1                  Super Mario Bros.      NES             1985      Platform   \n",
       "2                     Mario Kart Wii      Wii             2008        Racing   \n",
       "3                  Wii Sports Resort      Wii             2009        Sports   \n",
       "4           Pokemon Red/Pokemon Blue       GB             1996  Role-Playing   \n",
       "...                              ...      ...              ...           ...   \n",
       "16441  Samurai Warriors: Sanada Maru      PS3             2016        Action   \n",
       "16442               LMA Manager 2007     X360             2006        Sports   \n",
       "16443        Haitaka no Psychedelica      PSV             2016     Adventure   \n",
       "16444               Spirits & Spells      GBA             2003      Platform   \n",
       "16445            Winning Post 8 2016      PSV             2016    Simulation   \n",
       "\n",
       "       na_sales  eu_sales  jp_sales  other_sales  critic_score  user_score  \\\n",
       "0         41.36     28.96      3.77         8.45          76.0         8.0   \n",
       "1         29.08      3.58      6.81         0.77           NaN         NaN   \n",
       "2         15.68     12.76      3.79         3.29          82.0         8.3   \n",
       "3         15.61     10.93      3.28         2.95          80.0         8.0   \n",
       "4         11.27      8.89     10.22         1.00           NaN         NaN   \n",
       "...         ...       ...       ...          ...           ...         ...   \n",
       "16441      0.00      0.00      0.01         0.00           NaN         NaN   \n",
       "16442      0.00      0.01      0.00         0.00           NaN         NaN   \n",
       "16443      0.00      0.00      0.01         0.00           NaN         NaN   \n",
       "16444      0.01      0.00      0.00         0.00           NaN         NaN   \n",
       "16445      0.00      0.00      0.01         0.00           NaN         NaN   \n",
       "\n",
       "        rating  total_sales  \n",
       "0            E        82.54  \n",
       "1      unknown        40.24  \n",
       "2            E        35.52  \n",
       "3            E        32.77  \n",
       "4      unknown        31.38  \n",
       "...        ...          ...  \n",
       "16441  unknown         0.01  \n",
       "16442  unknown         0.01  \n",
       "16443  unknown         0.01  \n",
       "16444  unknown         0.01  \n",
       "16445  unknown         0.01  \n",
       "\n",
       "[16446 rows x 12 columns]"
      ]
     },
     "execution_count": 17,
     "metadata": {},
     "output_type": "execute_result"
    }
   ],
   "source": [
    "df[\"total_sales\"] = df[['na_sales', 'eu_sales', 'jp_sales', 'other_sales']].sum(axis=1)\n",
    "df"
   ]
  },
  {
   "cell_type": "markdown",
   "id": "827f8ba4-58ed-481e-a605-6a2c0b285550",
   "metadata": {},
   "source": [
    "**Выводы по второму шагу:**\n",
    "\n",
    "Во втором шаге были выполнены следующие задачи: \n",
    "- названия столбцов приведены к нижнему регистру;\n",
    "- преобразованы данные в нужные типы, а именно \"year_of_release\" в int и \"user_score\" в float;\n",
    "- обработаны пропуски в данных;\n",
    "- создание нового столбца *total_sales*, в котором хранится информация суммарные продажи во всех регионах."
   ]
  },
  {
   "cell_type": "markdown",
   "id": "7b2f1e3a-efbe-4f7f-9532-06aa9222b9d8",
   "metadata": {},
   "source": [
    "# 3. Исследоовательский анализ данных"
   ]
  },
  {
   "cell_type": "markdown",
   "id": "edefa59b-9764-4659-8323-2811ede32f1c",
   "metadata": {},
   "source": [
    "**3.1 Рассмотрим, сколько игр выпускалось в разные годы. Важны ли данные за все периоды?**"
   ]
  },
  {
   "cell_type": "code",
   "execution_count": 18,
   "id": "a1f2da90-53dd-4dcf-be38-bca03754a838",
   "metadata": {},
   "outputs": [
    {
     "data": {
      "image/png": "[encoded data removed]",
      "text/plain": [
       "<Figure size 1440x720 with 1 Axes>"
      ]
     },
     "metadata": {
      "needs_background": "light"
     },
     "output_type": "display_data"
    }
   ],
   "source": [
    "plt.figure(figsize=(20, 10))\n",
    "plt.hist(df[\"year_of_release\"], bins=35, edgecolor='black')\n",
    "plt.xlabel(\"год\", fontsize=14)\n",
    "plt.ylabel(\"количество выпущенных игр\", fontsize=14)\n",
    "plt.title(\"Распределение выпускаемых игр по годам\", fontsize=14)\n",
    "plt.grid(True)\n",
    "plt.show()"
   ]
  },
  {
   "cell_type": "markdown",
   "id": "fa711c69-58d7-44e7-8ab7-0e4b411ea20c",
   "metadata": {},
   "source": [
    "**Вывод:**\n",
    "\n",
    "Данные за все периоды важны, чтобы увидеть тренды и изменения в количестве выпускаемых игр со временем. Например, можно заметить, что в начале 2000-х годов количество выпускаемых игр значительно увеличилось и достигло пика в 2008-2009 гг. После этого, количество игр постепенно снижалось. Это может быть связано с изменениями в игровой индустрии, изменением потребностей и предпочтений игроков, а также с техническими и финансовыми ограничениями. Кроме того, данные за периоды с 1980 по 2000 годы могут помочь понять, как менялся рынок видеоигр с его становления. Таким образом, данные за все периоды имеют важное значение для анализа и понимания динамики игровой индустрии."
   ]
  },
  {
   "cell_type": "markdown",
   "id": "7837fa0d-7092-4ef5-99d0-be80cc95ceb8",
   "metadata": {},
   "source": [
    "**3.2 Рассмотрим, как менялись продажи по платформам. За какой характерный срок появляются новые и исчезают старые платформы?**"
   ]
  },
  {
   "cell_type": "code",
   "execution_count": 19,
   "id": "a95cd245-ba31-4c11-82a2-9ee76929d0e1",
   "metadata": {},
   "outputs": [
    {
     "data": {
      "text/plain": [
       "PS2     2127\n",
       "DS      2121\n",
       "PS3     1306\n",
       "Wii     1286\n",
       "X360    1232\n",
       "PSP     1193\n",
       "PS      1190\n",
       "PC       957\n",
       "GBA      811\n",
       "XB       803\n",
       "Name: platform, dtype: int64"
      ]
     },
     "execution_count": 19,
     "metadata": {},
     "output_type": "execute_result"
    }
   ],
   "source": [
    "# Создаём новую переменную с наибольшими суммарными продажами\n",
    "top_platforms = df[\"platform\"].value_counts().head(10)\n",
    "top_platforms"
   ]
  },
  {
   "cell_type": "code",
   "execution_count": 20,
   "id": "f294bb2e-b994-40bc-a620-47d629e53954",
   "metadata": {},
   "outputs": [
    {
     "data": {
      "image/png": "[encoded data removed]",
      "text/plain": [
       "<Figure size 1440x720 with 1 Axes>"
      ]
     },
     "metadata": {
      "needs_background": "light"
     },
     "output_type": "display_data"
    }
   ],
   "source": [
    "# Отфильтруем данные только для выбранных платформ\n",
    "selected_platforms = ['PS2', 'DS', 'PS3', 'Wii', 'X360', 'PSP', 'PS', 'PC', 'GBA', 'XB']\n",
    "filtered_data = df[df['platform'].isin(selected_platforms)]\n",
    "\n",
    "# Посчитаем суммарные продажи по годам\n",
    "sales_by_year = filtered_data.groupby(['year_of_release', 'platform'])['total_sales'].sum().unstack()\n",
    "\n",
    "# Построим гистограмму\n",
    "sales_by_year.plot(kind='bar', stacked=True, figsize=(20,10))\n",
    "plt.xlabel('год', fontsize=14)\n",
    "plt.ylabel('суммарные продажи', fontsize=14)\n",
    "plt.title('Распределение продаж по годам для каждой платформы', fontsize=14)\n",
    "plt.show()"
   ]
  },
  {
   "cell_type": "code",
   "execution_count": 21,
   "id": "5b7f1f89-07be-474b-b8f6-6e690dade4c2",
   "metadata": {},
   "outputs": [
    {
     "data": {
      "image/png": "[encoded data removed]",
      "text/plain": [
       "<Figure size 1440x720 with 1 Axes>"
      ]
     },
     "metadata": {
      "needs_background": "light"
     },
     "output_type": "display_data"
    }
   ],
   "source": [
    "# Расчет минимального и максимального года выпуска для каждой платформы\n",
    "platforms_lifespan = df.groupby(\"platform\")[\"year_of_release\"].agg([\"min\", \"max\"]).reset_index()\n",
    "\n",
    "# Вычисление \"жизни\" платформы как разницы между максимальным и минимальным годом выпуска\n",
    "platforms_lifespan[\"lifespan\"] = platforms_lifespan[\"max\"] - platforms_lifespan[\"min\"]\n",
    "\n",
    "# Вычисление средней \"жизни\" платформы\n",
    "average_lifespan = platforms_lifespan[\"lifespan\"].mean()\n",
    "\n",
    "# Создание графика распределения \"жизни\" платформ\n",
    "plt.figure(figsize=(20, 10))\n",
    "plt.hist(platforms_lifespan[\"lifespan\"], bins=30, edgecolor='black')\n",
    "\n",
    "# Настройка осей и заголовка графика\n",
    "plt.title('Распределение \"жизни\" платформ', fontsize=14)\n",
    "plt.xlabel(\"количество лет\", fontsize=14)\n",
    "plt.ylabel(\"количество платформ\", fontsize=14)\n",
    "plt.grid(True)\n",
    "\n",
    "# Вывод средней \"жизни\" платформы\n",
    "plt.axvline(x=average_lifespan, color='r', linestyle='--', label='Средняя \"жизнь\" платформы')\n",
    "plt.legend()\n",
    "\n",
    "# Выводим график\n",
    "plt.show()"
   ]
  },
  {
   "cell_type": "markdown",
   "id": "4a8f3673-c160-445c-b9dc-6d60a34f1269",
   "metadata": {},
   "source": [
    "**Вывод:**\n",
    "\n",
    "- по первой гистограмме можно сделать вывод что пиковые значения были с 2005 по 2010 годы. Гистограмма была построена на основе топа 10 платформ сс наибольшим и суммарными продажами:\n",
    "1. PS2     2127\n",
    "2. DS      2121\n",
    "3. PS3     1306\n",
    "4. Wii     1286\n",
    "5. X360    1232\n",
    "6. PSP     1193\n",
    "7. PS      1190\n",
    "8. PC       957\n",
    "9. GBA      811\n",
    "10. XB       803\n",
    "\n",
    "- по второй гистограмме можно сделать вывод что платформы \"живут\" от 0-10 лет при этом пиковые значения на отметке меньше года."
   ]
  },
  {
   "cell_type": "markdown",
   "id": "298611e0-021d-4a28-8f5d-704154a4e658",
   "metadata": {},
   "source": [
    "**3.3 Прогноз на 2017 год, опираясь на данные пункта 3.2**"
   ]
  },
  {
   "cell_type": "markdown",
   "id": "de0227b0-ef3d-43ac-9e7e-abbd6d7ef1a3",
   "metadata": {},
   "source": [
    "На основании предоставленных выше данных можно определить актуальный период для построения прогноза на 2017 год. \n",
    "\n",
    "Основываясь на предыдущем исследовании, можно предположить, что актуальный период для построения прогноза на 2017 год составляет примерно 2-3 года, то есть данные за 2014-2016 годы. В этот период было заметно увеличение количества выпускаемых игр и общего объема рынка видеоигр.\n",
    "\n",
    "Таким образом, для прогноза на 2017 год рекомендуется использовать данные за 2014-2016 годы, так как они отражают более актуальную ситуацию на рынке видеоигр и лучше подходят для выявления текущих трендов и популярных платформ."
   ]
  },
  {
   "cell_type": "markdown",
   "id": "969ff784-c2b7-473d-b4ea-84cd98d6e240",
   "metadata": {},
   "source": [
    "**3.4 Какие платформы лидируют по продажам, растут или падают?**"
   ]
  },
  {
   "cell_type": "code",
   "execution_count": 22,
   "id": "938e7e4a-779d-409b-afec-3022216e0df2",
   "metadata": {},
   "outputs": [
    {
     "data": {
      "image/png": "[encoded data removed]",
      "text/plain": [
       "<Figure size 1440x720 with 1 Axes>"
      ]
     },
     "metadata": {
      "needs_background": "light"
     },
     "output_type": "display_data"
    }
   ],
   "source": [
    "# Выбираем данные за актуальный период\n",
    "actual_period_data = df[df['year_of_release'].between(2014, 2016)]\n",
    "\n",
    "# Группируем данные по платформам и считаем суммарные продажи\n",
    "platform_sales = actual_period_data.groupby('platform')['total_sales'].sum().sort_values(ascending=False)\n",
    "\n",
    "# Построение графика\n",
    "plt.figure(figsize=(20, 10))\n",
    "platform_sales.plot(kind='bar', edgecolor='black', grid=True)\n",
    "plt.title('Продажи по платформам за актуальный период (2014-2016)', fontsize=14)\n",
    "plt.xlabel('платформа', fontsize=14)\n",
    "plt.ylabel('суммарные продажи (млн. копий)', fontsize=14)\n",
    "plt.show()"
   ]
  },
  {
   "cell_type": "markdown",
   "id": "7cd8bada-e945-4d09-937d-4a58ca81a828",
   "metadata": {},
   "source": [
    "**По данным за актуальный период (2014-2016 годы) можно сделать следующие выводы:**\n",
    "\n",
    "1. Лидерами по продажам являются платформы PS4, XOne и 3DS. У них самые высокие суммарные продажи среди всех платформ.\n",
    "\n",
    "2. Платформы PS4 и XOne показывают положительную динамику продаж, так как они имеют высокие объемы продаж и лидеры по продажам в актуальном периоде.\n",
    "\n",
    "3. 3DS также имеет значительные продажи и может быть потенциально прибыльной платформой.\n",
    "\n",
    "4. Платформы WiiU, PS3, X360, Wii, PC, PSV и PSP имеют меньшую долю продаж, что может свидетельствовать о том, что их продажи скорее всего падают."
   ]
  },
  {
   "cell_type": "markdown",
   "id": "ed346cce-7674-4c5c-a8df-c42608a46452",
   "metadata": {},
   "source": [
    "**3.5 Построим график «ящик с усами» по глобальным продажам игр в разбивке по платформам**"
   ]
  },
  {
   "cell_type": "code",
   "execution_count": 23,
   "id": "320e8a1d-9aa6-435c-9fa1-a85db227d51e",
   "metadata": {},
   "outputs": [
    {
     "data": {
      "image/png": "[encoded data removed]",
      "text/plain": [
       "<Figure size 1440x720 with 1 Axes>"
      ]
     },
     "metadata": {
      "needs_background": "light"
     },
     "output_type": "display_data"
    }
   ],
   "source": [
    "plt.figure(figsize=(20, 10))\n",
    "sns.boxplot(data=actual_period_data, x='platform', y='total_sales')\n",
    "plt.xticks(rotation=45)\n",
    "plt.title('Глобальные продажи игр по платформам', fontsize=14)\n",
    "plt.xlabel('платформа', fontsize=14)\n",
    "plt.ylabel('продажи (миллионы копий)', fontsize=14)\n",
    "plt.ylim(0, 2)\n",
    "plt.show()"
   ]
  },
  {
   "cell_type": "markdown",
   "id": "6713b907-6bf0-4928-8377-463af68ed5b5",
   "metadata": {},
   "source": [
    "**После построения графика «ящик с усами» можно сделать следующие выводы:**\n",
    "\n",
    "1. На графике видны платформы с наиболее высокими глобальными продажами, такие как PS4, XOne, PS3, Wii и WiiU.\n",
    "2. По графику можно сделать вывод о различиях в продажах между платформами. Например, некоторые платформы могут иметь большую медиану продаж, но также иметь большое количество выбросов, что указывает на наличие успешных игр на этой платформе.\n",
    "3. График позволяет оценить разброс продаж на разных платформах и выявить потенциально прибыльные платформы с наиболее стабильными продажами и меньшим количеством выбросов."
   ]
  },
  {
   "cell_type": "markdown",
   "id": "30aee7c9-718a-4402-9de9-5caec0aadea3",
   "metadata": {},
   "source": [
    "**3.6 Построим диаграмму рассеяния и посчитаем корреляцию между отзывами и продажами**"
   ]
  },
  {
   "cell_type": "code",
   "execution_count": 24,
   "id": "4545cf2e-7774-4d44-a65e-4d57ba45e84d",
   "metadata": {},
   "outputs": [
    {
     "data": {
      "image/png": "[encoded data removed]",
      "text/plain": [
       "<Figure size 1152x576 with 1 Axes>"
      ]
     },
     "metadata": {
      "needs_background": "light"
     },
     "output_type": "display_data"
    },
    {
     "data": {
      "image/png": "[encoded data removed]",
      "text/plain": [
       "<Figure size 1152x576 with 1 Axes>"
      ]
     },
     "metadata": {
      "needs_background": "light"
     },
     "output_type": "display_data"
    },
    {
     "name": "stdout",
     "output_type": "stream",
     "text": [
      "Коэффициент корреляции между оценкой критиков и продажами: 0.17790728577594922\n",
      "Корреляция между оценками пользователей и продажами: 0.11283121360773787\n"
     ]
    }
   ],
   "source": [
    "# Фильтрация данных для платформы Wii\n",
    "wii_df = df[df['platform'] == 'Wii']\n",
    "\n",
    "# Построение диаграммы рассеяния\n",
    "plt.figure(figsize=(16, 8))\n",
    "plt.scatter(wii_df['critic_score'], wii_df['total_sales'])\n",
    "plt.xlabel('Оценка критиков', fontsize=14)\n",
    "plt.ylabel('Общие продажи', fontsize=14)\n",
    "plt.title('Диаграмма рассеяния: отзывы критиков vs. продажи (платформы Wii)')\n",
    "plt.show()\n",
    "\n",
    "# Построение диаграммы рассеяния\n",
    "plt.figure(figsize=(16, 8))\n",
    "plt.scatter(wii_df['user_score'], wii_df['total_sales'])\n",
    "plt.xlabel('оценка пользователей', fontsize=14)\n",
    "plt.ylabel('общие продажи', fontsize=14)\n",
    "plt.title('Диаграмма рассеяния: отзывы пользователей vs. продажи (платформы Wii)')\n",
    "plt.show()\n",
    "\n",
    "# Вычисление корреляции\n",
    "correlation_critic = wii_df['critic_score'].corr(wii_df['total_sales'])\n",
    "correlation_user = wii_df['user_score'].corr(wii_df['total_sales'])\n",
    "\n",
    "print(\"Коэффициент корреляции между оценкой критиков и продажами:\", correlation_critic)\n",
    "print(\"Корреляция между оценками пользователей и продажами:\", correlation_user)"
   ]
  },
  {
   "cell_type": "code",
   "execution_count": 25,
   "id": "99a7f89f-bb6e-47b8-8d4d-5bd0c7b9b7e4",
   "metadata": {},
   "outputs": [
    {
     "data": {
      "image/png": "[encoded data removed]",
      "text/plain": [
       "<Figure size 1152x576 with 1 Axes>"
      ]
     },
     "metadata": {
      "needs_background": "light"
     },
     "output_type": "display_data"
    },
    {
     "data": {
      "image/png": "[encoded data removed]",
      "text/plain": [
       "<Figure size 1152x576 with 1 Axes>"
      ]
     },
     "metadata": {
      "needs_background": "light"
     },
     "output_type": "display_data"
    },
    {
     "name": "stdout",
     "output_type": "stream",
     "text": [
      "Корреляция между оценками критиков и продажами: 0.24534884547411373\n",
      "Корреляция между оценками пользователей и продажами: 0.08798399271321646\n"
     ]
    }
   ],
   "source": [
    "df.plot(x=\"critic_score\", y=\"total_sales\", kind=\"scatter\", grid=True, figsize=(16, 8))\n",
    "plt.title('зависимость продаж от оценок критиков', fontsize=14)\n",
    "plt.xlabel('оценка критиков', fontsize=14)\n",
    "plt.ylabel('Продажи (миллионы копий)')\n",
    "plt.show()\n",
    "\n",
    "df.plot(x=\"user_score\", y=\"total_sales\", kind=\"scatter\", grid=True, figsize=(16, 8))\n",
    "plt.title('зависимость продаж от оценок пользователей', fontsize=14)\n",
    "plt.xlabel('оценка пользователей', fontsize=14)\n",
    "plt.ylabel('Продажи (миллионы копий)')\n",
    "plt.show()\n",
    "\n",
    "correlation_critic = df['critic_score'].corr(df['total_sales'])\n",
    "correlation_user = df['user_score'].corr(df['total_sales'])\n",
    "\n",
    "print(\"Корреляция между оценками критиков и продажами:\", correlation_critic)\n",
    "print(\"Корреляция между оценками пользователей и продажами:\", correlation_user)"
   ]
  },
  {
   "cell_type": "markdown",
   "id": "fa4940bf-12be-4f29-87a9-7546dabcaf3f",
   "metadata": {},
   "source": [
    "**Вывод по оценкам критиков и пользователей платформы Wii и всех платформ:**\n",
    "\n",
    "Коэффициент корреляции между оценкой критиков и продажами: 0.17790728577594922\n",
    "Корреляция между оценками пользователей и продажами: 0.11283121360773787\n",
    "\n",
    "Для платформы Wii коэффициент корреляции между оценкой критиков и продажами составляет 0.1779, а корреляция между оценками пользователей и продажами равна 0.1128. Оба значения весьма низкие, что означает слабую положительную связь между оценками и продажами игр на платформе Wii.\n",
    "\n",
    "В то же время, для всех платформ в целом коэффициент корреляции между оценками критиков и продажами составляет 0.2453, а корреляция между оценками пользователей и продажами равна 0.0879. Это также указывает на слабое влияние оценок на продажи игр на всех платформах.\n",
    "\n",
    "Таким образом, на платформе Wii и на других платформах оценки пользователей и критиков оказывают незначительное влияние на продажи игр. Другие факторы, такие как маркетинг, популярность жанра игры, наличие конкурентов и другие внешние факторы, могут в большей степени влиять на продажи игр на различных платформах."
   ]
  },
  {
   "cell_type": "markdown",
   "id": "06e07762-1dd3-407b-ad6f-25a21c30aabc",
   "metadata": {},
   "source": [
    "**3.7 Посмотрим на общее распределение игр по жанрам. Рассмотрим самые прибыльных жанрах? Выделяются ли жанры с высокими и низкими продажами?**"
   ]
  },
  {
   "cell_type": "code",
   "execution_count": 26,
   "id": "1613c116-2bbe-4872-a1b7-9913218152c7",
   "metadata": {},
   "outputs": [
    {
     "data": {
      "image/png": "[encoded data removed]",
      "text/plain": [
       "<Figure size 1152x576 with 1 Axes>"
      ]
     },
     "metadata": {
      "needs_background": "light"
     },
     "output_type": "display_data"
    }
   ],
   "source": [
    "genre_sales = df.groupby('genre')['total_sales'].sum().reset_index()\n",
    "genre_sales = genre_sales.sort_values('total_sales', ascending=False)\n",
    "\n",
    "plt.figure(figsize=(16, 8))\n",
    "plt.bar(genre_sales['genre'], genre_sales['total_sales'], edgecolor='black')\n",
    "plt.xlabel('жанр', fontsize=14)\n",
    "plt.ylabel('общий объем продаж (миллионы)', fontsize=14)\n",
    "plt.title('Общий объем продаж по жанрам', fontsize=14)\n",
    "plt.xticks(rotation=45)\n",
    "plt.grid(True)\n",
    "plt.show()"
   ]
  },
  {
   "cell_type": "code",
   "execution_count": 27,
   "id": "79b3d4a1-a2f2-46cb-9742-2970b19fe605",
   "metadata": {},
   "outputs": [
    {
     "name": "stdout",
     "output_type": "stream",
     "text": [
      "Медианные значение глобальных продаж игр по жанрам genre\n",
      "Action          0.19\n",
      "Adventure       0.05\n",
      "Fighting        0.21\n",
      "Misc            0.16\n",
      "Platform        0.27\n",
      "Puzzle          0.10\n",
      "Racing          0.19\n",
      "Role-Playing    0.18\n",
      "Shooter         0.24\n",
      "Simulation      0.15\n",
      "Sports          0.22\n",
      "Strategy        0.10\n",
      "Name: total_sales, dtype: float64\n",
      "Среднее значение глобальных продаж игр по жанрам genre\n",
      "Action          0.519057\n",
      "Adventure       0.180456\n",
      "Fighting        0.528865\n",
      "Misc            0.459204\n",
      "Platform        0.940262\n",
      "Puzzle          0.421599\n",
      "Racing          0.590122\n",
      "Role-Playing    0.628683\n",
      "Shooter         0.803519\n",
      "Simulation      0.452695\n",
      "Sports          0.567940\n",
      "Strategy        0.256419\n",
      "Name: total_sales, dtype: float64\n"
     ]
    }
   ],
   "source": [
    "genre_mean_sales = df.groupby('genre')['total_sales'].mean()\n",
    "genre_median_sales = df.groupby('genre')['total_sales'].median()\n",
    "\n",
    "print(f\"Медианные значение глобальных продаж игр по жанрам {genre_median_sales}\")\n",
    "print(f\"Среднее значение глобальных продаж игр по жанрам {genre_mean_sales}\")"
   ]
  },
  {
   "cell_type": "markdown",
   "id": "887c3233-ae07-434f-892e-0a8c6954ba49",
   "metadata": {},
   "source": [
    "Из предоставленного распределения продаж по жанрам можно сделать следующие выводы:\n",
    "\n",
    "1) Самым прибыльным жанром, согласно медианному значению продаж, является \"Platform\" с медианной продажей в размере 0.27 миллионов копий.\n",
    "2) Среди жанров с максимальным средним значением продаж лидирует жанр \"Shooter\" со средним значением продаж в размере 0.803519 миллионов копий.\n",
    "3) Жанр \"Role-Playing\" имеет второе наивысшее среднее значение продаж - 0.628683 миллионов копий.\n",
    "4) Жанр \"Sports\" занимает третье место по среднему значению продаж с 0.567940 миллионами копий.\n",
    "5) Отмечается, что жанры \"Action\", \"Fighting\", \"Misc\" и \"Racing\" также имеют относительно высокие средние значения продаж.\n",
    "\n",
    "Таким образом, анализ медианных и средних значений продаж подтверждает выводы, сделанные на основе общих продаж. Жанры \"Platform\", \"Shooter\", \"Role-Playing\" и \"Sports\" всё равно являются наиболее прибыльными жанрами, с высокими продажами относительно других жанров."
   ]
  },
  {
   "cell_type": "markdown",
   "id": "d0e0d834-d119-4b52-a3cb-9c94733b2332",
   "metadata": {},
   "source": [
    "# 4. Портрет пользователя каждого региона"
   ]
  },
  {
   "cell_type": "markdown",
   "id": "963068c1-1723-465d-b178-18325bc442d6",
   "metadata": {},
   "source": [
    "**4.1 Составление портрета пользователя *Северной Америки***"
   ]
  },
  {
   "cell_type": "code",
   "execution_count": 28,
   "id": "9b7667ec-058f-4920-9047-0e91bc9b10fa",
   "metadata": {},
   "outputs": [
    {
     "data": {
      "text/html": [
       "<div>\n",
       "<style scoped>\n",
       "    .dataframe tbody tr th:only-of-type {\n",
       "        vertical-align: middle;\n",
       "    }\n",
       "\n",
       "    .dataframe tbody tr th {\n",
       "        vertical-align: top;\n",
       "    }\n",
       "\n",
       "    .dataframe thead th {\n",
       "        text-align: right;\n",
       "    }\n",
       "</style>\n",
       "<table border=\"1\" class=\"dataframe\">\n",
       "  <thead>\n",
       "    <tr style=\"text-align: right;\">\n",
       "      <th></th>\n",
       "      <th>platform</th>\n",
       "      <th>na_sales</th>\n",
       "    </tr>\n",
       "  </thead>\n",
       "  <tbody>\n",
       "    <tr>\n",
       "      <th>28</th>\n",
       "      <td>X360</td>\n",
       "      <td>595.74</td>\n",
       "    </tr>\n",
       "    <tr>\n",
       "      <th>16</th>\n",
       "      <td>PS2</td>\n",
       "      <td>572.92</td>\n",
       "    </tr>\n",
       "    <tr>\n",
       "      <th>26</th>\n",
       "      <td>Wii</td>\n",
       "      <td>486.87</td>\n",
       "    </tr>\n",
       "    <tr>\n",
       "      <th>17</th>\n",
       "      <td>PS3</td>\n",
       "      <td>390.13</td>\n",
       "    </tr>\n",
       "    <tr>\n",
       "      <th>4</th>\n",
       "      <td>DS</td>\n",
       "      <td>380.31</td>\n",
       "    </tr>\n",
       "  </tbody>\n",
       "</table>\n",
       "</div>"
      ],
      "text/plain": [
       "   platform  na_sales\n",
       "28     X360    595.74\n",
       "16      PS2    572.92\n",
       "26      Wii    486.87\n",
       "17      PS3    390.13\n",
       "4        DS    380.31"
      ]
     },
     "execution_count": 28,
     "metadata": {},
     "output_type": "execute_result"
    }
   ],
   "source": [
    "# Самые популярные платформы в Северной Америке\n",
    "na_platform_sales = df.groupby('platform')['na_sales'].sum().reset_index()\n",
    "na_platform_sales = na_platform_sales.sort_values('na_sales', ascending=False).head(5)\n",
    "na_platform_sales"
   ]
  },
  {
   "cell_type": "code",
   "execution_count": 29,
   "id": "83a0b507-c591-4fd0-9f66-78548d022b33",
   "metadata": {},
   "outputs": [
    {
     "data": {
      "image/png": "[encoded data removed]",
      "text/plain": [
       "<Figure size 576x576 with 1 Axes>"
      ]
     },
     "metadata": {},
     "output_type": "display_data"
    }
   ],
   "source": [
    "# Построим кругову диаграмму топ 5 платформ по продажам в Северной Америке\n",
    "plt.figure(figsize=(8, 8))\n",
    "plt.pie(na_platform_sales['na_sales'], labels=na_platform_sales['platform'], autopct='%1.1f%%')\n",
    "plt.title('Доля продаж по платформам в Северной Америке')\n",
    "plt.show()"
   ]
  },
  {
   "cell_type": "code",
   "execution_count": 30,
   "id": "4e8e3f0f-61cd-4a2f-b37c-6a4b2e1bfcc2",
   "metadata": {},
   "outputs": [
    {
     "data": {
      "text/html": [
       "<div>\n",
       "<style scoped>\n",
       "    .dataframe tbody tr th:only-of-type {\n",
       "        vertical-align: middle;\n",
       "    }\n",
       "\n",
       "    .dataframe tbody tr th {\n",
       "        vertical-align: top;\n",
       "    }\n",
       "\n",
       "    .dataframe thead th {\n",
       "        text-align: right;\n",
       "    }\n",
       "</style>\n",
       "<table border=\"1\" class=\"dataframe\">\n",
       "  <thead>\n",
       "    <tr style=\"text-align: right;\">\n",
       "      <th></th>\n",
       "      <th>genre</th>\n",
       "      <th>na_sales</th>\n",
       "    </tr>\n",
       "  </thead>\n",
       "  <tbody>\n",
       "    <tr>\n",
       "      <th>0</th>\n",
       "      <td>Action</td>\n",
       "      <td>863.17</td>\n",
       "    </tr>\n",
       "    <tr>\n",
       "      <th>10</th>\n",
       "      <td>Sports</td>\n",
       "      <td>671.20</td>\n",
       "    </tr>\n",
       "    <tr>\n",
       "      <th>8</th>\n",
       "      <td>Shooter</td>\n",
       "      <td>584.83</td>\n",
       "    </tr>\n",
       "    <tr>\n",
       "      <th>4</th>\n",
       "      <td>Platform</td>\n",
       "      <td>444.44</td>\n",
       "    </tr>\n",
       "    <tr>\n",
       "      <th>3</th>\n",
       "      <td>Misc</td>\n",
       "      <td>399.57</td>\n",
       "    </tr>\n",
       "  </tbody>\n",
       "</table>\n",
       "</div>"
      ],
      "text/plain": [
       "       genre  na_sales\n",
       "0     Action    863.17\n",
       "10    Sports    671.20\n",
       "8    Shooter    584.83\n",
       "4   Platform    444.44\n",
       "3       Misc    399.57"
      ]
     },
     "execution_count": 30,
     "metadata": {},
     "output_type": "execute_result"
    }
   ],
   "source": [
    "# Самые популярные жанры в Северной Америке\n",
    "na_top_genre = df.groupby('genre')['na_sales'].sum().reset_index()\n",
    "na_top_genre = na_top_genre.sort_values('na_sales', ascending=False).head(5)\n",
    "na_top_genre"
   ]
  },
  {
   "cell_type": "code",
   "execution_count": 31,
   "id": "82ff92bc-0b28-4957-91ac-135238534819",
   "metadata": {},
   "outputs": [
    {
     "data": {
      "text/html": [
       "<div>\n",
       "<style scoped>\n",
       "    .dataframe tbody tr th:only-of-type {\n",
       "        vertical-align: middle;\n",
       "    }\n",
       "\n",
       "    .dataframe tbody tr th {\n",
       "        vertical-align: top;\n",
       "    }\n",
       "\n",
       "    .dataframe thead th {\n",
       "        text-align: right;\n",
       "    }\n",
       "</style>\n",
       "<table border=\"1\" class=\"dataframe\">\n",
       "  <thead>\n",
       "    <tr style=\"text-align: right;\">\n",
       "      <th></th>\n",
       "      <th>rating</th>\n",
       "      <th>na_sales</th>\n",
       "    </tr>\n",
       "  </thead>\n",
       "  <tbody>\n",
       "    <tr>\n",
       "      <th>0</th>\n",
       "      <td>AO</td>\n",
       "      <td>1.260000</td>\n",
       "    </tr>\n",
       "    <tr>\n",
       "      <th>1</th>\n",
       "      <td>E</td>\n",
       "      <td>0.324978</td>\n",
       "    </tr>\n",
       "    <tr>\n",
       "      <th>2</th>\n",
       "      <td>E10+</td>\n",
       "      <td>0.248026</td>\n",
       "    </tr>\n",
       "    <tr>\n",
       "      <th>3</th>\n",
       "      <td>EC</td>\n",
       "      <td>0.191250</td>\n",
       "    </tr>\n",
       "    <tr>\n",
       "      <th>4</th>\n",
       "      <td>K-A</td>\n",
       "      <td>0.853333</td>\n",
       "    </tr>\n",
       "    <tr>\n",
       "      <th>5</th>\n",
       "      <td>M</td>\n",
       "      <td>0.483652</td>\n",
       "    </tr>\n",
       "    <tr>\n",
       "      <th>6</th>\n",
       "      <td>RP</td>\n",
       "      <td>0.000000</td>\n",
       "    </tr>\n",
       "    <tr>\n",
       "      <th>7</th>\n",
       "      <td>T</td>\n",
       "      <td>0.257349</td>\n",
       "    </tr>\n",
       "    <tr>\n",
       "      <th>8</th>\n",
       "      <td>unknown</td>\n",
       "      <td>0.183830</td>\n",
       "    </tr>\n",
       "  </tbody>\n",
       "</table>\n",
       "</div>"
      ],
      "text/plain": [
       "    rating  na_sales\n",
       "0       AO  1.260000\n",
       "1        E  0.324978\n",
       "2     E10+  0.248026\n",
       "3       EC  0.191250\n",
       "4      K-A  0.853333\n",
       "5        M  0.483652\n",
       "6       RP  0.000000\n",
       "7        T  0.257349\n",
       "8  unknown  0.183830"
      ]
     },
     "execution_count": 31,
     "metadata": {},
     "output_type": "execute_result"
    }
   ],
   "source": [
    "# Cредние продажи игр в Северной Америке рейтинга ESRB\n",
    "rating_sales_na = df.groupby('rating')['na_sales'].mean().reset_index()\n",
    "rating_sales_na"
   ]
  },
  {
   "cell_type": "markdown",
   "id": "6e7ebb12-795c-4a17-b5bd-cb1ec9580257",
   "metadata": {},
   "source": [
    "**4.2 Составление портрета пользователя *Европы***"
   ]
  },
  {
   "cell_type": "code",
   "execution_count": 32,
   "id": "2ce815e5-5f57-40bd-b66f-9e298118dbc5",
   "metadata": {},
   "outputs": [
    {
     "data": {
      "text/html": [
       "<div>\n",
       "<style scoped>\n",
       "    .dataframe tbody tr th:only-of-type {\n",
       "        vertical-align: middle;\n",
       "    }\n",
       "\n",
       "    .dataframe tbody tr th {\n",
       "        vertical-align: top;\n",
       "    }\n",
       "\n",
       "    .dataframe thead th {\n",
       "        text-align: right;\n",
       "    }\n",
       "</style>\n",
       "<table border=\"1\" class=\"dataframe\">\n",
       "  <thead>\n",
       "    <tr style=\"text-align: right;\">\n",
       "      <th></th>\n",
       "      <th>platform</th>\n",
       "      <th>eu_sales</th>\n",
       "    </tr>\n",
       "  </thead>\n",
       "  <tbody>\n",
       "    <tr>\n",
       "      <th>16</th>\n",
       "      <td>PS2</td>\n",
       "      <td>332.63</td>\n",
       "    </tr>\n",
       "    <tr>\n",
       "      <th>17</th>\n",
       "      <td>PS3</td>\n",
       "      <td>327.21</td>\n",
       "    </tr>\n",
       "    <tr>\n",
       "      <th>28</th>\n",
       "      <td>X360</td>\n",
       "      <td>268.32</td>\n",
       "    </tr>\n",
       "    <tr>\n",
       "      <th>26</th>\n",
       "      <td>Wii</td>\n",
       "      <td>258.32</td>\n",
       "    </tr>\n",
       "    <tr>\n",
       "      <th>15</th>\n",
       "      <td>PS</td>\n",
       "      <td>212.39</td>\n",
       "    </tr>\n",
       "  </tbody>\n",
       "</table>\n",
       "</div>"
      ],
      "text/plain": [
       "   platform  eu_sales\n",
       "16      PS2    332.63\n",
       "17      PS3    327.21\n",
       "28     X360    268.32\n",
       "26      Wii    258.32\n",
       "15       PS    212.39"
      ]
     },
     "execution_count": 32,
     "metadata": {},
     "output_type": "execute_result"
    }
   ],
   "source": [
    "# Самые популярные платформы в Европе\n",
    "eu_platform_sales = df.groupby('platform')['eu_sales'].sum().reset_index()\n",
    "eu_platform_sales = eu_platform_sales.sort_values('eu_sales', ascending=False).head(5)\n",
    "eu_platform_sales"
   ]
  },
  {
   "cell_type": "code",
   "execution_count": 33,
   "id": "d6e45dae-5e26-4180-82a9-f92c9fda7238",
   "metadata": {},
   "outputs": [
    {
     "data": {
      "image/png": "[encoded data removed]",
      "text/plain": [
       "<Figure size 576x576 with 1 Axes>"
      ]
     },
     "metadata": {},
     "output_type": "display_data"
    }
   ],
   "source": [
    "# Построим круговую диаграмму топ 5 платформ по продажам в Европе\n",
    "plt.figure(figsize=(8, 8))\n",
    "plt.pie(eu_platform_sales['eu_sales'], labels=eu_platform_sales['platform'], autopct='%1.1f%%')\n",
    "plt.title('Доля продаж по платформам в Европе')\n",
    "plt.show()"
   ]
  },
  {
   "cell_type": "code",
   "execution_count": 34,
   "id": "73cd4673-2082-4287-a7f8-08207fcff885",
   "metadata": {},
   "outputs": [
    {
     "data": {
      "text/html": [
       "<div>\n",
       "<style scoped>\n",
       "    .dataframe tbody tr th:only-of-type {\n",
       "        vertical-align: middle;\n",
       "    }\n",
       "\n",
       "    .dataframe tbody tr th {\n",
       "        vertical-align: top;\n",
       "    }\n",
       "\n",
       "    .dataframe thead th {\n",
       "        text-align: right;\n",
       "    }\n",
       "</style>\n",
       "<table border=\"1\" class=\"dataframe\">\n",
       "  <thead>\n",
       "    <tr style=\"text-align: right;\">\n",
       "      <th></th>\n",
       "      <th>genre</th>\n",
       "      <th>eu_sales</th>\n",
       "    </tr>\n",
       "  </thead>\n",
       "  <tbody>\n",
       "    <tr>\n",
       "      <th>0</th>\n",
       "      <td>Action</td>\n",
       "      <td>510.99</td>\n",
       "    </tr>\n",
       "    <tr>\n",
       "      <th>10</th>\n",
       "      <td>Sports</td>\n",
       "      <td>371.33</td>\n",
       "    </tr>\n",
       "    <tr>\n",
       "      <th>8</th>\n",
       "      <td>Shooter</td>\n",
       "      <td>314.52</td>\n",
       "    </tr>\n",
       "    <tr>\n",
       "      <th>6</th>\n",
       "      <td>Racing</td>\n",
       "      <td>234.49</td>\n",
       "    </tr>\n",
       "    <tr>\n",
       "      <th>3</th>\n",
       "      <td>Misc</td>\n",
       "      <td>210.60</td>\n",
       "    </tr>\n",
       "  </tbody>\n",
       "</table>\n",
       "</div>"
      ],
      "text/plain": [
       "      genre  eu_sales\n",
       "0    Action    510.99\n",
       "10   Sports    371.33\n",
       "8   Shooter    314.52\n",
       "6    Racing    234.49\n",
       "3      Misc    210.60"
      ]
     },
     "execution_count": 34,
     "metadata": {},
     "output_type": "execute_result"
    }
   ],
   "source": [
    "# Самые популярные жанры в Европе\n",
    "eu_top_genre = df.groupby('genre')['eu_sales'].sum().reset_index()\n",
    "eu_top_genre = eu_top_genre.sort_values('eu_sales', ascending=False).head(5)\n",
    "eu_top_genre"
   ]
  },
  {
   "cell_type": "code",
   "execution_count": 35,
   "id": "1ccaf585-be7a-4a9a-bd04-32eed2398743",
   "metadata": {},
   "outputs": [
    {
     "data": {
      "text/html": [
       "<div>\n",
       "<style scoped>\n",
       "    .dataframe tbody tr th:only-of-type {\n",
       "        vertical-align: middle;\n",
       "    }\n",
       "\n",
       "    .dataframe tbody tr th {\n",
       "        vertical-align: top;\n",
       "    }\n",
       "\n",
       "    .dataframe thead th {\n",
       "        text-align: right;\n",
       "    }\n",
       "</style>\n",
       "<table border=\"1\" class=\"dataframe\">\n",
       "  <thead>\n",
       "    <tr style=\"text-align: right;\">\n",
       "      <th></th>\n",
       "      <th>rating</th>\n",
       "      <th>eu_sales</th>\n",
       "    </tr>\n",
       "  </thead>\n",
       "  <tbody>\n",
       "    <tr>\n",
       "      <th>0</th>\n",
       "      <td>AO</td>\n",
       "      <td>0.610000</td>\n",
       "    </tr>\n",
       "    <tr>\n",
       "      <th>1</th>\n",
       "      <td>E</td>\n",
       "      <td>0.179513</td>\n",
       "    </tr>\n",
       "    <tr>\n",
       "      <th>2</th>\n",
       "      <td>E10+</td>\n",
       "      <td>0.131622</td>\n",
       "    </tr>\n",
       "    <tr>\n",
       "      <th>3</th>\n",
       "      <td>EC</td>\n",
       "      <td>0.013750</td>\n",
       "    </tr>\n",
       "    <tr>\n",
       "      <th>4</th>\n",
       "      <td>K-A</td>\n",
       "      <td>0.090000</td>\n",
       "    </tr>\n",
       "    <tr>\n",
       "      <th>5</th>\n",
       "      <td>M</td>\n",
       "      <td>0.312500</td>\n",
       "    </tr>\n",
       "    <tr>\n",
       "      <th>6</th>\n",
       "      <td>RP</td>\n",
       "      <td>0.030000</td>\n",
       "    </tr>\n",
       "    <tr>\n",
       "      <th>7</th>\n",
       "      <td>T</td>\n",
       "      <td>0.145194</td>\n",
       "    </tr>\n",
       "    <tr>\n",
       "      <th>8</th>\n",
       "      <td>unknown</td>\n",
       "      <td>0.091372</td>\n",
       "    </tr>\n",
       "  </tbody>\n",
       "</table>\n",
       "</div>"
      ],
      "text/plain": [
       "    rating  eu_sales\n",
       "0       AO  0.610000\n",
       "1        E  0.179513\n",
       "2     E10+  0.131622\n",
       "3       EC  0.013750\n",
       "4      K-A  0.090000\n",
       "5        M  0.312500\n",
       "6       RP  0.030000\n",
       "7        T  0.145194\n",
       "8  unknown  0.091372"
      ]
     },
     "execution_count": 35,
     "metadata": {},
     "output_type": "execute_result"
    }
   ],
   "source": [
    "# Cредние продажи игр в Европе рейтинга ESRB\n",
    "rating_sales_eu = df.groupby('rating')['eu_sales'].mean().reset_index()\n",
    "rating_sales_eu"
   ]
  },
  {
   "cell_type": "markdown",
   "id": "9b71b1e6-3ee0-47e6-bd72-9829f58a6f5e",
   "metadata": {},
   "source": [
    "**4.2 Составление портрета пользователя *Японии***"
   ]
  },
  {
   "cell_type": "code",
   "execution_count": 36,
   "id": "9c4d1500-6d01-498d-bd00-caee648cc713",
   "metadata": {},
   "outputs": [
    {
     "data": {
      "text/html": [
       "<div>\n",
       "<style scoped>\n",
       "    .dataframe tbody tr th:only-of-type {\n",
       "        vertical-align: middle;\n",
       "    }\n",
       "\n",
       "    .dataframe tbody tr th {\n",
       "        vertical-align: top;\n",
       "    }\n",
       "\n",
       "    .dataframe thead th {\n",
       "        text-align: right;\n",
       "    }\n",
       "</style>\n",
       "<table border=\"1\" class=\"dataframe\">\n",
       "  <thead>\n",
       "    <tr style=\"text-align: right;\">\n",
       "      <th></th>\n",
       "      <th>platform</th>\n",
       "      <th>jp_sales</th>\n",
       "    </tr>\n",
       "  </thead>\n",
       "  <tbody>\n",
       "    <tr>\n",
       "      <th>4</th>\n",
       "      <td>DS</td>\n",
       "      <td>175.02</td>\n",
       "    </tr>\n",
       "    <tr>\n",
       "      <th>15</th>\n",
       "      <td>PS</td>\n",
       "      <td>139.78</td>\n",
       "    </tr>\n",
       "    <tr>\n",
       "      <th>16</th>\n",
       "      <td>PS2</td>\n",
       "      <td>137.54</td>\n",
       "    </tr>\n",
       "    <tr>\n",
       "      <th>23</th>\n",
       "      <td>SNES</td>\n",
       "      <td>116.55</td>\n",
       "    </tr>\n",
       "    <tr>\n",
       "      <th>2</th>\n",
       "      <td>3DS</td>\n",
       "      <td>100.62</td>\n",
       "    </tr>\n",
       "  </tbody>\n",
       "</table>\n",
       "</div>"
      ],
      "text/plain": [
       "   platform  jp_sales\n",
       "4        DS    175.02\n",
       "15       PS    139.78\n",
       "16      PS2    137.54\n",
       "23     SNES    116.55\n",
       "2       3DS    100.62"
      ]
     },
     "execution_count": 36,
     "metadata": {},
     "output_type": "execute_result"
    }
   ],
   "source": [
    "# Самые популярные платформы в Японии\n",
    "jp_platform_sales = df.groupby('platform')['jp_sales'].sum().reset_index()\n",
    "jp_platform_sales = jp_platform_sales.sort_values('jp_sales', ascending=False).head(5)\n",
    "jp_platform_sales"
   ]
  },
  {
   "cell_type": "code",
   "execution_count": 37,
   "id": "6b8ebb4b-1a3d-41de-b5fd-eca0e6e9cee2",
   "metadata": {},
   "outputs": [
    {
     "data": {
      "image/png": "[encoded data removed]",
      "text/plain": [
       "<Figure size 576x576 with 1 Axes>"
      ]
     },
     "metadata": {},
     "output_type": "display_data"
    }
   ],
   "source": [
    "# Построим круговую диаграмму топ 5 платформ по продажам в Японии\n",
    "plt.figure(figsize=(8, 8))\n",
    "plt.pie(jp_platform_sales['jp_sales'], labels=jp_platform_sales['platform'], autopct='%1.1f%%')\n",
    "plt.title('Доля продаж по платформам в Японии')\n",
    "plt.show()"
   ]
  },
  {
   "cell_type": "code",
   "execution_count": 38,
   "id": "c98199c9-97f7-4f71-ba4d-220fe6620354",
   "metadata": {},
   "outputs": [
    {
     "data": {
      "text/html": [
       "<div>\n",
       "<style scoped>\n",
       "    .dataframe tbody tr th:only-of-type {\n",
       "        vertical-align: middle;\n",
       "    }\n",
       "\n",
       "    .dataframe tbody tr th {\n",
       "        vertical-align: top;\n",
       "    }\n",
       "\n",
       "    .dataframe thead th {\n",
       "        text-align: right;\n",
       "    }\n",
       "</style>\n",
       "<table border=\"1\" class=\"dataframe\">\n",
       "  <thead>\n",
       "    <tr style=\"text-align: right;\">\n",
       "      <th></th>\n",
       "      <th>genre</th>\n",
       "      <th>jp_sales</th>\n",
       "    </tr>\n",
       "  </thead>\n",
       "  <tbody>\n",
       "    <tr>\n",
       "      <th>7</th>\n",
       "      <td>Role-Playing</td>\n",
       "      <td>353.39</td>\n",
       "    </tr>\n",
       "    <tr>\n",
       "      <th>0</th>\n",
       "      <td>Action</td>\n",
       "      <td>160.14</td>\n",
       "    </tr>\n",
       "    <tr>\n",
       "      <th>10</th>\n",
       "      <td>Sports</td>\n",
       "      <td>134.93</td>\n",
       "    </tr>\n",
       "    <tr>\n",
       "      <th>4</th>\n",
       "      <td>Platform</td>\n",
       "      <td>130.71</td>\n",
       "    </tr>\n",
       "    <tr>\n",
       "      <th>3</th>\n",
       "      <td>Misc</td>\n",
       "      <td>107.02</td>\n",
       "    </tr>\n",
       "  </tbody>\n",
       "</table>\n",
       "</div>"
      ],
      "text/plain": [
       "           genre  jp_sales\n",
       "7   Role-Playing    353.39\n",
       "0         Action    160.14\n",
       "10        Sports    134.93\n",
       "4       Platform    130.71\n",
       "3           Misc    107.02"
      ]
     },
     "execution_count": 38,
     "metadata": {},
     "output_type": "execute_result"
    }
   ],
   "source": [
    "# Самые популярные жанры в Японии\n",
    "jp_top_genre = df.groupby('genre')['jp_sales'].sum().reset_index()\n",
    "jp_top_genre = jp_top_genre.sort_values('jp_sales', ascending=False).head(5)\n",
    "jp_top_genre"
   ]
  },
  {
   "cell_type": "code",
   "execution_count": 39,
   "id": "9fde8591-6b40-4e17-9c01-779b55192fa3",
   "metadata": {},
   "outputs": [
    {
     "data": {
      "text/html": [
       "<div>\n",
       "<style scoped>\n",
       "    .dataframe tbody tr th:only-of-type {\n",
       "        vertical-align: middle;\n",
       "    }\n",
       "\n",
       "    .dataframe tbody tr th {\n",
       "        vertical-align: top;\n",
       "    }\n",
       "\n",
       "    .dataframe thead th {\n",
       "        text-align: right;\n",
       "    }\n",
       "</style>\n",
       "<table border=\"1\" class=\"dataframe\">\n",
       "  <thead>\n",
       "    <tr style=\"text-align: right;\">\n",
       "      <th></th>\n",
       "      <th>rating</th>\n",
       "      <th>jp_sales</th>\n",
       "    </tr>\n",
       "  </thead>\n",
       "  <tbody>\n",
       "    <tr>\n",
       "      <th>0</th>\n",
       "      <td>AO</td>\n",
       "      <td>0.000000</td>\n",
       "    </tr>\n",
       "    <tr>\n",
       "      <th>1</th>\n",
       "      <td>E</td>\n",
       "      <td>0.050487</td>\n",
       "    </tr>\n",
       "    <tr>\n",
       "      <th>2</th>\n",
       "      <td>E10+</td>\n",
       "      <td>0.028859</td>\n",
       "    </tr>\n",
       "    <tr>\n",
       "      <th>3</th>\n",
       "      <td>EC</td>\n",
       "      <td>0.000000</td>\n",
       "    </tr>\n",
       "    <tr>\n",
       "      <th>4</th>\n",
       "      <td>K-A</td>\n",
       "      <td>0.486667</td>\n",
       "    </tr>\n",
       "    <tr>\n",
       "      <th>5</th>\n",
       "      <td>M</td>\n",
       "      <td>0.041393</td>\n",
       "    </tr>\n",
       "    <tr>\n",
       "      <th>6</th>\n",
       "      <td>RP</td>\n",
       "      <td>0.000000</td>\n",
       "    </tr>\n",
       "    <tr>\n",
       "      <th>7</th>\n",
       "      <td>T</td>\n",
       "      <td>0.051876</td>\n",
       "    </tr>\n",
       "    <tr>\n",
       "      <th>8</th>\n",
       "      <td>unknown</td>\n",
       "      <td>0.125302</td>\n",
       "    </tr>\n",
       "  </tbody>\n",
       "</table>\n",
       "</div>"
      ],
      "text/plain": [
       "    rating  jp_sales\n",
       "0       AO  0.000000\n",
       "1        E  0.050487\n",
       "2     E10+  0.028859\n",
       "3       EC  0.000000\n",
       "4      K-A  0.486667\n",
       "5        M  0.041393\n",
       "6       RP  0.000000\n",
       "7        T  0.051876\n",
       "8  unknown  0.125302"
      ]
     },
     "execution_count": 39,
     "metadata": {},
     "output_type": "execute_result"
    }
   ],
   "source": [
    "# Cредние продажи игр в Японии рейтинга ESRB\n",
    "rating_sales_jp = df.groupby('rating')['jp_sales'].mean().reset_index()\n",
    "rating_sales_jp"
   ]
  },
  {
   "cell_type": "markdown",
   "id": "43ce57df-bd2d-47ee-a810-986c0ad23887",
   "metadata": {},
   "source": [
    "**Выводы по четвёртому шагу:**\n",
    "\n",
    "\n",
    "1. **Самые популярные платформы (топ-5). Различия в долях продаж:**\n",
    "\n",
    "В **Северной Америке** самые популярные платформы - X360, PS2, Wii, PS3 и DS. Доля продаж X360 составляет 24.6%, PS2 - 23.6%, Wii - 20.1%, PS3 - 16.1% и DS - 15.7%.\n",
    "\n",
    "В **Европе** самые популярные платформы - PS2, PS3, X360, Wii и PS. Доля продаж PS2 составляет 23.8%, PS3 - 23.4%, X360 - 19.2%, Wii - 18.5% и PS - 15.2%.\n",
    "\n",
    "В **Японии** самые популярные платформы - DS, PS, PS2, SNES и 3DS. Доля продаж DS составляет 26.1%, PS - 20.9%, PS2 - 20.5%, SNES - 17.4% и 3DS - 15.0%.\n",
    "\n",
    "Различия в долях продаж связаны с предпочтениями регионов в отношении платформ. Например, в **Северной Америке** наибольшую популярность имеют X360 и PS2, в то время как в **Европе** - PS2 и PS3, а в **Японии** - DS и PS. Это может быть связано с особенностями местного рынка, местными производителями и предпочтениями потребителей в разных регионах.\n",
    "\n",
    "2. **Самые популярные жанры (топ-5). Разницу регионов по жанрам:**\n",
    "\n",
    "По результатам анализа предпочтений по жанрам игр в Северной Америке, Европе и Японии можно выделить следующие особенности:\n",
    "\n",
    "**Северная Америка:**\n",
    "\n",
    "Action (863.17 млн. копий): Самый популярный жанр, что подчеркивает предпочтение к динамичному и экшн-ориентированному геймплею.\n",
    "\n",
    "Sports (671.20 млн. копий): Второе место занимают спортивные игры, что может свидетельствовать о высоком интересе к симуляторам спорта в данном регионе.\n",
    "\n",
    "Shooter (584.83 млн. копий): Стрелялки также популярны, что характерно для многих западных рынков.\n",
    "\n",
    "**Европа:**\n",
    "\n",
    "Action (510.99 млн. копий): Как и в Северной Америке, Action лидирует, что свидетельствует о схожести вкусов между этими регионами.\n",
    "\n",
    "Sports (371.33 млн. копий): Спортивные игры также на втором месте, но их популярность немного ниже, чем в Северной Америке.\n",
    "\n",
    "Shooter (314.52 млн. копий): Снова стрелялки занимают третье место, подтверждая их популярность на западных рынках.\n",
    "\n",
    "**Япония:**\n",
    "\n",
    "Role-Playing (RPG) (353.39 млн. копий): В отличие от Северной Америки и Европы, в Японии самым популярным жанром являются ролевые игры. Японские игры часто известны своими глубокими сюжетами и характерами.\n",
    "\n",
    "Action (160.14 млн. копий): Action также популярен, но уступает RPG в этом регионе.\n",
    "\n",
    "Sports (134.93 млн. копий): Спортивные игры находятся на третьем месте, но их популярность заметно меньше, чем в Северной Америке и Европе.\n",
    "\n",
    "Различия в предпочтениях связаны с культурными и социокультурными особенностями каждого региона. Например, предпочтение RPG в Японии может быть связано с традициями японской игровой индустрии и интересом к нарративным аспектам игр. В то время как в Северной Америке и Европе больший акцент может быть сделан на динамичных и экшн-играх, а также на спортивных симуляторах.\n",
    "\n",
    "3. **Влияет ли рейтинг ESRB на продажи в отдельном регионе?**\n",
    "\n",
    "Для **Северной Америки**:\n",
    "- ESRB рейтинг AO (Adults Only) имеет самые большие суммарные продажи - 1.26 млн. копий, что составляет 61% от общих продаж.\n",
    "- Следом идет рейтинг M (Mature) с суммарными продажами в размере 0.48 млн. копий, что составляет 24% от общих продаж.\n",
    "- Рейтинг E (Everyone) занимает третье место с суммарными продажами в размере 0.32 млн. копий, что составляет 16% от общих продаж.\n",
    "\n",
    "Для **Европы**:\n",
    "- ESRB рейтинг E также имеет самые большие суммарные продажи - 0.18 млн. копий, что составляет 44% от общих продаж.\n",
    "- Затем идет рейтинг M с суммарными продажами в размере 0.13 млн. копий, что составляет 32% от общих продаж.\n",
    "- Рейтинг E10+ (Everyone 10 and older) занимает третье место с суммарными продажами в размере 0.13 млн. копий, что составляет 32% от общих продаж.\n",
    "\n",
    "Для **Японии**:\n",
    "- ESRB рейтинг K-A (Kids to Adults) имеет самые большие суммарные продажи - 0.48 млн. копий, что составляет 44% от общих продаж.\n",
    "- Затем идет рейтинг E с суммарными продажами в размере 0.14 млн. копий, что составляет 13% от общих продаж.\n",
    "- Рейтинг T (Teen) занимает третье место с суммарными продажами в размере 0.14 млн. копий, что составляет 13% от общих продаж.\n",
    "\n",
    "Исходя из этих данных, можно сделать вывод, что рейтинг ESRB имеет отличия в разных регионах. Например, рейтинг M наиболее популярен в Северной Америке, рейтинг E - в Европе, а рейтинг K-A - в Японии. Это говорит о том, что предпочтения потребителей в отношении рейтинга ESRB могут различаться в разных регионах."
   ]
  },
  {
   "cell_type": "markdown",
   "id": "6661eed7-d72d-43e0-9f56-a6eeee8f3ae7",
   "metadata": {},
   "source": [
    "# 5. Проверка гипотез"
   ]
  },
  {
   "cell_type": "markdown",
   "id": "c3e8deca-7e2c-4ec9-8dbc-0584c616c7d3",
   "metadata": {},
   "source": [
    "**5.1 Средние пользовательские рейтинги платформ Xbox One и PC одинаковые?**"
   ]
  },
  {
   "cell_type": "markdown",
   "id": "fa5114c0-2ae9-40cc-ad80-47ab8f544e84",
   "metadata": {},
   "source": [
    "- Нулевая гипотеза (H0): Средние пользовательские рейтинги для платформ Xbox One и PC одинаковы.\n",
    "- Альтернативная гипотеза (H1): Средние пользовательские рейтинги для платформ Xbox One и PC различаются."
   ]
  },
  {
   "cell_type": "code",
   "execution_count": 40,
   "id": "3a5469ac-e728-4593-b0c1-5b092d4f65fd",
   "metadata": {},
   "outputs": [
    {
     "name": "stdout",
     "output_type": "stream",
     "text": [
      "p-value: 4.5385802963771835e-06\n",
      "Отвергаем нулевую гипотезу: Средние пользовательские рейтинги различаются.\n"
     ]
    }
   ],
   "source": [
    "# Подготовим данные\n",
    "xbox_one_scores = df[df['platform'] == 'XOne']['user_score'].dropna()\n",
    "pc_scores = df[df['platform'] == 'PC']['user_score'].dropna()\n",
    "\n",
    "# Проведем t-тест\n",
    "alpha = 0.05\n",
    "result = ttest_ind(xbox_one_scores, pc_scores, equal_var=False)\n",
    "\n",
    "# Выведем результаты теста\n",
    "print(f'p-value: {result.pvalue}')\n",
    "if result.pvalue < alpha:\n",
    "    print(\"Отвергаем нулевую гипотезу: Средние пользовательские рейтинги различаются.\")\n",
    "else:\n",
    "    print(\"Не отвергаем нулевую гипотезу: Нет оснований считать, что средние рейтинги различаются.\")"
   ]
  },
  {
   "cell_type": "markdown",
   "id": "0ba1fd99-b325-4870-b73b-66da10963a8e",
   "metadata": {},
   "source": [
    "**Критерий:** Для проверки этих гипотез использован t-тест для независимых выборок (ttest_ind) из библиотеки SciPy. Этот критерий применяется, когда мы хотим сравнить средние значения двух независимых групп. В данном случае, две группы - это пользовательские рейтинги для игр на платформах Xbox One и PC.\n",
    "\n",
    "**Почему использован t-тест?:**\n",
    "\n",
    "T-тест применяется, когда у нас есть две независимые выборки и мы хотим оценить, есть ли статистически значимое различие между их средними значениями.\n",
    "В данном контексте, мы используем t-тест, потому что мы сравниваем средние значения двух групп (Xbox One и PC) с целью выяснить, различаются ли они статистически значимо."
   ]
  },
  {
   "cell_type": "markdown",
   "id": "a97a6934-c714-4f59-a312-c8ff42f00542",
   "metadata": {},
   "source": [
    "**5.2 Средние пользовательские рейтинги жанров Action и Sports разные**"
   ]
  },
  {
   "cell_type": "markdown",
   "id": "39a81714-7163-4df0-800d-f7afe7cb6555",
   "metadata": {},
   "source": [
    "- Нулевая гипотеза (H0): Средние пользовательские рейтинги для жанров Action и Sports одинаковы.\n",
    "- Альтернативная гипотеза (H1): Средние пользовательские рейтинги для жанров Action и Sports различаются."
   ]
  },
  {
   "cell_type": "code",
   "execution_count": 41,
   "id": "39319059-38ee-4893-b49c-6ccee07d9af3",
   "metadata": {},
   "outputs": [
    {
     "name": "stdout",
     "output_type": "stream",
     "text": [
      "p-value: 0.07370217419278526\n",
      "Не отвергаем нулевую гипотезу: Нет оснований считать, что средние рейтинги различаются.\n"
     ]
    }
   ],
   "source": [
    "# Подготовим данные\n",
    "action_scores = df[df['genre'] == 'Action']['user_score'].dropna()\n",
    "sports_scores = df[df['genre'] == 'Sports']['user_score'].dropna()\n",
    "\n",
    "# Проведем t-тест\n",
    "alpha = 0.05\n",
    "result = ttest_ind(action_scores, sports_scores, equal_var=False)\n",
    "\n",
    "# Выведем результаты теста\n",
    "print(f'p-value: {result.pvalue}')\n",
    "if result.pvalue < alpha:\n",
    "    print(\"Отвергаем нулевую гипотезу: Средние пользовательские рейтинги для жанров Action и Sports различаются.\")\n",
    "else:\n",
    "    print(\"Не отвергаем нулевую гипотезу: Нет оснований считать, что средние рейтинги различаются.\")"
   ]
  },
  {
   "cell_type": "markdown",
   "id": "753c0f46-1fbe-4dc7-86a7-c655727ed7fc",
   "metadata": {},
   "source": [
    "**Критерий:** Для проверки этих гипотез можно воспользоваться t-тестом для независимых выборок (ttest_ind) из библиотеки SciPy в Python. Также, установим уровень значимости (alpha) на, например, 0.05.\n",
    "\n",
    "**Почему использован t-тест?:**\n",
    "\n",
    "T-тест применяется, когда мы хотим сравнить средние значения двух независимых групп.\n",
    "В данном случае, мы сравниваем средние пользовательские рейтинги для двух разных жанров (Action и Sports)."
   ]
  },
  {
   "cell_type": "markdown",
   "id": "5a9fef38-e637-4227-8c63-0190db183edd",
   "metadata": {},
   "source": [
    "# 6. Общий вывод"
   ]
  },
  {
   "cell_type": "markdown",
   "id": "c1833b4e-492e-4c8b-ab1c-13d50678335e",
   "metadata": {},
   "source": [
    "В ходе исследования были выполнены следующие действия:\n",
    "\n",
    "1. Подготовлено окружение для анализа данных путем импортирования нужных библиотек.\n",
    "2. Загружены данные из файла и произведен основной анализ их характеристик.\n",
    "3. Выполнены необходимые преобразования данных, включая изменение типов, добавление нового столбца и обработку пропущенных значений.\n",
    "4. Проведен исследовательский анализ, в котором были рассмотрены: сколько игр выпускалось в разные годы? Какие платформы лидируют по продажам? Влияют ли на продажи внутри одной популярной платформы отзывы пользователей и критиков? и тд.\n",
    "5. Составлены портреты пользователя каждого региона. В портрет вошли: Самые популярные платформы (топ-5), самые популярные жанры (топ-5) и влияние рейтинга ESRB на продажи.\n",
    "8. Проверены несколько гипотез, связанных с средними пользовательскими рейтингами платформ и средними пользовательскими рейтингами жанров. \n",
    "9. Основываясь на полученных результатах исследования, сделаны выводы.\n",
    "\n",
    "**В ходе проведенного исследования были проверены следующие гипотезы:**\n",
    "\n",
    "Средние пользовательские рейтинги платформ Xbox One и PC одинаковые?\n",
    "Средние пользовательские рейтинги жанров Action (англ. «действие», экшен-игры) и Sports (англ. «спортивные соревнования») разные?\n",
    "\n",
    "**Средние пользовательские рейтинги для платформ Xbox One и PC:**\n",
    "\n",
    "Нулевая гипотеза (H0): Средние пользовательские рейтинги одинаковы.\n",
    "Альтернативная гипотеза (H1): Средние пользовательские рейтинги различаются.\n",
    "Результат: Учитывая низкое p-value (4.54e-06), мы отвергаем нулевую гипотезу. Это означает, что существует статистически значимая разница между средними пользовательскими рейтингами для платформ Xbox One и PC. \n",
    "\n",
    "**Средние пользовательские рейтинги для жанров Action и Sports:**\n",
    "\n",
    "Нулевая гипотеза (H0): Средние пользовательские рейтинги одинаковы.\n",
    "Альтернативная гипотеза (H1): Средние пользовательские рейтинги различаются.\n",
    "Результат: Учитывая значение p-value (0.07), которое превышает обычный уровень значимости 0.05, у нас нет достаточных оснований для отвержения нулевой гипотезы. Это означает, что нет статистически значимых различий в средних пользовательских рейтингах для жанров Action и Sports.\n",
    "\n",
    "Различие в средних пользовательских рейтингах между платформами может свидетельствовать о том, что игроки имеют разные предпочтения или восприятие качества игр на этих платформах. Важно учитывать, что статистическая значимость не всегда означает практическую значимость.\n",
    "Средние пользовательские рейтинги для жанров Action и Sports:\n",
    "\n",
    "Так как у нас нет статистически значимых различий, это может подразумевать, что пользовательские предпочтения по средним рейтингам для жанров Action и Sports схожи. Однако, важно отметить, что значение p-value (0.07) близко к уровню значимости 0.05, и небольшие изменения в данных могут повлиять на результаты.\n",
    "\n",
    "**Итак, основные выводы и рекомендации для бизнеса:**\n",
    "\n",
    "- Следует тщательно анализировать тренды индустрии, учитывая изменения в предпочтениях пользователей, выход новых платформ и конкурентное окружение.\n",
    "- При планировании рекламных кампаний стоит ориентироваться на популярные платформы и жанры, а также учесть региональные особенности.\n",
    "- Качество игрового контента, оцененное критиками, может существенно повлиять на коммерческий успех, поэтому важно уделять внимание разработке высококачественных игр.\n",
    "- Следует следить за изменениями в возрастных предпочтениях игроков и адаптировать контент под соответствующие рейтинги ESRB.\n",
    "\n",
    "Эти рекомендации позволят магазину \"Стримчик\" оптимизировать свой ассортимент, сфокусироваться на наиболее перспективных рынках и повысить эффективность маркетинговых кампаний."
   ]
  }
 ],
 "metadata": {
  "ExecuteTimeLog": [
   {
    "duration": 3246,
    "start_time": "2023-11-16T11:44:46.064Z"
   },
   {
    "duration": 1290,
    "start_time": "2023-11-16T11:45:47.317Z"
   },
   {
    "duration": 93,
    "start_time": "2023-11-16T11:46:19.122Z"
   },
   {
    "duration": 3,
    "start_time": "2023-11-16T11:46:23.443Z"
   },
   {
    "duration": 156,
    "start_time": "2023-11-16T11:46:23.448Z"
   },
   {
    "duration": 16,
    "start_time": "2023-11-16T11:46:23.606Z"
   },
   {
    "duration": 12,
    "start_time": "2023-11-16T11:46:23.623Z"
   },
   {
    "duration": 4,
    "start_time": "2023-11-16T11:46:23.637Z"
   },
   {
    "duration": 8,
    "start_time": "2023-11-16T11:46:23.642Z"
   },
   {
    "duration": 5,
    "start_time": "2023-11-16T11:46:23.651Z"
   },
   {
    "duration": 12,
    "start_time": "2023-11-16T11:46:23.657Z"
   },
   {
    "duration": 4,
    "start_time": "2023-11-16T11:46:23.670Z"
   },
   {
    "duration": 15,
    "start_time": "2023-11-16T11:46:23.675Z"
   },
   {
    "duration": 8,
    "start_time": "2023-11-16T11:46:23.692Z"
   },
   {
    "duration": 26,
    "start_time": "2023-11-16T11:46:23.701Z"
   },
   {
    "duration": 56,
    "start_time": "2023-11-16T11:46:23.728Z"
   },
   {
    "duration": 2488,
    "start_time": "2023-11-16T11:46:23.786Z"
   },
   {
    "duration": 3,
    "start_time": "2023-11-16T11:46:26.276Z"
   },
   {
    "duration": 2,
    "start_time": "2023-11-16T11:46:35.405Z"
   },
   {
    "duration": 869,
    "start_time": "2023-11-16T11:46:35.913Z"
   },
   {
    "duration": 940,
    "start_time": "2023-11-16T11:46:52.675Z"
   }
  ],
  "kernelspec": {
   "display_name": "Python 3 (ipykernel)",
   "language": "python",
   "name": "python3"
  },
  "language_info": {
   "codemirror_mode": {
    "name": "ipython",
    "version": 3
   },
   "file_extension": ".py",
   "mimetype": "text/x-python",
   "name": "python",
   "nbconvert_exporter": "python",
   "pygments_lexer": "ipython3",
   "version": "3.9.5"
  },
  "toc": {
   "base_numbering": 1,
   "nav_menu": {},
   "number_sections": true,
   "sideBar": true,
   "skip_h1_title": true,
   "title_cell": "Table of Contents",
   "title_sidebar": "Contents",
   "toc_cell": false,
   "toc_position": {},
   "toc_section_display": true,
   "toc_window_display": false
  }
 },
 "nbformat": 4,
 "nbformat_minor": 5
}
